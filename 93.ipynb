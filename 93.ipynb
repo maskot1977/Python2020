{
  "nbformat": 4,
  "nbformat_minor": 0,
  "metadata": {
    "colab": {
      "name": "93",
      "provenance": [],
      "authorship_tag": "ABX9TyOF7YO8aL40x4UGAL7cWcaI",
      "include_colab_link": true
    },
    "kernelspec": {
      "name": "python3",
      "display_name": "Python 3"
    }
  },
  "cells": [
    {
      "cell_type": "markdown",
      "metadata": {
        "id": "view-in-github",
        "colab_type": "text"
      },
      "source": [
        "<a href=\"https://colab.research.google.com/github/maskot1977/Python2020/blob/1218/93.ipynb\" target=\"_parent\"><img src=\"https://colab.research.google.com/assets/colab-badge.svg\" alt=\"Open In Colab\"/></a>"
      ]
    },
    {
      "cell_type": "code",
      "metadata": {
        "colab": {
          "base_uri": "https://localhost:8080/"
        },
        "id": "fnq28wGSxAjj",
        "outputId": "30b01f93-76c0-4b32-854b-0ea262748290"
      },
      "source": [
        "!date"
      ],
      "execution_count": 1,
      "outputs": [
        {
          "output_type": "stream",
          "text": [
            "Fri Dec 18 02:53:35 UTC 2020\n"
          ],
          "name": "stdout"
        }
      ]
    },
    {
      "cell_type": "code",
      "metadata": {
        "id": "7Wd24mr6xCK4"
      },
      "source": [
        "import copy\n",
        "def question93(neighbor_matrix):\n",
        "    cycle = []\n",
        "    for i in range(len(neighbor_matrix)):\n",
        "        queue = []\n",
        "        for j in range(len(neighbor_matrix)):\n",
        "            if neighbor_matrix[i][j] == 1:\n",
        "                queue.append([i, j])\n",
        "\n",
        "        while len(queue) > 0:\n",
        "            path = queue.pop()\n",
        "            for j in range(len(neighbor_matrix)):\n",
        "                if neighbor_matrix[path[-1]][j] == 1:\n",
        "                    path_new = copy.deepcopy(path)\n",
        "                    if j in path_new:\n",
        "                        #print(j, \" in \", path_new)\n",
        "                        if j == path_new[0] and len(path_new) > 2:\n",
        "                            #print(\"cycle=\", path_new)\n",
        "                            if len(cycle) < len(path_new):\n",
        "                                cycle = path_new\n",
        "                    else:\n",
        "                        path_new.append(j)\n",
        "                        queue.append(path_new)\n",
        "            #print(path, path_new, queue)\n",
        "    return cycle"
      ],
      "execution_count": 2,
      "outputs": []
    },
    {
      "cell_type": "code",
      "metadata": {
        "id": "gR35r-nPxHD3"
      },
      "source": [
        "n =  5\n",
        "G = \\\n",
        "[[0, 0, 0, 0, 1],\n",
        " [0, 0, 0, 1, 1],\n",
        " [0, 0, 0, 1, 0],\n",
        " [0, 1, 1, 0, 1],\n",
        " [1, 1, 0, 1, 0]]"
      ],
      "execution_count": 3,
      "outputs": []
    },
    {
      "cell_type": "code",
      "metadata": {
        "colab": {
          "base_uri": "https://localhost:8080/"
        },
        "id": "TNF5bYYexLkJ",
        "outputId": "28653eb7-2b46-40a5-cfc6-9243112815cd"
      },
      "source": [
        "question93(G)"
      ],
      "execution_count": 4,
      "outputs": [
        {
          "output_type": "execute_result",
          "data": {
            "text/plain": [
              "[1, 4, 3]"
            ]
          },
          "metadata": {
            "tags": []
          },
          "execution_count": 4
        }
      ]
    },
    {
      "cell_type": "code",
      "metadata": {
        "id": "ELgRFWZbxQrm"
      },
      "source": [
        "n =  8\n",
        "G = \\\n",
        "[[0, 0, 1, 0, 0, 0, 0, 0],\n",
        " [0, 0, 0, 0, 0, 0, 1, 0],\n",
        " [1, 0, 0, 0, 0, 0, 1, 0],\n",
        " [0, 0, 0, 0, 0, 1, 0, 1],\n",
        " [0, 0, 0, 0, 0, 0, 1, 0],\n",
        " [0, 0, 0, 1, 0, 0, 1, 0],\n",
        " [0, 1, 1, 0, 1, 1, 0, 0],\n",
        " [0, 0, 0, 1, 0, 0, 0, 0]]"
      ],
      "execution_count": 5,
      "outputs": []
    },
    {
      "cell_type": "code",
      "metadata": {
        "colab": {
          "base_uri": "https://localhost:8080/"
        },
        "id": "1ApUwbn9xS--",
        "outputId": "6f1f81a4-d6a9-43b4-cc90-666235b094ab"
      },
      "source": [
        "question93(G)"
      ],
      "execution_count": 6,
      "outputs": [
        {
          "output_type": "execute_result",
          "data": {
            "text/plain": [
              "[]"
            ]
          },
          "metadata": {
            "tags": []
          },
          "execution_count": 6
        }
      ]
    },
    {
      "cell_type": "code",
      "metadata": {
        "id": "WB-x0PRlxUBL"
      },
      "source": [
        "n =  10\n",
        "G = \\\n",
        "[[0, 1, 0, 0, 0, 0, 0, 0, 0, 1],\n",
        " [1, 0, 0, 0, 0, 0, 0, 1, 1, 0],\n",
        " [0, 0, 0, 0, 0, 0, 0, 0, 1, 0],\n",
        " [0, 0, 0, 0, 0, 0, 0, 1, 0, 1],\n",
        " [0, 0, 0, 0, 0, 1, 0, 0, 0, 0],\n",
        " [0, 0, 0, 0, 1, 0, 1, 0, 0, 0],\n",
        " [0, 0, 0, 0, 0, 1, 0, 0, 0, 1],\n",
        " [0, 1, 0, 1, 0, 0, 0, 0, 1, 0],\n",
        " [0, 1, 1, 0, 0, 0, 0, 1, 0, 0],\n",
        " [1, 0, 0, 1, 0, 0, 1, 0, 0, 0]]"
      ],
      "execution_count": 7,
      "outputs": []
    },
    {
      "cell_type": "code",
      "metadata": {
        "colab": {
          "base_uri": "https://localhost:8080/"
        },
        "id": "6HkBglq0xV9a",
        "outputId": "35aa86a7-b01f-4278-b1d1-db9c33979924"
      },
      "source": [
        "question93(G)"
      ],
      "execution_count": 8,
      "outputs": [
        {
          "output_type": "execute_result",
          "data": {
            "text/plain": [
              "[0, 9, 3, 7, 8, 1]"
            ]
          },
          "metadata": {
            "tags": []
          },
          "execution_count": 8
        }
      ]
    },
    {
      "cell_type": "code",
      "metadata": {
        "colab": {
          "base_uri": "https://localhost:8080/"
        },
        "id": "MadB4zexxW-v",
        "outputId": "dfc536ff-e915-4c0d-dd78-8c075de372b3"
      },
      "source": [
        "!date"
      ],
      "execution_count": 9,
      "outputs": [
        {
          "output_type": "stream",
          "text": [
            "Fri Dec 18 02:54:54 UTC 2020\n"
          ],
          "name": "stdout"
        }
      ]
    },
    {
      "cell_type": "code",
      "metadata": {
        "id": "YNy4kfVUxYTV"
      },
      "source": [
        ""
      ],
      "execution_count": null,
      "outputs": []
    }
  ]
}