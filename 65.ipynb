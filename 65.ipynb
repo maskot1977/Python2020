{
  "nbformat": 4,
  "nbformat_minor": 0,
  "metadata": {
    "colab": {
      "name": "65",
      "provenance": [],
      "collapsed_sections": [],
      "authorship_tag": "ABX9TyPsccIMcdNjrDZ4qrpj5WKA",
      "include_colab_link": true
    },
    "kernelspec": {
      "name": "python3",
      "display_name": "Python 3"
    }
  },
  "cells": [
    {
      "cell_type": "markdown",
      "metadata": {
        "id": "view-in-github",
        "colab_type": "text"
      },
      "source": [
        "<a href=\"https://colab.research.google.com/github/maskot1977/Python2020/blob/1104/65.ipynb\" target=\"_parent\"><img src=\"https://colab.research.google.com/assets/colab-badge.svg\" alt=\"Open In Colab\"/></a>"
      ]
    },
    {
      "cell_type": "code",
      "metadata": {
        "colab": {
          "base_uri": "https://localhost:8080/"
        },
        "id": "miRlkD_FxhCI",
        "outputId": "f64dd33f-9cc9-4af3-d6fb-cf9792fcc930"
      },
      "source": [
        "!date"
      ],
      "execution_count": 1,
      "outputs": [
        {
          "output_type": "stream",
          "text": [
            "Thu Nov 19 04:39:56 UTC 2020\n"
          ],
          "name": "stdout"
        }
      ]
    },
    {
      "cell_type": "code",
      "metadata": {
        "id": "Hbh1hdofxjaY"
      },
      "source": [
        "import urllib.request\n",
        "import pandas as pd\n",
        "\n",
        "# ニューヨークの大気状態観測値データ\n",
        "url = 'https://raw.githubusercontent.com/maskot1977/ipython_notebook/master/toydata/airquality.txt' \n",
        "urllib.request.urlretrieve(url, 'airquality.txt')\n",
        "\n",
        "df = pd.read_csv('airquality.txt', sep='\\t', index_col=0) "
      ],
      "execution_count": 2,
      "outputs": []
    },
    {
      "cell_type": "code",
      "metadata": {
        "colab": {
          "base_uri": "https://localhost:8080/",
          "height": 407
        },
        "id": "pQnVbg-qxlu-",
        "outputId": "b336ee87-e1ee-4bd9-b322-41f041869c34"
      },
      "source": [
        "df"
      ],
      "execution_count": 3,
      "outputs": [
        {
          "output_type": "execute_result",
          "data": {
            "text/html": [
              "<div>\n",
              "<style scoped>\n",
              "    .dataframe tbody tr th:only-of-type {\n",
              "        vertical-align: middle;\n",
              "    }\n",
              "\n",
              "    .dataframe tbody tr th {\n",
              "        vertical-align: top;\n",
              "    }\n",
              "\n",
              "    .dataframe thead th {\n",
              "        text-align: right;\n",
              "    }\n",
              "</style>\n",
              "<table border=\"1\" class=\"dataframe\">\n",
              "  <thead>\n",
              "    <tr style=\"text-align: right;\">\n",
              "      <th></th>\n",
              "      <th>Ozone</th>\n",
              "      <th>Solar.R</th>\n",
              "      <th>Wind</th>\n",
              "      <th>Temp</th>\n",
              "      <th>Month</th>\n",
              "      <th>Day</th>\n",
              "    </tr>\n",
              "  </thead>\n",
              "  <tbody>\n",
              "    <tr>\n",
              "      <th>1</th>\n",
              "      <td>41</td>\n",
              "      <td>190</td>\n",
              "      <td>7.4</td>\n",
              "      <td>67</td>\n",
              "      <td>5</td>\n",
              "      <td>1</td>\n",
              "    </tr>\n",
              "    <tr>\n",
              "      <th>2</th>\n",
              "      <td>36</td>\n",
              "      <td>118</td>\n",
              "      <td>8.0</td>\n",
              "      <td>72</td>\n",
              "      <td>5</td>\n",
              "      <td>2</td>\n",
              "    </tr>\n",
              "    <tr>\n",
              "      <th>3</th>\n",
              "      <td>12</td>\n",
              "      <td>149</td>\n",
              "      <td>12.6</td>\n",
              "      <td>74</td>\n",
              "      <td>5</td>\n",
              "      <td>3</td>\n",
              "    </tr>\n",
              "    <tr>\n",
              "      <th>4</th>\n",
              "      <td>18</td>\n",
              "      <td>313</td>\n",
              "      <td>11.5</td>\n",
              "      <td>62</td>\n",
              "      <td>5</td>\n",
              "      <td>4</td>\n",
              "    </tr>\n",
              "    <tr>\n",
              "      <th>7</th>\n",
              "      <td>23</td>\n",
              "      <td>299</td>\n",
              "      <td>8.6</td>\n",
              "      <td>65</td>\n",
              "      <td>5</td>\n",
              "      <td>7</td>\n",
              "    </tr>\n",
              "    <tr>\n",
              "      <th>...</th>\n",
              "      <td>...</td>\n",
              "      <td>...</td>\n",
              "      <td>...</td>\n",
              "      <td>...</td>\n",
              "      <td>...</td>\n",
              "      <td>...</td>\n",
              "    </tr>\n",
              "    <tr>\n",
              "      <th>148</th>\n",
              "      <td>14</td>\n",
              "      <td>20</td>\n",
              "      <td>16.6</td>\n",
              "      <td>63</td>\n",
              "      <td>9</td>\n",
              "      <td>25</td>\n",
              "    </tr>\n",
              "    <tr>\n",
              "      <th>149</th>\n",
              "      <td>30</td>\n",
              "      <td>193</td>\n",
              "      <td>6.9</td>\n",
              "      <td>70</td>\n",
              "      <td>9</td>\n",
              "      <td>26</td>\n",
              "    </tr>\n",
              "    <tr>\n",
              "      <th>151</th>\n",
              "      <td>14</td>\n",
              "      <td>191</td>\n",
              "      <td>14.3</td>\n",
              "      <td>75</td>\n",
              "      <td>9</td>\n",
              "      <td>28</td>\n",
              "    </tr>\n",
              "    <tr>\n",
              "      <th>152</th>\n",
              "      <td>18</td>\n",
              "      <td>131</td>\n",
              "      <td>8.0</td>\n",
              "      <td>76</td>\n",
              "      <td>9</td>\n",
              "      <td>29</td>\n",
              "    </tr>\n",
              "    <tr>\n",
              "      <th>153</th>\n",
              "      <td>20</td>\n",
              "      <td>223</td>\n",
              "      <td>11.5</td>\n",
              "      <td>68</td>\n",
              "      <td>9</td>\n",
              "      <td>30</td>\n",
              "    </tr>\n",
              "  </tbody>\n",
              "</table>\n",
              "<p>111 rows × 6 columns</p>\n",
              "</div>"
            ],
            "text/plain": [
              "     Ozone  Solar.R  Wind  Temp  Month  Day\n",
              "1       41      190   7.4    67      5    1\n",
              "2       36      118   8.0    72      5    2\n",
              "3       12      149  12.6    74      5    3\n",
              "4       18      313  11.5    62      5    4\n",
              "7       23      299   8.6    65      5    7\n",
              "..     ...      ...   ...   ...    ...  ...\n",
              "148     14       20  16.6    63      9   25\n",
              "149     30      193   6.9    70      9   26\n",
              "151     14      191  14.3    75      9   28\n",
              "152     18      131   8.0    76      9   29\n",
              "153     20      223  11.5    68      9   30\n",
              "\n",
              "[111 rows x 6 columns]"
            ]
          },
          "metadata": {
            "tags": []
          },
          "execution_count": 3
        }
      ]
    },
    {
      "cell_type": "code",
      "metadata": {
        "colab": {
          "base_uri": "https://localhost:8080/",
          "height": 585
        },
        "id": "_yrDM8DDxm-N",
        "outputId": "5e0544cd-e76a-4fa8-956c-22c78f87bc9c"
      },
      "source": [
        "df.iloc[:, :4].hist(figsize=(8,8), bins=20)"
      ],
      "execution_count": 6,
      "outputs": [
        {
          "output_type": "execute_result",
          "data": {
            "text/plain": [
              "array([[<matplotlib.axes._subplots.AxesSubplot object at 0x7f2e76bf24e0>,\n",
              "        <matplotlib.axes._subplots.AxesSubplot object at 0x7f2e76a1cac8>],\n",
              "       [<matplotlib.axes._subplots.AxesSubplot object at 0x7f2e769cdd30>,\n",
              "        <matplotlib.axes._subplots.AxesSubplot object at 0x7f2e76983f98>]],\n",
              "      dtype=object)"
            ]
          },
          "metadata": {
            "tags": []
          },
          "execution_count": 6
        },
        {
          "output_type": "display_data",
          "data": {
            "image/png": "[encoded data removed]",
            "text/plain": [
              "<Figure size 576x576 with 4 Axes>"
            ]
          },
          "metadata": {
            "tags": [],
            "needs_background": "light"
          }
        }
      ]
    },
    {
      "cell_type": "code",
      "metadata": {
        "colab": {
          "base_uri": "https://localhost:8080/"
        },
        "id": "7TGJWZ9xxrMI",
        "outputId": "796559a1-053b-4ad3-8ad9-74e26ee13284"
      },
      "source": [
        "!date"
      ],
      "execution_count": 7,
      "outputs": [
        {
          "output_type": "stream",
          "text": [
            "Thu Nov 19 04:40:36 UTC 2020\n"
          ],
          "name": "stdout"
        }
      ]
    },
    {
      "cell_type": "code",
      "metadata": {
        "id": "l4RfFQznx1L3"
      },
      "source": [
        ""
      ],
      "execution_count": null,
      "outputs": []
    }
  ]
}