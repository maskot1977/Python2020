{
  "nbformat": 4,
  "nbformat_minor": 0,
  "metadata": {
    "colab": {
      "name": "23",
      "provenance": [],
      "collapsed_sections": [],
      "authorship_tag": "ABX9TyOhmaPa27c0WeTlfVPtCMoV",
      "include_colab_link": true
    },
    "kernelspec": {
      "name": "python3",
      "display_name": "Python 3"
    }
  },
  "cells": [
    {
      "cell_type": "markdown",
      "metadata": {
        "id": "view-in-github",
        "colab_type": "text"
      },
      "source": [
        "<a href=\"https://colab.research.google.com/github/maskot1977/Python2020/blob/1012/23.ipynb\" target=\"_parent\"><img src=\"https://colab.research.google.com/assets/colab-badge.svg\" alt=\"Open In Colab\"/></a>"
      ]
    },
    {
      "cell_type": "code",
      "metadata": {
        "id": "m6jO-0WsUbq9",
        "outputId": "de9609dd-7d3b-4dfa-807f-b14ddcb6394e",
        "colab": {
          "base_uri": "https://localhost:8080/",
          "height": 35
        }
      },
      "source": [
        "!date"
      ],
      "execution_count": 1,
      "outputs": [
        {
          "output_type": "stream",
          "text": [
            "Mon Oct 12 01:08:35 UTC 2020\n"
          ],
          "name": "stdout"
        }
      ]
    },
    {
      "cell_type": "code",
      "metadata": {
        "id": "6rd6NRcyUdnj",
        "outputId": "b008e730-c65f-487f-bcc2-a2618a8c0544",
        "colab": {
          "base_uri": "https://localhost:8080/",
          "height": 35
        }
      },
      "source": [
        "import urllib.request\n",
        "\n",
        "url = 'https://raw.githubusercontent.com/maskot1977/ipython_notebook/master/toydata/iris.txt'\n",
        "\n",
        "urllib.request.urlretrieve(url, 'iris.txt')"
      ],
      "execution_count": 2,
      "outputs": [
        {
          "output_type": "execute_result",
          "data": {
            "text/plain": [
              "('iris.txt', <http.client.HTTPMessage at 0x7f3a0f81cef0>)"
            ]
          },
          "metadata": {
            "tags": []
          },
          "execution_count": 2
        }
      ]
    },
    {
      "cell_type": "code",
      "metadata": {
        "id": "broHWx0yUhlN"
      },
      "source": [
        "col1 = []\n",
        "col2 = []\n",
        "col3 = []\n",
        "col4 = []\n",
        "col5 = []\n",
        "col6 = []\n",
        "for i, line in enumerate(open('iris.txt')):\n",
        "    if i == 0:\n",
        "        continue\n",
        "    c = line.split(\"\\t\")\n",
        "    col1.append(c[0])\n",
        "    col2.append(float(c[1]))\n",
        "    col3.append(float(c[2]))\n",
        "    col4.append(float(c[3]))\n",
        "    col5.append(float(c[4]))\n",
        "    col6.append(float(c[5]))"
      ],
      "execution_count": 5,
      "outputs": []
    },
    {
      "cell_type": "code",
      "metadata": {
        "id": "afj7KUIaUkO_"
      },
      "source": [
        "# 平均値を求める関数を作ろう\n",
        "def mean(list_):\n",
        "    sum = 0.\n",
        "    for x in list_:\n",
        "        sum += x\n",
        "\n",
        "    return sum / len(list_)"
      ],
      "execution_count": 6,
      "outputs": []
    },
    {
      "cell_type": "code",
      "metadata": {
        "id": "88MeDcCFUxCh",
        "outputId": "7334b8a1-d802-4256-ce02-24aea4a6ac01",
        "colab": {
          "base_uri": "https://localhost:8080/",
          "height": 86
        }
      },
      "source": [
        "print(\"Sepal.Length:\", mean(col2))\n",
        "print(\"Sepal.Width:\", mean(col3)) \n",
        "print(\"Petal.Length:\", mean(col4))\n",
        "print(\"Petal.Width:\", mean(col5))"
      ],
      "execution_count": 9,
      "outputs": [
        {
          "output_type": "stream",
          "text": [
            "Sepal.Length: 5.843333333333335\n",
            "Sepal.Width: 3.057333333333334\n",
            "Petal.Length: 3.7580000000000027\n",
            "Petal.Width: 1.199333333333334\n"
          ],
          "name": "stdout"
        }
      ]
    },
    {
      "cell_type": "code",
      "metadata": {
        "id": "YbJjtCyjUpAK",
        "outputId": "6c48c2ad-17c9-4f3f-f2ef-250d7fa2c8f0",
        "colab": {
          "base_uri": "https://localhost:8080/",
          "height": 35
        }
      },
      "source": [
        "!date"
      ],
      "execution_count": 10,
      "outputs": [
        {
          "output_type": "stream",
          "text": [
            "Mon Oct 12 01:27:30 UTC 2020\n"
          ],
          "name": "stdout"
        }
      ]
    },
    {
      "cell_type": "code",
      "metadata": {
        "id": "ENkkiyF8Ut7U"
      },
      "source": [
        ""
      ],
      "execution_count": null,
      "outputs": []
    }
  ]
}