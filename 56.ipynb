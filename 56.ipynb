{
  "nbformat": 4,
  "nbformat_minor": 0,
  "metadata": {
    "colab": {
      "name": "56",
      "provenance": [],
      "collapsed_sections": [],
      "authorship_tag": "ABX9TyMRa8e8Nuozr3cAwNtghNFL",
      "include_colab_link": true
    },
    "kernelspec": {
      "name": "python3",
      "display_name": "Python 3"
    }
  },
  "cells": [
    {
      "cell_type": "markdown",
      "metadata": {
        "id": "view-in-github",
        "colab_type": "text"
      },
      "source": [
        "<a href=\"https://colab.research.google.com/github/maskot1977/Python2020/blob/1028/56.ipynb\" target=\"_parent\"><img src=\"https://colab.research.google.com/assets/colab-badge.svg\" alt=\"Open In Colab\"/></a>"
      ]
    },
    {
      "cell_type": "code",
      "metadata": {
        "id": "2xnHCfAI0MpF",
        "outputId": "deb3602f-9f1e-43f4-d786-a7442ca39ef5",
        "colab": {
          "base_uri": "https://localhost:8080/",
          "height": 35
        }
      },
      "source": [
        "!date"
      ],
      "execution_count": 2,
      "outputs": [
        {
          "output_type": "stream",
          "text": [
            "Wed Oct 28 06:07:48 UTC 2020\n"
          ],
          "name": "stdout"
        }
      ]
    },
    {
      "cell_type": "code",
      "metadata": {
        "id": "jJ-4dIvu0OSc"
      },
      "source": [
        "import numpy as np\n",
        "\n",
        "a = np.array([\n",
        "              [1, 2], \n",
        "              [1, -3]\n",
        "              ])\n",
        "b = np.array([\n",
        "              [1, 2], \n",
        "              [2, 5]\n",
        "              ])"
      ],
      "execution_count": 3,
      "outputs": []
    },
    {
      "cell_type": "code",
      "metadata": {
        "id": "lzOh31qB0biV",
        "outputId": "c47d55d4-1f68-4ed5-f042-bf886f2212ec",
        "colab": {
          "base_uri": "https://localhost:8080/",
          "height": 52
        }
      },
      "source": [
        "a + b"
      ],
      "execution_count": 4,
      "outputs": [
        {
          "output_type": "execute_result",
          "data": {
            "text/plain": [
              "array([[2, 4],\n",
              "       [3, 2]])"
            ]
          },
          "metadata": {
            "tags": []
          },
          "execution_count": 4
        }
      ]
    },
    {
      "cell_type": "code",
      "metadata": {
        "id": "ipAC6xXc0lLg",
        "outputId": "0dc3b92b-91e6-44df-a94c-ea0f58921351",
        "colab": {
          "base_uri": "https://localhost:8080/",
          "height": 52
        }
      },
      "source": [
        "a - b"
      ],
      "execution_count": 5,
      "outputs": [
        {
          "output_type": "execute_result",
          "data": {
            "text/plain": [
              "array([[ 0,  0],\n",
              "       [-1, -8]])"
            ]
          },
          "metadata": {
            "tags": []
          },
          "execution_count": 5
        }
      ]
    },
    {
      "cell_type": "code",
      "metadata": {
        "id": "19HSzNS30mqU",
        "outputId": "c135fd7b-eea1-426e-be3e-7032157fac7e",
        "colab": {
          "base_uri": "https://localhost:8080/",
          "height": 52
        }
      },
      "source": [
        "a@b"
      ],
      "execution_count": 6,
      "outputs": [
        {
          "output_type": "execute_result",
          "data": {
            "text/plain": [
              "array([[  5,  12],\n",
              "       [ -5, -13]])"
            ]
          },
          "metadata": {
            "tags": []
          },
          "execution_count": 6
        }
      ]
    },
    {
      "cell_type": "code",
      "metadata": {
        "id": "dUnKVgUZ0s67",
        "outputId": "b12d8a8a-ac83-4a63-e250-2c064c6f60c5",
        "colab": {
          "base_uri": "https://localhost:8080/",
          "height": 52
        }
      },
      "source": [
        "a.dot(b)"
      ],
      "execution_count": 7,
      "outputs": [
        {
          "output_type": "execute_result",
          "data": {
            "text/plain": [
              "array([[  5,  12],\n",
              "       [ -5, -13]])"
            ]
          },
          "metadata": {
            "tags": []
          },
          "execution_count": 7
        }
      ]
    },
    {
      "cell_type": "code",
      "metadata": {
        "id": "ETHTYVtt0ugI",
        "outputId": "93ef9920-45f0-4b61-b224-c35404ef3108",
        "colab": {
          "base_uri": "https://localhost:8080/",
          "height": 52
        }
      },
      "source": [
        "b@a"
      ],
      "execution_count": 8,
      "outputs": [
        {
          "output_type": "execute_result",
          "data": {
            "text/plain": [
              "array([[  3,  -4],\n",
              "       [  7, -11]])"
            ]
          },
          "metadata": {
            "tags": []
          },
          "execution_count": 8
        }
      ]
    },
    {
      "cell_type": "code",
      "metadata": {
        "id": "jy0IMn8K0xBI",
        "outputId": "c5591a91-b2c8-4ed7-a0c7-ff504c8f2494",
        "colab": {
          "base_uri": "https://localhost:8080/",
          "height": 52
        }
      },
      "source": [
        "b.dot(a)"
      ],
      "execution_count": 9,
      "outputs": [
        {
          "output_type": "execute_result",
          "data": {
            "text/plain": [
              "array([[  3,  -4],\n",
              "       [  7, -11]])"
            ]
          },
          "metadata": {
            "tags": []
          },
          "execution_count": 9
        }
      ]
    },
    {
      "cell_type": "code",
      "metadata": {
        "id": "KPXaYKJ20zT9",
        "outputId": "4fc2b49c-9415-4e95-f592-6ba982f691f3",
        "colab": {
          "base_uri": "https://localhost:8080/",
          "height": 52
        }
      },
      "source": [
        "np.linalg.inv(b)"
      ],
      "execution_count": 10,
      "outputs": [
        {
          "output_type": "execute_result",
          "data": {
            "text/plain": [
              "array([[ 5., -2.],\n",
              "       [-2.,  1.]])"
            ]
          },
          "metadata": {
            "tags": []
          },
          "execution_count": 10
        }
      ]
    },
    {
      "cell_type": "code",
      "metadata": {
        "id": "K-1Jv6GC1Ccq",
        "outputId": "519bd95e-a240-4c53-dc48-e7f88f72c5dd",
        "colab": {
          "base_uri": "https://localhost:8080/",
          "height": 52
        }
      },
      "source": [
        "a@np.linalg.inv(b)"
      ],
      "execution_count": 11,
      "outputs": [
        {
          "output_type": "execute_result",
          "data": {
            "text/plain": [
              "array([[ 1.,  0.],\n",
              "       [11., -5.]])"
            ]
          },
          "metadata": {
            "tags": []
          },
          "execution_count": 11
        }
      ]
    },
    {
      "cell_type": "code",
      "metadata": {
        "id": "4IlFaPL91M4s",
        "outputId": "4be06578-e9b2-4e7f-aada-9c296e7a3fc2",
        "colab": {
          "base_uri": "https://localhost:8080/",
          "height": 52
        }
      },
      "source": [
        "a.dot(np.linalg.inv(b))"
      ],
      "execution_count": 12,
      "outputs": [
        {
          "output_type": "execute_result",
          "data": {
            "text/plain": [
              "array([[ 1.,  0.],\n",
              "       [11., -5.]])"
            ]
          },
          "metadata": {
            "tags": []
          },
          "execution_count": 12
        }
      ]
    },
    {
      "cell_type": "code",
      "metadata": {
        "id": "CJhgWFj01N-_"
      },
      "source": [
        "c = np.array([\n",
        "              [1, -1, -1], \n",
        "              [-1, 2, 2], \n",
        "              [2, 1, 2]\n",
        "              ])"
      ],
      "execution_count": 14,
      "outputs": []
    },
    {
      "cell_type": "code",
      "metadata": {
        "id": "aF3qEIUx1Xjo",
        "outputId": "51f5be88-04f3-440b-d1a5-8e4d1d73c2d1",
        "colab": {
          "base_uri": "https://localhost:8080/",
          "height": 70
        }
      },
      "source": [
        "np.linalg.inv(c)"
      ],
      "execution_count": 15,
      "outputs": [
        {
          "output_type": "execute_result",
          "data": {
            "text/plain": [
              "array([[ 2.00000000e+00,  1.00000000e+00, -3.33066907e-16],\n",
              "       [ 6.00000000e+00,  4.00000000e+00, -1.00000000e+00],\n",
              "       [-5.00000000e+00, -3.00000000e+00,  1.00000000e+00]])"
            ]
          },
          "metadata": {
            "tags": []
          },
          "execution_count": 15
        }
      ]
    },
    {
      "cell_type": "code",
      "metadata": {
        "id": "3NDuiTWm1eh8",
        "outputId": "1444d554-0bd0-4302-b516-d27e180f670e",
        "colab": {
          "base_uri": "https://localhost:8080/",
          "height": 70
        }
      },
      "source": [
        "w, v = np.linalg.eig(a)\n",
        "print(\"固有値\", w)\n",
        "print(\"固有ベクトル\", v)"
      ],
      "execution_count": 18,
      "outputs": [
        {
          "output_type": "stream",
          "text": [
            "固有値 [ 1.44948974 -3.44948974]\n",
            "固有ベクトル [[ 0.97566304 -0.40997761]\n",
            " [ 0.21927526  0.91209559]]\n"
          ],
          "name": "stdout"
        }
      ]
    },
    {
      "cell_type": "code",
      "metadata": {
        "id": "pLNoAWn01nXl",
        "outputId": "cdd0960c-f7c6-4712-d915-750c88525911",
        "colab": {
          "base_uri": "https://localhost:8080/",
          "height": 70
        }
      },
      "source": [
        "w, v = np.linalg.eig(b)\n",
        "print(\"固有値\", w)\n",
        "print(\"固有ベクトル\", v)"
      ],
      "execution_count": 19,
      "outputs": [
        {
          "output_type": "stream",
          "text": [
            "固有値 [0.17157288 5.82842712]\n",
            "固有ベクトル [[-0.92387953 -0.38268343]\n",
            " [ 0.38268343 -0.92387953]]\n"
          ],
          "name": "stdout"
        }
      ]
    },
    {
      "cell_type": "code",
      "metadata": {
        "id": "juwSaenw16_-",
        "outputId": "83eb72f1-1419-44d2-f632-d12083478911",
        "colab": {
          "base_uri": "https://localhost:8080/",
          "height": 87
        }
      },
      "source": [
        "w, v = np.linalg.eig(c)\n",
        "print(\"固有値\", w)\n",
        "print(\"固有ベクトル\", v)"
      ],
      "execution_count": 20,
      "outputs": [
        {
          "output_type": "stream",
          "text": [
            "固有値 [0.16071324+0.j         2.41964338+0.60629073j 2.41964338-0.60629073j]\n",
            "固有ベクトル [[-0.18175202+0.j         -0.50539199+0.0305654j  -0.50539199-0.0305654j ]\n",
            " [-0.76740476+0.j          0.81723109+0.j          0.81723109-0.j        ]\n",
            " [ 0.61486269+0.j         -0.08122319+0.26302251j -0.08122319-0.26302251j]]\n"
          ],
          "name": "stdout"
        }
      ]
    },
    {
      "cell_type": "code",
      "metadata": {
        "id": "CpbQxS2H18oh",
        "outputId": "6d4fa688-4291-4c7f-ebdf-b7cb5bac1d8b",
        "colab": {
          "base_uri": "https://localhost:8080/",
          "height": 35
        }
      },
      "source": [
        "!date"
      ],
      "execution_count": 21,
      "outputs": [
        {
          "output_type": "stream",
          "text": [
            "Wed Oct 28 06:14:26 UTC 2020\n"
          ],
          "name": "stdout"
        }
      ]
    },
    {
      "cell_type": "code",
      "metadata": {
        "id": "GMtzab2k1-KL"
      },
      "source": [
        ""
      ],
      "execution_count": null,
      "outputs": []
    }
  ]
}