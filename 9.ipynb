{
  "nbformat": 4,
  "nbformat_minor": 0,
  "metadata": {
    "colab": {
      "name": "9",
      "provenance": [],
      "collapsed_sections": [],
      "authorship_tag": "ABX9TyN1aHM+Cq4NWpCQG1t4T7xF",
      "include_colab_link": true
    },
    "kernelspec": {
      "name": "python3",
      "display_name": "Python 3"
    }
  },
  "cells": [
    {
      "cell_type": "markdown",
      "metadata": {
        "id": "view-in-github",
        "colab_type": "text"
      },
      "source": [
        "<a href=\"https://colab.research.google.com/github/maskot1977/Python2020/blob/main/9.ipynb\" target=\"_parent\"><img src=\"https://colab.research.google.com/assets/colab-badge.svg\" alt=\"Open In Colab\"/></a>"
      ]
    },
    {
      "cell_type": "code",
      "metadata": {
        "id": "slHglx7PLDXI",
        "outputId": "58ae9705-9920-4917-c301-f04a8c5374f9",
        "colab": {
          "base_uri": "https://localhost:8080/",
          "height": 35
        }
      },
      "source": [
        "!date"
      ],
      "execution_count": 1,
      "outputs": [
        {
          "output_type": "stream",
          "text": [
            "Mon Oct  5 05:12:07 UTC 2020\n"
          ],
          "name": "stdout"
        }
      ]
    },
    {
      "cell_type": "code",
      "metadata": {
        "id": "mnOAoe3PLFAR",
        "outputId": "849066e6-d5a2-4f79-d354-1d84f52fd429",
        "colab": {
          "base_uri": "https://localhost:8080/",
          "height": 255
        }
      },
      "source": [
        "a = float(input('x^2 の係数 a を入力してください'))\n",
        "if a == 0:\n",
        "    raise ValueError(\"a にはゼロ以外の数値を入力してください\")\n",
        "\n",
        "b = float(input('x の係数 b を入力してください'))\n",
        "c = float(input('定数項 c を入力してください'))\n",
        "\n",
        "if b**2 - 4 * a * c < 0:\n",
        "    raise ValueError(\"実数解が存在しません\")\n",
        "\n",
        "elif b**2 - 4 * a * c == 0:\n",
        "    print(-b/2/a)\n",
        "else:\n",
        "    print(((-b+(b**2-4*a*c)**(1/2))/2/a, (-b-(b**2-4*a*c)**(1/2))/2/a))"
      ],
      "execution_count": 8,
      "outputs": [
        {
          "output_type": "stream",
          "text": [
            "x^2 の係数 a を入力してください0\n"
          ],
          "name": "stdout"
        },
        {
          "output_type": "error",
          "ename": "ValueError",
          "evalue": "ignored",
          "traceback": [
            "\u001b[0;31m---------------------------------------------------------------------------\u001b[0m",
            "\u001b[0;31mValueError\u001b[0m                                Traceback (most recent call last)",
            "\u001b[0;32m<ipython-input-8-2213522dee26>\u001b[0m in \u001b[0;36m<module>\u001b[0;34m()\u001b[0m\n\u001b[1;32m      1\u001b[0m \u001b[0ma\u001b[0m \u001b[0;34m=\u001b[0m \u001b[0mfloat\u001b[0m\u001b[0;34m(\u001b[0m\u001b[0minput\u001b[0m\u001b[0;34m(\u001b[0m\u001b[0;34m'x^2 の係数 a を入力してください'\u001b[0m\u001b[0;34m)\u001b[0m\u001b[0;34m)\u001b[0m\u001b[0;34m\u001b[0m\u001b[0;34m\u001b[0m\u001b[0m\n\u001b[1;32m      2\u001b[0m \u001b[0;32mif\u001b[0m \u001b[0ma\u001b[0m \u001b[0;34m==\u001b[0m \u001b[0;36m0\u001b[0m\u001b[0;34m:\u001b[0m\u001b[0;34m\u001b[0m\u001b[0;34m\u001b[0m\u001b[0m\n\u001b[0;32m----> 3\u001b[0;31m     \u001b[0;32mraise\u001b[0m \u001b[0mValueError\u001b[0m\u001b[0;34m(\u001b[0m\u001b[0;34m\"a にはゼロ以外の数値を入力してください\"\u001b[0m\u001b[0;34m)\u001b[0m\u001b[0;34m\u001b[0m\u001b[0;34m\u001b[0m\u001b[0m\n\u001b[0m\u001b[1;32m      4\u001b[0m \u001b[0;34m\u001b[0m\u001b[0m\n\u001b[1;32m      5\u001b[0m \u001b[0mb\u001b[0m \u001b[0;34m=\u001b[0m \u001b[0mfloat\u001b[0m\u001b[0;34m(\u001b[0m\u001b[0minput\u001b[0m\u001b[0;34m(\u001b[0m\u001b[0;34m'x の係数 b を入力してください'\u001b[0m\u001b[0;34m)\u001b[0m\u001b[0;34m)\u001b[0m\u001b[0;34m\u001b[0m\u001b[0;34m\u001b[0m\u001b[0m\n",
            "\u001b[0;31mValueError\u001b[0m: a にはゼロ以外の数値を入力してください"
          ]
        }
      ]
    },
    {
      "cell_type": "code",
      "metadata": {
        "id": "RaDVn5JmMfL3",
        "outputId": "f6f496d6-fad0-4cb5-d63b-e1f10cf3da5a",
        "colab": {
          "base_uri": "https://localhost:8080/",
          "height": 290
        }
      },
      "source": [
        "a = float(input('x^2 の係数 a を入力してください'))\n",
        "if a == 0:\n",
        "    raise ValueError(\"a にはゼロ以外の数値を入力してください\")\n",
        "\n",
        "b = float(input('x の係数 b を入力してください'))\n",
        "c = float(input('定数項 c を入力してください'))\n",
        "\n",
        "if b**2 - 4 * a * c < 0:\n",
        "    raise ValueError(\"実数解が存在しません\")\n",
        "\n",
        "elif b**2 - 4 * a * c == 0:\n",
        "    print(-b/2/a)\n",
        "else:\n",
        "    print(((-b+(b**2-4*a*c)**(1/2))/2/a, (-b-(b**2-4*a*c)**(1/2))/2/a))"
      ],
      "execution_count": 10,
      "outputs": [
        {
          "output_type": "stream",
          "text": [
            "x^2 の係数 a を入力してください1\n",
            "x の係数 b を入力してください6\n",
            "定数項 c を入力してください12\n"
          ],
          "name": "stdout"
        },
        {
          "output_type": "error",
          "ename": "ValueError",
          "evalue": "ignored",
          "traceback": [
            "\u001b[0;31m---------------------------------------------------------------------------\u001b[0m",
            "\u001b[0;31mValueError\u001b[0m                                Traceback (most recent call last)",
            "\u001b[0;32m<ipython-input-10-2213522dee26>\u001b[0m in \u001b[0;36m<module>\u001b[0;34m()\u001b[0m\n\u001b[1;32m      7\u001b[0m \u001b[0;34m\u001b[0m\u001b[0m\n\u001b[1;32m      8\u001b[0m \u001b[0;32mif\u001b[0m \u001b[0mb\u001b[0m\u001b[0;34m**\u001b[0m\u001b[0;36m2\u001b[0m \u001b[0;34m-\u001b[0m \u001b[0;36m4\u001b[0m \u001b[0;34m*\u001b[0m \u001b[0ma\u001b[0m \u001b[0;34m*\u001b[0m \u001b[0mc\u001b[0m \u001b[0;34m<\u001b[0m \u001b[0;36m0\u001b[0m\u001b[0;34m:\u001b[0m\u001b[0;34m\u001b[0m\u001b[0;34m\u001b[0m\u001b[0m\n\u001b[0;32m----> 9\u001b[0;31m     \u001b[0;32mraise\u001b[0m \u001b[0mValueError\u001b[0m\u001b[0;34m(\u001b[0m\u001b[0;34m\"実数解が存在しません\"\u001b[0m\u001b[0;34m)\u001b[0m\u001b[0;34m\u001b[0m\u001b[0;34m\u001b[0m\u001b[0m\n\u001b[0m\u001b[1;32m     10\u001b[0m \u001b[0;34m\u001b[0m\u001b[0m\n\u001b[1;32m     11\u001b[0m \u001b[0;32melif\u001b[0m \u001b[0mb\u001b[0m\u001b[0;34m**\u001b[0m\u001b[0;36m2\u001b[0m \u001b[0;34m-\u001b[0m \u001b[0;36m4\u001b[0m \u001b[0;34m*\u001b[0m \u001b[0ma\u001b[0m \u001b[0;34m*\u001b[0m \u001b[0mc\u001b[0m \u001b[0;34m==\u001b[0m \u001b[0;36m0\u001b[0m\u001b[0;34m:\u001b[0m\u001b[0;34m\u001b[0m\u001b[0;34m\u001b[0m\u001b[0m\n",
            "\u001b[0;31mValueError\u001b[0m: 実数解が存在しません"
          ]
        }
      ]
    },
    {
      "cell_type": "code",
      "metadata": {
        "id": "YyGs_zjDMCay",
        "outputId": "e7eccf11-1c8f-43e7-f335-99e9caa4a5a1",
        "colab": {
          "base_uri": "https://localhost:8080/",
          "height": 86
        }
      },
      "source": [
        "a = float(input('x^2 の係数 a を入力してください'))\n",
        "if a == 0:\n",
        "    raise ValueError(\"a にはゼロ以外の数値を入力してください\")\n",
        "\n",
        "b = float(input('x の係数 b を入力してください'))\n",
        "c = float(input('定数項 c を入力してください'))\n",
        "\n",
        "if b**2 - 4 * a * c < 0:\n",
        "    raise ValueError(\"実数解が存在しません\")\n",
        "\n",
        "elif b**2 - 4 * a * c == 0:\n",
        "    print(-b/2/a)\n",
        "else:\n",
        "    print(((-b+(b**2-4*a*c)**(1/2))/2/a, (-b-(b**2-4*a*c)**(1/2))/2/a))"
      ],
      "execution_count": 9,
      "outputs": [
        {
          "output_type": "stream",
          "text": [
            "x^2 の係数 a を入力してください1\n",
            "x の係数 b を入力してください4\n",
            "定数項 c を入力してください4\n",
            "-2.0\n"
          ],
          "name": "stdout"
        }
      ]
    },
    {
      "cell_type": "code",
      "metadata": {
        "id": "oRKETnr4MkLr",
        "outputId": "4523811a-7960-4249-be3b-e0ad7126166e",
        "colab": {
          "base_uri": "https://localhost:8080/",
          "height": 86
        }
      },
      "source": [
        "a = float(input('x^2 の係数 a を入力してください'))\n",
        "if a == 0:\n",
        "    raise ValueError(\"a にはゼロ以外の数値を入力してください\")\n",
        "\n",
        "b = float(input('x の係数 b を入力してください'))\n",
        "c = float(input('定数項 c を入力してください'))\n",
        "\n",
        "if b**2 - 4 * a * c < 0:\n",
        "    raise ValueError(\"実数解が存在しません\")\n",
        "\n",
        "elif b**2 - 4 * a * c == 0:\n",
        "    print(-b/2/a)\n",
        "else:\n",
        "    print(((-b+(b**2-4*a*c)**(1/2))/2/a, (-b-(b**2-4*a*c)**(1/2))/2/a))"
      ],
      "execution_count": 13,
      "outputs": [
        {
          "output_type": "stream",
          "text": [
            "x^2 の係数 a を入力してください3\n",
            "x の係数 b を入力してください14\n",
            "定数項 c を入力してください15\n",
            "(-1.6666666666666667, -3.0)\n"
          ],
          "name": "stdout"
        }
      ]
    },
    {
      "cell_type": "code",
      "metadata": {
        "id": "osUhr6FbMv1E",
        "outputId": "618f3f3f-c5a4-483e-b450-71723bd3ec42",
        "colab": {
          "base_uri": "https://localhost:8080/",
          "height": 35
        }
      },
      "source": [
        "!date"
      ],
      "execution_count": 14,
      "outputs": [
        {
          "output_type": "stream",
          "text": [
            "Mon Oct  5 05:21:36 UTC 2020\n"
          ],
          "name": "stdout"
        }
      ]
    },
    {
      "cell_type": "code",
      "metadata": {
        "id": "rclpbKZnNT59"
      },
      "source": [
        ""
      ],
      "execution_count": null,
      "outputs": []
    }
  ]
}