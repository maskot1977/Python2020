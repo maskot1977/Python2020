{
  "nbformat": 4,
  "nbformat_minor": 0,
  "metadata": {
    "colab": {
      "name": "11",
      "provenance": [],
      "collapsed_sections": [],
      "authorship_tag": "ABX9TyOYNU73ZB8EtdahKHArwBp6",
      "include_colab_link": true
    },
    "kernelspec": {
      "name": "python3",
      "display_name": "Python 3"
    }
  },
  "cells": [
    {
      "cell_type": "markdown",
      "metadata": {
        "id": "view-in-github",
        "colab_type": "text"
      },
      "source": [
        "<a href=\"https://colab.research.google.com/github/maskot1977/Python2020/blob/main/11.ipynb\" target=\"_parent\"><img src=\"https://colab.research.google.com/assets/colab-badge.svg\" alt=\"Open In Colab\"/></a>"
      ]
    },
    {
      "cell_type": "code",
      "metadata": {
        "id": "EIFf8W24V-qd",
        "outputId": "8c5f8351-1ee3-4005-b103-758d733e8014",
        "colab": {
          "base_uri": "https://localhost:8080/",
          "height": 35
        }
      },
      "source": [
        "!date"
      ],
      "execution_count": 1,
      "outputs": [
        {
          "output_type": "stream",
          "text": [
            "Mon Oct  5 05:59:48 UTC 2020\n"
          ],
          "name": "stdout"
        }
      ]
    },
    {
      "cell_type": "code",
      "metadata": {
        "id": "-JcMoy_YWAcx"
      },
      "source": [
        "a = [2, -3, 1]\n",
        "b = [4, -2, 6]"
      ],
      "execution_count": 14,
      "outputs": []
    },
    {
      "cell_type": "code",
      "metadata": {
        "id": "BQYcxuLoWDL7"
      },
      "source": [
        "def inner_product(x, y):\n",
        "    val = 0\n",
        "    for i in range(len(x)):\n",
        "        val += x[i] * y[i]\n",
        "    \n",
        "    return val"
      ],
      "execution_count": 15,
      "outputs": []
    },
    {
      "cell_type": "code",
      "metadata": {
        "id": "YqvZ4zIlWRP9",
        "outputId": "ad84297a-9444-498c-e6d8-ed2b83fd1de6",
        "colab": {
          "base_uri": "https://localhost:8080/",
          "height": 35
        }
      },
      "source": [
        "inner_product(a, b)"
      ],
      "execution_count": 16,
      "outputs": [
        {
          "output_type": "execute_result",
          "data": {
            "text/plain": [
              "20"
            ]
          },
          "metadata": {
            "tags": []
          },
          "execution_count": 16
        }
      ]
    },
    {
      "cell_type": "code",
      "metadata": {
        "id": "UyyKvweMWTuk"
      },
      "source": [
        "def cross_product(x, y):\n",
        "    val = []\n",
        "    val.append(x[1] * y[2] - x[2] * y[1])\n",
        "    val.append(x[2] * y[0] - x[0] * y[2])\n",
        "    val.append(x[0] * y[1] - x[1] * y[0])\n",
        "    return val"
      ],
      "execution_count": 18,
      "outputs": []
    },
    {
      "cell_type": "code",
      "metadata": {
        "id": "EMj-prJ3XV8s",
        "outputId": "7155a5e9-0dd0-44a2-f49f-3ef5526d56b5",
        "colab": {
          "base_uri": "https://localhost:8080/",
          "height": 35
        }
      },
      "source": [
        "cross_product(a, b)"
      ],
      "execution_count": 19,
      "outputs": [
        {
          "output_type": "execute_result",
          "data": {
            "text/plain": [
              "[-16, -8, 8]"
            ]
          },
          "metadata": {
            "tags": []
          },
          "execution_count": 19
        }
      ]
    },
    {
      "cell_type": "code",
      "metadata": {
        "id": "LPCbHZgzXe4a",
        "outputId": "8665179d-62a7-49d9-a72d-92934cfb8ca4",
        "colab": {
          "base_uri": "https://localhost:8080/",
          "height": 35
        }
      },
      "source": [
        "!date"
      ],
      "execution_count": 20,
      "outputs": [
        {
          "output_type": "stream",
          "text": [
            "Mon Oct  5 06:06:45 UTC 2020\n"
          ],
          "name": "stdout"
        }
      ]
    },
    {
      "cell_type": "code",
      "metadata": {
        "id": "dagZLC2CXpNW"
      },
      "source": [
        ""
      ],
      "execution_count": null,
      "outputs": []
    }
  ]
}