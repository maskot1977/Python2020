{
  "nbformat": 4,
  "nbformat_minor": 0,
  "metadata": {
    "colab": {
      "name": "27",
      "provenance": [],
      "collapsed_sections": [],
      "authorship_tag": "ABX9TyPsalEvbRfG45tImcxW1XF/",
      "include_colab_link": true
    },
    "kernelspec": {
      "name": "python3",
      "display_name": "Python 3"
    }
  },
  "cells": [
    {
      "cell_type": "markdown",
      "metadata": {
        "id": "view-in-github",
        "colab_type": "text"
      },
      "source": [
        "<a href=\"https://colab.research.google.com/github/maskot1977/Python2020/blob/1012/27.ipynb\" target=\"_parent\"><img src=\"https://colab.research.google.com/assets/colab-badge.svg\" alt=\"Open In Colab\"/></a>"
      ]
    },
    {
      "cell_type": "code",
      "metadata": {
        "id": "m6jO-0WsUbq9",
        "outputId": "3f7d072e-3048-423d-880d-f7f299f3ee0a",
        "colab": {
          "base_uri": "https://localhost:8080/",
          "height": 35
        }
      },
      "source": [
        "!date"
      ],
      "execution_count": 1,
      "outputs": [
        {
          "output_type": "stream",
          "text": [
            "Mon Oct 12 01:55:00 UTC 2020\n"
          ],
          "name": "stdout"
        }
      ]
    },
    {
      "cell_type": "code",
      "metadata": {
        "id": "6rd6NRcyUdnj",
        "outputId": "fbece697-f68d-49ae-aa02-e3de6b6e7821",
        "colab": {
          "base_uri": "https://localhost:8080/",
          "height": 35
        }
      },
      "source": [
        "import urllib.request\n",
        "\n",
        "url = 'https://raw.githubusercontent.com/maskot1977/ipython_notebook/master/toydata/iris.txt'\n",
        "\n",
        "urllib.request.urlretrieve(url, 'iris.txt')"
      ],
      "execution_count": 2,
      "outputs": [
        {
          "output_type": "execute_result",
          "data": {
            "text/plain": [
              "('iris.txt', <http.client.HTTPMessage at 0x7fe4a6672eb8>)"
            ]
          },
          "metadata": {
            "tags": []
          },
          "execution_count": 2
        }
      ]
    },
    {
      "cell_type": "code",
      "metadata": {
        "id": "broHWx0yUhlN"
      },
      "source": [
        "col1 = []\n",
        "col2 = []\n",
        "col3 = []\n",
        "col4 = []\n",
        "col5 = []\n",
        "col6 = []\n",
        "for i, line in enumerate(open('iris.txt')):\n",
        "    if i == 0:\n",
        "        continue\n",
        "    c = line.split(\"\\t\")\n",
        "    col1.append(c[0])\n",
        "    col2.append(float(c[1]))\n",
        "    col3.append(float(c[2]))\n",
        "    col4.append(float(c[3]))\n",
        "    col5.append(float(c[4]))\n",
        "    col6.append(float(c[5]))"
      ],
      "execution_count": 3,
      "outputs": []
    },
    {
      "cell_type": "code",
      "metadata": {
        "id": "afj7KUIaUkO_"
      },
      "source": [
        "# 平均値を求める関数を作ろう\n",
        "def mean(list_):\n",
        "    sum = 0.\n",
        "    for x in list_:\n",
        "        sum += x\n",
        "\n",
        "    return sum / len(list_)"
      ],
      "execution_count": 4,
      "outputs": []
    },
    {
      "cell_type": "code",
      "metadata": {
        "id": "J38kHNRpbV0g"
      },
      "source": [
        "# 分散を求める関数を作ろう\n",
        "def variance(list_):\n",
        "    sum = 0.\n",
        "    for x in list_:\n",
        "        sum += (x - mean(list_))**2\n",
        "\n",
        "    return sum / len(list_)"
      ],
      "execution_count": 5,
      "outputs": []
    },
    {
      "cell_type": "code",
      "metadata": {
        "id": "6iTPzKl6cI14"
      },
      "source": [
        "# 標準偏差を求める関数を作ろう\n",
        "import math\n",
        "def standard_deviation(list_):\n",
        "    return math.sqrt(variance(list_))"
      ],
      "execution_count": 6,
      "outputs": []
    },
    {
      "cell_type": "code",
      "metadata": {
        "id": "fV1E40VNfRIw"
      },
      "source": [
        "# 共分散 = 偏差積の平均 （偏差値、ではありません。偏差積、です）を作ろう\n",
        "def covariance(list1, list2): \n",
        "    sum = 0.\n",
        "    for x, y in zip(list1, list2):\n",
        "        sum += (x - mean(list1)) * (y - mean(list2))\n",
        "\n",
        "    return sum / len(list1)"
      ],
      "execution_count": 7,
      "outputs": []
    },
    {
      "cell_type": "code",
      "metadata": {
        "id": "IvoGNPm0hOJ9"
      },
      "source": [
        "# 相関係数 = 共分散を list1, list2 の標準偏差で割ったものを作ろう\n",
        "def correlation(list1, list2):\n",
        "    return covariance(list1, list2) / standard_deviation(list1) / standard_deviation(list2)"
      ],
      "execution_count": 8,
      "outputs": []
    },
    {
      "cell_type": "code",
      "metadata": {
        "id": "88MeDcCFUxCh",
        "outputId": "cb5b0d8f-dad1-4dd2-c336-1c49e9752933",
        "colab": {
          "base_uri": "https://localhost:8080/",
          "height": 121
        }
      },
      "source": [
        "names = [\"Sepal.Length\", \"Sepal.Width\", \"Petal.Length\", \"Petal.Width\"]\n",
        "columns = [col2, col3, col4, col5]\n",
        "\n",
        "for i, data1 in enumerate(zip(names, columns)):\n",
        "    for j, data2 in enumerate(zip(names, columns)):\n",
        "        if i < j:\n",
        "            print(data1[0], \"x\", data2[0], \":\", correlation(data1[1], data2[1]))"
      ],
      "execution_count": 9,
      "outputs": [
        {
          "output_type": "stream",
          "text": [
            "Sepal.Length x Sepal.Width : -0.11756978413300205\n",
            "Sepal.Length x Petal.Length : 0.8717537758865828\n",
            "Sepal.Length x Petal.Width : 0.8179411262715759\n",
            "Sepal.Width x Petal.Length : -0.42844010433054\n",
            "Sepal.Width x Petal.Width : -0.36612593253643944\n",
            "Petal.Length x Petal.Width : 0.9628654314027956\n"
          ],
          "name": "stdout"
        }
      ]
    },
    {
      "cell_type": "code",
      "metadata": {
        "id": "YbJjtCyjUpAK",
        "outputId": "1226736e-5793-4efd-f069-23010d8629cb",
        "colab": {
          "base_uri": "https://localhost:8080/",
          "height": 35
        }
      },
      "source": [
        "!date"
      ],
      "execution_count": 10,
      "outputs": [
        {
          "output_type": "stream",
          "text": [
            "Mon Oct 12 01:56:20 UTC 2020\n"
          ],
          "name": "stdout"
        }
      ]
    },
    {
      "cell_type": "code",
      "metadata": {
        "id": "ENkkiyF8Ut7U"
      },
      "source": [
        ""
      ],
      "execution_count": null,
      "outputs": []
    }
  ]
}