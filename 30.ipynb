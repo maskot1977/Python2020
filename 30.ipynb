{
  "nbformat": 4,
  "nbformat_minor": 0,
  "metadata": {
    "colab": {
      "name": "30",
      "provenance": [],
      "collapsed_sections": [],
      "authorship_tag": "ABX9TyNAL249OifOfSK+835ub+Gz",
      "include_colab_link": true
    },
    "kernelspec": {
      "name": "python3",
      "display_name": "Python 3"
    }
  },
  "cells": [
    {
      "cell_type": "markdown",
      "metadata": {
        "id": "view-in-github",
        "colab_type": "text"
      },
      "source": [
        "<a href=\"https://colab.research.google.com/github/maskot1977/Python2020/blob/1012/30.ipynb\" target=\"_parent\"><img src=\"https://colab.research.google.com/assets/colab-badge.svg\" alt=\"Open In Colab\"/></a>"
      ]
    },
    {
      "cell_type": "code",
      "metadata": {
        "id": "ESWZzOPFxMXV",
        "outputId": "5654d75c-7881-4428-d8bd-2615d757651c",
        "colab": {
          "base_uri": "https://localhost:8080/",
          "height": 35
        }
      },
      "source": [
        "!date"
      ],
      "execution_count": 1,
      "outputs": [
        {
          "output_type": "stream",
          "text": [
            "Mon Oct 12 03:05:46 UTC 2020\n"
          ],
          "name": "stdout"
        }
      ]
    },
    {
      "cell_type": "code",
      "metadata": {
        "id": "39caft62woWC"
      },
      "source": [
        "def question30(k, m):\n",
        "  for k1 in k:\n",
        "    for k2 in k:\n",
        "      for k3 in k:\n",
        "        for k4 in k:\n",
        "          if k1 + k2 + k3 + k4 == m:\n",
        "            return True\n",
        "  return False"
      ],
      "execution_count": 2,
      "outputs": []
    },
    {
      "cell_type": "code",
      "metadata": {
        "id": "O65NUV23wtlT"
      },
      "source": [
        "n = 10\n",
        "m =  36\n",
        "k =  [13, 39, 63, 70, 18, 87, 46, 99, 68, 47]"
      ],
      "execution_count": 3,
      "outputs": []
    },
    {
      "cell_type": "code",
      "metadata": {
        "id": "jffg6QhKwz3n",
        "outputId": "86776aaa-3728-424d-c1a8-96e4d3c4d159",
        "colab": {
          "base_uri": "https://localhost:8080/",
          "height": 35
        }
      },
      "source": [
        "question30(k, m)"
      ],
      "execution_count": 4,
      "outputs": [
        {
          "output_type": "execute_result",
          "data": {
            "text/plain": [
              "False"
            ]
          },
          "metadata": {
            "tags": []
          },
          "execution_count": 4
        }
      ]
    },
    {
      "cell_type": "code",
      "metadata": {
        "id": "KSKdjElzw2is"
      },
      "source": [
        "n = 10\n",
        "m =  66\n",
        "k =  [60, 45, 73, 100, 57, 82, 2, 85, 43, 8]"
      ],
      "execution_count": 5,
      "outputs": []
    },
    {
      "cell_type": "code",
      "metadata": {
        "id": "cnuBbOAhw5AX",
        "outputId": "81cb4abe-9139-42b5-8280-cc967e2f45cb",
        "colab": {
          "base_uri": "https://localhost:8080/",
          "height": 35
        }
      },
      "source": [
        "question30(k, m)"
      ],
      "execution_count": 6,
      "outputs": [
        {
          "output_type": "execute_result",
          "data": {
            "text/plain": [
              "True"
            ]
          },
          "metadata": {
            "tags": []
          },
          "execution_count": 6
        }
      ]
    },
    {
      "cell_type": "code",
      "metadata": {
        "id": "5oklmKTow6L3"
      },
      "source": [
        "n = 20\n",
        "m =  496\n",
        "k =  [240, 471, 143, 482, 231, 127, 482, 145, 195, 336, 31, 83, 450, 376, 108, 133, 118, 340, 400, 170]"
      ],
      "execution_count": 7,
      "outputs": []
    },
    {
      "cell_type": "code",
      "metadata": {
        "id": "mbTp69KbxLO4",
        "outputId": "c2b565d3-b0c4-4e09-f61f-d234b418f033",
        "colab": {
          "base_uri": "https://localhost:8080/",
          "height": 35
        }
      },
      "source": [
        "question30(k, m)"
      ],
      "execution_count": 8,
      "outputs": [
        {
          "output_type": "execute_result",
          "data": {
            "text/plain": [
              "True"
            ]
          },
          "metadata": {
            "tags": []
          },
          "execution_count": 8
        }
      ]
    },
    {
      "cell_type": "code",
      "metadata": {
        "id": "1CjTWTxPxNV6",
        "outputId": "5df0ceae-a27e-4d69-b2e1-e6a7b1dd1f52",
        "colab": {
          "base_uri": "https://localhost:8080/",
          "height": 35
        }
      },
      "source": [
        "!date"
      ],
      "execution_count": 9,
      "outputs": [
        {
          "output_type": "stream",
          "text": [
            "Mon Oct 12 03:05:47 UTC 2020\n"
          ],
          "name": "stdout"
        }
      ]
    }
  ]
}