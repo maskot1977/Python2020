{
  "nbformat": 4,
  "nbformat_minor": 0,
  "metadata": {
    "colab": {
      "name": "98",
      "provenance": [],
      "collapsed_sections": [],
      "authorship_tag": "ABX9TyNW3KvJEJ77y+Jj4oWcAqSU",
      "include_colab_link": true
    },
    "kernelspec": {
      "name": "python3",
      "display_name": "Python 3"
    }
  },
  "cells": [
    {
      "cell_type": "markdown",
      "metadata": {
        "id": "view-in-github",
        "colab_type": "text"
      },
      "source": [
        "<a href=\"https://colab.research.google.com/github/maskot1977/Python2020/blob/1218/98.ipynb\" target=\"_parent\"><img src=\"https://colab.research.google.com/assets/colab-badge.svg\" alt=\"Open In Colab\"/></a>"
      ]
    },
    {
      "cell_type": "code",
      "metadata": {
        "colab": {
          "base_uri": "https://localhost:8080/"
        },
        "id": "upVqKXwuH57H",
        "outputId": "fc20cac0-c339-4e46-a7af-3b29fcbe8a16"
      },
      "source": [
        "!date"
      ],
      "execution_count": 1,
      "outputs": [
        {
          "output_type": "stream",
          "text": [
            "Mon Dec 21 02:27:52 UTC 2020\n"
          ],
          "name": "stdout"
        }
      ]
    },
    {
      "cell_type": "code",
      "metadata": {
        "id": "x4ZkAjUMH8SQ"
      },
      "source": [
        "X1 = [4.7, 4.5, 4.9, 4.0, 4.6, 4.5, 4.7, 3.3, 4.6, 3.9, \n",
        "      3.5, 4.2, 4.0, 4.7, 3.6, 4.4, 4.5, 4.1, 4.5, 3.9, \n",
        "      4.8, 4.0, 4.9, 4.7, 4.3, 4.4, 4.8, 5.0, 4.5, 3.5, \n",
        "      3.8, 3.7, 3.9, 5.1, 4.5, 4.5, 4.7, 4.4, 4.1, 4.0, \n",
        "      4.4, 4.6, 4.0, 3.3, 4.2, 4.2, 4.2, 4.3, 3.0, 4.1, \n",
        "      6.0, 5.1, 5.9, 5.6, 5.8, 6.6, 4.5, 6.3, 5.8, 6.1, \n",
        "      5.1, 5.3, 5.5, 5.0, 5.1, 5.3, 5.5, 6.7, 6.9, 5.0, \n",
        "      5.7, 4.9, 6.7, 4.9, 5.7, 6.0, 4.8, 4.9, 5.6, 5.8, \n",
        "      6.1, 6.4, 5.6, 5.1, 5.6, 6.1, 5.6, 5.5, 4.8, 5.4, \n",
        "      5.6, 5.1, 5.1, 5.9, 5.7, 5.2, 5.0, 5.2, 5.4, 5.1]\n",
        "\n",
        "Y = [0, 0, 0, 0, 0, 0, 0, 0, 0, 0, \n",
        "     0, 0, 0, 0, 0, 0, 0, 0, 0, 0, \n",
        "     0, 0, 0, 0, 0, 0, 0, 0, 0, 0, \n",
        "     0, 0, 0, 0, 0, 0, 0, 0, 0, 0, \n",
        "     0, 0, 0, 0, 0, 0, 0, 0, 0, 0, \n",
        "     1, 1, 1, 1, 1, 1, 1, 1, 1, 1, \n",
        "     1, 1, 1, 1, 1, 1, 1, 1, 1, 1, \n",
        "     1, 1, 1, 1, 1, 1, 1, 1, 1, 1, \n",
        "     1, 1, 1, 1, 1, 1, 1, 1, 1, 1, \n",
        "     1, 1, 1, 1, 1, 1, 1, 1, 1, 1]"
      ],
      "execution_count": 2,
      "outputs": []
    },
    {
      "cell_type": "code",
      "metadata": {
        "colab": {
          "base_uri": "https://localhost:8080/",
          "height": 265
        },
        "id": "yp9Ku9irIEyu",
        "outputId": "6e3dede8-679e-42df-c879-c55a2693a420"
      },
      "source": [
        "%matplotlib inline\n",
        "import matplotlib.pyplot as plt\n",
        "plt.figure(figsize=(12,4))\n",
        "plt.scatter(X1, Y)\n",
        "plt.grid()\n",
        "plt.show()"
      ],
      "execution_count": 3,
      "outputs": [
        {
          "output_type": "display_data",
          "data": {
            "image/png": "[encoded data removed]",
            "text/plain": [
              "<Figure size 864x288 with 1 Axes>"
            ]
          },
          "metadata": {
            "tags": [],
            "needs_background": "light"
          }
        }
      ]
    },
    {
      "cell_type": "code",
      "metadata": {
        "id": "gVoJdUM1IHON"
      },
      "source": [
        "# Python の List を Numpy の Array に変換しておきましょう。\n",
        "import numpy as np\n",
        "X1 = np.array(X1)\n",
        "Y = np.array(Y)"
      ],
      "execution_count": 4,
      "outputs": []
    },
    {
      "cell_type": "code",
      "metadata": {
        "id": "60OshRUyIJob"
      },
      "source": [
        "import numpy as np\n",
        "def func1(X, a, b): # シグモイド曲線\n",
        "    f = a + b * X\n",
        "    return 1. / (1. + np.exp(-f))"
      ],
      "execution_count": 5,
      "outputs": []
    },
    {
      "cell_type": "code",
      "metadata": {
        "colab": {
          "base_uri": "https://localhost:8080/"
        },
        "id": "IH62-OxQIL2y",
        "outputId": "4ca9f544-da83-4e30-c6b8-5946f2270392"
      },
      "source": [
        "func1(X1, 1, 1)"
      ],
      "execution_count": 6,
      "outputs": [
        {
          "output_type": "execute_result",
          "data": {
            "text/plain": [
              "array([0.99666519, 0.99592986, 0.99726804, 0.99330715, 0.99631576,\n",
              "       0.99592986, 0.99666519, 0.98661308, 0.99631576, 0.99260846,\n",
              "       0.98901306, 0.9945137 , 0.99330715, 0.99666519, 0.9900482 ,\n",
              "       0.99550373, 0.99592986, 0.9939402 , 0.99592986, 0.99260846,\n",
              "       0.99698158, 0.99330715, 0.99726804, 0.99666519, 0.9950332 ,\n",
              "       0.99550373, 0.99698158, 0.99752738, 0.99592986, 0.98901306,\n",
              "       0.99183743, 0.9909867 , 0.99260846, 0.99776215, 0.99592986,\n",
              "       0.99592986, 0.99666519, 0.99550373, 0.9939402 , 0.99330715,\n",
              "       0.99550373, 0.99631576, 0.99330715, 0.98661308, 0.9945137 ,\n",
              "       0.9945137 , 0.9945137 , 0.9950332 , 0.98201379, 0.9939402 ,\n",
              "       0.99908895, 0.99776215, 0.99899323, 0.99864148, 0.99888746,\n",
              "       0.9994998 , 0.99592986, 0.99932492, 0.99888746, 0.99917558,\n",
              "       0.99776215, 0.99816706, 0.99849882, 0.99752738, 0.99776215,\n",
              "       0.99816706, 0.99849882, 0.99954738, 0.99962939, 0.99752738,\n",
              "       0.9987706 , 0.99726804, 0.99954738, 0.99726804, 0.9987706 ,\n",
              "       0.99908895, 0.99698158, 0.99726804, 0.99864148, 0.99888746,\n",
              "       0.99917558, 0.99938912, 0.99864148, 0.99776215, 0.99864148,\n",
              "       0.99917558, 0.99864148, 0.99849882, 0.99698158, 0.9983412 ,\n",
              "       0.99864148, 0.99776215, 0.99776215, 0.99899323, 0.9987706 ,\n",
              "       0.99797468, 0.99752738, 0.99797468, 0.9983412 , 0.99776215])"
            ]
          },
          "metadata": {
            "tags": []
          },
          "execution_count": 6
        }
      ]
    },
    {
      "cell_type": "code",
      "metadata": {
        "colab": {
          "base_uri": "https://localhost:8080/"
        },
        "id": "ga8szjO_IN6Q",
        "outputId": "bfc7299d-fb99-40dc-f450-4310adaa579d"
      },
      "source": [
        "from scipy.optimize import curve_fit  \n",
        "popt, pcov = curve_fit(func1,X1,Y) # poptは最適推定値、pcovは共分散\n",
        "popt"
      ],
      "execution_count": 7,
      "outputs": [
        {
          "output_type": "execute_result",
          "data": {
            "text/plain": [
              "array([-47.16056569,   9.6947444 ])"
            ]
          },
          "metadata": {
            "tags": []
          },
          "execution_count": 7
        }
      ]
    },
    {
      "cell_type": "code",
      "metadata": {
        "colab": {
          "base_uri": "https://localhost:8080/",
          "height": 265
        },
        "id": "pfleT6IbIQbc",
        "outputId": "365a9d32-9075-486c-98eb-f78906f7641f"
      },
      "source": [
        "plt.figure(figsize=(12,4))\n",
        "plt.hist(func1(X1, popt[0], popt[1]))\n",
        "plt.grid()\n",
        "plt.show()"
      ],
      "execution_count": 12,
      "outputs": [
        {
          "output_type": "display_data",
          "data": {
            "image/png": "[encoded data removed]",
            "text/plain": [
              "<Figure size 864x288 with 1 Axes>"
            ]
          },
          "metadata": {
            "tags": [],
            "needs_background": "light"
          }
        }
      ]
    },
    {
      "cell_type": "code",
      "metadata": {
        "colab": {
          "base_uri": "https://localhost:8080/",
          "height": 265
        },
        "id": "ku3xMWFIISnb",
        "outputId": "05cd0943-5225-4ede-8466-da2987c99e37"
      },
      "source": [
        "%matplotlib inline\n",
        "import matplotlib.pyplot as plt\n",
        "plt.figure(figsize=(12,4))\n",
        "plt.scatter(X1, Y)\n",
        "x = np.linspace(3, 7, 100)\n",
        "plt.plot(x, func1(x, popt[0], popt[1]))\n",
        "plt.scatter(X1, func1(X1, popt[0], popt[1]))\n",
        "plt.grid()\n",
        "plt.show()"
      ],
      "execution_count": 13,
      "outputs": [
        {
          "output_type": "display_data",
          "data": {
            "image/png": "[encoded data removed]",
            "text/plain": [
              "<Figure size 864x288 with 1 Axes>"
            ]
          },
          "metadata": {
            "tags": [],
            "needs_background": "light"
          }
        }
      ]
    },
    {
      "cell_type": "code",
      "metadata": {
        "id": "Xhx5mw2-Jwcs"
      },
      "source": [
        "TP=[]\n",
        "TN=[]\n",
        "FP=[]\n",
        "FN=[]\n",
        "\n",
        "for i in range(0,len(X1)):\n",
        "  a=func1(X1[i], popt[0], popt[1])\n",
        "  if a<0.5:\n",
        "    a=0\n",
        "  else:\n",
        "    a=1\n",
        "\n",
        "  if a==Y[i]:\n",
        "    if a==1:\n",
        "      TP.append(func1(X1[i], popt[0], popt[1]))\n",
        "    else:\n",
        "      TN.append(func1(X1[i], popt[0], popt[1]))\n",
        "  else:\n",
        "    if a==1:\n",
        "      FP.append(func1(X1[i], popt[0], popt[1]))\n",
        "    else:\n",
        "      FN.append(func1(X1[i], popt[0], popt[1]))"
      ],
      "execution_count": 14,
      "outputs": []
    },
    {
      "cell_type": "code",
      "metadata": {
        "colab": {
          "base_uri": "https://localhost:8080/",
          "height": 336
        },
        "id": "Wi0rk7q7IWGZ",
        "outputId": "20a63c9d-cc44-4750-ee2d-ecf455ac8d05"
      },
      "source": [
        "print(\"Accuracy: \", len(TP + TN) / len(TP + FP + FN + TN))\n",
        "plt.figure(figsize=(12,4))\n",
        "plt.hist([TP, FP, FN, TN], label=['TP', 'FP', 'FN', 'TN'], color=['blue', 'green', 'orange', 'red'])\n",
        "plt.legend()\n",
        "plt.grid()\n",
        "plt.show()"
      ],
      "execution_count": 15,
      "outputs": [
        {
          "output_type": "stream",
          "text": [
            "Accuracy:  0.93\n"
          ],
          "name": "stdout"
        },
        {
          "output_type": "stream",
          "text": [
            "/usr/local/lib/python3.6/dist-packages/numpy/core/_asarray.py:83: VisibleDeprecationWarning: Creating an ndarray from ragged nested sequences (which is a list-or-tuple of lists-or-tuples-or ndarrays with different lengths or shapes) is deprecated. If you meant to do this, you must specify 'dtype=object' when creating the ndarray\n",
            "  return array(a, dtype, copy=False, order=order)\n"
          ],
          "name": "stderr"
        },
        {
          "output_type": "display_data",
          "data": {
            "image/png": "[encoded data removed]",
            "text/plain": [
              "<Figure size 864x288 with 1 Axes>"
            ]
          },
          "metadata": {
            "tags": [],
            "needs_background": "light"
          }
        }
      ]
    },
    {
      "cell_type": "code",
      "metadata": {
        "id": "zEJiXUZNJnyM"
      },
      "source": [
        "X2 = [1.4, 1.5, 1.5, 1.3, 1.5, 1.3, 1.6, 1.0, 1.3, 1.4, \n",
        "      1.0, 1.5, 1.0, 1.4, 1.3, 1.4, 1.5, 1.0, 1.5, 1.1, \n",
        "      1.8, 1.3, 1.5, 1.2, 1.3, 1.4, 1.4, 1.7, 1.5, 1.0, \n",
        "      1.1, 1.0, 1.2, 1.6, 1.5, 1.6, 1.5, 1.3, 1.3, 1.3, \n",
        "      1.2, 1.4, 1.2, 1.0, 1.3, 1.2, 1.3, 1.3, 1.1, 1.3, \n",
        "      2.5, 1.9, 2.1, 1.8, 2.2, 2.1, 1.7, 1.8, 1.8, 2.5, \n",
        "      2.0, 1.9, 2.1, 2.0, 2.4, 2.3, 1.8, 2.2, 2.3, 1.5, \n",
        "      2.3, 2.0, 2.0, 1.8, 2.1, 1.8, 1.8, 1.8, 2.1, 1.6, \n",
        "      1.9, 2.0, 2.2, 1.5, 1.4, 2.3, 2.4, 1.8, 1.8, 2.1, \n",
        "      2.4, 2.3, 1.9, 2.3, 2.5, 2.3, 1.9, 2.0, 2.3, 1.8]\n",
        "\n",
        "X = np.array([X1, X2])"
      ],
      "execution_count": 16,
      "outputs": []
    },
    {
      "cell_type": "code",
      "metadata": {
        "id": "dhKQyvZWKCwW"
      },
      "source": [
        "def func2(X, a, b, c): # シグモイド曲線\n",
        "    f = a + b * X[0] + c * X[1]\n",
        "    return (1. / (1. + np.exp(-f)) )"
      ],
      "execution_count": 18,
      "outputs": []
    },
    {
      "cell_type": "code",
      "metadata": {
        "colab": {
          "base_uri": "https://localhost:8080/"
        },
        "id": "8qv1q_b0KG9W",
        "outputId": "7cbced10-f942-4b9a-8ed4-a10f55a0c00d"
      },
      "source": [
        "popt, pcov = curve_fit(func2, X, Y) # poptは最適推定値、pcovは共分散\n",
        "popt"
      ],
      "execution_count": 19,
      "outputs": [
        {
          "output_type": "stream",
          "text": [
            "/usr/local/lib/python3.6/dist-packages/ipykernel_launcher.py:3: RuntimeWarning: overflow encountered in exp\n",
            "  This is separate from the ipykernel package so we can avoid doing imports until\n"
          ],
          "name": "stderr"
        },
        {
          "output_type": "execute_result",
          "data": {
            "text/plain": [
              "array([-34.73855708,   4.53539757,   7.68378878])"
            ]
          },
          "metadata": {
            "tags": []
          },
          "execution_count": 19
        }
      ]
    },
    {
      "cell_type": "code",
      "metadata": {
        "colab": {
          "base_uri": "https://localhost:8080/",
          "height": 354
        },
        "id": "uFBeG2mBKR0s",
        "outputId": "b8ba0d05-cc9d-48a3-f89a-e253d1259c4c"
      },
      "source": [
        "TP=[]\n",
        "TN=[]\n",
        "FP=[]\n",
        "FN=[]\n",
        "\n",
        "for i in range(0,len(X[0])):\n",
        "  a=func2([X[0][i],X[1][i]], popt[0], popt[1], popt[2])\n",
        "  # print(a)\n",
        "  if a<0.5:\n",
        "    a=0\n",
        "  else:\n",
        "    a=1\n",
        "\n",
        "  if a==Y[i]:\n",
        "    if a==1:\n",
        "      TP.append(func2([X[0][i],X[1][i]], popt[0], popt[1], popt[2]))\n",
        "    else:\n",
        "      TN.append(func2([X[0][i],X[1][i]], popt[0], popt[1], popt[2]))\n",
        "  else:\n",
        "    if a==1:\n",
        "      FP.append(func2([X[0][i],X[1][i]], popt[0], popt[1], popt[2]))\n",
        "    else:\n",
        "      FN.append(func2([X[0][i],X[1][i]], popt[0], popt[1], popt[2]))\n",
        "\n",
        "print(TP,TN,FP,FN)\n",
        "\n",
        "print(\"Accuracy: \", len(TP + TN) / len(TP + FP + FN + TN))\n",
        "plt.figure(figsize=(12,4))\n",
        "plt.hist([TP, FP, FN, TN], label=['TP', 'FP', 'FN', 'TN'], color=['blue', 'green', 'orange', 'red'])\n",
        "plt.legend()\n",
        "plt.grid()\n",
        "plt.show()"
      ],
      "execution_count": 21,
      "outputs": [
        {
          "output_type": "stream",
          "text": [
            "[0.9999915665847798, 0.9521735836623825, 0.9997131444945154, 0.9889092279654462, 0.999790606138451, 0.9999880051759733, 0.999531388341532, 0.9954928308379075, 0.9999946416015444, 0.9772360058812335, 0.9801256094085342, 0.9982424686325446, 0.9646343581063656, 0.9989236080168026, 0.9990628824295364, 0.9826549243687973, 0.9999964655240202, 0.9999993382652408, 0.9998471534587037, 0.9454461470493615, 0.9999835666976299, 0.7884672155457904, 0.999289737571113, 0.9981755455729802, 0.7031140543469128, 0.7884672155457904, 0.9988825922650171, 0.9793830825017767, 0.9994617057609108, 0.9999359360664124, 0.9994814755122557, 0.8048635368117512, 0.9999750866616675, 0.999888431742038, 0.9826549243687973, 0.7031140543469128, 0.9972366551251988, 0.999888431742038, 0.9976818956834895, 0.9521735836623825, 0.9999382899963148, 0.9999671222333557, 0.9985258882786439, 0.926738042805157, 0.9854152671853906, 0.9994043753138675, 0.9022775046528985] [0.0650775349955674, 0.057130765489137196, 0.27102550720155627, 0.0013476540529675043, 0.0870621897449529, 0.012864412971075503, 0.24450702563422766, 5.6268434721338695e-06, 0.02009857956650836, 0.0018454181719898567, 1.3938012582758922e-05, 0.015304220456558942, 0.00013458526722011387, 0.0650775349955674, 0.0002198818264894751, 0.017541243814001822, 0.057130765489137196, 0.0002118038224380743, 0.057130765489137196, 0.00018437786680882502, 0.0013476540529675043, 0.27102550720155627, 0.01475015086501503, 0.005233529485316306, 0.017541243814001822, 0.09873637040022488, 0.057130765489137196, 1.3938012582758922e-05, 0.0001171569805565619, 3.452482921994471e-05, 0.0003974833261899249, 0.057130765489137196, 0.11555579402468895, 0.13050451498788979, 0.008212248660353605, 0.002119397850209547, 0.0013476540529675043, 0.003825393456877998, 0.04235364994566642, 0.0006254457931540015, 5.6268434721338695e-06, 0.00333161191491512, 0.0015478478686042096, 0.00333161191491512, 0.005233529485316306, 3.112140472713754e-06, 0.002119397850209547] [0.7031140543469128, 0.731229932785269, 0.6650837761399897] [0.21980088829724634, 0.3691451107030493, 0.47942505287526255]\n",
            "Accuracy:  0.94\n"
          ],
          "name": "stdout"
        },
        {
          "output_type": "stream",
          "text": [
            "/usr/local/lib/python3.6/dist-packages/numpy/core/_asarray.py:83: VisibleDeprecationWarning: Creating an ndarray from ragged nested sequences (which is a list-or-tuple of lists-or-tuples-or ndarrays with different lengths or shapes) is deprecated. If you meant to do this, you must specify 'dtype=object' when creating the ndarray\n",
            "  return array(a, dtype, copy=False, order=order)\n"
          ],
          "name": "stderr"
        },
        {
          "output_type": "display_data",
          "data": {
            "image/png": "[encoded data removed]",
            "text/plain": [
              "<Figure size 864x288 with 1 Axes>"
            ]
          },
          "metadata": {
            "tags": [],
            "needs_background": "light"
          }
        }
      ]
    },
    {
      "cell_type": "code",
      "metadata": {
        "id": "uREKZcH2KrKe"
      },
      "source": [
        "N = 1000\n",
        "x1_axis = np.linspace(min(X[0]), max(X[0]), N)\n",
        "x2_axis = np.linspace(min(X[1]), max(X[1]), N)\n",
        "x1_grid, x2_grid = np.meshgrid(x1_axis, x2_axis)\n",
        "x_mesh = np.c_[np.ravel(x1_grid), np.ravel(x2_grid)]"
      ],
      "execution_count": 22,
      "outputs": []
    },
    {
      "cell_type": "code",
      "metadata": {
        "id": "Yx3Q4wSIK2sS"
      },
      "source": [
        "y_plot = func2(x_mesh.T, popt[0], popt[1], popt[2]).reshape(x1_grid.shape)"
      ],
      "execution_count": 23,
      "outputs": []
    },
    {
      "cell_type": "code",
      "metadata": {
        "colab": {
          "base_uri": "https://localhost:8080/",
          "height": 248
        },
        "id": "A9SeG4bqK6_I",
        "outputId": "6e1f506d-f09f-4c5d-cdeb-cf962cddf840"
      },
      "source": [
        "import matplotlib.pyplot as plt\n",
        "from mpl_toolkits.mplot3d import Axes3D\n",
        "\n",
        "fig = plt.figure()\n",
        "ax = fig.add_subplot(111, projection='3d')\n",
        "surf = ax.plot_surface(x1_grid, x2_grid, y_plot, cmap='bwr', linewidth=0)\n",
        "fig.colorbar(surf)\n",
        "ax.set_title(\"Surface Plot\")\n",
        "fig.show()"
      ],
      "execution_count": 24,
      "outputs": [
        {
          "output_type": "display_data",
          "data": {
            "image/png": "[encoded data removed]",
            "text/plain": [
              "<Figure size 432x288 with 2 Axes>"
            ]
          },
          "metadata": {
            "tags": [],
            "needs_background": "light"
          }
        }
      ]
    },
    {
      "cell_type": "code",
      "metadata": {
        "id": "InVRkKsxK8nN"
      },
      "source": [
        "X3 = [7.0, 6.4, 6.9, 5.5, 6.5, 5.7, 6.3, 4.9, 6.6, 5.2, \n",
        "      5.0, 5.9, 6.0, 6.1, 5.6, 6.7, 5.6, 5.8, 6.2, 5.6, \n",
        "      5.9, 6.1, 6.3, 6.1, 6.4, 6.6, 6.8, 6.7, 6.0, 5.7, \n",
        "      5.5, 5.5, 5.8, 6.0, 5.4, 6.0, 6.7, 6.3, 5.6, 5.5, \n",
        "      5.5, 6.1, 5.8, 5.0, 5.6, 5.7, 5.7, 6.2, 5.1, 5.7, \n",
        "      6.3, 5.8, 7.1, 6.3, 6.5, 7.6, 4.9, 7.3, 6.7, 7.2, \n",
        "      6.5, 6.4, 6.8, 5.7, 5.8, 6.4, 6.5, 7.7, 7.7, 6.0, \n",
        "      6.9, 5.6, 7.7, 6.3, 6.7, 7.2, 6.2, 6.1, 6.4, 7.2, \n",
        "      7.4, 7.9, 6.4, 6.3, 6.1, 7.7, 6.3, 6.4, 6.0, 6.9, \n",
        "      6.7, 6.9, 5.8, 6.8, 6.7, 6.7, 6.3, 6.5, 6.2, 5.9]\n",
        "\n",
        "X4 = [3.2, 3.2, 3.1, 2.3, 2.8, 2.8, 3.3, 2.4, 2.9, 2.7, \n",
        "      2.0, 3.0, 2.2, 2.9, 2.9, 3.1, 3.0, 2.7, 2.2, 2.5, \n",
        "      3.2, 2.8, 2.5, 2.8, 2.9, 3.0, 2.8, 3.0, 2.9, 2.6, \n",
        "      2.4, 2.4, 2.7, 2.7, 3.0, 3.4, 3.1, 2.3, 3.0, 2.5, \n",
        "      2.6, 3.0, 2.6, 2.3, 2.7, 3.0, 2.9, 2.9, 2.5, 2.8, \n",
        "      3.3, 2.7, 3.0, 2.9, 3.0, 3.0, 2.5, 2.9, 2.5, 3.6, \n",
        "      3.2, 2.7, 3.0, 2.5, 2.8, 3.2, 3.0, 3.8, 2.6, 2.2, \n",
        "      3.2, 2.8, 2.8, 2.7, 3.3, 3.2, 2.8, 3.0, 2.8, 3.0, \n",
        "      2.8, 3.8, 2.8, 2.8, 2.6, 3.0, 3.4, 3.1, 3.0, 3.1, \n",
        "      3.1, 3.1, 2.7, 3.2, 3.3, 3.0, 2.5, 3.0, 3.4, 3.0]\n",
        "\n",
        "X = np.array([X1, X2, X3, X4])"
      ],
      "execution_count": 25,
      "outputs": []
    },
    {
      "cell_type": "code",
      "metadata": {
        "id": "d6I2_jKyLATF"
      },
      "source": [
        "import numpy as np\n",
        "def func(X, *params):\n",
        "    f = np.zeros_like(X[0])\n",
        "    for i, param in enumerate(params):\n",
        "        if i == 0:\n",
        "            f = f + param\n",
        "        else:\n",
        "            f = f + np.array(param * X[i - 1])\n",
        "    return 1. / (1. + np.exp(-f))"
      ],
      "execution_count": 26,
      "outputs": []
    },
    {
      "cell_type": "code",
      "metadata": {
        "colab": {
          "base_uri": "https://localhost:8080/"
        },
        "id": "g4BxnbG2LCsI",
        "outputId": "9ab28db4-88b5-4ec9-bb25-1dfc23404503"
      },
      "source": [
        "popt, pcov = curve_fit(func,X,Y,p0=[1,1,1,1,1]) # poptは最適推定値、pcovは共分散\n",
        "popt"
      ],
      "execution_count": 27,
      "outputs": [
        {
          "output_type": "stream",
          "text": [
            "/usr/local/lib/python3.6/dist-packages/ipykernel_launcher.py:9: RuntimeWarning: overflow encountered in exp\n",
            "  if __name__ == '__main__':\n"
          ],
          "name": "stderr"
        },
        {
          "output_type": "execute_result",
          "data": {
            "text/plain": [
              "array([-1280.82222672,   325.49114886,   343.20730877,   -76.284259  ,\n",
              "        -143.71161942])"
            ]
          },
          "metadata": {
            "tags": []
          },
          "execution_count": 27
        }
      ]
    },
    {
      "cell_type": "code",
      "metadata": {
        "colab": {
          "base_uri": "https://localhost:8080/",
          "height": 354
        },
        "id": "ySVMzWMmLbvx",
        "outputId": "5b0f477f-98a0-4415-a0b6-6dc02d376590"
      },
      "source": [
        "TP=[]\n",
        "TN=[]\n",
        "FP=[]\n",
        "FN=[]\n",
        "\n",
        "A = func(X[0:4], popt[0] , popt[1],popt[2],popt[3],popt[4])\n",
        "b=0\n",
        "i=0\n",
        "for a in A:\n",
        "  if a<0.5:\n",
        "    b=0\n",
        "  else:\n",
        "    b=1\n",
        "\n",
        "  if b==Y[i]:\n",
        "    if b==1:\n",
        "      TP.append(a)\n",
        "    else:\n",
        "      TN.append(a)\n",
        "  else:\n",
        "    if b==1:\n",
        "      FP.append(a)\n",
        "    else:\n",
        "      FN.append(a)\n",
        "  i+=1\n",
        "print(TP,TN,FP,FN)\n",
        "\n",
        "print(\"Accuracy: \", len(TP + TN) / len(TP + FP + FN + TN))\n",
        "plt.figure(figsize=(12,4))\n",
        "plt.hist([TP, FP, FN, TN], label=['TP', 'FP', 'FN', 'TN'], color=['blue', 'green', 'orange', 'red'])\n",
        "plt.legend()\n",
        "plt.grid()\n",
        "plt.show()"
      ],
      "execution_count": 28,
      "outputs": [
        {
          "output_type": "stream",
          "text": [
            "[1.0, 1.0, 1.0, 1.0, 1.0, 1.0, 0.9999999999999987, 1.0, 1.0, 1.0, 1.0, 1.0, 1.0, 1.0, 1.0, 1.0, 1.0, 1.0, 1.0, 1.0, 1.0, 1.0, 1.0, 1.0, 1.0, 1.0, 0.9999999999604519, 0.9999999999999996, 1.0, 1.0, 1.0, 1.0, 1.0, 0.9999834685522545, 1.0, 1.0, 1.0, 1.0, 0.9999715698328899, 1.0, 1.0, 1.0, 1.0, 1.0, 1.0, 1.0, 1.0, 1.0, 1.0, 1.0] [1.501847080235522e-115, 4.875592744938411e-109, 8.091542605023157e-63, 1.5367770249047645e-123, 2.9937150002828975e-73, 1.0803577494316484e-90, 8.645704206441291e-69, 1.4321060135649827e-253, 1.2921197960531777e-112, 8.50547183416242e-138, 1.2024282904772476e-203, 2.1275192320678117e-122, 1.4031325978729048e-178, 5.217040060539593e-67, 7.622995471605496e-221, 8.895879856559845e-142, 4.7263543081886446e-70, 5.039466927071677e-189, 5.335280645983069e-40, 2.782824831835534e-183, 2.379844160715726e-05, 1.2651137177202877e-174, 1.7132530305419902e-05, 1.4064763447195946e-90, 2.1358284663918408e-148, 3.1877812579052083e-132, 8.012325208210703e-70, 5.270125650504311e-06, 4.6122146227165864e-77, 2.7623473472604116e-264, 7.292635177835631e-188, 6.632533732371291e-217, 1.7425718602030574e-187, 1.997527759784215e-63, 2.3047928269305835e-93, 1.8289250214279947e-84, 1.684025292238858e-93, 2.0908085235924118e-156, 5.057992713799091e-136, 1.2617164894650975e-100, 2.1888039093834133e-87, 4.15344068240779e-167, 1.2142503130068157e-250, 1.5141337414014403e-123, 1.729529361102497e-160, 2.4240875643290215e-139, 9.02678126429037e-142, 6.1135485692085274e-294, 3.090036770897946e-147] [1.0] []\n",
            "Accuracy:  0.99\n"
          ],
          "name": "stdout"
        },
        {
          "output_type": "stream",
          "text": [
            "/usr/local/lib/python3.6/dist-packages/numpy/core/_asarray.py:83: VisibleDeprecationWarning: Creating an ndarray from ragged nested sequences (which is a list-or-tuple of lists-or-tuples-or ndarrays with different lengths or shapes) is deprecated. If you meant to do this, you must specify 'dtype=object' when creating the ndarray\n",
            "  return array(a, dtype, copy=False, order=order)\n"
          ],
          "name": "stderr"
        },
        {
          "output_type": "display_data",
          "data": {
            "image/png": "[encoded data removed]",
            "text/plain": [
              "<Figure size 864x288 with 1 Axes>"
            ]
          },
          "metadata": {
            "tags": [],
            "needs_background": "light"
          }
        }
      ]
    },
    {
      "cell_type": "code",
      "metadata": {
        "id": "EvBDd_1OLh8X"
      },
      "source": [
        "def mlp(X, *params):\n",
        "    h01, h02, h03, h04, h0b = params[0], params[1], params[2], params[3], params[4]\n",
        "    h11, h12, h13, h14, h1b = params[5], params[6], params[7], params[8], params[9]\n",
        "    h21, h22, h23, h24, h2b = params[10], params[11], params[12], params[13], params[14]\n",
        "\n",
        "    o01, o02, o03, o0b = params[15], params[16], params[17], params[18]\n",
        "\n",
        "    h0 = 1. / (1. + np.exp(-(h01 * X[0] + h02 * X[1] + h03 * X[2] + h04 * X[3] + h0b)))\n",
        "    h1 = 1. / (1. + np.exp(-(h11 * X[0] + h12 * X[1] + h13 * X[2] + h14 * X[3] + h1b)))\n",
        "    h2 = 1. / (1. + np.exp(-(h21 * X[0] + h22 * X[1] + h23 * X[2] + h24 * X[3] + h2b)))\n",
        "\n",
        "    o0 = 1. / (1. + np.exp(-(o01 * h0 + o02 * h1 + o03 * h2 + o0b)))\n",
        "\n",
        "    return o0"
      ],
      "execution_count": 32,
      "outputs": []
    },
    {
      "cell_type": "code",
      "metadata": {
        "colab": {
          "base_uri": "https://localhost:8080/"
        },
        "id": "BACY24pbLn8w",
        "outputId": "b25fda42-e5c8-439b-dd0a-01b244c2a584"
      },
      "source": [
        "# mlp は実は初期値依存性が非常に大きく不安定\n",
        "popt, pcov = curve_fit(mlp,X,Y,p0=[0,0,0,0,0,0,1,1,1,1,1,1,1,1,1,1,1,1,1]) # poptは最適推定値、pcovは共分散\n",
        "popt"
      ],
      "execution_count": 60,
      "outputs": [
        {
          "output_type": "stream",
          "text": [
            "/usr/local/lib/python3.6/dist-packages/ipykernel_launcher.py:9: RuntimeWarning: overflow encountered in exp\n",
            "  if __name__ == '__main__':\n",
            "/usr/local/lib/python3.6/dist-packages/ipykernel_launcher.py:10: RuntimeWarning: overflow encountered in exp\n",
            "  # Remove the CWD from sys.path while we load stuff.\n",
            "/usr/local/lib/python3.6/dist-packages/scipy/optimize/minpack.py:808: OptimizeWarning: Covariance of the parameters could not be estimated\n",
            "  category=OptimizeWarning)\n"
          ],
          "name": "stderr"
        },
        {
          "output_type": "execute_result",
          "data": {
            "text/plain": [
              "array([-5.38333668e+00, -5.70782222e+00,  1.25282115e+00,  2.38964510e+00,\n",
              "        1.98223269e+01, -1.45241399e+04, -4.00962553e+04, -1.12915199e+04,\n",
              "       -2.74333733e+04, -4.72670800e+04, -2.30603381e+05, -9.48756813e+05,\n",
              "       -1.50120329e+05, -3.92201735e+05, -5.69890147e+05, -4.35754751e+02,\n",
              "       -3.09861009e-01, -3.09852237e-01,  8.54285378e+01])"
            ]
          },
          "metadata": {
            "tags": []
          },
          "execution_count": 60
        }
      ]
    },
    {
      "cell_type": "code",
      "metadata": {
        "colab": {
          "base_uri": "https://localhost:8080/",
          "height": 423
        },
        "id": "MG8ZrN4lLtzl",
        "outputId": "38c275e2-a033-4f9e-9298-c9901fe3bc04"
      },
      "source": [
        "TP=[]\n",
        "TN=[]\n",
        "FP=[]\n",
        "FN=[]\n",
        "\n",
        "A = mlp(X, popt[0],popt[1],popt[2],popt[3],popt[4],popt[5],popt[6],popt[7],popt[8],popt[9],popt[10],popt[11],popt[12],popt[13],popt[14],popt[15],popt[16],popt[17],popt[18])\n",
        "b=0\n",
        "i=0\n",
        "for a in A:\n",
        "  if a<0.5:\n",
        "    b=0\n",
        "  else:\n",
        "    b=1\n",
        "\n",
        "  if b==Y[i]:\n",
        "    if b==1:\n",
        "      TP.append(a)\n",
        "    else:\n",
        "      TN.append(a)\n",
        "  else:\n",
        "    if b==1:\n",
        "      FP.append(a)\n",
        "    else:\n",
        "      FN.append(a)\n",
        "  i+=1\n",
        "print(TP,TN,FP,FN)\n",
        "\n",
        "print(\"Accuracy: \", len(TP + TN) / len(TP + FP + FN + TN))\n",
        "plt.figure(figsize=(12,4))\n",
        "plt.hist([TP, FP, FN, TN], label=['TP', 'FP', 'FN', 'TN'], color=['blue', 'green', 'orange', 'red'])\n",
        "plt.legend()\n",
        "plt.grid()\n",
        "plt.show()"
      ],
      "execution_count": 57,
      "outputs": [
        {
          "output_type": "stream",
          "text": [
            "/usr/local/lib/python3.6/dist-packages/ipykernel_launcher.py:9: RuntimeWarning: overflow encountered in exp\n",
            "  if __name__ == '__main__':\n",
            "/usr/local/lib/python3.6/dist-packages/ipykernel_launcher.py:10: RuntimeWarning: overflow encountered in exp\n",
            "  # Remove the CWD from sys.path while we load stuff.\n",
            "/usr/local/lib/python3.6/dist-packages/numpy/core/_asarray.py:83: VisibleDeprecationWarning: Creating an ndarray from ragged nested sequences (which is a list-or-tuple of lists-or-tuples-or ndarrays with different lengths or shapes) is deprecated. If you meant to do this, you must specify 'dtype=object' when creating the ndarray\n",
            "  return array(a, dtype, copy=False, order=order)\n"
          ],
          "name": "stderr"
        },
        {
          "output_type": "stream",
          "text": [
            "[1.0, 1.0, 1.0, 1.0, 1.0, 1.0, 0.999999999999996, 1.0, 1.0, 1.0, 1.0, 1.0, 1.0, 1.0, 1.0, 1.0, 1.0, 1.0, 1.0, 1.0, 1.0, 1.0, 1.0, 1.0, 1.0, 1.0, 0.9999999999903126, 0.9999999999999989, 1.0, 1.0, 1.0, 1.0, 1.0, 0.9999974405432813, 1.0, 1.0, 1.0, 1.0, 0.9999965900157197, 1.0, 1.0, 1.0, 1.0, 1.0, 1.0, 1.0, 1.0, 1.0, 1.0, 1.0] [1.998880682796983e-143, 5.849866351676977e-141, 1.6626324323220703e-99, 7.617909210546266e-146, 2.44401580614644e-113, 1.702839657044547e-130, 6.1803052320360474e-108, 8.05409832990711e-153, 2.125341034402713e-142, 9.633081003281754e-149, 1.572401588878642e-152, 1.5422108960899523e-145, 5.557403190359422e-152, 1.124908959260321e-105, 1.0796621874872796e-152, 2.770813300962796e-149, 9.569684863110506e-110, 2.8118553560572775e-152, 4.2336263374712625e-61, 3.948657166529996e-152, 1.1554620088509255e-05, 7.788037051405828e-152, 9.650616009530231e-06, 2.1144348322185947e-130, 4.427204764524929e-150, 9.469674999889455e-148, 4.062920973101169e-109, 2.861467409421789e-06, 7.514682902185841e-118, 7.747588644650254e-153, 3.0089484920335066e-152, 1.151494223997089e-152, 3.0808399711424267e-152, 7.669552768194845e-101, 2.4089414518281656e-132, 4.1480139205439634e-125, 2.63011859673352e-132, 8.006520169322379e-151, 1.8816693184864676e-148, 5.525989360070418e-137, 8.459154125498538e-128, 1.6900382116020216e-151, 8.168196172746118e-153, 7.106187893784776e-146, 4.0489204259138137e-151, 5.595320410780333e-149, 2.665854185094257e-149, 7.348709131854345e-153, 5.704265214718806e-150] [1.0] []\n",
            "Accuracy:  0.99\n"
          ],
          "name": "stdout"
        },
        {
          "output_type": "display_data",
          "data": {
            "image/png": "[encoded data removed]",
            "text/plain": [
              "<Figure size 864x288 with 1 Axes>"
            ]
          },
          "metadata": {
            "tags": [],
            "needs_background": "light"
          }
        }
      ]
    },
    {
      "cell_type": "code",
      "metadata": {
        "colab": {
          "base_uri": "https://localhost:8080/"
        },
        "id": "wgvbA_EmLwh4",
        "outputId": "68db0a75-fd75-4dcc-8cd8-1159e8b9caf3"
      },
      "source": [
        "!date"
      ],
      "execution_count": 58,
      "outputs": [
        {
          "output_type": "stream",
          "text": [
            "Mon Dec 21 02:49:31 UTC 2020\n"
          ],
          "name": "stdout"
        }
      ]
    },
    {
      "cell_type": "code",
      "metadata": {
        "id": "58I4r7EVM6xL"
      },
      "source": [
        ""
      ],
      "execution_count": null,
      "outputs": []
    }
  ]
}