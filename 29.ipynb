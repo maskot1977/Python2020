{
  "nbformat": 4,
  "nbformat_minor": 0,
  "metadata": {
    "colab": {
      "name": "29",
      "provenance": [],
      "collapsed_sections": [],
      "authorship_tag": "ABX9TyNZSY3eFoDZIXCW7qShtCba",
      "include_colab_link": true
    },
    "kernelspec": {
      "name": "python3",
      "display_name": "Python 3"
    }
  },
  "cells": [
    {
      "cell_type": "markdown",
      "metadata": {
        "id": "view-in-github",
        "colab_type": "text"
      },
      "source": [
        "<a href=\"https://colab.research.google.com/github/maskot1977/Python2020/blob/1012/29.ipynb\" target=\"_parent\"><img src=\"https://colab.research.google.com/assets/colab-badge.svg\" alt=\"Open In Colab\"/></a>"
      ]
    },
    {
      "cell_type": "code",
      "metadata": {
        "id": "m6jO-0WsUbq9",
        "outputId": "53aea154-d1dd-4560-a7e5-7bbf213cff50",
        "colab": {
          "base_uri": "https://localhost:8080/",
          "height": 35
        }
      },
      "source": [
        "!date"
      ],
      "execution_count": 1,
      "outputs": [
        {
          "output_type": "stream",
          "text": [
            "Mon Oct 12 02:31:22 UTC 2020\n"
          ],
          "name": "stdout"
        }
      ]
    },
    {
      "cell_type": "code",
      "metadata": {
        "id": "6rd6NRcyUdnj",
        "outputId": "4fc4a6d2-0e91-4edf-a916-c4f259d0782e",
        "colab": {
          "base_uri": "https://localhost:8080/",
          "height": 35
        }
      },
      "source": [
        "import urllib.request\n",
        "\n",
        "url = 'https://raw.githubusercontent.com/maskot1977/ipython_notebook/master/toydata/iris.txt'\n",
        "\n",
        "urllib.request.urlretrieve(url, 'iris.txt')"
      ],
      "execution_count": 2,
      "outputs": [
        {
          "output_type": "execute_result",
          "data": {
            "text/plain": [
              "('iris.txt', <http.client.HTTPMessage at 0x7f5ede436ef0>)"
            ]
          },
          "metadata": {
            "tags": []
          },
          "execution_count": 2
        }
      ]
    },
    {
      "cell_type": "code",
      "metadata": {
        "id": "broHWx0yUhlN"
      },
      "source": [
        "col1 = []\n",
        "col2 = []\n",
        "col3 = []\n",
        "col4 = []\n",
        "col5 = []\n",
        "col6 = []\n",
        "for i, line in enumerate(open('iris.txt')):\n",
        "    if i == 0:\n",
        "        continue\n",
        "    c = line.split(\"\\t\")\n",
        "    col1.append(c[0])\n",
        "    col2.append(float(c[1]))\n",
        "    col3.append(float(c[2]))\n",
        "    col4.append(float(c[3]))\n",
        "    col5.append(float(c[4]))\n",
        "    col6.append(float(c[5]))"
      ],
      "execution_count": 3,
      "outputs": []
    },
    {
      "cell_type": "code",
      "metadata": {
        "id": "afj7KUIaUkO_"
      },
      "source": [
        "# 平均値を求める関数を作ろう\n",
        "def mean(list_):\n",
        "    sum = 0.\n",
        "    for x in list_:\n",
        "        sum += x\n",
        "\n",
        "    return sum / len(list_)"
      ],
      "execution_count": 4,
      "outputs": []
    },
    {
      "cell_type": "code",
      "metadata": {
        "id": "J38kHNRpbV0g"
      },
      "source": [
        "# 分散を求める関数を作ろう\n",
        "def variance(list_):\n",
        "    sum = 0.\n",
        "    for x in list_:\n",
        "        sum += (x - mean(list_))**2\n",
        "\n",
        "    return sum / len(list_)"
      ],
      "execution_count": 5,
      "outputs": []
    },
    {
      "cell_type": "code",
      "metadata": {
        "id": "6iTPzKl6cI14"
      },
      "source": [
        "# 標準偏差を求める関数を作ろう\n",
        "import math\n",
        "def standard_deviation(list_):\n",
        "    return math.sqrt(variance(list_))"
      ],
      "execution_count": 6,
      "outputs": []
    },
    {
      "cell_type": "code",
      "metadata": {
        "id": "fV1E40VNfRIw"
      },
      "source": [
        "# 共分散 = 偏差積の平均 （偏差値、ではありません。偏差積、です）を作ろう\n",
        "def covariance(list1, list2): \n",
        "    sum = 0.\n",
        "    for x, y in zip(list1, list2):\n",
        "        sum += (x - mean(list1)) * (y - mean(list2))\n",
        "\n",
        "    return sum / len(list1)"
      ],
      "execution_count": 7,
      "outputs": []
    },
    {
      "cell_type": "code",
      "metadata": {
        "id": "IvoGNPm0hOJ9"
      },
      "source": [
        "# 相関係数 = 共分散を list1, list2 の標準偏差で割ったものを作ろう\n",
        "def correlation(list1, list2):\n",
        "    return covariance(list1, list2) / standard_deviation(list1) / standard_deviation(list2)"
      ],
      "execution_count": 8,
      "outputs": []
    },
    {
      "cell_type": "code",
      "metadata": {
        "id": "88MeDcCFUxCh"
      },
      "source": [
        "# 回帰直線の傾き＝相関係数＊（（yの標準偏差）／（xの標準偏差））を求める関数を作ろう\n",
        "def a_fit(xlist, ylist):\n",
        "    return correlation(xlist, ylist) * standard_deviation(ylist) / standard_deviation(xlist)"
      ],
      "execution_count": 9,
      "outputs": []
    },
    {
      "cell_type": "code",
      "metadata": {
        "id": "07JLj2FzmyLw"
      },
      "source": [
        "# y切片＝yの平均－（傾き＊xの平均）を求める関数を作ろう\n",
        "def b_fit(xlist, ylist):\n",
        "    return mean(ylist) - a_fit(xlist, ylist) / mean(xlist)"
      ],
      "execution_count": 10,
      "outputs": []
    },
    {
      "cell_type": "code",
      "metadata": {
        "id": "8KdDMp-BpoMB"
      },
      "source": [
        "# b の影響を除いた、a と y の偏回帰係数 partial regression coefficient を求める関数を作ろう\n",
        "def partial_regression(B, A, Y):\n",
        "    val = standard_deviation(Y) * (correlation(A, Y) - correlation(B, Y) * correlation(A, B))\n",
        "    return val / standard_deviation(A) / (1 - correlation(A, B)**2)"
      ],
      "execution_count": 11,
      "outputs": []
    },
    {
      "cell_type": "code",
      "metadata": {
        "id": "H1BpMlXDq88q"
      },
      "source": [
        "Y = col2\n",
        "X1 = col3\n",
        "X2 = col4\n",
        "\n",
        "# 定数 w1 = （x2 の影響を除いた、x1 と y の偏回帰係数）\n",
        "w1 = partial_regression(X2, X1, Y)\n",
        "\n",
        "# 定数 w2 = （x1 の影響を除いた、x2 と y の偏回帰係数）\n",
        "w2 = partial_regression(X1, X2, Y)\n",
        "\n",
        "# 定数 t　＝　yの平均　－　w1*「x1の平均」　－　w2*「x2の平均」\n",
        "t = mean(Y) - w1 * mean(X1) - w2 * mean(X2)"
      ],
      "execution_count": 13,
      "outputs": []
    },
    {
      "cell_type": "code",
      "metadata": {
        "id": "jP7jSUGyrUjv",
        "outputId": "491bddb9-038b-4cb2-82f8-4d7491b459dd",
        "colab": {
          "base_uri": "https://localhost:8080/",
          "height": 35
        }
      },
      "source": [
        "# 回帰直線の式を表示\n",
        "print(\"y = f(x) = {0} X1 + {1} X2 + {2}\".format(w1, w2, t))"
      ],
      "execution_count": 14,
      "outputs": [
        {
          "output_type": "stream",
          "text": [
            "y = f(x) = 0.5955247487435913 X1 + 0.4719200393271327 X2 + 2.249140160383229\n"
          ],
          "name": "stdout"
        }
      ]
    },
    {
      "cell_type": "code",
      "metadata": {
        "id": "YbJjtCyjUpAK",
        "outputId": "9c2878d6-68d8-4244-fbea-7f6ce060e7ac",
        "colab": {
          "base_uri": "https://localhost:8080/",
          "height": 35
        }
      },
      "source": [
        "!date"
      ],
      "execution_count": 16,
      "outputs": [
        {
          "output_type": "stream",
          "text": [
            "Mon Oct 12 02:39:50 UTC 2020\n"
          ],
          "name": "stdout"
        }
      ]
    },
    {
      "cell_type": "code",
      "metadata": {
        "id": "ENkkiyF8Ut7U"
      },
      "source": [
        ""
      ],
      "execution_count": null,
      "outputs": []
    }
  ]
}