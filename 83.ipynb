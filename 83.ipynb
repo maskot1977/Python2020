{
  "nbformat": 4,
  "nbformat_minor": 0,
  "metadata": {
    "colab": {
      "name": "83",
      "provenance": [],
      "collapsed_sections": [],
      "authorship_tag": "ABX9TyMortinGRHu/uCOsKughAyA",
      "include_colab_link": true
    },
    "kernelspec": {
      "name": "python3",
      "display_name": "Python 3"
    }
  },
  "cells": [
    {
      "cell_type": "markdown",
      "metadata": {
        "id": "view-in-github",
        "colab_type": "text"
      },
      "source": [
        "<a href=\"https://colab.research.google.com/github/maskot1977/Python2020/blob/1209/83.ipynb\" target=\"_parent\"><img src=\"https://colab.research.google.com/assets/colab-badge.svg\" alt=\"Open In Colab\"/></a>"
      ]
    },
    {
      "cell_type": "code",
      "metadata": {
        "colab": {
          "base_uri": "https://localhost:8080/"
        },
        "id": "-4ePLDDCNKMs",
        "outputId": "86298817-cb00-4610-e22b-e6df10e91915"
      },
      "source": [
        "!date"
      ],
      "execution_count": 1,
      "outputs": [
        {
          "output_type": "stream",
          "text": [
            "Wed Dec  9 06:33:58 UTC 2020\n"
          ],
          "name": "stdout"
        }
      ]
    },
    {
      "cell_type": "code",
      "metadata": {
        "colab": {
          "base_uri": "https://localhost:8080/"
        },
        "id": "X6GEn0eENL9W",
        "outputId": "f21313a1-ae97-4a62-cbc8-bd7b502af224"
      },
      "source": [
        "import scipy as sp # 科学計算ライブラリ\n",
        "from scipy import stats # 統計計算ライブラリ\n",
        "\n",
        "# 対応のあるt検定\n",
        "significance = 0.05\n",
        "X = [68, 75, 80, 71, 73, 79, 69, 65]\n",
        "Y = [86, 83, 76, 81, 75, 82, 87, 75]\n",
        "\n",
        "t, p = stats.ttest_rel(X, Y)\n",
        "\n",
        "print('t 値は %(t)s' %locals())\n",
        "print('確率は %(p)s' %locals())\n",
        "\n",
        "if p < significance:\n",
        "    print('有意水準 %(significance)s で、有意な差があります' %locals())\n",
        "else:\n",
        "    print('有意水準 %(significance)s で、有意な差がありません' %locals())"
      ],
      "execution_count": 2,
      "outputs": [
        {
          "output_type": "stream",
          "text": [
            "t 値は -2.9923203754253302\n",
            "確率は 0.02016001617368161\n",
            "有意水準 0.05 で、有意な差があります\n"
          ],
          "name": "stdout"
        }
      ]
    },
    {
      "cell_type": "code",
      "metadata": {
        "colab": {
          "base_uri": "https://localhost:8080/"
        },
        "id": "IVC_-1E2NQ2N",
        "outputId": "3a5301ba-c354-45ac-bc0e-6a2cd6c8466e"
      },
      "source": [
        "import scipy as sp # 科学計算ライブラリ\n",
        "from scipy import stats # 統計計算ライブラリ\n",
        "\n",
        "# 対応のあるt検定\n",
        "significance = 0.05\n",
        "X = [90, 75, 75, 75, 80, 65, 75, 80]\n",
        "Y = [95, 80, 80, 80, 75, 75, 80, 85]\n",
        "\n",
        "t, p = stats.ttest_rel(X, Y)\n",
        "\n",
        "print('t 値は %(t)s' %locals())\n",
        "print('確率は %(p)s' %locals())\n",
        "\n",
        "if p < significance:\n",
        "    print('有意水準 %(significance)s で、有意な差があります' %locals())\n",
        "else:\n",
        "    print('有意水準 %(significance)s で、有意な差がありません' %locals())"
      ],
      "execution_count": 3,
      "outputs": [
        {
          "output_type": "stream",
          "text": [
            "t 値は -2.965614910077132\n",
            "確率は 0.020937570206924612\n",
            "有意水準 0.05 で、有意な差があります\n"
          ],
          "name": "stdout"
        }
      ]
    },
    {
      "cell_type": "code",
      "metadata": {
        "colab": {
          "base_uri": "https://localhost:8080/"
        },
        "id": "gxCWhwJ1NhKd",
        "outputId": "3e8fd688-2cb2-4b67-bfc6-21d36813a0fd"
      },
      "source": [
        "!date"
      ],
      "execution_count": 4,
      "outputs": [
        {
          "output_type": "stream",
          "text": [
            "Wed Dec  9 06:35:24 UTC 2020\n"
          ],
          "name": "stdout"
        }
      ]
    },
    {
      "cell_type": "code",
      "metadata": {
        "id": "JROkyP2NNi37"
      },
      "source": [
        ""
      ],
      "execution_count": null,
      "outputs": []
    }
  ]
}