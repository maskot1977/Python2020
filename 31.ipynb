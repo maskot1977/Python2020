{
  "nbformat": 4,
  "nbformat_minor": 0,
  "metadata": {
    "colab": {
      "name": "31",
      "provenance": [],
      "collapsed_sections": [],
      "authorship_tag": "ABX9TyM/HDtO9f+zqhplM7s8i9Bm",
      "include_colab_link": true
    },
    "kernelspec": {
      "name": "python3",
      "display_name": "Python 3"
    }
  },
  "cells": [
    {
      "cell_type": "markdown",
      "metadata": {
        "id": "view-in-github",
        "colab_type": "text"
      },
      "source": [
        "<a href=\"https://colab.research.google.com/github/maskot1977/Python2020/blob/1016/31.ipynb\" target=\"_parent\"><img src=\"https://colab.research.google.com/assets/colab-badge.svg\" alt=\"Open In Colab\"/></a>"
      ]
    },
    {
      "cell_type": "code",
      "metadata": {
        "id": "WUd747ftT6Yd",
        "outputId": "c1dde5e0-0947-418a-a5e2-34d527cb3097",
        "colab": {
          "base_uri": "https://localhost:8080/",
          "height": 34
        }
      },
      "source": [
        "!date"
      ],
      "execution_count": 1,
      "outputs": [
        {
          "output_type": "stream",
          "text": [
            "Fri Oct 16 02:49:28 UTC 2020\n"
          ],
          "name": "stdout"
        }
      ]
    },
    {
      "cell_type": "code",
      "metadata": {
        "id": "OyQoJLblT8qI"
      },
      "source": [
        "def question31(a):\n",
        "  ans = 0\n",
        "  for i in range(len(a)):\n",
        "    for j in range(len(a)):\n",
        "      if i >= j:\n",
        "        continue\n",
        "      for k in range(len(a)):\n",
        "        if j >= k:\n",
        "          continue\n",
        "\n",
        "        sum_edge = a[i] + a[j] + a[k]\n",
        "        max_edge = max(a[i], a[j], a[k]) \n",
        "        rest_edge = sum_edge - max_edge\n",
        "        if max_edge < rest_edge:\n",
        "          ans = max(ans, sum_edge)\n",
        "  return ans"
      ],
      "execution_count": 2,
      "outputs": []
    },
    {
      "cell_type": "code",
      "metadata": {
        "id": "su5MPbCgUAUR"
      },
      "source": [
        "n =  5\n",
        "a =  [28.54, 13.36, 54.82, 13.91, 44.29]"
      ],
      "execution_count": 3,
      "outputs": []
    },
    {
      "cell_type": "code",
      "metadata": {
        "id": "V7nfuEPCUEt3",
        "outputId": "9caee873-14f4-47fb-a985-53eed69ce045",
        "colab": {
          "base_uri": "https://localhost:8080/",
          "height": 34
        }
      },
      "source": [
        "question31(a)"
      ],
      "execution_count": 4,
      "outputs": [
        {
          "output_type": "execute_result",
          "data": {
            "text/plain": [
              "127.65"
            ]
          },
          "metadata": {
            "tags": []
          },
          "execution_count": 4
        }
      ]
    },
    {
      "cell_type": "code",
      "metadata": {
        "id": "ySkECQhVUHNT"
      },
      "source": [
        "n =  4\n",
        "a =  [24.73, 53.4, 0.25, 97.89]"
      ],
      "execution_count": 5,
      "outputs": []
    },
    {
      "cell_type": "code",
      "metadata": {
        "id": "7RDyA8KFULpt",
        "outputId": "406a7ff4-3215-47bd-b691-0283c3efdbc2",
        "colab": {
          "base_uri": "https://localhost:8080/",
          "height": 34
        }
      },
      "source": [
        "question31(a)"
      ],
      "execution_count": 6,
      "outputs": [
        {
          "output_type": "execute_result",
          "data": {
            "text/plain": [
              "0"
            ]
          },
          "metadata": {
            "tags": []
          },
          "execution_count": 6
        }
      ]
    },
    {
      "cell_type": "code",
      "metadata": {
        "id": "dFzn8cFKUMqJ"
      },
      "source": [
        "n =  19\n",
        "a =  [493.13, 615.02, 340.68, 462.98, 988.55, 572.16, 572.91, 963.01, 12.07, 95.51, 733.24, 810.39, 105.99, 574.57, 945.38, 937.82, 976.24, 245.43, 260.06]"
      ],
      "execution_count": 7,
      "outputs": []
    },
    {
      "cell_type": "code",
      "metadata": {
        "id": "BmjS2vynUPZh",
        "outputId": "e721eb99-1bed-4186-de0c-80b6cd575bbf",
        "colab": {
          "base_uri": "https://localhost:8080/",
          "height": 34
        }
      },
      "source": [
        "question31(a)"
      ],
      "execution_count": 8,
      "outputs": [
        {
          "output_type": "execute_result",
          "data": {
            "text/plain": [
              "2927.8"
            ]
          },
          "metadata": {
            "tags": []
          },
          "execution_count": 8
        }
      ]
    },
    {
      "cell_type": "code",
      "metadata": {
        "id": "RVMaPsWGUSLL",
        "outputId": "30e2a774-5c2a-4b81-f889-ed7811f03ead",
        "colab": {
          "base_uri": "https://localhost:8080/",
          "height": 34
        }
      },
      "source": [
        "!date"
      ],
      "execution_count": 9,
      "outputs": [
        {
          "output_type": "stream",
          "text": [
            "Fri Oct 16 02:50:51 UTC 2020\n"
          ],
          "name": "stdout"
        }
      ]
    },
    {
      "cell_type": "code",
      "metadata": {
        "id": "z1ZULW2sUS9I"
      },
      "source": [
        ""
      ],
      "execution_count": null,
      "outputs": []
    }
  ]
}