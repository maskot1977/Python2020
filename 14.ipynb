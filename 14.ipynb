{
  "nbformat": 4,
  "nbformat_minor": 0,
  "metadata": {
    "colab": {
      "name": "14",
      "provenance": [],
      "collapsed_sections": [],
      "authorship_tag": "ABX9TyMNOwW1+KZJKyNTbE4KYnXP",
      "include_colab_link": true
    },
    "kernelspec": {
      "name": "python3",
      "display_name": "Python 3"
    }
  },
  "cells": [
    {
      "cell_type": "markdown",
      "metadata": {
        "id": "view-in-github",
        "colab_type": "text"
      },
      "source": [
        "<a href=\"https://colab.research.google.com/github/maskot1977/Python2020/blob/main/14.ipynb\" target=\"_parent\"><img src=\"https://colab.research.google.com/assets/colab-badge.svg\" alt=\"Open In Colab\"/></a>"
      ]
    },
    {
      "cell_type": "code",
      "metadata": {
        "id": "WPBRnrwKp26s",
        "outputId": "b2332436-5b04-4b24-d008-38a52c2e9d1f",
        "colab": {
          "base_uri": "https://localhost:8080/",
          "height": 35
        }
      },
      "source": [
        "!date"
      ],
      "execution_count": 1,
      "outputs": [
        {
          "output_type": "stream",
          "text": [
            "Mon Oct  5 07:26:32 UTC 2020\n"
          ],
          "name": "stdout"
        }
      ]
    },
    {
      "cell_type": "code",
      "metadata": {
        "id": "uWwcfkAIp_Ko",
        "outputId": "08636ae6-77e0-472c-b4b3-926593032a9d",
        "colab": {
          "base_uri": "https://localhost:8080/",
          "height": 138
        }
      },
      "source": [
        "s = 0\n",
        "for i in range(7):\n",
        "    n_prev = 2**i\n",
        "    n = 2**(i + 1)\n",
        "\n",
        "    for k in range(n_prev + 1, n +1):\n",
        "        s += k**-2\n",
        "    \n",
        "    print(\"n =\", n, \", s =\", s)"
      ],
      "execution_count": 10,
      "outputs": [
        {
          "output_type": "stream",
          "text": [
            "n = 2 , s = 0.25\n",
            "n = 4 , s = 0.4236111111111111\n",
            "n = 8 , s = 0.527422052154195\n",
            "n = 16 , s = 0.5843465334449871\n",
            "n = 32 , s = 0.6141672628279246\n",
            "n = 64 , s = 0.6294305014088878\n",
            "n = 128 , s = 0.637152004954462\n"
          ],
          "name": "stdout"
        }
      ]
    },
    {
      "cell_type": "code",
      "metadata": {
        "id": "rL2ibSfuq22z",
        "outputId": "35fdd6af-597c-4130-b354-841a1b87be40",
        "colab": {
          "base_uri": "https://localhost:8080/",
          "height": 35
        }
      },
      "source": [
        "!date"
      ],
      "execution_count": 9,
      "outputs": [
        {
          "output_type": "stream",
          "text": [
            "Mon Oct  5 07:31:24 UTC 2020\n"
          ],
          "name": "stdout"
        }
      ]
    },
    {
      "cell_type": "code",
      "metadata": {
        "id": "nYlrqYN9rBIW"
      },
      "source": [
        ""
      ],
      "execution_count": null,
      "outputs": []
    }
  ]
}