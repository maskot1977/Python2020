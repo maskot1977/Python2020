{
  "nbformat": 4,
  "nbformat_minor": 0,
  "metadata": {
    "colab": {
      "name": "51",
      "provenance": [],
      "collapsed_sections": [],
      "authorship_tag": "ABX9TyOU6Zeq89S9WiTSiDXnKoC/",
      "include_colab_link": true
    },
    "kernelspec": {
      "name": "python3",
      "display_name": "Python 3"
    }
  },
  "cells": [
    {
      "cell_type": "markdown",
      "metadata": {
        "id": "view-in-github",
        "colab_type": "text"
      },
      "source": [
        "<a href=\"https://colab.research.google.com/github/maskot1977/Python2020/blob/1028/51.ipynb\" target=\"_parent\"><img src=\"https://colab.research.google.com/assets/colab-badge.svg\" alt=\"Open In Colab\"/></a>"
      ]
    },
    {
      "cell_type": "code",
      "metadata": {
        "id": "_qNICJQrab52",
        "outputId": "2773141d-201f-4e75-f89d-d1c31aabfd57",
        "colab": {
          "base_uri": "https://localhost:8080/",
          "height": 35
        }
      },
      "source": [
        "!date"
      ],
      "execution_count": 1,
      "outputs": [
        {
          "output_type": "stream",
          "text": [
            "Wed Oct 28 04:14:20 UTC 2020\n"
          ],
          "name": "stdout"
        }
      ]
    },
    {
      "cell_type": "code",
      "metadata": {
        "id": "gTI_W6l7adxt"
      },
      "source": [
        "def question51(f, x_0, x_n, h):  \n",
        "    sum_ = 0\n",
        "    n = int((x_n - x_0) / h)\n",
        "    for i in range (1, n + 1):\n",
        "        x_i = x_0 + i * h\n",
        "        sum_ += (f(x_i) + f(x_i - h)) * h / 2\n",
        "    return sum_"
      ],
      "execution_count": 2,
      "outputs": []
    },
    {
      "cell_type": "code",
      "metadata": {
        "id": "ZWvnG4sWaz6L"
      },
      "source": [
        "def f(x):\n",
        "    return x / ( x ** 2 + 1) "
      ],
      "execution_count": 3,
      "outputs": []
    },
    {
      "cell_type": "code",
      "metadata": {
        "id": "bE-fO7Jia10U",
        "outputId": "e8f6156a-e5d4-4a5b-d9ce-5c4ca60c75e9",
        "colab": {
          "base_uri": "https://localhost:8080/",
          "height": 35
        }
      },
      "source": [
        "question51(f, 1, 2, 0.01)"
      ],
      "execution_count": 4,
      "outputs": [
        {
          "output_type": "execute_result",
          "data": {
            "text/plain": [
              "0.45814436595697755"
            ]
          },
          "metadata": {
            "tags": []
          },
          "execution_count": 4
        }
      ]
    },
    {
      "cell_type": "code",
      "metadata": {
        "id": "D5eVjIQPa5Cl",
        "outputId": "5b4bcdd3-6912-466b-a7cf-3127db1bd460",
        "colab": {
          "base_uri": "https://localhost:8080/",
          "height": 35
        }
      },
      "source": [
        "question51(f, 1, 2, 0.001)"
      ],
      "execution_count": 5,
      "outputs": [
        {
          "output_type": "execute_result",
          "data": {
            "text/plain": [
              "0.4581453559370796"
            ]
          },
          "metadata": {
            "tags": []
          },
          "execution_count": 5
        }
      ]
    },
    {
      "cell_type": "code",
      "metadata": {
        "id": "jL7iGZgda6bh",
        "outputId": "404c1e71-6f94-40a1-9c64-46d9eb842548",
        "colab": {
          "base_uri": "https://localhost:8080/",
          "height": 35
        }
      },
      "source": [
        "question51(f, 1, 2, 0.0001)"
      ],
      "execution_count": 6,
      "outputs": [
        {
          "output_type": "execute_result",
          "data": {
            "text/plain": [
              "0.4581453658370774"
            ]
          },
          "metadata": {
            "tags": []
          },
          "execution_count": 6
        }
      ]
    },
    {
      "cell_type": "code",
      "metadata": {
        "id": "jcUJi_FTa8eZ"
      },
      "source": [
        "def question51b(f, x_0, x_n, h):\n",
        "    sum_ = 0\n",
        "    n = int((x_n - x_0) / h)\n",
        "    for i in range(n + 1):\n",
        "        x_i = x_0 + i * h\n",
        "        if i == 0 or i == n:\n",
        "            sum_ += f(x_i) / 2\n",
        "        else:\n",
        "            sum_ += f(x_i)\n",
        "\n",
        "    return sum_ * h"
      ],
      "execution_count": 22,
      "outputs": []
    },
    {
      "cell_type": "code",
      "metadata": {
        "id": "Z46e4hHPcxZr",
        "outputId": "a9fbd06f-7316-4a83-b1f8-4fd5a778051d",
        "colab": {
          "base_uri": "https://localhost:8080/",
          "height": 35
        }
      },
      "source": [
        "question51b(f, 1, 2, 0.01)"
      ],
      "execution_count": 23,
      "outputs": [
        {
          "output_type": "execute_result",
          "data": {
            "text/plain": [
              "0.45814436595697766"
            ]
          },
          "metadata": {
            "tags": []
          },
          "execution_count": 23
        }
      ]
    },
    {
      "cell_type": "code",
      "metadata": {
        "id": "2srtNh3Wc04-",
        "outputId": "5428eb72-4ebc-47fb-8b32-4e7a0f309301",
        "colab": {
          "base_uri": "https://localhost:8080/",
          "height": 35
        }
      },
      "source": [
        "question51b(f, 1, 2, 0.001)"
      ],
      "execution_count": 24,
      "outputs": [
        {
          "output_type": "execute_result",
          "data": {
            "text/plain": [
              "0.4581453559370791"
            ]
          },
          "metadata": {
            "tags": []
          },
          "execution_count": 24
        }
      ]
    },
    {
      "cell_type": "code",
      "metadata": {
        "id": "U5znZU_Zdysp",
        "outputId": "a4f8228a-e18e-4490-c26a-ca820230534c",
        "colab": {
          "base_uri": "https://localhost:8080/",
          "height": 35
        }
      },
      "source": [
        "question51b(f, 1, 2, 0.0001)"
      ],
      "execution_count": 25,
      "outputs": [
        {
          "output_type": "execute_result",
          "data": {
            "text/plain": [
              "0.45814536583707727"
            ]
          },
          "metadata": {
            "tags": []
          },
          "execution_count": 25
        }
      ]
    },
    {
      "cell_type": "code",
      "metadata": {
        "id": "5dQGWhotd2xD",
        "outputId": "566c3506-3e80-4f68-d41c-1531c0fad29a",
        "colab": {
          "base_uri": "https://localhost:8080/",
          "height": 35
        }
      },
      "source": [
        "!date"
      ],
      "execution_count": 26,
      "outputs": [
        {
          "output_type": "stream",
          "text": [
            "Wed Oct 28 04:29:20 UTC 2020\n"
          ],
          "name": "stdout"
        }
      ]
    },
    {
      "cell_type": "code",
      "metadata": {
        "id": "5X30GeJId6it"
      },
      "source": [
        ""
      ],
      "execution_count": null,
      "outputs": []
    }
  ]
}