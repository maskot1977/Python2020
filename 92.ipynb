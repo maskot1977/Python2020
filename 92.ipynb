{
  "nbformat": 4,
  "nbformat_minor": 0,
  "metadata": {
    "colab": {
      "name": "92",
      "provenance": [],
      "collapsed_sections": [],
      "authorship_tag": "ABX9TyMtEnmaMw1J4x6wPuYVR8qm",
      "include_colab_link": true
    },
    "kernelspec": {
      "name": "python3",
      "display_name": "Python 3"
    }
  },
  "cells": [
    {
      "cell_type": "markdown",
      "metadata": {
        "id": "view-in-github",
        "colab_type": "text"
      },
      "source": [
        "<a href=\"https://colab.research.google.com/github/maskot1977/Python2020/blob/1218/92.ipynb\" target=\"_parent\"><img src=\"https://colab.research.google.com/assets/colab-badge.svg\" alt=\"Open In Colab\"/></a>"
      ]
    },
    {
      "cell_type": "code",
      "metadata": {
        "colab": {
          "base_uri": "https://localhost:8080/"
        },
        "id": "0IDLRv1Pukmk",
        "outputId": "c9323d88-3373-4ec8-92ab-81da0dd0d43d"
      },
      "source": [
        "!date"
      ],
      "execution_count": 1,
      "outputs": [
        {
          "output_type": "stream",
          "text": [
            "Fri Dec 18 02:42:59 UTC 2020\n"
          ],
          "name": "stdout"
        }
      ]
    },
    {
      "cell_type": "code",
      "metadata": {
        "id": "i50RYU7VuomH"
      },
      "source": [
        "def arrayize_maze(string_maze): # 文字データの迷路を配列データに変換する\n",
        "    return [[str[i] for i in range(len(str))] for str in string_maze.split()]"
      ],
      "execution_count": 2,
      "outputs": []
    },
    {
      "cell_type": "code",
      "metadata": {
        "id": "wi9c-L32uuyf"
      },
      "source": [
        "def find_start_goal(maze): # 迷路のスタートとゴールの座標を同定する\n",
        "    sx = 0\n",
        "    sy = 0\n",
        "    gx = 0\n",
        "    gy = 0\n",
        "    for y in range(len(maze)):\n",
        "        for x in range(len(maze[y])):\n",
        "            if maze[y][x] == 'S':\n",
        "                sx = x\n",
        "                sy = y\n",
        "            elif maze[y][x] == 'G':\n",
        "                gx = x\n",
        "                gy = y\n",
        "    return (sx, sy, gx, gy)"
      ],
      "execution_count": 3,
      "outputs": []
    },
    {
      "cell_type": "code",
      "metadata": {
        "id": "ByDgdD2fuxMm"
      },
      "source": [
        "def solve_maze(string_maze): # 幅優先探索を使って迷路を探索する\n",
        "    maze = arrayize_maze(string_maze) # 文字列型の迷路を２次元配列型に変換する\n",
        "    moves = [(0, -1), (0, 1), (-1, 0), (1, 0)] # 順番に、上、下、左、右\n",
        "    X = len(maze[0]) # 迷路の横の長さを測る\n",
        "    Y = len(maze) # 迷路の縦の長さを測る\n",
        "    distmtx = [] # 距離行列：スタートからの最短距離（歩数）を格納する\n",
        "\n",
        "    # 距離行列の初期値として、ありえない大きな値を入れておく\n",
        "    for y in range(Y):\n",
        "        distmtx.append([X * Y for x in range(X)])\n",
        "\n",
        "    # 迷路のスタートとゴールの x座標、y座標を見つける\n",
        "    sx, sy, gx, gy = find_start_goal(maze)\n",
        "\n",
        "    queue = [] # 待ち行列\n",
        "    queue.append([sx, sy]) # 待ち行列にスタート座標を入れる\n",
        "    distmtx[sy][sx] = 0 # スタート座標の「距離」をゼロにする\n",
        "\n",
        "    while len(queue) > 0:\n",
        "        curr = queue.pop(0) # 現在位置を取得（深さ優先的に）\n",
        "        if curr[0] == gx and curr[1] == gy: # もしもゴールの座標と同一なら\n",
        "            #print(distmtx)\n",
        "            return distmtx[curr[1]][curr[0]] # スタートからゴールの距離を返す\n",
        "        for dx, dy in moves: # 次の一歩（上下左右）\n",
        "            new_x = curr[0] + dx # 次のx座標\n",
        "            new_y = curr[1] + dy # 次のy座標\n",
        "\n",
        "            # 迷路の外ではなくて（x座標）\n",
        "            # 迷路の外ではなくて（y座標）\n",
        "            # 壁ではなくて\n",
        "            # 未訪問の場合\n",
        "            if (new_x >= 0) and (new_x < X) \\\n",
        "                    and (new_y >= 0) and (new_y < Y) \\\n",
        "                    and (maze[new_y][new_x] != \"#\") \\\n",
        "                    and (distmtx[new_y][new_x] == X * Y):\n",
        "                queue.append([new_x, new_y]) # 次の座標を queue に入れる\n",
        "                # 次の座標の距離行列の値＝現在位置の距離＋１\n",
        "                distmtx[new_y][new_x] = distmtx[curr[1]][curr[0]] + 1\n",
        "    return False # もし辿り着けなかったら False"
      ],
      "execution_count": 4,
      "outputs": []
    },
    {
      "cell_type": "code",
      "metadata": {
        "id": "dU8TzXlku3sY"
      },
      "source": [
        "string_maze = \\\n",
        "    '__##_S______\\n' \\\n",
        "    '##_##____##_\\n' \\\n",
        "    '______#_____\\n' \\\n",
        "    '#_#_#______#\\n' \\\n",
        "    '__#______#_#\\n' \\\n",
        "    '#______#___#\\n' \\\n",
        "    '_#_##______#\\n' \\\n",
        "    '___###__#__G\\n' \\\n",
        "    '_###_____##_\\n' \\\n",
        "    '_#__#_______\\n'"
      ],
      "execution_count": 5,
      "outputs": []
    },
    {
      "cell_type": "code",
      "metadata": {
        "colab": {
          "base_uri": "https://localhost:8080/"
        },
        "id": "_Q1f5y7Yu7Tw",
        "outputId": "091bf2ce-8b07-4199-fa3c-3d0a1102fc43"
      },
      "source": [
        "solve_maze(string_maze)"
      ],
      "execution_count": 6,
      "outputs": [
        {
          "output_type": "execute_result",
          "data": {
            "text/plain": [
              "13"
            ]
          },
          "metadata": {
            "tags": []
          },
          "execution_count": 6
        }
      ]
    },
    {
      "cell_type": "code",
      "metadata": {
        "id": "zjiILVvQu_1j"
      },
      "source": [
        "string_maze = \\\n",
        "    '__S#__#___##\\n' \\\n",
        "    '_____#___###\\n' \\\n",
        "    '__##__#__###\\n' \\\n",
        "    '_#__##___#_#\\n' \\\n",
        "    '_###_##____#\\n' \\\n",
        "    '_____#_###__\\n' \\\n",
        "    '________#_#_\\n' \\\n",
        "    '#______#_#_#\\n' \\\n",
        "    '#___#___#___\\n' \\\n",
        "    '________#G__\\n' "
      ],
      "execution_count": 7,
      "outputs": []
    },
    {
      "cell_type": "code",
      "metadata": {
        "colab": {
          "base_uri": "https://localhost:8080/"
        },
        "id": "wZ7mGYO1vDP9",
        "outputId": "7e61c6ea-6d4e-4b5d-b619-0a1276f795db"
      },
      "source": [
        "solve_maze(string_maze)"
      ],
      "execution_count": 8,
      "outputs": [
        {
          "output_type": "execute_result",
          "data": {
            "text/plain": [
              "False"
            ]
          },
          "metadata": {
            "tags": []
          },
          "execution_count": 8
        }
      ]
    },
    {
      "cell_type": "code",
      "metadata": {
        "id": "_2on3JXQvEac"
      },
      "source": [
        "string_maze = \\\n",
        "    'S_#_##__###_\\n' \\\n",
        "    '#___#__#__##\\n' \\\n",
        "    '_##_______#_\\n' \\\n",
        "    '___##__#_##_\\n' \\\n",
        "    '___#__#_#___\\n' \\\n",
        "    '#____#____#_\\n' \\\n",
        "    '__#_##G####_\\n' \\\n",
        "    '_____##___#_\\n' \\\n",
        "    '____##__#___\\n' \\\n",
        "    '#_#____##_#_\\n' \\"
      ],
      "execution_count": 9,
      "outputs": []
    },
    {
      "cell_type": "code",
      "metadata": {
        "colab": {
          "base_uri": "https://localhost:8080/"
        },
        "id": "DOxIHujnvG4G",
        "outputId": "992401c5-0645-47e5-db44-348f1557d8d5"
      },
      "source": [
        "solve_maze(string_maze)"
      ],
      "execution_count": 10,
      "outputs": [
        {
          "output_type": "execute_result",
          "data": {
            "text/plain": [
              "38"
            ]
          },
          "metadata": {
            "tags": []
          },
          "execution_count": 10
        }
      ]
    },
    {
      "cell_type": "code",
      "metadata": {
        "id": "T1mVHpY0vIp6"
      },
      "source": [
        "# ついでに：迷路の例の作り方\n",
        "import random\n",
        "\n",
        "def generate_random_maze(X, Y):\n",
        "    t = (\"#\", \"_\", \"_\")\n",
        "    maze = []\n",
        "    for y in range(Y):\n",
        "        maze.append([random.choice(t) for x in range(X)])\n",
        "    sx = random.choice(range(X))\n",
        "    sy = random.choice(range(Y))\n",
        "    gx = random.choice(range(X))\n",
        "    gy = random.choice(range(Y))\n",
        "    while (gx - sx) < X / 2:\n",
        "        sx = random.choice(range(X))\n",
        "        gx = random.choice(range(X))\n",
        "    while (gy - sy) < Y / 2:\n",
        "        sy = random.choice(range(Y))\n",
        "        gy = random.choice(range(Y))        \n",
        "    maze[sy][sx] = 'S'\n",
        "    maze[gy][gx]= 'G'\n",
        "    return maze\n",
        "\n",
        "def stringize_maze(maze):\n",
        "    str = \"\"\n",
        "    for maz in maze:\n",
        "        str += \"\".join(maz) + \"\\n\"\n",
        "    return str"
      ],
      "execution_count": 12,
      "outputs": []
    },
    {
      "cell_type": "code",
      "metadata": {
        "colab": {
          "base_uri": "https://localhost:8080/"
        },
        "id": "K_SkzEAevUsc",
        "outputId": "0bf2aaa0-3d3e-4e56-a313-d4dfcbae56f8"
      },
      "source": [
        "string_maze = stringize_maze(generate_random_maze(12, 10))\n",
        "print(string_maze)"
      ],
      "execution_count": 22,
      "outputs": [
        {
          "output_type": "stream",
          "text": [
            "#_#S_##____#\n",
            "_______##_#_\n",
            "_#__#__#_##_\n",
            "_###__###__#\n",
            "#_#_________\n",
            "___#__#__#__\n",
            "____________\n",
            "###______#G#\n",
            "___###__#___\n",
            "_#_#________\n",
            "\n"
          ],
          "name": "stdout"
        }
      ]
    },
    {
      "cell_type": "code",
      "metadata": {
        "colab": {
          "base_uri": "https://localhost:8080/"
        },
        "id": "h4_6ldgovY7b",
        "outputId": "551e9706-7afb-4b3e-c5b6-1ea65df26093"
      },
      "source": [
        "string_maze = stringize_maze(generate_random_maze(30, 20))\n",
        "print(string_maze)"
      ],
      "execution_count": 19,
      "outputs": [
        {
          "output_type": "stream",
          "text": [
            "___#___#__#______#______#_####\n",
            "__#__#__#_#___#__###______##__\n",
            "_____#_#_#____________#_#_____\n",
            "_______##_______#_____________\n",
            "#_____#__#__#__#_#__###_#____#\n",
            "_##________#__#___####_#__##__\n",
            "__#____#___#_#_#_____#______#_\n",
            "_______##__#_________#_____#__\n",
            "_S__#_______#_____#_##__###_#_\n",
            "###_____##_____###_#____###_#_\n",
            "______##_#_#_#_____#_##_______\n",
            "_____##__#_#____#__#___##_____\n",
            "___#____###__#__##____________\n",
            "#_#__#________#______##___#_#_\n",
            "______#____##__#_##__#_##_#_#_\n",
            "###_#__#__#____###______##____\n",
            "_#_____#_##_____#_____#____#__\n",
            "##_##___#___#__#_____#_____#__\n",
            "#__#___##___#___#__#G#___##___\n",
            "_#__#_##__#_#__#_#________#___\n",
            "\n"
          ],
          "name": "stdout"
        }
      ]
    },
    {
      "cell_type": "code",
      "metadata": {
        "colab": {
          "base_uri": "https://localhost:8080/"
        },
        "id": "BeECjHv2vcLi",
        "outputId": "2c6d991c-9711-4236-a9ba-0bbe714ed0ca"
      },
      "source": [
        "!date"
      ],
      "execution_count": 20,
      "outputs": [
        {
          "output_type": "stream",
          "text": [
            "Fri Dec 18 02:47:36 UTC 2020\n"
          ],
          "name": "stdout"
        }
      ]
    },
    {
      "cell_type": "code",
      "metadata": {
        "id": "aUpdALX_vh9p"
      },
      "source": [
        ""
      ],
      "execution_count": null,
      "outputs": []
    }
  ]
}