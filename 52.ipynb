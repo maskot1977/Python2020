{
  "nbformat": 4,
  "nbformat_minor": 0,
  "metadata": {
    "colab": {
      "name": "52",
      "provenance": [],
      "collapsed_sections": [],
      "authorship_tag": "ABX9TyOxBzOUn0bjDQamsGfmf8NK",
      "include_colab_link": true
    },
    "kernelspec": {
      "name": "python3",
      "display_name": "Python 3"
    }
  },
  "cells": [
    {
      "cell_type": "markdown",
      "metadata": {
        "id": "view-in-github",
        "colab_type": "text"
      },
      "source": [
        "<a href=\"https://colab.research.google.com/github/maskot1977/Python2020/blob/1028/52.ipynb\" target=\"_parent\"><img src=\"https://colab.research.google.com/assets/colab-badge.svg\" alt=\"Open In Colab\"/></a>"
      ]
    },
    {
      "cell_type": "code",
      "metadata": {
        "id": "rv3O7b8to2fz",
        "outputId": "9e6e79e5-902b-4e6c-a196-77504f82351b",
        "colab": {
          "base_uri": "https://localhost:8080/",
          "height": 35
        }
      },
      "source": [
        "!date"
      ],
      "execution_count": 1,
      "outputs": [
        {
          "output_type": "stream",
          "text": [
            "Wed Oct 28 05:17:35 UTC 2020\n"
          ],
          "name": "stdout"
        }
      ]
    },
    {
      "cell_type": "code",
      "metadata": {
        "id": "yXwfP7XSo5MC"
      },
      "source": [
        "def question52(f, x_0, x_n, h):  \n",
        "    sum_ = 0    \n",
        "    n = int((x_n - x_0) / (h * 2))\n",
        "    for i in range (1, n + 1):\n",
        "        x_i = x_0 + (2 * i - 1) * h\n",
        "        sum_ += (f(x_i + h) + 4 * f(x_i) + f(x_i - h))\n",
        "    return sum_ * h / 3"
      ],
      "execution_count": 3,
      "outputs": []
    },
    {
      "cell_type": "code",
      "metadata": {
        "id": "9l2-VZBrpM3g"
      },
      "source": [
        "def f(x):\n",
        "    return x / ( x ** 2 + 1) "
      ],
      "execution_count": 5,
      "outputs": []
    },
    {
      "cell_type": "code",
      "metadata": {
        "id": "NIRN9apWpCjz",
        "outputId": "d9338bc0-bef6-4924-f82e-437858a0e28b",
        "colab": {
          "base_uri": "https://localhost:8080/",
          "height": 35
        }
      },
      "source": [
        "question52(f, 1, 2, 0.01)"
      ],
      "execution_count": 6,
      "outputs": [
        {
          "output_type": "execute_result",
          "data": {
            "text/plain": [
              "0.45814536585747695"
            ]
          },
          "metadata": {
            "tags": []
          },
          "execution_count": 6
        }
      ]
    },
    {
      "cell_type": "code",
      "metadata": {
        "id": "QpJeovUdpHQk",
        "outputId": "0141080d-0575-43ba-a4bf-0302208ef98a",
        "colab": {
          "base_uri": "https://localhost:8080/",
          "height": 35
        }
      },
      "source": [
        "question52(f, 1, 2, 0.001)"
      ],
      "execution_count": 7,
      "outputs": [
        {
          "output_type": "execute_result",
          "data": {
            "text/plain": [
              "0.4581453659370695"
            ]
          },
          "metadata": {
            "tags": []
          },
          "execution_count": 7
        }
      ]
    },
    {
      "cell_type": "code",
      "metadata": {
        "id": "Kr9ZzHyjpPDX",
        "outputId": "aa42f17e-ae15-425d-eb80-37f48af91338",
        "colab": {
          "base_uri": "https://localhost:8080/",
          "height": 35
        }
      },
      "source": [
        "question52(f, 1, 2, 0.0001)"
      ],
      "execution_count": 8,
      "outputs": [
        {
          "output_type": "execute_result",
          "data": {
            "text/plain": [
              "0.45814536593707933"
            ]
          },
          "metadata": {
            "tags": []
          },
          "execution_count": 8
        }
      ]
    },
    {
      "cell_type": "code",
      "metadata": {
        "id": "UDmpkMsEpRbo",
        "outputId": "10646eaf-ead3-479e-82b9-ef35227fe87f",
        "colab": {
          "base_uri": "https://localhost:8080/",
          "height": 35
        }
      },
      "source": [
        "!date"
      ],
      "execution_count": 9,
      "outputs": [
        {
          "output_type": "stream",
          "text": [
            "Wed Oct 28 05:19:05 UTC 2020\n"
          ],
          "name": "stdout"
        }
      ]
    },
    {
      "cell_type": "code",
      "metadata": {
        "id": "Gr2NAhxmpTWi"
      },
      "source": [
        ""
      ],
      "execution_count": null,
      "outputs": []
    }
  ]
}