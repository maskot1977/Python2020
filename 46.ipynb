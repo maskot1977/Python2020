{
  "nbformat": 4,
  "nbformat_minor": 0,
  "metadata": {
    "colab": {
      "name": "46",
      "provenance": [],
      "collapsed_sections": [],
      "authorship_tag": "ABX9TyMAuT8RaddtoTs68ASmElWB",
      "include_colab_link": true
    },
    "kernelspec": {
      "name": "python3",
      "display_name": "Python 3"
    }
  },
  "cells": [
    {
      "cell_type": "markdown",
      "metadata": {
        "id": "view-in-github",
        "colab_type": "text"
      },
      "source": [
        "<a href=\"https://colab.research.google.com/github/maskot1977/Python2020/blob/1019/46.ipynb\" target=\"_parent\"><img src=\"https://colab.research.google.com/assets/colab-badge.svg\" alt=\"Open In Colab\"/></a>"
      ]
    },
    {
      "cell_type": "code",
      "metadata": {
        "id": "TrRmvRLE0ZIj",
        "outputId": "8af789ee-f42e-458f-ba2c-2c34030d8614",
        "colab": {
          "base_uri": "https://localhost:8080/",
          "height": 34
        }
      },
      "source": [
        "!date"
      ],
      "execution_count": 1,
      "outputs": [
        {
          "output_type": "stream",
          "text": [
            "Mon Oct 19 07:45:20 UTC 2020\n"
          ],
          "name": "stdout"
        }
      ]
    },
    {
      "cell_type": "code",
      "metadata": {
        "id": "lvR4iQmU0b6P"
      },
      "source": [
        "from math import floor\n",
        "def question46(k, L):\n",
        "    lb = 0\n",
        "    ub = sum(L) / k\n",
        "    for _ in range(100000):\n",
        "        mid = (lb + ub) / 2\n",
        "        if get_num(mid, k, L) >= k:\n",
        "            lb = mid\n",
        "        else:\n",
        "            ub = mid\n",
        "    return floor(ub * 100) / 100"
      ],
      "execution_count": 2,
      "outputs": []
    },
    {
      "cell_type": "code",
      "metadata": {
        "id": "E3IeVx9v0gss"
      },
      "source": [
        "def get_num(x, k, L):\n",
        "    num = 0\n",
        "    for l in L:\n",
        "        num += floor(l / x)\n",
        "    return num"
      ],
      "execution_count": 3,
      "outputs": []
    },
    {
      "cell_type": "code",
      "metadata": {
        "id": "TQvNYujW0l1_"
      },
      "source": [
        "n =  3\n",
        "k =  2\n",
        "L =  [7.47, 6.66, 4.11]"
      ],
      "execution_count": 4,
      "outputs": []
    },
    {
      "cell_type": "code",
      "metadata": {
        "id": "WmU1brUg0sD4",
        "outputId": "f39e7151-4e47-4633-ed06-b4153513ca3d",
        "colab": {
          "base_uri": "https://localhost:8080/",
          "height": 34
        }
      },
      "source": [
        "question46(k, L)"
      ],
      "execution_count": 5,
      "outputs": [
        {
          "output_type": "execute_result",
          "data": {
            "text/plain": [
              "6.66"
            ]
          },
          "metadata": {
            "tags": []
          },
          "execution_count": 5
        }
      ]
    },
    {
      "cell_type": "code",
      "metadata": {
        "id": "xLPMDTkM0tzc"
      },
      "source": [
        "n =  4\n",
        "k =  5\n",
        "L =  [2.86, 2.69, 2.05, 5.23]"
      ],
      "execution_count": 6,
      "outputs": []
    },
    {
      "cell_type": "code",
      "metadata": {
        "id": "F_SjRqwy0vln",
        "outputId": "10524a3d-d1f2-4087-9d3d-a59f7d913894",
        "colab": {
          "base_uri": "https://localhost:8080/",
          "height": 34
        }
      },
      "source": [
        "question46(k, L)"
      ],
      "execution_count": 7,
      "outputs": [
        {
          "output_type": "execute_result",
          "data": {
            "text/plain": [
              "2.05"
            ]
          },
          "metadata": {
            "tags": []
          },
          "execution_count": 7
        }
      ]
    },
    {
      "cell_type": "code",
      "metadata": {
        "id": "5XVFLFO90xDa"
      },
      "source": [
        "n =  5\n",
        "k =  9\n",
        "L =  [6.33, 3.18, 6.92, 9.38, 8.96]"
      ],
      "execution_count": 8,
      "outputs": []
    },
    {
      "cell_type": "code",
      "metadata": {
        "id": "LJmY7Ssq0ylh",
        "outputId": "1f58608d-2b88-43b9-8bcc-3127f8b13086",
        "colab": {
          "base_uri": "https://localhost:8080/",
          "height": 34
        }
      },
      "source": [
        "question46(k, L)"
      ],
      "execution_count": 9,
      "outputs": [
        {
          "output_type": "execute_result",
          "data": {
            "text/plain": [
              "3.16"
            ]
          },
          "metadata": {
            "tags": []
          },
          "execution_count": 9
        }
      ]
    },
    {
      "cell_type": "code",
      "metadata": {
        "id": "xCCMftcN00kM",
        "outputId": "608ffd80-025e-4f15-b6fa-bc93752d14fe",
        "colab": {
          "base_uri": "https://localhost:8080/",
          "height": 34
        }
      },
      "source": [
        "!date"
      ],
      "execution_count": 10,
      "outputs": [
        {
          "output_type": "stream",
          "text": [
            "Mon Oct 19 07:46:59 UTC 2020\n"
          ],
          "name": "stdout"
        }
      ]
    },
    {
      "cell_type": "code",
      "metadata": {
        "id": "2LAeJYb8013J"
      },
      "source": [
        ""
      ],
      "execution_count": null,
      "outputs": []
    }
  ]
}