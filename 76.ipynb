{
  "nbformat": 4,
  "nbformat_minor": 0,
  "metadata": {
    "colab": {
      "name": "76",
      "provenance": [],
      "collapsed_sections": [],
      "authorship_tag": "ABX9TyN6lwrXxrhF3exisyRyJx9w",
      "include_colab_link": true
    },
    "kernelspec": {
      "name": "python3",
      "display_name": "Python 3"
    }
  },
  "cells": [
    {
      "cell_type": "markdown",
      "metadata": {
        "id": "view-in-github",
        "colab_type": "text"
      },
      "source": [
        "<a href=\"https://colab.research.google.com/github/maskot1977/Python2020/blob/1202/76.ipynb\" target=\"_parent\"><img src=\"https://colab.research.google.com/assets/colab-badge.svg\" alt=\"Open In Colab\"/></a>"
      ]
    },
    {
      "cell_type": "code",
      "metadata": {
        "colab": {
          "base_uri": "https://localhost:8080/"
        },
        "id": "UBLaV81xMOGg",
        "outputId": "9953311c-637a-4c06-ed91-92b010f3ad75"
      },
      "source": [
        "!date"
      ],
      "execution_count": 1,
      "outputs": [
        {
          "output_type": "stream",
          "text": [
            "Wed Dec  2 06:48:57 UTC 2020\n"
          ],
          "name": "stdout"
        }
      ]
    },
    {
      "cell_type": "code",
      "metadata": {
        "colab": {
          "base_uri": "https://localhost:8080/"
        },
        "id": "KicCJMgDMQ0Q",
        "outputId": "9e25e1b7-b339-4d96-b473-58f9e9149322"
      },
      "source": [
        "!pip install sympy==1.3"
      ],
      "execution_count": 2,
      "outputs": [
        {
          "output_type": "stream",
          "text": [
            "Collecting sympy==1.3\n",
            "\u001b[?25l  Downloading https://files.pythonhosted.org/packages/dd/f6/ed485ff22efdd7b371d0dbbf6d77ad61c3b3b7e0815a83c89cbb38ce35de/sympy-1.3.tar.gz (5.9MB)\n",
            "\u001b[K     |████████████████████████████████| 5.9MB 8.5MB/s \n",
            "\u001b[?25hRequirement already satisfied: mpmath>=0.19 in /usr/local/lib/python3.6/dist-packages (from sympy==1.3) (1.1.0)\n",
            "Building wheels for collected packages: sympy\n",
            "  Building wheel for sympy (setup.py) ... \u001b[?25l\u001b[?25hdone\n",
            "  Created wheel for sympy: filename=sympy-1.3-cp36-none-any.whl size=5199946 sha256=d47153b2f60c29fcc7269e2abe2b3a02c233435e0e581ff43d47cf537e1ff35f\n",
            "  Stored in directory: /root/.cache/pip/wheels/6c/59/86/478e3c0f298368c119095cc5985dedac57c0e35a85c737f823\n",
            "Successfully built sympy\n",
            "Installing collected packages: sympy\n",
            "  Found existing installation: sympy 1.1.1\n",
            "    Uninstalling sympy-1.1.1:\n",
            "      Successfully uninstalled sympy-1.1.1\n",
            "Successfully installed sympy-1.3\n"
          ],
          "name": "stdout"
        }
      ]
    },
    {
      "cell_type": "code",
      "metadata": {
        "id": "8pF1bVoeMSdt"
      },
      "source": [
        "import sympy as sym\n",
        "from sympy.plotting import plot\n",
        "sym.init_printing(use_unicode=True)\n",
        "%matplotlib inline"
      ],
      "execution_count": 3,
      "outputs": []
    },
    {
      "cell_type": "code",
      "metadata": {
        "id": "e7LnE9hPMbTF"
      },
      "source": [
        "def custom_latex_printer(exp,**options):\n",
        "    from google.colab.output._publish import javascript\n",
        "    url = \"https://cdnjs.cloudflare.com/ajax/libs/mathjax/2.7.3/latest.js?config=default\"\n",
        "    javascript(url=url)\n",
        "    return sym.printing.latex(exp,**options)\n",
        "\n",
        "sym.init_printing(use_latex=\"mathjax\",latex_printer=custom_latex_printer)"
      ],
      "execution_count": 4,
      "outputs": []
    },
    {
      "cell_type": "code",
      "metadata": {
        "id": "uAytFe0KMdrS"
      },
      "source": [
        "a, b, c, x, y = sym.symbols(\"a b c x y\")"
      ],
      "execution_count": 5,
      "outputs": []
    },
    {
      "cell_type": "code",
      "metadata": {
        "id": "5oFfK9NPMoLW"
      },
      "source": [
        "f = sym.Function('f')\n",
        "g = sym.Function('g')"
      ],
      "execution_count": 6,
      "outputs": []
    },
    {
      "cell_type": "code",
      "metadata": {
        "colab": {
          "base_uri": "https://localhost:8080/",
          "height": 41
        },
        "id": "X0tl6zk-Mp2t",
        "outputId": "d9d13202-0ad5-4796-8706-b1a346d611f0"
      },
      "source": [
        "eq = sym.Eq(f(x).diff(x,2) + f(x).diff(x,1) + 4 * f(x))\n",
        "eq"
      ],
      "execution_count": 7,
      "outputs": [
        {
          "output_type": "display_data",
          "data": {
            "text/html": [
              "<script src='https://cdnjs.cloudflare.com/ajax/libs/mathjax/2.7.3/latest.js?config=default'></script>"
            ],
            "text/plain": [
              "<IPython.core.display.HTML object>"
            ]
          },
          "metadata": {
            "tags": []
          }
        },
        {
          "output_type": "execute_result",
          "data": {
            "text/latex": "$$4 f{\\left (x \\right )} + \\frac{d}{d x} f{\\left (x \\right )} + \\frac{d^{2}}{d x^{2}} f{\\left (x \\right )} = 0$$",
            "text/plain": [
              "                      2          \n",
              "         d           d           \n",
              "4⋅f(x) + ──(f(x)) + ───(f(x)) = 0\n",
              "         dx           2          \n",
              "                    dx           "
            ]
          },
          "metadata": {
            "tags": []
          },
          "execution_count": 7
        }
      ]
    },
    {
      "cell_type": "code",
      "metadata": {
        "colab": {
          "base_uri": "https://localhost:8080/",
          "height": 52
        },
        "id": "MfPeL1BwMrtJ",
        "outputId": "a309f357-d25c-4445-e2da-1998cdfefa1a"
      },
      "source": [
        "ans = sym.dsolve(eq)\n",
        "ans"
      ],
      "execution_count": 8,
      "outputs": [
        {
          "output_type": "display_data",
          "data": {
            "text/html": [
              "<script src='https://cdnjs.cloudflare.com/ajax/libs/mathjax/2.7.3/latest.js?config=default'></script>"
            ],
            "text/plain": [
              "<IPython.core.display.HTML object>"
            ]
          },
          "metadata": {
            "tags": []
          }
        },
        {
          "output_type": "execute_result",
          "data": {
            "text/latex": "$$f{\\left (x \\right )} = \\frac{C_{1} \\sin{\\left (\\frac{\\sqrt{15} x}{2} \\right )} + C_{2} \\cos{\\left (\\frac{\\sqrt{15} x}{2} \\right )}}{\\sqrt{e^{x}}}$$",
            "text/plain": [
              "             ⎛√15⋅x⎞         ⎛√15⋅x⎞\n",
              "       C₁⋅sin⎜─────⎟ + C₂⋅cos⎜─────⎟\n",
              "             ⎝  2  ⎠         ⎝  2  ⎠\n",
              "f(x) = ─────────────────────────────\n",
              "                     ____           \n",
              "                    ╱  x            \n",
              "                  ╲╱  ℯ             "
            ]
          },
          "metadata": {
            "tags": []
          },
          "execution_count": 8
        }
      ]
    },
    {
      "cell_type": "code",
      "metadata": {
        "colab": {
          "base_uri": "https://localhost:8080/",
          "height": 63
        },
        "id": "rqZ4mK7ZMwoN",
        "outputId": "b0a63081-3d70-4c0e-f821-07db2d6f3996"
      },
      "source": [
        "ans = sym.dsolve(eq, ics={f(0):1, f(x).diff(x,1).subs(x,0):1})\n",
        "ans"
      ],
      "execution_count": 9,
      "outputs": [
        {
          "output_type": "display_data",
          "data": {
            "text/html": [
              "<script src='https://cdnjs.cloudflare.com/ajax/libs/mathjax/2.7.3/latest.js?config=default'></script>"
            ],
            "text/plain": [
              "<IPython.core.display.HTML object>"
            ]
          },
          "metadata": {
            "tags": []
          }
        },
        {
          "output_type": "execute_result",
          "data": {
            "text/latex": "$$f{\\left (x \\right )} = \\frac{\\frac{\\sqrt{15} \\sin{\\left (\\frac{\\sqrt{15} x}{2} \\right )}}{5} + \\cos{\\left (\\frac{\\sqrt{15} x}{2} \\right )}}{\\sqrt{e^{x}}}$$",
            "text/plain": [
              "              ⎛√15⋅x⎞             \n",
              "       √15⋅sin⎜─────⎟             \n",
              "              ⎝  2  ⎠      ⎛√15⋅x⎞\n",
              "       ────────────── + cos⎜─────⎟\n",
              "             5             ⎝  2  ⎠\n",
              "f(x) = ───────────────────────────\n",
              "                    ____          \n",
              "                   ╱  x           \n",
              "                 ╲╱  ℯ            "
            ]
          },
          "metadata": {
            "tags": []
          },
          "execution_count": 9
        }
      ]
    },
    {
      "cell_type": "code",
      "metadata": {
        "colab": {
          "base_uri": "https://localhost:8080/",
          "height": 50
        },
        "id": "ZuYPOvfBMzuF",
        "outputId": "7394eef4-3efc-4e7e-eb34-cd303b519c3c"
      },
      "source": [
        "ans = ans.subs(x, 2)\n",
        "ans"
      ],
      "execution_count": 10,
      "outputs": [
        {
          "output_type": "display_data",
          "data": {
            "text/html": [
              "<script src='https://cdnjs.cloudflare.com/ajax/libs/mathjax/2.7.3/latest.js?config=default'></script>"
            ],
            "text/plain": [
              "<IPython.core.display.HTML object>"
            ]
          },
          "metadata": {
            "tags": []
          }
        },
        {
          "output_type": "execute_result",
          "data": {
            "text/latex": "$$f{\\left (2 \\right )} = \\frac{\\cos{\\left (\\sqrt{15} \\right )} + \\frac{\\sqrt{15} \\sin{\\left (\\sqrt{15} \\right )}}{5}}{e}$$",
            "text/plain": [
              "       ⎛           √15⋅sin(√15)⎞  -1\n",
              "f(2) = ⎜cos(√15) + ────────────⎟⋅ℯ  \n",
              "       ⎝                5      ⎠    "
            ]
          },
          "metadata": {
            "tags": []
          },
          "execution_count": 10
        }
      ]
    },
    {
      "cell_type": "code",
      "metadata": {
        "colab": {
          "base_uri": "https://localhost:8080/",
          "height": 39
        },
        "id": "Yf8Sy0sYNQEH",
        "outputId": "2dddf1c1-2778-49df-fdf1-6b8e89b39408"
      },
      "source": [
        "ans.evalf()"
      ],
      "execution_count": 11,
      "outputs": [
        {
          "output_type": "display_data",
          "data": {
            "text/html": [
              "<script src='https://cdnjs.cloudflare.com/ajax/libs/mathjax/2.7.3/latest.js?config=default'></script>"
            ],
            "text/plain": [
              "<IPython.core.display.HTML object>"
            ]
          },
          "metadata": {
            "tags": []
          }
        },
        {
          "output_type": "execute_result",
          "data": {
            "text/latex": "$$f{\\left (2 \\right )} = -0.464117987187922$$",
            "text/plain": [
              "f(2) = -0.464117987187922"
            ]
          },
          "metadata": {
            "tags": []
          },
          "execution_count": 11
        }
      ]
    },
    {
      "cell_type": "code",
      "metadata": {
        "colab": {
          "base_uri": "https://localhost:8080/"
        },
        "id": "oRmO7mRiM3d2",
        "outputId": "0b3c8294-eda9-4722-cd2d-993c417c4ff5"
      },
      "source": [
        "!date"
      ],
      "execution_count": 12,
      "outputs": [
        {
          "output_type": "stream",
          "text": [
            "Wed Dec  2 06:49:19 UTC 2020\n"
          ],
          "name": "stdout"
        }
      ]
    },
    {
      "cell_type": "code",
      "metadata": {
        "id": "sUAqIyJuM5Se"
      },
      "source": [
        ""
      ],
      "execution_count": 12,
      "outputs": []
    }
  ]
}