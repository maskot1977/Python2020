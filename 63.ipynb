{
  "nbformat": 4,
  "nbformat_minor": 0,
  "metadata": {
    "colab": {
      "name": "63",
      "provenance": [],
      "authorship_tag": "ABX9TyMdfS4WC+qxa8fO6u5FV+8y",
      "include_colab_link": true
    },
    "kernelspec": {
      "name": "python3",
      "display_name": "Python 3"
    }
  },
  "cells": [
    {
      "cell_type": "markdown",
      "metadata": {
        "id": "view-in-github",
        "colab_type": "text"
      },
      "source": [
        "<a href=\"https://colab.research.google.com/github/maskot1977/Python2020/blob/1104/63.ipynb\" target=\"_parent\"><img src=\"https://colab.research.google.com/assets/colab-badge.svg\" alt=\"Open In Colab\"/></a>"
      ]
    },
    {
      "cell_type": "code",
      "metadata": {
        "colab": {
          "base_uri": "https://localhost:8080/"
        },
        "id": "JY9SuQ2dv-d-",
        "outputId": "4bc38c51-4bf4-4669-8fdc-7ed557547df9"
      },
      "source": [
        "!date"
      ],
      "execution_count": 1,
      "outputs": [
        {
          "output_type": "stream",
          "text": [
            "Thu Nov 19 04:30:17 UTC 2020\n"
          ],
          "name": "stdout"
        }
      ]
    },
    {
      "cell_type": "code",
      "metadata": {
        "colab": {
          "base_uri": "https://localhost:8080/",
          "height": 265
        },
        "id": "GRxymJWywBJi",
        "outputId": "51ab5aa7-3b2b-4ad0-bc24-ab1c3244abfc"
      },
      "source": [
        "%matplotlib inline\n",
        "import matplotlib.pyplot as plt\n",
        "import numpy as np\n",
        "import random\n",
        "\n",
        "sample_size = 10000 # 乱数発生回数\n",
        "\n",
        "dist = [random.normalvariate(mu=0, sigma=1) for i in range(sample_size)]\n",
        "\n",
        "# ヒストグラムを描く。\n",
        "plt.hist(dist, bins=50)\n",
        "plt.grid()\n",
        "plt.show()"
      ],
      "execution_count": 2,
      "outputs": [
        {
          "output_type": "display_data",
          "data": {
            "image/png": "[encoded data removed]",
            "text/plain": [
              "<Figure size 432x288 with 1 Axes>"
            ]
          },
          "metadata": {
            "tags": [],
            "needs_background": "light"
          }
        }
      ]
    },
    {
      "cell_type": "code",
      "metadata": {
        "colab": {
          "base_uri": "https://localhost:8080/"
        },
        "id": "gMpDhBpgwZxv",
        "outputId": "4a4b0d22-8ba3-48b5-ebef-01d1c82f080f"
      },
      "source": [
        "p = sum([1 for n in dist if n >= 2]) / sample_size\n",
        "print(\"p値\", p)"
      ],
      "execution_count": 3,
      "outputs": [
        {
          "output_type": "stream",
          "text": [
            "p値 0.0219\n"
          ],
          "name": "stdout"
        }
      ]
    },
    {
      "cell_type": "code",
      "metadata": {
        "colab": {
          "base_uri": "https://localhost:8080/",
          "height": 265
        },
        "id": "zYEQrR37woui",
        "outputId": "8f883240-d115-428f-cc86-ec7a226cadd0"
      },
      "source": [
        "sample_size = 10000 # 乱数発生回数\n",
        "\n",
        "# 確率pで奇数が出る（確率1-pで偶数が出る）ルーレットをn回プレイしたときに、\n",
        "# 奇数が出る回数の分布\n",
        "dist = [random.normalvariate(mu=50, sigma=10) for i in range(sample_size)]\n",
        "\n",
        "# ヒストグラムを描く。\n",
        "plt.hist(dist, bins=50)\n",
        "plt.grid()\n",
        "plt.show()"
      ],
      "execution_count": 4,
      "outputs": [
        {
          "output_type": "display_data",
          "data": {
            "image/png": "[encoded data removed]",
            "text/plain": [
              "<Figure size 432x288 with 1 Axes>"
            ]
          },
          "metadata": {
            "tags": [],
            "needs_background": "light"
          }
        }
      ]
    },
    {
      "cell_type": "code",
      "metadata": {
        "colab": {
          "base_uri": "https://localhost:8080/"
        },
        "id": "ai_q3W8swuwP",
        "outputId": "5b84fce0-6846-4900-b4d7-74f15d7f4740"
      },
      "source": [
        "sum([1 for n in dist if n >= 70])"
      ],
      "execution_count": 5,
      "outputs": [
        {
          "output_type": "execute_result",
          "data": {
            "text/plain": [
              "235"
            ]
          },
          "metadata": {
            "tags": []
          },
          "execution_count": 5
        }
      ]
    },
    {
      "cell_type": "code",
      "metadata": {
        "colab": {
          "base_uri": "https://localhost:8080/"
        },
        "id": "ZoroDPpgw10Z",
        "outputId": "9e219fc7-a1e3-472c-d592-9e1907fafb05"
      },
      "source": [
        "!date"
      ],
      "execution_count": 6,
      "outputs": [
        {
          "output_type": "stream",
          "text": [
            "Thu Nov 19 04:30:18 UTC 2020\n"
          ],
          "name": "stdout"
        }
      ]
    },
    {
      "cell_type": "code",
      "metadata": {
        "id": "SFjCbEiOxC6s"
      },
      "source": [
        ""
      ],
      "execution_count": 6,
      "outputs": []
    }
  ]
}