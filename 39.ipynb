{
  "nbformat": 4,
  "nbformat_minor": 0,
  "metadata": {
    "colab": {
      "name": "39",
      "provenance": [],
      "collapsed_sections": [],
      "authorship_tag": "ABX9TyN51HSS/a0opAJhrYlJ8jda",
      "include_colab_link": true
    },
    "kernelspec": {
      "name": "python3",
      "display_name": "Python 3"
    }
  },
  "cells": [
    {
      "cell_type": "markdown",
      "metadata": {
        "id": "view-in-github",
        "colab_type": "text"
      },
      "source": [
        "<a href=\"https://colab.research.google.com/github/maskot1977/Python2020/blob/1016/39.ipynb\" target=\"_parent\"><img src=\"https://colab.research.google.com/assets/colab-badge.svg\" alt=\"Open In Colab\"/></a>"
      ]
    },
    {
      "cell_type": "code",
      "metadata": {
        "id": "a_SQWVeZ1LUk",
        "outputId": "d2737083-a375-42f1-c4af-2bfa0a8145f2",
        "colab": {
          "base_uri": "https://localhost:8080/",
          "height": 34
        }
      },
      "source": [
        "!date"
      ],
      "execution_count": 1,
      "outputs": [
        {
          "output_type": "stream",
          "text": [
            "Fri Oct 16 05:33:59 UTC 2020\n"
          ],
          "name": "stdout"
        }
      ]
    },
    {
      "cell_type": "code",
      "metadata": {
        "id": "DMn-tqm91778"
      },
      "source": [
        "import math\n",
        "def rotation(x, t, deg = False):\n",
        "    if deg == True:\n",
        "        t = t * math.pi / 180\n",
        "    a = [[math.cos(t), -math.sin(t)],\n",
        "         [math.sin(t),  math.cos(t)]]\n",
        "    ax = [x[0] * a[0][0] + x[1] * a[0][1], x[0] * a[1][0] + x[1] * a[1][1]]\n",
        "    return ax"
      ],
      "execution_count": 2,
      "outputs": []
    },
    {
      "cell_type": "code",
      "metadata": {
        "id": "9-mWBwfV4WHo"
      },
      "source": [
        "P = [1, 0]\n",
        "t = 45"
      ],
      "execution_count": 3,
      "outputs": []
    },
    {
      "cell_type": "code",
      "metadata": {
        "id": "kI32hk024X6o",
        "outputId": "53da0437-acb8-4e4d-c86b-246c62d48590",
        "colab": {
          "base_uri": "https://localhost:8080/",
          "height": 34
        }
      },
      "source": [
        "rotation(P, t)"
      ],
      "execution_count": 4,
      "outputs": [
        {
          "output_type": "execute_result",
          "data": {
            "text/plain": [
              "[0.5253219888177297, 0.8509035245341184]"
            ]
          },
          "metadata": {
            "tags": []
          },
          "execution_count": 4
        }
      ]
    },
    {
      "cell_type": "code",
      "metadata": {
        "id": "E4BFvXh65V_V"
      },
      "source": [
        "P = [0, 1]\n",
        "t = 30"
      ],
      "execution_count": 5,
      "outputs": []
    },
    {
      "cell_type": "code",
      "metadata": {
        "id": "a-ySd5ej5YHq",
        "outputId": "b294b8b9-5482-4a89-c3d9-3d5e237dcc6d",
        "colab": {
          "base_uri": "https://localhost:8080/",
          "height": 34
        }
      },
      "source": [
        "rotation(P, t)"
      ],
      "execution_count": 6,
      "outputs": [
        {
          "output_type": "execute_result",
          "data": {
            "text/plain": [
              "[0.9880316240928618, 0.15425144988758405]"
            ]
          },
          "metadata": {
            "tags": []
          },
          "execution_count": 6
        }
      ]
    },
    {
      "cell_type": "code",
      "metadata": {
        "id": "bnhREd-e1NrK"
      },
      "source": [
        "import numpy as np\n",
        "def rotation(x, t, deg = False):\n",
        "    if deg == True:\n",
        "        t = np.deg2rad(t)\n",
        "    a = np.array([[np.cos(t), -np.sin(t)],\n",
        "                  [np.sin(t),  np.cos(t)]])\n",
        "    ax = np.dot(a, x)        \n",
        "    return ax"
      ],
      "execution_count": 7,
      "outputs": []
    },
    {
      "cell_type": "code",
      "metadata": {
        "id": "aiBP_kjH1VEJ"
      },
      "source": [
        "P = [1, 0]\n",
        "t = 45"
      ],
      "execution_count": 8,
      "outputs": []
    },
    {
      "cell_type": "code",
      "metadata": {
        "id": "r7WM5odK1ab9",
        "outputId": "2d4347c4-64a4-4f76-c8dc-9684fdb3eb61",
        "colab": {
          "base_uri": "https://localhost:8080/",
          "height": 34
        }
      },
      "source": [
        "rotation(P, t)"
      ],
      "execution_count": 9,
      "outputs": [
        {
          "output_type": "execute_result",
          "data": {
            "text/plain": [
              "array([0.52532199, 0.85090352])"
            ]
          },
          "metadata": {
            "tags": []
          },
          "execution_count": 9
        }
      ]
    },
    {
      "cell_type": "code",
      "metadata": {
        "id": "ayOnha9h1fqs"
      },
      "source": [
        "P = [0, 1]\n",
        "t = 30"
      ],
      "execution_count": 10,
      "outputs": []
    },
    {
      "cell_type": "code",
      "metadata": {
        "id": "t2KuIOBq14z6",
        "outputId": "908c05e6-8b20-424e-c56c-df3b3d7b3d7a",
        "colab": {
          "base_uri": "https://localhost:8080/",
          "height": 34
        }
      },
      "source": [
        "rotation(P, t)"
      ],
      "execution_count": 11,
      "outputs": [
        {
          "output_type": "execute_result",
          "data": {
            "text/plain": [
              "array([0.98803162, 0.15425145])"
            ]
          },
          "metadata": {
            "tags": []
          },
          "execution_count": 11
        }
      ]
    },
    {
      "cell_type": "code",
      "metadata": {
        "id": "ZqhRka5f15rF",
        "outputId": "5feb4455-3f2b-428c-a8fa-eae4512c5101",
        "colab": {
          "base_uri": "https://localhost:8080/",
          "height": 34
        }
      },
      "source": [
        "!date"
      ],
      "execution_count": 12,
      "outputs": [
        {
          "output_type": "stream",
          "text": [
            "Fri Oct 16 05:34:13 UTC 2020\n"
          ],
          "name": "stdout"
        }
      ]
    },
    {
      "cell_type": "code",
      "metadata": {
        "id": "FstWB5Up5r1B"
      },
      "source": [
        ""
      ],
      "execution_count": null,
      "outputs": []
    }
  ]
}