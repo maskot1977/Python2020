{
  "nbformat": 4,
  "nbformat_minor": 0,
  "metadata": {
    "colab": {
      "name": "75",
      "provenance": [],
      "collapsed_sections": [],
      "authorship_tag": "ABX9TyOXKLNzV8nGXlSGsBHPewJH",
      "include_colab_link": true
    },
    "kernelspec": {
      "name": "python3",
      "display_name": "Python 3"
    }
  },
  "cells": [
    {
      "cell_type": "markdown",
      "metadata": {
        "id": "view-in-github",
        "colab_type": "text"
      },
      "source": [
        "<a href=\"https://colab.research.google.com/github/maskot1977/Python2020/blob/1202/75.ipynb\" target=\"_parent\"><img src=\"https://colab.research.google.com/assets/colab-badge.svg\" alt=\"Open In Colab\"/></a>"
      ]
    },
    {
      "cell_type": "code",
      "metadata": {
        "colab": {
          "base_uri": "https://localhost:8080/"
        },
        "id": "B9o5GoXtlZ4E",
        "outputId": "d0a1d1a6-9bfd-44ee-83e4-fdcc88421b3f"
      },
      "source": [
        "!date"
      ],
      "execution_count": 1,
      "outputs": [
        {
          "output_type": "stream",
          "text": [
            "Mon Jan  4 03:52:42 UTC 2021\n"
          ],
          "name": "stdout"
        }
      ]
    },
    {
      "cell_type": "code",
      "metadata": {
        "colab": {
          "base_uri": "https://localhost:8080/"
        },
        "id": "ddQ6madUieKx",
        "outputId": "15a78798-db14-4d1d-d8a4-7e9210a99d28"
      },
      "source": [
        "import gspread\n",
        "print(gspread.__version__)"
      ],
      "execution_count": 2,
      "outputs": [
        {
          "output_type": "stream",
          "text": [
            "3.0.1\n"
          ],
          "name": "stdout"
        }
      ]
    },
    {
      "cell_type": "code",
      "metadata": {
        "id": "xYPfuZhkivw5"
      },
      "source": [
        "from google.colab import auth\n",
        "from oauth2client.client import GoogleCredentials\n",
        "import gspread\n",
        "\n",
        "auth.authenticate_user()\n",
        "gc = gspread.authorize(GoogleCredentials.get_application_default())"
      ],
      "execution_count": 3,
      "outputs": []
    },
    {
      "cell_type": "code",
      "metadata": {
        "id": "wQhZ33LljjdU"
      },
      "source": [
        "ss_url = \"https://docs.google.com/spreadsheets/d/1u50kS8Ztmgjjs--S1AM4753quL3QEPRR7xIGjCxcSCw/edit#gid=941271295\""
      ],
      "execution_count": 4,
      "outputs": []
    },
    {
      "cell_type": "code",
      "metadata": {
        "colab": {
          "base_uri": "https://localhost:8080/"
        },
        "id": "PI6xt6YJjm63",
        "outputId": "c1371d3c-0825-46a7-9be8-ad1cdc118ceb"
      },
      "source": [
        "workbook = gc.open_by_url(ss_url)\n",
        "workbook"
      ],
      "execution_count": 5,
      "outputs": [
        {
          "output_type": "execute_result",
          "data": {
            "text/plain": [
              "<Spreadsheet 'Questionary' id:1u50kS8Ztmgjjs--S1AM4753quL3QEPRR7xIGjCxcSCw>"
            ]
          },
          "metadata": {
            "tags": []
          },
          "execution_count": 5
        }
      ]
    },
    {
      "cell_type": "code",
      "metadata": {
        "colab": {
          "base_uri": "https://localhost:8080/"
        },
        "id": "2dOVDNOYjpmh",
        "outputId": "7c9745c9-0b44-44e9-c25a-66b9e2c0f605"
      },
      "source": [
        "worksheet = workbook.get_worksheet(0)\n",
        "worksheet"
      ],
      "execution_count": 6,
      "outputs": [
        {
          "output_type": "execute_result",
          "data": {
            "text/plain": [
              "<Worksheet 'Form Responses 1' id:941271295>"
            ]
          },
          "metadata": {
            "tags": []
          },
          "execution_count": 6
        }
      ]
    },
    {
      "cell_type": "code",
      "metadata": {
        "colab": {
          "base_uri": "https://localhost:8080/",
          "height": 890
        },
        "id": "Q8_iSXQxj6qZ",
        "outputId": "3089c703-fa6a-4356-eea5-7253c771ca56"
      },
      "source": [
        "import gspread_dataframe as gs_df\n",
        "df = gs_df.get_as_dataframe(worksheet)\n",
        "df"
      ],
      "execution_count": 7,
      "outputs": [
        {
          "output_type": "execute_result",
          "data": {
            "text/html": [
              "<div>\n",
              "<style scoped>\n",
              "    .dataframe tbody tr th:only-of-type {\n",
              "        vertical-align: middle;\n",
              "    }\n",
              "\n",
              "    .dataframe tbody tr th {\n",
              "        vertical-align: top;\n",
              "    }\n",
              "\n",
              "    .dataframe thead th {\n",
              "        text-align: right;\n",
              "    }\n",
              "</style>\n",
              "<table border=\"1\" class=\"dataframe\">\n",
              "  <thead>\n",
              "    <tr style=\"text-align: right;\">\n",
              "      <th></th>\n",
              "      <th>Timestamp</th>\n",
              "      <th>Score</th>\n",
              "      <th>Pen name</th>\n",
              "      <th>Q1. Gender</th>\n",
              "      <th>Q2. 高校時代の英語の偏差値はどのくらい？</th>\n",
              "      <th>Q3. 高校時代の国語の偏差値はどのくらい？</th>\n",
              "      <th>Q4. 高校時代の数学の偏差値はどのくらい？</th>\n",
              "      <th>Q5. 高校時代の理科の偏差値はどのくらい？</th>\n",
              "      <th>Q6. 高校時代の社会の偏差値はどのくらい？</th>\n",
              "      <th>Q7. 高校時代の体育の成績を５段階評価で表すと？</th>\n",
              "      <th>Q8. 高校時代、勉強がどのくらい好きだったか５段階評価で</th>\n",
              "      <th>Q9. 浪人経験はありますか？</th>\n",
              "      <th>Q10. 今の大学は第一希望でしたか？</th>\n",
              "      <th>Q11. 今、実家暮らし？一人暮らし？</th>\n",
              "      <th>Q12. 大学への通学時間は？（単位：分）</th>\n",
              "      <th>Q13. 朝ごはんは週何回くらい食べてる？</th>\n",
              "      <th>Q14. １日あたりの睡眠時間は平均何時間？</th>\n",
              "      <th>Q15. 大学の成績(GPA)は？</th>\n",
              "      <th>Q16. 今、バイトは週何時間くらい？</th>\n",
              "      <th>Q17. 部活（またはサークル活動）は週何時間？</th>\n",
              "      <th>Q18. 彼氏または彼女はいる？</th>\n",
              "      <th>Q19. あなたはリア充ですか？５段階評価で</th>\n",
              "      <th>Unnamed: 22</th>\n",
              "      <th>Q20. 上記以外に、加えて欲しい質問項目などがありましたら教えてください。</th>\n",
              "    </tr>\n",
              "  </thead>\n",
              "  <tbody>\n",
              "    <tr>\n",
              "      <th>0</th>\n",
              "      <td>5/18/2017 13:28:25</td>\n",
              "      <td>0.0</td>\n",
              "      <td>pp</td>\n",
              "      <td>男性 Male</td>\n",
              "      <td>50.0</td>\n",
              "      <td>50.0</td>\n",
              "      <td>55.0</td>\n",
              "      <td>60.0</td>\n",
              "      <td>60.0</td>\n",
              "      <td>4.0</td>\n",
              "      <td>3.0</td>\n",
              "      <td>ない（現役合格）</td>\n",
              "      <td>第二希望</td>\n",
              "      <td>実家</td>\n",
              "      <td>60.0</td>\n",
              "      <td>7.0</td>\n",
              "      <td>6.0</td>\n",
              "      <td>2.8</td>\n",
              "      <td>4.0</td>\n",
              "      <td>20.0</td>\n",
              "      <td>いる（２次元）</td>\n",
              "      <td>2.0</td>\n",
              "      <td>NaN</td>\n",
              "      <td>NaN</td>\n",
              "    </tr>\n",
              "    <tr>\n",
              "      <th>1</th>\n",
              "      <td>5/18/2017 13:28:37</td>\n",
              "      <td>0.0</td>\n",
              "      <td>chimp</td>\n",
              "      <td>男性 Male</td>\n",
              "      <td>70.0</td>\n",
              "      <td>60.0</td>\n",
              "      <td>70.0</td>\n",
              "      <td>70.0</td>\n",
              "      <td>60.0</td>\n",
              "      <td>4.0</td>\n",
              "      <td>3.0</td>\n",
              "      <td>ない（現役合格）</td>\n",
              "      <td>第一希望</td>\n",
              "      <td>実家</td>\n",
              "      <td>90.0</td>\n",
              "      <td>7.0</td>\n",
              "      <td>5.0</td>\n",
              "      <td>3.2</td>\n",
              "      <td>6.5</td>\n",
              "      <td>6.0</td>\n",
              "      <td>いない</td>\n",
              "      <td>1.0</td>\n",
              "      <td>NaN</td>\n",
              "      <td>NaN</td>\n",
              "    </tr>\n",
              "    <tr>\n",
              "      <th>2</th>\n",
              "      <td>5/18/2017 13:37:00</td>\n",
              "      <td>0.0</td>\n",
              "      <td>あんぱん</td>\n",
              "      <td>男性 Male</td>\n",
              "      <td>80.0</td>\n",
              "      <td>70.0</td>\n",
              "      <td>65.0</td>\n",
              "      <td>70.0</td>\n",
              "      <td>50.0</td>\n",
              "      <td>5.0</td>\n",
              "      <td>3.0</td>\n",
              "      <td>ない（現役合格）</td>\n",
              "      <td>第二希望</td>\n",
              "      <td>実家</td>\n",
              "      <td>90.0</td>\n",
              "      <td>7.0</td>\n",
              "      <td>6.0</td>\n",
              "      <td>2.4</td>\n",
              "      <td>0.0</td>\n",
              "      <td>15.0</td>\n",
              "      <td>いない</td>\n",
              "      <td>3.0</td>\n",
              "      <td>NaN</td>\n",
              "      <td>NaN</td>\n",
              "    </tr>\n",
              "    <tr>\n",
              "      <th>3</th>\n",
              "      <td>5/18/2017 13:40:12</td>\n",
              "      <td>0.0</td>\n",
              "      <td>あかさたな</td>\n",
              "      <td>男性 Male</td>\n",
              "      <td>40.0</td>\n",
              "      <td>50.0</td>\n",
              "      <td>55.0</td>\n",
              "      <td>55.0</td>\n",
              "      <td>50.0</td>\n",
              "      <td>3.0</td>\n",
              "      <td>3.0</td>\n",
              "      <td>ない（現役合格）</td>\n",
              "      <td>第一希望</td>\n",
              "      <td>一人</td>\n",
              "      <td>30.0</td>\n",
              "      <td>5.0</td>\n",
              "      <td>6.0</td>\n",
              "      <td>2.0</td>\n",
              "      <td>10.0</td>\n",
              "      <td>8.0</td>\n",
              "      <td>いる（リアル）</td>\n",
              "      <td>2.0</td>\n",
              "      <td>NaN</td>\n",
              "      <td>NaN</td>\n",
              "    </tr>\n",
              "    <tr>\n",
              "      <th>4</th>\n",
              "      <td>5/18/2017 13:37:35</td>\n",
              "      <td>0.0</td>\n",
              "      <td>rrr</td>\n",
              "      <td>男性 Male</td>\n",
              "      <td>65.0</td>\n",
              "      <td>60.0</td>\n",
              "      <td>70.0</td>\n",
              "      <td>65.0</td>\n",
              "      <td>50.0</td>\n",
              "      <td>5.0</td>\n",
              "      <td>3.0</td>\n",
              "      <td>１浪</td>\n",
              "      <td>第一希望</td>\n",
              "      <td>実家</td>\n",
              "      <td>120.0</td>\n",
              "      <td>7.0</td>\n",
              "      <td>6.0</td>\n",
              "      <td>2.8</td>\n",
              "      <td>12.0</td>\n",
              "      <td>2.0</td>\n",
              "      <td>いない</td>\n",
              "      <td>3.0</td>\n",
              "      <td>NaN</td>\n",
              "      <td>NaN</td>\n",
              "    </tr>\n",
              "    <tr>\n",
              "      <th>...</th>\n",
              "      <td>...</td>\n",
              "      <td>...</td>\n",
              "      <td>...</td>\n",
              "      <td>...</td>\n",
              "      <td>...</td>\n",
              "      <td>...</td>\n",
              "      <td>...</td>\n",
              "      <td>...</td>\n",
              "      <td>...</td>\n",
              "      <td>...</td>\n",
              "      <td>...</td>\n",
              "      <td>...</td>\n",
              "      <td>...</td>\n",
              "      <td>...</td>\n",
              "      <td>...</td>\n",
              "      <td>...</td>\n",
              "      <td>...</td>\n",
              "      <td>...</td>\n",
              "      <td>...</td>\n",
              "      <td>...</td>\n",
              "      <td>...</td>\n",
              "      <td>...</td>\n",
              "      <td>...</td>\n",
              "      <td>...</td>\n",
              "    </tr>\n",
              "    <tr>\n",
              "      <th>867</th>\n",
              "      <td>NaN</td>\n",
              "      <td>NaN</td>\n",
              "      <td>NaN</td>\n",
              "      <td>NaN</td>\n",
              "      <td>NaN</td>\n",
              "      <td>NaN</td>\n",
              "      <td>NaN</td>\n",
              "      <td>NaN</td>\n",
              "      <td>NaN</td>\n",
              "      <td>NaN</td>\n",
              "      <td>NaN</td>\n",
              "      <td>NaN</td>\n",
              "      <td>NaN</td>\n",
              "      <td>NaN</td>\n",
              "      <td>NaN</td>\n",
              "      <td>NaN</td>\n",
              "      <td>NaN</td>\n",
              "      <td>NaN</td>\n",
              "      <td>NaN</td>\n",
              "      <td>NaN</td>\n",
              "      <td>NaN</td>\n",
              "      <td>NaN</td>\n",
              "      <td>NaN</td>\n",
              "      <td>NaN</td>\n",
              "    </tr>\n",
              "    <tr>\n",
              "      <th>868</th>\n",
              "      <td>NaN</td>\n",
              "      <td>NaN</td>\n",
              "      <td>NaN</td>\n",
              "      <td>NaN</td>\n",
              "      <td>NaN</td>\n",
              "      <td>NaN</td>\n",
              "      <td>NaN</td>\n",
              "      <td>NaN</td>\n",
              "      <td>NaN</td>\n",
              "      <td>NaN</td>\n",
              "      <td>NaN</td>\n",
              "      <td>NaN</td>\n",
              "      <td>NaN</td>\n",
              "      <td>NaN</td>\n",
              "      <td>NaN</td>\n",
              "      <td>NaN</td>\n",
              "      <td>NaN</td>\n",
              "      <td>NaN</td>\n",
              "      <td>NaN</td>\n",
              "      <td>NaN</td>\n",
              "      <td>NaN</td>\n",
              "      <td>NaN</td>\n",
              "      <td>NaN</td>\n",
              "      <td>NaN</td>\n",
              "    </tr>\n",
              "    <tr>\n",
              "      <th>869</th>\n",
              "      <td>NaN</td>\n",
              "      <td>NaN</td>\n",
              "      <td>NaN</td>\n",
              "      <td>NaN</td>\n",
              "      <td>NaN</td>\n",
              "      <td>NaN</td>\n",
              "      <td>NaN</td>\n",
              "      <td>NaN</td>\n",
              "      <td>NaN</td>\n",
              "      <td>NaN</td>\n",
              "      <td>NaN</td>\n",
              "      <td>NaN</td>\n",
              "      <td>NaN</td>\n",
              "      <td>NaN</td>\n",
              "      <td>NaN</td>\n",
              "      <td>NaN</td>\n",
              "      <td>NaN</td>\n",
              "      <td>NaN</td>\n",
              "      <td>NaN</td>\n",
              "      <td>NaN</td>\n",
              "      <td>NaN</td>\n",
              "      <td>NaN</td>\n",
              "      <td>NaN</td>\n",
              "      <td>NaN</td>\n",
              "    </tr>\n",
              "    <tr>\n",
              "      <th>870</th>\n",
              "      <td>NaN</td>\n",
              "      <td>NaN</td>\n",
              "      <td>NaN</td>\n",
              "      <td>NaN</td>\n",
              "      <td>NaN</td>\n",
              "      <td>NaN</td>\n",
              "      <td>NaN</td>\n",
              "      <td>NaN</td>\n",
              "      <td>NaN</td>\n",
              "      <td>NaN</td>\n",
              "      <td>NaN</td>\n",
              "      <td>NaN</td>\n",
              "      <td>NaN</td>\n",
              "      <td>NaN</td>\n",
              "      <td>NaN</td>\n",
              "      <td>NaN</td>\n",
              "      <td>NaN</td>\n",
              "      <td>NaN</td>\n",
              "      <td>NaN</td>\n",
              "      <td>NaN</td>\n",
              "      <td>NaN</td>\n",
              "      <td>NaN</td>\n",
              "      <td>NaN</td>\n",
              "      <td>NaN</td>\n",
              "    </tr>\n",
              "    <tr>\n",
              "      <th>871</th>\n",
              "      <td>NaN</td>\n",
              "      <td>NaN</td>\n",
              "      <td>NaN</td>\n",
              "      <td>NaN</td>\n",
              "      <td>NaN</td>\n",
              "      <td>NaN</td>\n",
              "      <td>NaN</td>\n",
              "      <td>NaN</td>\n",
              "      <td>NaN</td>\n",
              "      <td>NaN</td>\n",
              "      <td>NaN</td>\n",
              "      <td>NaN</td>\n",
              "      <td>NaN</td>\n",
              "      <td>NaN</td>\n",
              "      <td>NaN</td>\n",
              "      <td>NaN</td>\n",
              "      <td>NaN</td>\n",
              "      <td>NaN</td>\n",
              "      <td>NaN</td>\n",
              "      <td>NaN</td>\n",
              "      <td>NaN</td>\n",
              "      <td>NaN</td>\n",
              "      <td>NaN</td>\n",
              "      <td>NaN</td>\n",
              "    </tr>\n",
              "  </tbody>\n",
              "</table>\n",
              "<p>872 rows × 24 columns</p>\n",
              "</div>"
            ],
            "text/plain": [
              "              Timestamp  ...  Q20. 上記以外に、加えて欲しい質問項目などがありましたら教えてください。\n",
              "0    5/18/2017 13:28:25  ...                                     NaN\n",
              "1    5/18/2017 13:28:37  ...                                     NaN\n",
              "2    5/18/2017 13:37:00  ...                                     NaN\n",
              "3    5/18/2017 13:40:12  ...                                     NaN\n",
              "4    5/18/2017 13:37:35  ...                                     NaN\n",
              "..                  ...  ...                                     ...\n",
              "867                 NaN  ...                                     NaN\n",
              "868                 NaN  ...                                     NaN\n",
              "869                 NaN  ...                                     NaN\n",
              "870                 NaN  ...                                     NaN\n",
              "871                 NaN  ...                                     NaN\n",
              "\n",
              "[872 rows x 24 columns]"
            ]
          },
          "metadata": {
            "tags": []
          },
          "execution_count": 7
        }
      ]
    },
    {
      "cell_type": "code",
      "metadata": {
        "colab": {
          "base_uri": "https://localhost:8080/",
          "height": 1000
        },
        "id": "Q3MZnkE-kptS",
        "outputId": "9c79e9e4-2491-40b7-d241-3b0315b3f6bd"
      },
      "source": [
        "df2 = df[~df['Timestamp'].isnull()]\n",
        "df2"
      ],
      "execution_count": 8,
      "outputs": [
        {
          "output_type": "execute_result",
          "data": {
            "text/html": [
              "<div>\n",
              "<style scoped>\n",
              "    .dataframe tbody tr th:only-of-type {\n",
              "        vertical-align: middle;\n",
              "    }\n",
              "\n",
              "    .dataframe tbody tr th {\n",
              "        vertical-align: top;\n",
              "    }\n",
              "\n",
              "    .dataframe thead th {\n",
              "        text-align: right;\n",
              "    }\n",
              "</style>\n",
              "<table border=\"1\" class=\"dataframe\">\n",
              "  <thead>\n",
              "    <tr style=\"text-align: right;\">\n",
              "      <th></th>\n",
              "      <th>Timestamp</th>\n",
              "      <th>Score</th>\n",
              "      <th>Pen name</th>\n",
              "      <th>Q1. Gender</th>\n",
              "      <th>Q2. 高校時代の英語の偏差値はどのくらい？</th>\n",
              "      <th>Q3. 高校時代の国語の偏差値はどのくらい？</th>\n",
              "      <th>Q4. 高校時代の数学の偏差値はどのくらい？</th>\n",
              "      <th>Q5. 高校時代の理科の偏差値はどのくらい？</th>\n",
              "      <th>Q6. 高校時代の社会の偏差値はどのくらい？</th>\n",
              "      <th>Q7. 高校時代の体育の成績を５段階評価で表すと？</th>\n",
              "      <th>Q8. 高校時代、勉強がどのくらい好きだったか５段階評価で</th>\n",
              "      <th>Q9. 浪人経験はありますか？</th>\n",
              "      <th>Q10. 今の大学は第一希望でしたか？</th>\n",
              "      <th>Q11. 今、実家暮らし？一人暮らし？</th>\n",
              "      <th>Q12. 大学への通学時間は？（単位：分）</th>\n",
              "      <th>Q13. 朝ごはんは週何回くらい食べてる？</th>\n",
              "      <th>Q14. １日あたりの睡眠時間は平均何時間？</th>\n",
              "      <th>Q15. 大学の成績(GPA)は？</th>\n",
              "      <th>Q16. 今、バイトは週何時間くらい？</th>\n",
              "      <th>Q17. 部活（またはサークル活動）は週何時間？</th>\n",
              "      <th>Q18. 彼氏または彼女はいる？</th>\n",
              "      <th>Q19. あなたはリア充ですか？５段階評価で</th>\n",
              "      <th>Unnamed: 22</th>\n",
              "      <th>Q20. 上記以外に、加えて欲しい質問項目などがありましたら教えてください。</th>\n",
              "    </tr>\n",
              "  </thead>\n",
              "  <tbody>\n",
              "    <tr>\n",
              "      <th>0</th>\n",
              "      <td>5/18/2017 13:28:25</td>\n",
              "      <td>0.0</td>\n",
              "      <td>pp</td>\n",
              "      <td>男性 Male</td>\n",
              "      <td>50.0</td>\n",
              "      <td>50.0</td>\n",
              "      <td>55.0</td>\n",
              "      <td>60.0</td>\n",
              "      <td>60.0</td>\n",
              "      <td>4.0</td>\n",
              "      <td>3.0</td>\n",
              "      <td>ない（現役合格）</td>\n",
              "      <td>第二希望</td>\n",
              "      <td>実家</td>\n",
              "      <td>60.0</td>\n",
              "      <td>7.0</td>\n",
              "      <td>6.0</td>\n",
              "      <td>2.8</td>\n",
              "      <td>4.0</td>\n",
              "      <td>20.0</td>\n",
              "      <td>いる（２次元）</td>\n",
              "      <td>2.0</td>\n",
              "      <td>NaN</td>\n",
              "      <td>NaN</td>\n",
              "    </tr>\n",
              "    <tr>\n",
              "      <th>1</th>\n",
              "      <td>5/18/2017 13:28:37</td>\n",
              "      <td>0.0</td>\n",
              "      <td>chimp</td>\n",
              "      <td>男性 Male</td>\n",
              "      <td>70.0</td>\n",
              "      <td>60.0</td>\n",
              "      <td>70.0</td>\n",
              "      <td>70.0</td>\n",
              "      <td>60.0</td>\n",
              "      <td>4.0</td>\n",
              "      <td>3.0</td>\n",
              "      <td>ない（現役合格）</td>\n",
              "      <td>第一希望</td>\n",
              "      <td>実家</td>\n",
              "      <td>90.0</td>\n",
              "      <td>7.0</td>\n",
              "      <td>5.0</td>\n",
              "      <td>3.2</td>\n",
              "      <td>6.5</td>\n",
              "      <td>6.0</td>\n",
              "      <td>いない</td>\n",
              "      <td>1.0</td>\n",
              "      <td>NaN</td>\n",
              "      <td>NaN</td>\n",
              "    </tr>\n",
              "    <tr>\n",
              "      <th>2</th>\n",
              "      <td>5/18/2017 13:37:00</td>\n",
              "      <td>0.0</td>\n",
              "      <td>あんぱん</td>\n",
              "      <td>男性 Male</td>\n",
              "      <td>80.0</td>\n",
              "      <td>70.0</td>\n",
              "      <td>65.0</td>\n",
              "      <td>70.0</td>\n",
              "      <td>50.0</td>\n",
              "      <td>5.0</td>\n",
              "      <td>3.0</td>\n",
              "      <td>ない（現役合格）</td>\n",
              "      <td>第二希望</td>\n",
              "      <td>実家</td>\n",
              "      <td>90.0</td>\n",
              "      <td>7.0</td>\n",
              "      <td>6.0</td>\n",
              "      <td>2.4</td>\n",
              "      <td>0.0</td>\n",
              "      <td>15.0</td>\n",
              "      <td>いない</td>\n",
              "      <td>3.0</td>\n",
              "      <td>NaN</td>\n",
              "      <td>NaN</td>\n",
              "    </tr>\n",
              "    <tr>\n",
              "      <th>3</th>\n",
              "      <td>5/18/2017 13:40:12</td>\n",
              "      <td>0.0</td>\n",
              "      <td>あかさたな</td>\n",
              "      <td>男性 Male</td>\n",
              "      <td>40.0</td>\n",
              "      <td>50.0</td>\n",
              "      <td>55.0</td>\n",
              "      <td>55.0</td>\n",
              "      <td>50.0</td>\n",
              "      <td>3.0</td>\n",
              "      <td>3.0</td>\n",
              "      <td>ない（現役合格）</td>\n",
              "      <td>第一希望</td>\n",
              "      <td>一人</td>\n",
              "      <td>30.0</td>\n",
              "      <td>5.0</td>\n",
              "      <td>6.0</td>\n",
              "      <td>2.0</td>\n",
              "      <td>10.0</td>\n",
              "      <td>8.0</td>\n",
              "      <td>いる（リアル）</td>\n",
              "      <td>2.0</td>\n",
              "      <td>NaN</td>\n",
              "      <td>NaN</td>\n",
              "    </tr>\n",
              "    <tr>\n",
              "      <th>4</th>\n",
              "      <td>5/18/2017 13:37:35</td>\n",
              "      <td>0.0</td>\n",
              "      <td>rrr</td>\n",
              "      <td>男性 Male</td>\n",
              "      <td>65.0</td>\n",
              "      <td>60.0</td>\n",
              "      <td>70.0</td>\n",
              "      <td>65.0</td>\n",
              "      <td>50.0</td>\n",
              "      <td>5.0</td>\n",
              "      <td>3.0</td>\n",
              "      <td>１浪</td>\n",
              "      <td>第一希望</td>\n",
              "      <td>実家</td>\n",
              "      <td>120.0</td>\n",
              "      <td>7.0</td>\n",
              "      <td>6.0</td>\n",
              "      <td>2.8</td>\n",
              "      <td>12.0</td>\n",
              "      <td>2.0</td>\n",
              "      <td>いない</td>\n",
              "      <td>3.0</td>\n",
              "      <td>NaN</td>\n",
              "      <td>NaN</td>\n",
              "    </tr>\n",
              "    <tr>\n",
              "      <th>...</th>\n",
              "      <td>...</td>\n",
              "      <td>...</td>\n",
              "      <td>...</td>\n",
              "      <td>...</td>\n",
              "      <td>...</td>\n",
              "      <td>...</td>\n",
              "      <td>...</td>\n",
              "      <td>...</td>\n",
              "      <td>...</td>\n",
              "      <td>...</td>\n",
              "      <td>...</td>\n",
              "      <td>...</td>\n",
              "      <td>...</td>\n",
              "      <td>...</td>\n",
              "      <td>...</td>\n",
              "      <td>...</td>\n",
              "      <td>...</td>\n",
              "      <td>...</td>\n",
              "      <td>...</td>\n",
              "      <td>...</td>\n",
              "      <td>...</td>\n",
              "      <td>...</td>\n",
              "      <td>...</td>\n",
              "      <td>...</td>\n",
              "    </tr>\n",
              "    <tr>\n",
              "      <th>767</th>\n",
              "      <td>10/20/2020 9:13:45</td>\n",
              "      <td>0.0</td>\n",
              "      <td>おむれつ</td>\n",
              "      <td>女性 Female</td>\n",
              "      <td>60.0</td>\n",
              "      <td>60.0</td>\n",
              "      <td>60.0</td>\n",
              "      <td>60.0</td>\n",
              "      <td>60.0</td>\n",
              "      <td>3.0</td>\n",
              "      <td>4.0</td>\n",
              "      <td>ない（現役合格）</td>\n",
              "      <td>第一希望</td>\n",
              "      <td>一人</td>\n",
              "      <td>10.0</td>\n",
              "      <td>6.0</td>\n",
              "      <td>5.0</td>\n",
              "      <td>2.0</td>\n",
              "      <td>20.0</td>\n",
              "      <td>0.0</td>\n",
              "      <td>いない</td>\n",
              "      <td>3.0</td>\n",
              "      <td>NaN</td>\n",
              "      <td>NaN</td>\n",
              "    </tr>\n",
              "    <tr>\n",
              "      <th>768</th>\n",
              "      <td>10/27/2020 9:37:13</td>\n",
              "      <td>0.0</td>\n",
              "      <td>melon</td>\n",
              "      <td>男性 Male</td>\n",
              "      <td>75.0</td>\n",
              "      <td>60.0</td>\n",
              "      <td>80.0</td>\n",
              "      <td>80.0</td>\n",
              "      <td>40.0</td>\n",
              "      <td>5.0</td>\n",
              "      <td>5.0</td>\n",
              "      <td>ない（現役合格）</td>\n",
              "      <td>第一希望</td>\n",
              "      <td>実家</td>\n",
              "      <td>60.0</td>\n",
              "      <td>7.0</td>\n",
              "      <td>5.0</td>\n",
              "      <td>3.0</td>\n",
              "      <td>20.0</td>\n",
              "      <td>0.0</td>\n",
              "      <td>いる（リアル）</td>\n",
              "      <td>5.0</td>\n",
              "      <td>NaN</td>\n",
              "      <td>NaN</td>\n",
              "    </tr>\n",
              "    <tr>\n",
              "      <th>769</th>\n",
              "      <td>10/28/2020 15:13:58</td>\n",
              "      <td>0.0</td>\n",
              "      <td>meeeee</td>\n",
              "      <td>男性 Male</td>\n",
              "      <td>70.0</td>\n",
              "      <td>70.0</td>\n",
              "      <td>70.0</td>\n",
              "      <td>70.0</td>\n",
              "      <td>60.0</td>\n",
              "      <td>2.0</td>\n",
              "      <td>2.0</td>\n",
              "      <td>１浪</td>\n",
              "      <td>第一希望</td>\n",
              "      <td>一人</td>\n",
              "      <td>15.0</td>\n",
              "      <td>7.0</td>\n",
              "      <td>5.0</td>\n",
              "      <td>2.5</td>\n",
              "      <td>10.0</td>\n",
              "      <td>5.0</td>\n",
              "      <td>いない</td>\n",
              "      <td>5.0</td>\n",
              "      <td>NaN</td>\n",
              "      <td>NaN</td>\n",
              "    </tr>\n",
              "    <tr>\n",
              "      <th>770</th>\n",
              "      <td>12/3/2020 15:00:51</td>\n",
              "      <td>0.0</td>\n",
              "      <td>Kui</td>\n",
              "      <td>女性 Female</td>\n",
              "      <td>60.0</td>\n",
              "      <td>50.0</td>\n",
              "      <td>60.0</td>\n",
              "      <td>65.0</td>\n",
              "      <td>50.0</td>\n",
              "      <td>3.0</td>\n",
              "      <td>3.0</td>\n",
              "      <td>ない（現役合格）</td>\n",
              "      <td>第一希望</td>\n",
              "      <td>実家</td>\n",
              "      <td>60.0</td>\n",
              "      <td>4.0</td>\n",
              "      <td>6.0</td>\n",
              "      <td>3.0</td>\n",
              "      <td>6.0</td>\n",
              "      <td>0.0</td>\n",
              "      <td>いない</td>\n",
              "      <td>3.0</td>\n",
              "      <td>NaN</td>\n",
              "      <td>NaN</td>\n",
              "    </tr>\n",
              "    <tr>\n",
              "      <th>771</th>\n",
              "      <td>12/10/2020 21:18:15</td>\n",
              "      <td>0.0</td>\n",
              "      <td>keroppy</td>\n",
              "      <td>男性 Male</td>\n",
              "      <td>70.0</td>\n",
              "      <td>50.0</td>\n",
              "      <td>80.0</td>\n",
              "      <td>70.0</td>\n",
              "      <td>60.0</td>\n",
              "      <td>4.0</td>\n",
              "      <td>4.0</td>\n",
              "      <td>１浪</td>\n",
              "      <td>第一希望</td>\n",
              "      <td>一人</td>\n",
              "      <td>30.0</td>\n",
              "      <td>3.0</td>\n",
              "      <td>8.0</td>\n",
              "      <td>3.0</td>\n",
              "      <td>12.0</td>\n",
              "      <td>0.0</td>\n",
              "      <td>いる（リアル）</td>\n",
              "      <td>3.0</td>\n",
              "      <td>NaN</td>\n",
              "      <td>NaN</td>\n",
              "    </tr>\n",
              "  </tbody>\n",
              "</table>\n",
              "<p>772 rows × 24 columns</p>\n",
              "</div>"
            ],
            "text/plain": [
              "               Timestamp  ...  Q20. 上記以外に、加えて欲しい質問項目などがありましたら教えてください。\n",
              "0     5/18/2017 13:28:25  ...                                     NaN\n",
              "1     5/18/2017 13:28:37  ...                                     NaN\n",
              "2     5/18/2017 13:37:00  ...                                     NaN\n",
              "3     5/18/2017 13:40:12  ...                                     NaN\n",
              "4     5/18/2017 13:37:35  ...                                     NaN\n",
              "..                   ...  ...                                     ...\n",
              "767   10/20/2020 9:13:45  ...                                     NaN\n",
              "768   10/27/2020 9:37:13  ...                                     NaN\n",
              "769  10/28/2020 15:13:58  ...                                     NaN\n",
              "770   12/3/2020 15:00:51  ...                                     NaN\n",
              "771  12/10/2020 21:18:15  ...                                     NaN\n",
              "\n",
              "[772 rows x 24 columns]"
            ]
          },
          "metadata": {
            "tags": []
          },
          "execution_count": 8
        }
      ]
    },
    {
      "cell_type": "code",
      "metadata": {
        "colab": {
          "base_uri": "https://localhost:8080/",
          "height": 296
        },
        "id": "22vTwANRPCYw",
        "outputId": "fbe6bcf3-94de-417e-8417-25b6be639be4"
      },
      "source": [
        "df2[\"Q12. 大学への通学時間は？（単位：分）\"].hist()"
      ],
      "execution_count": 9,
      "outputs": [
        {
          "output_type": "execute_result",
          "data": {
            "text/plain": [
              "<matplotlib.axes._subplots.AxesSubplot at 0x7fb224471b70>"
            ]
          },
          "metadata": {
            "tags": []
          },
          "execution_count": 9
        },
        {
          "output_type": "display_data",
          "data": {
            "image/png": "[encoded data removed]",
            "text/plain": [
              "<Figure size 432x288 with 1 Axes>"
            ]
          },
          "metadata": {
            "tags": [],
            "needs_background": "light"
          }
        }
      ]
    },
    {
      "cell_type": "code",
      "metadata": {
        "colab": {
          "base_uri": "https://localhost:8080/",
          "height": 281
        },
        "id": "84eJOD69Vzto",
        "outputId": "b064b899-536f-49e9-a827-c328543b0377"
      },
      "source": [
        "df2[\"Q14. １日あたりの睡眠時間は平均何時間？\"].hist()"
      ],
      "execution_count": 10,
      "outputs": [
        {
          "output_type": "execute_result",
          "data": {
            "text/plain": [
              "<matplotlib.axes._subplots.AxesSubplot at 0x7fb2248534a8>"
            ]
          },
          "metadata": {
            "tags": []
          },
          "execution_count": 10
        },
        {
          "output_type": "display_data",
          "data": {
            "image/png": "[encoded data removed]",
            "text/plain": [
              "<Figure size 432x288 with 1 Axes>"
            ]
          },
          "metadata": {
            "tags": [],
            "needs_background": "light"
          }
        }
      ]
    },
    {
      "cell_type": "code",
      "metadata": {
        "colab": {
          "base_uri": "https://localhost:8080/",
          "height": 296
        },
        "id": "6bdc-bw8V5mG",
        "outputId": "6ce4faad-f627-4940-83b8-ab96eb38537b"
      },
      "source": [
        "df2[\"Q15. 大学の成績(GPA)は？\"].hist()"
      ],
      "execution_count": 11,
      "outputs": [
        {
          "output_type": "execute_result",
          "data": {
            "text/plain": [
              "<matplotlib.axes._subplots.AxesSubplot at 0x7fb2245d6da0>"
            ]
          },
          "metadata": {
            "tags": []
          },
          "execution_count": 11
        },
        {
          "output_type": "display_data",
          "data": {
            "image/png": "[encoded data removed]",
            "text/plain": [
              "<Figure size 432x288 with 1 Axes>"
            ]
          },
          "metadata": {
            "tags": [],
            "needs_background": "light"
          }
        }
      ]
    },
    {
      "cell_type": "code",
      "metadata": {
        "colab": {
          "base_uri": "https://localhost:8080/",
          "height": 296
        },
        "id": "CZGhzrGdV_dd",
        "outputId": "369e683f-9dee-4443-b283-d4d60e027612"
      },
      "source": [
        "df2[\"Q16. 今、バイトは週何時間くらい？\"].hist()"
      ],
      "execution_count": 12,
      "outputs": [
        {
          "output_type": "execute_result",
          "data": {
            "text/plain": [
              "<matplotlib.axes._subplots.AxesSubplot at 0x7fb2245e1978>"
            ]
          },
          "metadata": {
            "tags": []
          },
          "execution_count": 12
        },
        {
          "output_type": "display_data",
          "data": {
            "image/png": "[encoded data removed]",
            "text/plain": [
              "<Figure size 432x288 with 1 Axes>"
            ]
          },
          "metadata": {
            "tags": [],
            "needs_background": "light"
          }
        }
      ]
    },
    {
      "cell_type": "code",
      "metadata": {
        "colab": {
          "base_uri": "https://localhost:8080/",
          "height": 296
        },
        "id": "bgcS2it2WFUi",
        "outputId": "50b9ba75-4d0b-493b-a804-6142b4a042a3"
      },
      "source": [
        "df2[\"Q17. 部活（またはサークル活動）は週何時間？\"].hist()"
      ],
      "execution_count": 13,
      "outputs": [
        {
          "output_type": "execute_result",
          "data": {
            "text/plain": [
              "<matplotlib.axes._subplots.AxesSubplot at 0x7fb224209470>"
            ]
          },
          "metadata": {
            "tags": []
          },
          "execution_count": 13
        },
        {
          "output_type": "display_data",
          "data": {
            "image/png": "[encoded data removed]",
            "text/plain": [
              "<Figure size 432x288 with 1 Axes>"
            ]
          },
          "metadata": {
            "tags": [],
            "needs_background": "light"
          }
        }
      ]
    },
    {
      "cell_type": "code",
      "metadata": {
        "colab": {
          "base_uri": "https://localhost:8080/",
          "height": 406
        },
        "id": "wg-7k-CXPD94",
        "outputId": "6b98729e-539d-46f2-e7d8-0aac37fdcf5d"
      },
      "source": [
        "import pandas as pd\n",
        "\n",
        "outlier_df = pd.DataFrame()\n",
        "colname = \"Q12. 大学への通学時間は？（単位：分）\"\n",
        "outlier_min = df2[colname].median() - df2[colname].describe()['25%'] * 3\n",
        "outlier_max = df2[colname].median() + df2[colname].describe()['75%'] * 3\n",
        "outlier = df2[colname].apply(lambda x: x <= outlier_min or x >= outlier_max)\n",
        "outlier_df[colname] = outlier\n",
        "outlier_df"
      ],
      "execution_count": 14,
      "outputs": [
        {
          "output_type": "execute_result",
          "data": {
            "text/html": [
              "<div>\n",
              "<style scoped>\n",
              "    .dataframe tbody tr th:only-of-type {\n",
              "        vertical-align: middle;\n",
              "    }\n",
              "\n",
              "    .dataframe tbody tr th {\n",
              "        vertical-align: top;\n",
              "    }\n",
              "\n",
              "    .dataframe thead th {\n",
              "        text-align: right;\n",
              "    }\n",
              "</style>\n",
              "<table border=\"1\" class=\"dataframe\">\n",
              "  <thead>\n",
              "    <tr style=\"text-align: right;\">\n",
              "      <th></th>\n",
              "      <th>Q12. 大学への通学時間は？（単位：分）</th>\n",
              "    </tr>\n",
              "  </thead>\n",
              "  <tbody>\n",
              "    <tr>\n",
              "      <th>0</th>\n",
              "      <td>False</td>\n",
              "    </tr>\n",
              "    <tr>\n",
              "      <th>1</th>\n",
              "      <td>False</td>\n",
              "    </tr>\n",
              "    <tr>\n",
              "      <th>2</th>\n",
              "      <td>False</td>\n",
              "    </tr>\n",
              "    <tr>\n",
              "      <th>3</th>\n",
              "      <td>False</td>\n",
              "    </tr>\n",
              "    <tr>\n",
              "      <th>4</th>\n",
              "      <td>False</td>\n",
              "    </tr>\n",
              "    <tr>\n",
              "      <th>...</th>\n",
              "      <td>...</td>\n",
              "    </tr>\n",
              "    <tr>\n",
              "      <th>767</th>\n",
              "      <td>False</td>\n",
              "    </tr>\n",
              "    <tr>\n",
              "      <th>768</th>\n",
              "      <td>False</td>\n",
              "    </tr>\n",
              "    <tr>\n",
              "      <th>769</th>\n",
              "      <td>False</td>\n",
              "    </tr>\n",
              "    <tr>\n",
              "      <th>770</th>\n",
              "      <td>False</td>\n",
              "    </tr>\n",
              "    <tr>\n",
              "      <th>771</th>\n",
              "      <td>False</td>\n",
              "    </tr>\n",
              "  </tbody>\n",
              "</table>\n",
              "<p>772 rows × 1 columns</p>\n",
              "</div>"
            ],
            "text/plain": [
              "     Q12. 大学への通学時間は？（単位：分）\n",
              "0                    False\n",
              "1                    False\n",
              "2                    False\n",
              "3                    False\n",
              "4                    False\n",
              "..                     ...\n",
              "767                  False\n",
              "768                  False\n",
              "769                  False\n",
              "770                  False\n",
              "771                  False\n",
              "\n",
              "[772 rows x 1 columns]"
            ]
          },
          "metadata": {
            "tags": []
          },
          "execution_count": 14
        }
      ]
    },
    {
      "cell_type": "code",
      "metadata": {
        "colab": {
          "base_uri": "https://localhost:8080/",
          "height": 423
        },
        "id": "JB6aIPXsPgVr",
        "outputId": "7b9b1402-5dce-4c32-a2d9-b3048cd5ece1"
      },
      "source": [
        "outlier_df = pd.DataFrame()\n",
        "\n",
        "colnames = [\n",
        "            \"Q12. 大学への通学時間は？（単位：分）\",\n",
        "            \"Q13. 朝ごはんは週何回くらい食べてる？\",\n",
        "            \"Q14. １日あたりの睡眠時間は平均何時間？\",\n",
        "            \"Q15. 大学の成績(GPA)は？\",\n",
        "            \"Q16. 今、バイトは週何時間くらい？\",\n",
        "            \"Q17. 部活（またはサークル活動）は週何時間？\"\n",
        "            ]\n",
        "\n",
        "for colname in colnames:\n",
        "    outlier_min = df2[colname].describe()['50%'] - df2[colname].describe()['25%'] * 3\n",
        "    outlier_max = df2[colname].describe()['50%'] + df2[colname].describe()['75%'] * 3\n",
        "    outlier = df2[colname].apply(lambda x: x <= outlier_min or x >= outlier_max)\n",
        "    outlier_df[colname] = outlier\n",
        "\n",
        "outlier_df"
      ],
      "execution_count": 15,
      "outputs": [
        {
          "output_type": "execute_result",
          "data": {
            "text/html": [
              "<div>\n",
              "<style scoped>\n",
              "    .dataframe tbody tr th:only-of-type {\n",
              "        vertical-align: middle;\n",
              "    }\n",
              "\n",
              "    .dataframe tbody tr th {\n",
              "        vertical-align: top;\n",
              "    }\n",
              "\n",
              "    .dataframe thead th {\n",
              "        text-align: right;\n",
              "    }\n",
              "</style>\n",
              "<table border=\"1\" class=\"dataframe\">\n",
              "  <thead>\n",
              "    <tr style=\"text-align: right;\">\n",
              "      <th></th>\n",
              "      <th>Q12. 大学への通学時間は？（単位：分）</th>\n",
              "      <th>Q13. 朝ごはんは週何回くらい食べてる？</th>\n",
              "      <th>Q14. １日あたりの睡眠時間は平均何時間？</th>\n",
              "      <th>Q15. 大学の成績(GPA)は？</th>\n",
              "      <th>Q16. 今、バイトは週何時間くらい？</th>\n",
              "      <th>Q17. 部活（またはサークル活動）は週何時間？</th>\n",
              "    </tr>\n",
              "  </thead>\n",
              "  <tbody>\n",
              "    <tr>\n",
              "      <th>0</th>\n",
              "      <td>False</td>\n",
              "      <td>False</td>\n",
              "      <td>False</td>\n",
              "      <td>False</td>\n",
              "      <td>False</td>\n",
              "      <td>False</td>\n",
              "    </tr>\n",
              "    <tr>\n",
              "      <th>1</th>\n",
              "      <td>False</td>\n",
              "      <td>False</td>\n",
              "      <td>False</td>\n",
              "      <td>False</td>\n",
              "      <td>False</td>\n",
              "      <td>False</td>\n",
              "    </tr>\n",
              "    <tr>\n",
              "      <th>2</th>\n",
              "      <td>False</td>\n",
              "      <td>False</td>\n",
              "      <td>False</td>\n",
              "      <td>False</td>\n",
              "      <td>False</td>\n",
              "      <td>False</td>\n",
              "    </tr>\n",
              "    <tr>\n",
              "      <th>3</th>\n",
              "      <td>False</td>\n",
              "      <td>False</td>\n",
              "      <td>False</td>\n",
              "      <td>False</td>\n",
              "      <td>False</td>\n",
              "      <td>False</td>\n",
              "    </tr>\n",
              "    <tr>\n",
              "      <th>4</th>\n",
              "      <td>False</td>\n",
              "      <td>False</td>\n",
              "      <td>False</td>\n",
              "      <td>False</td>\n",
              "      <td>False</td>\n",
              "      <td>True</td>\n",
              "    </tr>\n",
              "    <tr>\n",
              "      <th>...</th>\n",
              "      <td>...</td>\n",
              "      <td>...</td>\n",
              "      <td>...</td>\n",
              "      <td>...</td>\n",
              "      <td>...</td>\n",
              "      <td>...</td>\n",
              "    </tr>\n",
              "    <tr>\n",
              "      <th>767</th>\n",
              "      <td>False</td>\n",
              "      <td>False</td>\n",
              "      <td>False</td>\n",
              "      <td>False</td>\n",
              "      <td>False</td>\n",
              "      <td>True</td>\n",
              "    </tr>\n",
              "    <tr>\n",
              "      <th>768</th>\n",
              "      <td>False</td>\n",
              "      <td>False</td>\n",
              "      <td>False</td>\n",
              "      <td>False</td>\n",
              "      <td>False</td>\n",
              "      <td>True</td>\n",
              "    </tr>\n",
              "    <tr>\n",
              "      <th>769</th>\n",
              "      <td>False</td>\n",
              "      <td>False</td>\n",
              "      <td>False</td>\n",
              "      <td>False</td>\n",
              "      <td>False</td>\n",
              "      <td>False</td>\n",
              "    </tr>\n",
              "    <tr>\n",
              "      <th>770</th>\n",
              "      <td>False</td>\n",
              "      <td>False</td>\n",
              "      <td>False</td>\n",
              "      <td>False</td>\n",
              "      <td>False</td>\n",
              "      <td>True</td>\n",
              "    </tr>\n",
              "    <tr>\n",
              "      <th>771</th>\n",
              "      <td>False</td>\n",
              "      <td>False</td>\n",
              "      <td>False</td>\n",
              "      <td>False</td>\n",
              "      <td>False</td>\n",
              "      <td>True</td>\n",
              "    </tr>\n",
              "  </tbody>\n",
              "</table>\n",
              "<p>772 rows × 6 columns</p>\n",
              "</div>"
            ],
            "text/plain": [
              "     Q12. 大学への通学時間は？（単位：分）  ...  Q17. 部活（またはサークル活動）は週何時間？\n",
              "0                    False  ...                     False\n",
              "1                    False  ...                     False\n",
              "2                    False  ...                     False\n",
              "3                    False  ...                     False\n",
              "4                    False  ...                      True\n",
              "..                     ...  ...                       ...\n",
              "767                  False  ...                      True\n",
              "768                  False  ...                      True\n",
              "769                  False  ...                     False\n",
              "770                  False  ...                      True\n",
              "771                  False  ...                      True\n",
              "\n",
              "[772 rows x 6 columns]"
            ]
          },
          "metadata": {
            "tags": []
          },
          "execution_count": 15
        }
      ]
    },
    {
      "cell_type": "code",
      "metadata": {
        "colab": {
          "base_uri": "https://localhost:8080/"
        },
        "id": "x8kkkEbyRtaA",
        "outputId": "f7908680-ee64-4b44-8079-d5eb9b182ce3"
      },
      "source": [
        "print(list(outlier_df.sum(axis=1)))"
      ],
      "execution_count": 16,
      "outputs": [
        {
          "output_type": "stream",
          "text": [
            "[0, 0, 0, 0, 1, 0, 0, 0, 1, 0, 0, 0, 1, 1, 0, 1, 0, 1, 0, 0, 0, 0, 0, 3, 1, 1, 0, 1, 0, 0, 0, 1, 1, 0, 0, 0, 1, 0, 0, 0, 0, 0, 1, 0, 0, 0, 0, 0, 0, 0, 1, 0, 0, 0, 1, 0, 1, 0, 0, 0, 0, 0, 0, 0, 1, 0, 0, 1, 0, 0, 0, 1, 0, 1, 0, 0, 0, 1, 1, 1, 1, 1, 0, 1, 1, 1, 0, 1, 0, 1, 1, 0, 1, 0, 1, 1, 0, 1, 1, 1, 1, 0, 0, 2, 0, 3, 1, 1, 1, 2, 3, 4, 2, 3, 1, 1, 0, 1, 1, 0, 1, 1, 0, 1, 0, 0, 0, 1, 0, 1, 0, 0, 1, 0, 1, 1, 0, 1, 1, 0, 0, 0, 0, 1, 0, 1, 1, 1, 1, 1, 1, 0, 0, 0, 1, 0, 0, 0, 0, 1, 1, 0, 1, 1, 1, 1, 0, 0, 0, 1, 0, 0, 0, 0, 0, 1, 0, 1, 0, 1, 1, 1, 0, 0, 1, 1, 0, 1, 0, 1, 0, 0, 0, 1, 1, 1, 1, 1, 0, 0, 1, 0, 0, 1, 0, 0, 0, 1, 1, 1, 1, 1, 1, 2, 0, 0, 2, 0, 1, 1, 1, 1, 0, 1, 1, 1, 0, 1, 1, 1, 0, 1, 1, 0, 0, 1, 1, 1, 1, 0, 1, 1, 1, 0, 0, 1, 0, 1, 1, 1, 0, 0, 0, 1, 0, 1, 1, 0, 1, 0, 0, 0, 2, 1, 1, 1, 1, 0, 0, 0, 1, 0, 0, 0, 1, 1, 1, 1, 1, 0, 1, 1, 0, 2, 1, 1, 0, 1, 0, 1, 1, 0, 1, 1, 1, 1, 0, 1, 1, 0, 3, 1, 1, 2, 2, 0, 1, 1, 0, 1, 1, 0, 1, 1, 0, 0, 1, 0, 0, 1, 1, 1, 0, 0, 1, 1, 0, 1, 1, 2, 1, 1, 1, 1, 1, 1, 1, 0, 1, 1, 1, 1, 0, 1, 1, 0, 1, 1, 0, 0, 1, 1, 1, 0, 2, 1, 0, 1, 2, 0, 4, 0, 1, 0, 0, 3, 0, 0, 0, 0, 0, 1, 1, 1, 0, 0, 0, 0, 1, 1, 1, 1, 1, 0, 3, 4, 2, 4, 1, 1, 1, 0, 0, 3, 1, 1, 0, 0, 0, 0, 1, 1, 1, 0, 0, 0, 0, 0, 1, 0, 0, 1, 0, 0, 0, 0, 2, 1, 1, 0, 1, 0, 1, 0, 1, 1, 0, 0, 0, 1, 0, 1, 1, 1, 0, 0, 1, 1, 1, 1, 1, 0, 0, 0, 0, 1, 1, 1, 0, 1, 0, 1, 1, 1, 0, 1, 1, 1, 1, 1, 0, 1, 0, 1, 1, 0, 1, 0, 0, 0, 1, 0, 1, 0, 1, 1, 1, 1, 1, 1, 1, 0, 1, 0, 0, 0, 1, 1, 0, 0, 1, 0, 0, 0, 0, 2, 1, 1, 0, 0, 0, 1, 0, 1, 1, 1, 1, 0, 0, 1, 0, 0, 2, 2, 1, 0, 1, 0, 1, 0, 0, 0, 1, 0, 0, 0, 1, 0, 1, 0, 1, 1, 1, 1, 0, 1, 0, 1, 1, 0, 1, 4, 0, 0, 0, 0, 1, 1, 1, 1, 1, 1, 0, 1, 1, 0, 0, 0, 0, 1, 0, 1, 0, 1, 1, 1, 1, 1, 0, 1, 0, 1, 1, 1, 0, 0, 0, 1, 0, 1, 0, 3, 0, 1, 2, 0, 1, 0, 1, 1, 0, 2, 0, 1, 4, 0, 1, 0, 1, 1, 1, 0, 1, 1, 0, 0, 0, 1, 1, 1, 1, 1, 0, 1, 1, 0, 1, 1, 1, 1, 2, 0, 1, 1, 0, 0, 1, 0, 0, 1, 0, 2, 1, 2, 1, 1, 0, 1, 0, 0, 1, 0, 0, 1, 1, 1, 1, 1, 0, 0, 0, 0, 0, 2, 1, 1, 0, 1, 1, 0, 1, 1, 1, 1, 1, 1, 1, 0, 1, 1, 1, 0, 1, 2, 0, 1, 0, 2, 1, 1, 0, 1, 1, 0, 1, 2, 1, 2, 0, 1, 1, 1, 1, 0, 1, 2, 0, 1, 0, 1, 2, 1, 1, 1, 1, 1, 2, 1, 0, 1, 0, 0, 0, 0, 1, 0, 1, 1, 0, 1, 1, 1, 1, 0, 1, 1, 1, 1, 2, 0, 1, 2, 1, 1, 1, 1, 0, 1, 0, 0, 2, 1, 1, 0, 1, 1, 1, 1, 1, 0, 0, 1, 1, 1, 0, 1, 1, 1, 1, 2, 1, 1, 0, 1, 1, 1, 0, 1, 1, 0, 1, 1]\n"
          ],
          "name": "stdout"
        }
      ]
    },
    {
      "cell_type": "code",
      "metadata": {
        "colab": {
          "base_uri": "https://localhost:8080/"
        },
        "id": "ay-RTgxJSOhP",
        "outputId": "452fa210-1382-45d8-f839-3a9db72f2fad"
      },
      "source": [
        "valid_ids = [i for i, x in enumerate(list(outlier_df.sum(axis=1))) if x == 0]\n",
        "print(valid_ids)"
      ],
      "execution_count": 17,
      "outputs": [
        {
          "output_type": "stream",
          "text": [
            "[0, 1, 2, 3, 5, 6, 7, 9, 10, 11, 14, 16, 18, 19, 20, 21, 22, 26, 28, 29, 30, 33, 34, 35, 37, 38, 39, 40, 41, 43, 44, 45, 46, 47, 48, 49, 51, 52, 53, 55, 57, 58, 59, 60, 61, 62, 63, 65, 66, 68, 69, 70, 72, 74, 75, 76, 82, 86, 88, 91, 93, 96, 101, 102, 104, 116, 119, 122, 124, 125, 126, 128, 130, 131, 133, 136, 139, 140, 141, 142, 144, 151, 152, 153, 155, 156, 157, 158, 161, 166, 167, 168, 170, 171, 172, 173, 174, 176, 178, 182, 183, 186, 188, 190, 191, 192, 198, 199, 201, 202, 204, 205, 206, 214, 215, 217, 222, 226, 230, 233, 234, 239, 243, 244, 246, 250, 251, 252, 254, 257, 259, 260, 261, 267, 268, 269, 271, 272, 273, 279, 282, 286, 288, 291, 296, 299, 305, 308, 311, 314, 315, 317, 318, 322, 323, 326, 337, 342, 345, 348, 349, 353, 356, 359, 361, 363, 364, 366, 367, 368, 369, 370, 374, 375, 376, 377, 383, 391, 392, 396, 397, 398, 399, 403, 404, 405, 406, 407, 409, 410, 412, 413, 414, 415, 419, 421, 423, 426, 427, 428, 430, 434, 435, 441, 442, 443, 444, 448, 450, 454, 460, 462, 465, 467, 468, 469, 471, 473, 481, 483, 484, 485, 488, 489, 491, 492, 493, 494, 498, 499, 500, 502, 507, 508, 510, 511, 515, 517, 519, 520, 521, 523, 524, 525, 527, 529, 534, 536, 539, 542, 543, 544, 545, 552, 555, 556, 557, 558, 560, 562, 568, 570, 574, 575, 576, 578, 580, 582, 585, 587, 590, 592, 595, 597, 601, 604, 605, 606, 612, 615, 621, 624, 625, 627, 628, 630, 636, 638, 639, 641, 642, 648, 649, 650, 651, 652, 656, 659, 667, 671, 674, 676, 680, 683, 688, 693, 696, 698, 708, 710, 711, 712, 713, 715, 718, 723, 729, 736, 738, 739, 743, 749, 750, 754, 762, 766, 769]\n"
          ],
          "name": "stdout"
        }
      ]
    },
    {
      "cell_type": "code",
      "metadata": {
        "colab": {
          "base_uri": "https://localhost:8080/",
          "height": 1000
        },
        "id": "hE2h868FS2yV",
        "outputId": "6d7b1000-1e34-4a4b-c1a2-5fadba529db6"
      },
      "source": [
        "df3 = df2.iloc[valid_ids, :]\n",
        "df3"
      ],
      "execution_count": 18,
      "outputs": [
        {
          "output_type": "execute_result",
          "data": {
            "text/html": [
              "<div>\n",
              "<style scoped>\n",
              "    .dataframe tbody tr th:only-of-type {\n",
              "        vertical-align: middle;\n",
              "    }\n",
              "\n",
              "    .dataframe tbody tr th {\n",
              "        vertical-align: top;\n",
              "    }\n",
              "\n",
              "    .dataframe thead th {\n",
              "        text-align: right;\n",
              "    }\n",
              "</style>\n",
              "<table border=\"1\" class=\"dataframe\">\n",
              "  <thead>\n",
              "    <tr style=\"text-align: right;\">\n",
              "      <th></th>\n",
              "      <th>Timestamp</th>\n",
              "      <th>Score</th>\n",
              "      <th>Pen name</th>\n",
              "      <th>Q1. Gender</th>\n",
              "      <th>Q2. 高校時代の英語の偏差値はどのくらい？</th>\n",
              "      <th>Q3. 高校時代の国語の偏差値はどのくらい？</th>\n",
              "      <th>Q4. 高校時代の数学の偏差値はどのくらい？</th>\n",
              "      <th>Q5. 高校時代の理科の偏差値はどのくらい？</th>\n",
              "      <th>Q6. 高校時代の社会の偏差値はどのくらい？</th>\n",
              "      <th>Q7. 高校時代の体育の成績を５段階評価で表すと？</th>\n",
              "      <th>Q8. 高校時代、勉強がどのくらい好きだったか５段階評価で</th>\n",
              "      <th>Q9. 浪人経験はありますか？</th>\n",
              "      <th>Q10. 今の大学は第一希望でしたか？</th>\n",
              "      <th>Q11. 今、実家暮らし？一人暮らし？</th>\n",
              "      <th>Q12. 大学への通学時間は？（単位：分）</th>\n",
              "      <th>Q13. 朝ごはんは週何回くらい食べてる？</th>\n",
              "      <th>Q14. １日あたりの睡眠時間は平均何時間？</th>\n",
              "      <th>Q15. 大学の成績(GPA)は？</th>\n",
              "      <th>Q16. 今、バイトは週何時間くらい？</th>\n",
              "      <th>Q17. 部活（またはサークル活動）は週何時間？</th>\n",
              "      <th>Q18. 彼氏または彼女はいる？</th>\n",
              "      <th>Q19. あなたはリア充ですか？５段階評価で</th>\n",
              "      <th>Unnamed: 22</th>\n",
              "      <th>Q20. 上記以外に、加えて欲しい質問項目などがありましたら教えてください。</th>\n",
              "    </tr>\n",
              "  </thead>\n",
              "  <tbody>\n",
              "    <tr>\n",
              "      <th>0</th>\n",
              "      <td>5/18/2017 13:28:25</td>\n",
              "      <td>0.0</td>\n",
              "      <td>pp</td>\n",
              "      <td>男性 Male</td>\n",
              "      <td>50.0</td>\n",
              "      <td>50.0</td>\n",
              "      <td>55.0</td>\n",
              "      <td>60.0</td>\n",
              "      <td>60.0</td>\n",
              "      <td>4.0</td>\n",
              "      <td>3.0</td>\n",
              "      <td>ない（現役合格）</td>\n",
              "      <td>第二希望</td>\n",
              "      <td>実家</td>\n",
              "      <td>60.0</td>\n",
              "      <td>7.0</td>\n",
              "      <td>6.0</td>\n",
              "      <td>2.8</td>\n",
              "      <td>4.0</td>\n",
              "      <td>20.0</td>\n",
              "      <td>いる（２次元）</td>\n",
              "      <td>2.0</td>\n",
              "      <td>NaN</td>\n",
              "      <td>NaN</td>\n",
              "    </tr>\n",
              "    <tr>\n",
              "      <th>1</th>\n",
              "      <td>5/18/2017 13:28:37</td>\n",
              "      <td>0.0</td>\n",
              "      <td>chimp</td>\n",
              "      <td>男性 Male</td>\n",
              "      <td>70.0</td>\n",
              "      <td>60.0</td>\n",
              "      <td>70.0</td>\n",
              "      <td>70.0</td>\n",
              "      <td>60.0</td>\n",
              "      <td>4.0</td>\n",
              "      <td>3.0</td>\n",
              "      <td>ない（現役合格）</td>\n",
              "      <td>第一希望</td>\n",
              "      <td>実家</td>\n",
              "      <td>90.0</td>\n",
              "      <td>7.0</td>\n",
              "      <td>5.0</td>\n",
              "      <td>3.2</td>\n",
              "      <td>6.5</td>\n",
              "      <td>6.0</td>\n",
              "      <td>いない</td>\n",
              "      <td>1.0</td>\n",
              "      <td>NaN</td>\n",
              "      <td>NaN</td>\n",
              "    </tr>\n",
              "    <tr>\n",
              "      <th>2</th>\n",
              "      <td>5/18/2017 13:37:00</td>\n",
              "      <td>0.0</td>\n",
              "      <td>あんぱん</td>\n",
              "      <td>男性 Male</td>\n",
              "      <td>80.0</td>\n",
              "      <td>70.0</td>\n",
              "      <td>65.0</td>\n",
              "      <td>70.0</td>\n",
              "      <td>50.0</td>\n",
              "      <td>5.0</td>\n",
              "      <td>3.0</td>\n",
              "      <td>ない（現役合格）</td>\n",
              "      <td>第二希望</td>\n",
              "      <td>実家</td>\n",
              "      <td>90.0</td>\n",
              "      <td>7.0</td>\n",
              "      <td>6.0</td>\n",
              "      <td>2.4</td>\n",
              "      <td>0.0</td>\n",
              "      <td>15.0</td>\n",
              "      <td>いない</td>\n",
              "      <td>3.0</td>\n",
              "      <td>NaN</td>\n",
              "      <td>NaN</td>\n",
              "    </tr>\n",
              "    <tr>\n",
              "      <th>3</th>\n",
              "      <td>5/18/2017 13:40:12</td>\n",
              "      <td>0.0</td>\n",
              "      <td>あかさたな</td>\n",
              "      <td>男性 Male</td>\n",
              "      <td>40.0</td>\n",
              "      <td>50.0</td>\n",
              "      <td>55.0</td>\n",
              "      <td>55.0</td>\n",
              "      <td>50.0</td>\n",
              "      <td>3.0</td>\n",
              "      <td>3.0</td>\n",
              "      <td>ない（現役合格）</td>\n",
              "      <td>第一希望</td>\n",
              "      <td>一人</td>\n",
              "      <td>30.0</td>\n",
              "      <td>5.0</td>\n",
              "      <td>6.0</td>\n",
              "      <td>2.0</td>\n",
              "      <td>10.0</td>\n",
              "      <td>8.0</td>\n",
              "      <td>いる（リアル）</td>\n",
              "      <td>2.0</td>\n",
              "      <td>NaN</td>\n",
              "      <td>NaN</td>\n",
              "    </tr>\n",
              "    <tr>\n",
              "      <th>5</th>\n",
              "      <td>5/18/2017 13:37:15</td>\n",
              "      <td>0.0</td>\n",
              "      <td>com</td>\n",
              "      <td>男性 Male</td>\n",
              "      <td>58.0</td>\n",
              "      <td>50.0</td>\n",
              "      <td>60.0</td>\n",
              "      <td>60.0</td>\n",
              "      <td>50.0</td>\n",
              "      <td>4.0</td>\n",
              "      <td>3.0</td>\n",
              "      <td>ない（現役合格）</td>\n",
              "      <td>第一希望</td>\n",
              "      <td>実家</td>\n",
              "      <td>90.0</td>\n",
              "      <td>7.0</td>\n",
              "      <td>7.0</td>\n",
              "      <td>2.6</td>\n",
              "      <td>2.0</td>\n",
              "      <td>10.0</td>\n",
              "      <td>いる（リアル）</td>\n",
              "      <td>3.0</td>\n",
              "      <td>NaN</td>\n",
              "      <td>NaN</td>\n",
              "    </tr>\n",
              "    <tr>\n",
              "      <th>...</th>\n",
              "      <td>...</td>\n",
              "      <td>...</td>\n",
              "      <td>...</td>\n",
              "      <td>...</td>\n",
              "      <td>...</td>\n",
              "      <td>...</td>\n",
              "      <td>...</td>\n",
              "      <td>...</td>\n",
              "      <td>...</td>\n",
              "      <td>...</td>\n",
              "      <td>...</td>\n",
              "      <td>...</td>\n",
              "      <td>...</td>\n",
              "      <td>...</td>\n",
              "      <td>...</td>\n",
              "      <td>...</td>\n",
              "      <td>...</td>\n",
              "      <td>...</td>\n",
              "      <td>...</td>\n",
              "      <td>...</td>\n",
              "      <td>...</td>\n",
              "      <td>...</td>\n",
              "      <td>...</td>\n",
              "      <td>...</td>\n",
              "    </tr>\n",
              "    <tr>\n",
              "      <th>750</th>\n",
              "      <td>10/1/2020 22:12:17</td>\n",
              "      <td>0.0</td>\n",
              "      <td>cu</td>\n",
              "      <td>男性 Male</td>\n",
              "      <td>60.0</td>\n",
              "      <td>55.0</td>\n",
              "      <td>70.0</td>\n",
              "      <td>65.0</td>\n",
              "      <td>60.0</td>\n",
              "      <td>1.0</td>\n",
              "      <td>2.0</td>\n",
              "      <td>ない（現役合格）</td>\n",
              "      <td>第一希望</td>\n",
              "      <td>実家</td>\n",
              "      <td>45.0</td>\n",
              "      <td>6.0</td>\n",
              "      <td>7.5</td>\n",
              "      <td>2.5</td>\n",
              "      <td>0.0</td>\n",
              "      <td>5.0</td>\n",
              "      <td>いない</td>\n",
              "      <td>4.0</td>\n",
              "      <td>NaN</td>\n",
              "      <td>NaN</td>\n",
              "    </tr>\n",
              "    <tr>\n",
              "      <th>754</th>\n",
              "      <td>10/5/2020 12:00:06</td>\n",
              "      <td>0.0</td>\n",
              "      <td>ko</td>\n",
              "      <td>男性 Male</td>\n",
              "      <td>70.0</td>\n",
              "      <td>50.0</td>\n",
              "      <td>60.0</td>\n",
              "      <td>60.0</td>\n",
              "      <td>55.0</td>\n",
              "      <td>5.0</td>\n",
              "      <td>2.0</td>\n",
              "      <td>ない（現役合格）</td>\n",
              "      <td>第一希望</td>\n",
              "      <td>実家</td>\n",
              "      <td>6.0</td>\n",
              "      <td>7.0</td>\n",
              "      <td>7.0</td>\n",
              "      <td>2.6</td>\n",
              "      <td>7.0</td>\n",
              "      <td>8.0</td>\n",
              "      <td>いない</td>\n",
              "      <td>4.0</td>\n",
              "      <td>NaN</td>\n",
              "      <td>NaN</td>\n",
              "    </tr>\n",
              "    <tr>\n",
              "      <th>762</th>\n",
              "      <td>10/9/2020 14:04:54</td>\n",
              "      <td>0.0</td>\n",
              "      <td>theta</td>\n",
              "      <td>女性 Female</td>\n",
              "      <td>80.0</td>\n",
              "      <td>70.0</td>\n",
              "      <td>75.0</td>\n",
              "      <td>70.0</td>\n",
              "      <td>70.0</td>\n",
              "      <td>3.0</td>\n",
              "      <td>4.0</td>\n",
              "      <td>ない（現役合格）</td>\n",
              "      <td>第一希望</td>\n",
              "      <td>一人</td>\n",
              "      <td>50.0</td>\n",
              "      <td>5.0</td>\n",
              "      <td>5.0</td>\n",
              "      <td>3.0</td>\n",
              "      <td>9.0</td>\n",
              "      <td>10.0</td>\n",
              "      <td>いない</td>\n",
              "      <td>5.0</td>\n",
              "      <td>NaN</td>\n",
              "      <td>NaN</td>\n",
              "    </tr>\n",
              "    <tr>\n",
              "      <th>766</th>\n",
              "      <td>10/19/2020 20:49:17</td>\n",
              "      <td>0.0</td>\n",
              "      <td>Kimuchi_nabe</td>\n",
              "      <td>男性 Male</td>\n",
              "      <td>65.0</td>\n",
              "      <td>60.0</td>\n",
              "      <td>70.0</td>\n",
              "      <td>50.0</td>\n",
              "      <td>50.0</td>\n",
              "      <td>3.0</td>\n",
              "      <td>3.0</td>\n",
              "      <td>１浪</td>\n",
              "      <td>第一希望</td>\n",
              "      <td>実家</td>\n",
              "      <td>20.0</td>\n",
              "      <td>6.0</td>\n",
              "      <td>7.0</td>\n",
              "      <td>2.7</td>\n",
              "      <td>10.0</td>\n",
              "      <td>5.0</td>\n",
              "      <td>いる（リアル）</td>\n",
              "      <td>2.0</td>\n",
              "      <td>NaN</td>\n",
              "      <td>NaN</td>\n",
              "    </tr>\n",
              "    <tr>\n",
              "      <th>769</th>\n",
              "      <td>10/28/2020 15:13:58</td>\n",
              "      <td>0.0</td>\n",
              "      <td>meeeee</td>\n",
              "      <td>男性 Male</td>\n",
              "      <td>70.0</td>\n",
              "      <td>70.0</td>\n",
              "      <td>70.0</td>\n",
              "      <td>70.0</td>\n",
              "      <td>60.0</td>\n",
              "      <td>2.0</td>\n",
              "      <td>2.0</td>\n",
              "      <td>１浪</td>\n",
              "      <td>第一希望</td>\n",
              "      <td>一人</td>\n",
              "      <td>15.0</td>\n",
              "      <td>7.0</td>\n",
              "      <td>5.0</td>\n",
              "      <td>2.5</td>\n",
              "      <td>10.0</td>\n",
              "      <td>5.0</td>\n",
              "      <td>いない</td>\n",
              "      <td>5.0</td>\n",
              "      <td>NaN</td>\n",
              "      <td>NaN</td>\n",
              "    </tr>\n",
              "  </tbody>\n",
              "</table>\n",
              "<p>327 rows × 24 columns</p>\n",
              "</div>"
            ],
            "text/plain": [
              "               Timestamp  ...  Q20. 上記以外に、加えて欲しい質問項目などがありましたら教えてください。\n",
              "0     5/18/2017 13:28:25  ...                                     NaN\n",
              "1     5/18/2017 13:28:37  ...                                     NaN\n",
              "2     5/18/2017 13:37:00  ...                                     NaN\n",
              "3     5/18/2017 13:40:12  ...                                     NaN\n",
              "5     5/18/2017 13:37:15  ...                                     NaN\n",
              "..                   ...  ...                                     ...\n",
              "750   10/1/2020 22:12:17  ...                                     NaN\n",
              "754   10/5/2020 12:00:06  ...                                     NaN\n",
              "762   10/9/2020 14:04:54  ...                                     NaN\n",
              "766  10/19/2020 20:49:17  ...                                     NaN\n",
              "769  10/28/2020 15:13:58  ...                                     NaN\n",
              "\n",
              "[327 rows x 24 columns]"
            ]
          },
          "metadata": {
            "tags": []
          },
          "execution_count": 18
        }
      ]
    },
    {
      "cell_type": "code",
      "metadata": {
        "colab": {
          "base_uri": "https://localhost:8080/",
          "height": 281
        },
        "id": "medSZ-vbTVzF",
        "outputId": "185c84ed-51ae-446e-9b10-c20b2d989f12"
      },
      "source": [
        "df3[\"Q12. 大学への通学時間は？（単位：分）\"].hist()"
      ],
      "execution_count": 19,
      "outputs": [
        {
          "output_type": "execute_result",
          "data": {
            "text/plain": [
              "<matplotlib.axes._subplots.AxesSubplot at 0x7fb2241056d8>"
            ]
          },
          "metadata": {
            "tags": []
          },
          "execution_count": 19
        },
        {
          "output_type": "display_data",
          "data": {
            "image/png": "[encoded data removed]",
            "text/plain": [
              "<Figure size 432x288 with 1 Axes>"
            ]
          },
          "metadata": {
            "tags": [],
            "needs_background": "light"
          }
        }
      ]
    },
    {
      "cell_type": "code",
      "metadata": {
        "colab": {
          "base_uri": "https://localhost:8080/",
          "height": 281
        },
        "id": "HDjqeRpMTp3H",
        "outputId": "5323702b-02f3-4b94-e4dd-189ac3e50fb9"
      },
      "source": [
        "df3[\"Q14. １日あたりの睡眠時間は平均何時間？\"].hist()"
      ],
      "execution_count": 20,
      "outputs": [
        {
          "output_type": "execute_result",
          "data": {
            "text/plain": [
              "<matplotlib.axes._subplots.AxesSubplot at 0x7fb224090e48>"
            ]
          },
          "metadata": {
            "tags": []
          },
          "execution_count": 20
        },
        {
          "output_type": "display_data",
          "data": {
            "image/png": "[encoded data removed]",
            "text/plain": [
              "<Figure size 432x288 with 1 Axes>"
            ]
          },
          "metadata": {
            "tags": [],
            "needs_background": "light"
          }
        }
      ]
    },
    {
      "cell_type": "code",
      "metadata": {
        "colab": {
          "base_uri": "https://localhost:8080/",
          "height": 281
        },
        "id": "ZUmVE80kU3b1",
        "outputId": "58b8844a-e71a-4ce4-f33d-2d66f5e4151f"
      },
      "source": [
        "df3[\"Q15. 大学の成績(GPA)は？\"].hist()"
      ],
      "execution_count": 21,
      "outputs": [
        {
          "output_type": "execute_result",
          "data": {
            "text/plain": [
              "<matplotlib.axes._subplots.AxesSubplot at 0x7fb2240d2940>"
            ]
          },
          "metadata": {
            "tags": []
          },
          "execution_count": 21
        },
        {
          "output_type": "display_data",
          "data": {
            "image/png": "[encoded data removed]",
            "text/plain": [
              "<Figure size 432x288 with 1 Axes>"
            ]
          },
          "metadata": {
            "tags": [],
            "needs_background": "light"
          }
        }
      ]
    },
    {
      "cell_type": "code",
      "metadata": {
        "colab": {
          "base_uri": "https://localhost:8080/",
          "height": 281
        },
        "id": "UDlME4W1WcO1",
        "outputId": "18509054-0ac2-4cbc-b732-0a289ba7208b"
      },
      "source": [
        "df3[\"Q16. 今、バイトは週何時間くらい？\"].hist()"
      ],
      "execution_count": 22,
      "outputs": [
        {
          "output_type": "execute_result",
          "data": {
            "text/plain": [
              "<matplotlib.axes._subplots.AxesSubplot at 0x7fb223f8e3c8>"
            ]
          },
          "metadata": {
            "tags": []
          },
          "execution_count": 22
        },
        {
          "output_type": "display_data",
          "data": {
            "image/png": "[encoded data removed]",
            "text/plain": [
              "<Figure size 432x288 with 1 Axes>"
            ]
          },
          "metadata": {
            "tags": [],
            "needs_background": "light"
          }
        }
      ]
    },
    {
      "cell_type": "code",
      "metadata": {
        "colab": {
          "base_uri": "https://localhost:8080/",
          "height": 281
        },
        "id": "u2x-62e5WhZx",
        "outputId": "128b4f57-65b1-45b4-d4e8-1f78409de18b"
      },
      "source": [
        "df3[\"Q17. 部活（またはサークル活動）は週何時間？\"].hist()"
      ],
      "execution_count": 23,
      "outputs": [
        {
          "output_type": "execute_result",
          "data": {
            "text/plain": [
              "<matplotlib.axes._subplots.AxesSubplot at 0x7fb223f31860>"
            ]
          },
          "metadata": {
            "tags": []
          },
          "execution_count": 23
        },
        {
          "output_type": "display_data",
          "data": {
            "image/png": "[encoded data removed]",
            "text/plain": [
              "<Figure size 432x288 with 1 Axes>"
            ]
          },
          "metadata": {
            "tags": [],
            "needs_background": "light"
          }
        }
      ]
    },
    {
      "cell_type": "code",
      "metadata": {
        "colab": {
          "base_uri": "https://localhost:8080/"
        },
        "id": "azYwfTDFWmfw",
        "outputId": "243ff0ff-9dc0-48dc-8d4a-c283c4b9d3d5"
      },
      "source": [
        "!pip install japanize-matplotlib"
      ],
      "execution_count": 24,
      "outputs": [
        {
          "output_type": "stream",
          "text": [
            "Requirement already satisfied: japanize-matplotlib in /usr/local/lib/python3.6/dist-packages (1.1.3)\n",
            "Requirement already satisfied: matplotlib in /usr/local/lib/python3.6/dist-packages (from japanize-matplotlib) (3.2.2)\n",
            "Requirement already satisfied: pyparsing!=2.0.4,!=2.1.2,!=2.1.6,>=2.0.1 in /usr/local/lib/python3.6/dist-packages (from matplotlib->japanize-matplotlib) (2.4.7)\n",
            "Requirement already satisfied: cycler>=0.10 in /usr/local/lib/python3.6/dist-packages (from matplotlib->japanize-matplotlib) (0.10.0)\n",
            "Requirement already satisfied: python-dateutil>=2.1 in /usr/local/lib/python3.6/dist-packages (from matplotlib->japanize-matplotlib) (2.8.1)\n",
            "Requirement already satisfied: kiwisolver>=1.0.1 in /usr/local/lib/python3.6/dist-packages (from matplotlib->japanize-matplotlib) (1.3.1)\n",
            "Requirement already satisfied: numpy>=1.11 in /usr/local/lib/python3.6/dist-packages (from matplotlib->japanize-matplotlib) (1.19.4)\n",
            "Requirement already satisfied: six in /usr/local/lib/python3.6/dist-packages (from cycler>=0.10->matplotlib->japanize-matplotlib) (1.15.0)\n"
          ],
          "name": "stdout"
        }
      ]
    },
    {
      "cell_type": "code",
      "metadata": {
        "colab": {
          "base_uri": "https://localhost:8080/",
          "height": 294
        },
        "id": "39375nu8W4Ly",
        "outputId": "7134ec3b-6e15-481b-cc6e-4dbe19dfa1ac"
      },
      "source": [
        "import matplotlib.pyplot as plt\n",
        "import japanize_matplotlib\n",
        "\n",
        "plt.scatter(\n",
        "    df3[\"Q12. 大学への通学時間は？（単位：分）\"], \n",
        "    df3[\"Q14. １日あたりの睡眠時間は平均何時間？\"],\n",
        "    alpha=0.5\n",
        "    )\n",
        "plt.xlabel(\"Q12. 大学への通学時間は？（単位：分）\")\n",
        "plt.ylabel(\"Q14. １日あたりの睡眠時間は平均何時間？\")"
      ],
      "execution_count": 25,
      "outputs": [
        {
          "output_type": "execute_result",
          "data": {
            "text/plain": [
              "Text(0, 0.5, 'Q14. １日あたりの睡眠時間は平均何時間？')"
            ]
          },
          "metadata": {
            "tags": []
          },
          "execution_count": 25
        },
        {
          "output_type": "display_data",
          "data": {
            "image/png": "[encoded data removed]",
            "text/plain": [
              "<Figure size 432x288 with 1 Axes>"
            ]
          },
          "metadata": {
            "tags": [],
            "needs_background": "light"
          }
        }
      ]
    },
    {
      "cell_type": "code",
      "metadata": {
        "colab": {
          "base_uri": "https://localhost:8080/"
        },
        "id": "7hEnbRrJXF3g",
        "outputId": "8010ef09-0cf3-4522-d34b-b647e88afc99"
      },
      "source": [
        "q18 = list(set(df3[\"Q18. 彼氏または彼女はいる？\"]))\n",
        "q18"
      ],
      "execution_count": 26,
      "outputs": [
        {
          "output_type": "execute_result",
          "data": {
            "text/plain": [
              "['いない', 'いる（リアル）', 'いる（２次元）']"
            ]
          },
          "metadata": {
            "tags": []
          },
          "execution_count": 26
        }
      ]
    },
    {
      "cell_type": "code",
      "metadata": {
        "id": "2-SU-Rk3X8kr"
      },
      "source": [
        "q18_0 = df3[df3[\"Q18. 彼氏または彼女はいる？\"] == q18[0]]\n",
        "q18_1 = df3[df3[\"Q18. 彼氏または彼女はいる？\"] == q18[1]]\n",
        "q18_2 = df3[df3[\"Q18. 彼氏または彼女はいる？\"] == q18[2]]"
      ],
      "execution_count": 27,
      "outputs": []
    },
    {
      "cell_type": "code",
      "metadata": {
        "colab": {
          "base_uri": "https://localhost:8080/",
          "height": 336
        },
        "id": "t_EMZKJVYwLd",
        "outputId": "ddf51dcf-f9a5-4005-d4f9-55b9ef619363"
      },
      "source": [
        "fig = plt.figure(figsize=(6.4, 4.8))\n",
        "ax = fig.add_subplot(311)\n",
        "plt.title(\"Q18. 彼氏または彼女はいる？\")\n",
        "plt.hist(q18_0[\"Q19. あなたはリア充ですか？５段階評価で\"], label=q18[0])\n",
        "plt.legend()\n",
        "ax = fig.add_subplot(312)\n",
        "plt.hist(q18_1[\"Q19. あなたはリア充ですか？５段階評価で\"], label=q18[1])\n",
        "plt.legend()\n",
        "ax = fig.add_subplot(313)\n",
        "plt.hist(q18_2[\"Q19. あなたはリア充ですか？５段階評価で\"], label=q18[2])\n",
        "plt.legend()\n",
        "plt.xlabel(\"Q19. あなたはリア充ですか？５段階評価で\")\n",
        "plt.show()"
      ],
      "execution_count": 28,
      "outputs": [
        {
          "output_type": "display_data",
          "data": {
            "image/png": "[encoded data removed]",
            "text/plain": [
              "<Figure size 460.8x345.6 with 3 Axes>"
            ]
          },
          "metadata": {
            "tags": [],
            "needs_background": "light"
          }
        }
      ]
    },
    {
      "cell_type": "code",
      "metadata": {
        "colab": {
          "base_uri": "https://localhost:8080/"
        },
        "id": "Ym0OJGeOfawZ",
        "outputId": "89ed13d5-6b00-4d87-951e-d243e0430fda"
      },
      "source": [
        "!date"
      ],
      "execution_count": 29,
      "outputs": [
        {
          "output_type": "stream",
          "text": [
            "Mon Jan  4 03:52:49 UTC 2021\n"
          ],
          "name": "stdout"
        }
      ]
    },
    {
      "cell_type": "code",
      "metadata": {
        "id": "D1BZGFEAg4Lh"
      },
      "source": [
        ""
      ],
      "execution_count": 29,
      "outputs": []
    },
    {
      "cell_type": "code",
      "metadata": {
        "id": "QepvRX4EgR5X"
      },
      "source": [
        ""
      ],
      "execution_count": 29,
      "outputs": []
    }
  ]
}