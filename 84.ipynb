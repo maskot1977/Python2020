{
  "nbformat": 4,
  "nbformat_minor": 0,
  "metadata": {
    "colab": {
      "name": "84",
      "provenance": [],
      "collapsed_sections": [],
      "authorship_tag": "ABX9TyNY2n5n34JYOP1Ecg4g1q0L",
      "include_colab_link": true
    },
    "kernelspec": {
      "name": "python3",
      "display_name": "Python 3"
    }
  },
  "cells": [
    {
      "cell_type": "markdown",
      "metadata": {
        "id": "view-in-github",
        "colab_type": "text"
      },
      "source": [
        "<a href=\"https://colab.research.google.com/github/maskot1977/Python2020/blob/1209/84.ipynb\" target=\"_parent\"><img src=\"https://colab.research.google.com/assets/colab-badge.svg\" alt=\"Open In Colab\"/></a>"
      ]
    },
    {
      "cell_type": "code",
      "metadata": {
        "colab": {
          "base_uri": "https://localhost:8080/"
        },
        "id": "bxsMeRnLN4OD",
        "outputId": "5660c750-7fa2-4f9f-d8d2-1747e17dea84"
      },
      "source": [
        "!date"
      ],
      "execution_count": 1,
      "outputs": [
        {
          "output_type": "stream",
          "text": [
            "Wed Dec  9 06:37:07 UTC 2020\n"
          ],
          "name": "stdout"
        }
      ]
    },
    {
      "cell_type": "code",
      "metadata": {
        "colab": {
          "base_uri": "https://localhost:8080/"
        },
        "id": "jI-P1r6bN6K6",
        "outputId": "10c5fb46-413e-4ce9-f04c-168c3ac668f2"
      },
      "source": [
        "import scipy as sp # 科学計算ライブラリ\n",
        "from scipy import stats # 統計計算ライブラリ\n",
        "\n",
        "# 1要因の分散分析\n",
        "significance = 0.05\n",
        "a = [34, 39, 50, 72, 54, 50, 58, 64, 55, 62]\n",
        "b = [63, 75, 50, 54, 66, 31, 39, 45, 48, 60]\n",
        "c = [49, 36, 46, 56, 52, 46, 52, 68, 49, 62]\n",
        "f, p = stats.f_oneway(a, b, c)\n",
        "\n",
        "print('f 値は %(f)s' %locals())\n",
        "print('確率は %(p)s' %locals())\n",
        "\n",
        "if p < significance:\n",
        "    print('有意水準 %(significance)s で、有意な差があります' %locals())\n",
        "else:\n",
        "    print('有意水準 %(significance)s で、有意な差がありません' %locals())"
      ],
      "execution_count": 3,
      "outputs": [
        {
          "output_type": "stream",
          "text": [
            "f 値は 0.09861516667148518\n",
            "確率は 0.9064161716556407\n",
            "有意水準 0.05 で、有意な差がありません\n"
          ],
          "name": "stdout"
        }
      ]
    },
    {
      "cell_type": "code",
      "metadata": {
        "colab": {
          "base_uri": "https://localhost:8080/"
        },
        "id": "ziBajxFLN7tp",
        "outputId": "16b9f59e-0c61-4bb2-dcc1-c2ef37f743bc"
      },
      "source": [
        "import scipy as sp # 科学計算ライブラリ\n",
        "from scipy import stats # 統計計算ライブラリ\n",
        "\n",
        "# 1要因の分散分析\n",
        "significance = 0.05\n",
        "group1 = [80, 75, 80, 90, 95, 80, 80, 85, 85, 80, 90, 80, 75, 90, 85, 85, 90, 90, 85, 80]\n",
        "group2 = [75, 70, 80, 85, 90, 75, 85, 80, 80, 75, 80, 75, 70, 85, 80, 75, 80, 80, 90, 80]\n",
        "group3 = [80, 80, 80, 90, 95, 85, 95, 90, 85, 90, 95, 85, 98, 95, 85, 85, 90, 90, 85, 85]\n",
        "\n",
        "f, p = stats.f_oneway(group1, group2, group3)\n",
        "\n",
        "print('f 値は %(f)s' %locals())\n",
        "print('確率は %(p)s' %locals())\n",
        "\n",
        "if p < significance:\n",
        "    print('有意水準 %(significance)s で、有意な差があります' %locals())\n",
        "else:\n",
        "    print('有意水準 %(significance)s で、有意な差がありません' %locals())"
      ],
      "execution_count": 4,
      "outputs": [
        {
          "output_type": "stream",
          "text": [
            "f 値は 12.223110194494566\n",
            "確率は 3.824826458393889e-05\n",
            "有意水準 0.05 で、有意な差があります\n"
          ],
          "name": "stdout"
        }
      ]
    },
    {
      "cell_type": "code",
      "metadata": {
        "colab": {
          "base_uri": "https://localhost:8080/"
        },
        "id": "INygO1MUOtx-",
        "outputId": "de6f626a-7111-46e3-9db9-ecba20608040"
      },
      "source": [
        "!date"
      ],
      "execution_count": 5,
      "outputs": [
        {
          "output_type": "stream",
          "text": [
            "Wed Dec  9 06:40:36 UTC 2020\n"
          ],
          "name": "stdout"
        }
      ]
    },
    {
      "cell_type": "code",
      "metadata": {
        "id": "DrKTfkPzOu9D"
      },
      "source": [
        ""
      ],
      "execution_count": null,
      "outputs": []
    }
  ]
}