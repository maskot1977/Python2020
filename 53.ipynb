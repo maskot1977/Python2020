{
  "nbformat": 4,
  "nbformat_minor": 0,
  "metadata": {
    "colab": {
      "name": "53",
      "provenance": [],
      "collapsed_sections": [],
      "authorship_tag": "ABX9TyOsrolexk+qQAwji75iyaBH",
      "include_colab_link": true
    },
    "kernelspec": {
      "name": "python3",
      "display_name": "Python 3"
    }
  },
  "cells": [
    {
      "cell_type": "markdown",
      "metadata": {
        "id": "view-in-github",
        "colab_type": "text"
      },
      "source": [
        "<a href=\"https://colab.research.google.com/github/maskot1977/Python2020/blob/1028/53.ipynb\" target=\"_parent\"><img src=\"https://colab.research.google.com/assets/colab-badge.svg\" alt=\"Open In Colab\"/></a>"
      ]
    },
    {
      "cell_type": "code",
      "metadata": {
        "id": "skp0yhwzpvbC",
        "outputId": "ab14c8dc-952b-48bb-c747-34fb85632c1c",
        "colab": {
          "base_uri": "https://localhost:8080/",
          "height": 35
        }
      },
      "source": [
        "!date"
      ],
      "execution_count": 1,
      "outputs": [
        {
          "output_type": "stream",
          "text": [
            "Wed Oct 28 05:21:12 UTC 2020\n"
          ],
          "name": "stdout"
        }
      ]
    },
    {
      "cell_type": "code",
      "metadata": {
        "id": "jrD6fXVupxGD"
      },
      "source": [
        "def question53(sahen, uhen):\n",
        "    for i in range(len(sahen) - 1):\n",
        "        for j in range(i + 1, len(sahen)):\n",
        "            if i == j:\n",
        "                coef = 1\n",
        "            else:\n",
        "                coef = sahen[j][i] / sahen[i][i]\n",
        "\n",
        "            for k in range(len(sahen[j])):\n",
        "                sahen[j][k] -= sahen[i][k] * coef\n",
        "\n",
        "            uhen[j] -= uhen[i] * coef\n",
        "\n",
        "    for i in range(len(sahen) - 1, 0, -1):\n",
        "        uhen[i] /= sahen[i][i]\n",
        "        for k in range(len(sahen[i])):\n",
        "            if i == k:\n",
        "                sahen[i][k] = 1\n",
        "            else:\n",
        "                sahen[i][k] /= sahen[i][i]\n",
        "        for j in range(i):\n",
        "            uhen[j] -= uhen[i] * sahen[j][i]\n",
        "            sahen[j][i] = 0\n",
        "\n",
        "    return uhen"
      ],
      "execution_count": 32,
      "outputs": []
    },
    {
      "cell_type": "code",
      "metadata": {
        "id": "hUne0sYzqbpC"
      },
      "source": [
        "sahen = [\n",
        "         [1., 5., 1., -1.], \n",
        "         [3., 2., 7., 1.], \n",
        "         [4., 1., 3., -2.], \n",
        "         [1., 6., 4., 3.]\n",
        "         ]\n",
        "uhen = [5., 8., 7., 13.]"
      ],
      "execution_count": 33,
      "outputs": []
    },
    {
      "cell_type": "code",
      "metadata": {
        "id": "rzLdrSGgqtDu",
        "outputId": "02031884-a297-47d0-de20-db737dae486a",
        "colab": {
          "base_uri": "https://localhost:8080/",
          "height": 35
        }
      },
      "source": [
        "question53(sahen, uhen)"
      ],
      "execution_count": 34,
      "outputs": [
        {
          "output_type": "execute_result",
          "data": {
            "text/plain": [
              "[3.5, 1.0, -0.9999999999999999, 2.5]"
            ]
          },
          "metadata": {
            "tags": []
          },
          "execution_count": 34
        }
      ]
    },
    {
      "cell_type": "code",
      "metadata": {
        "id": "tJoHFfIPqvqH",
        "outputId": "116a3a90-f28c-4c7e-9811-85b9f7ba02ec",
        "colab": {
          "base_uri": "https://localhost:8080/",
          "height": 35
        }
      },
      "source": [
        "!date"
      ],
      "execution_count": 35,
      "outputs": [
        {
          "output_type": "stream",
          "text": [
            "Wed Oct 28 05:37:08 UTC 2020\n"
          ],
          "name": "stdout"
        }
      ]
    },
    {
      "cell_type": "code",
      "metadata": {
        "id": "hnHheZJmtb3w"
      },
      "source": [
        ""
      ],
      "execution_count": null,
      "outputs": []
    }
  ]
}