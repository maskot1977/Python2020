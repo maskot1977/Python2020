{
  "nbformat": 4,
  "nbformat_minor": 0,
  "metadata": {
    "colab": {
      "name": "24",
      "provenance": [],
      "collapsed_sections": [],
      "authorship_tag": "ABX9TyPt2xdLPDDCaDW1LJjl+ZCI",
      "include_colab_link": true
    },
    "kernelspec": {
      "name": "python3",
      "display_name": "Python 3"
    }
  },
  "cells": [
    {
      "cell_type": "markdown",
      "metadata": {
        "id": "view-in-github",
        "colab_type": "text"
      },
      "source": [
        "<a href=\"https://colab.research.google.com/github/maskot1977/Python2020/blob/1012/24.ipynb\" target=\"_parent\"><img src=\"https://colab.research.google.com/assets/colab-badge.svg\" alt=\"Open In Colab\"/></a>"
      ]
    },
    {
      "cell_type": "code",
      "metadata": {
        "id": "m6jO-0WsUbq9",
        "outputId": "faf277c4-f5c7-4cd2-c01b-6ac286ec2518",
        "colab": {
          "base_uri": "https://localhost:8080/",
          "height": 35
        }
      },
      "source": [
        "!date"
      ],
      "execution_count": 1,
      "outputs": [
        {
          "output_type": "stream",
          "text": [
            "Mon Oct 12 01:29:25 UTC 2020\n"
          ],
          "name": "stdout"
        }
      ]
    },
    {
      "cell_type": "code",
      "metadata": {
        "id": "6rd6NRcyUdnj",
        "outputId": "d061c831-5a1e-4c0a-9caf-4af72d75e522",
        "colab": {
          "base_uri": "https://localhost:8080/",
          "height": 35
        }
      },
      "source": [
        "import urllib.request\n",
        "\n",
        "url = 'https://raw.githubusercontent.com/maskot1977/ipython_notebook/master/toydata/iris.txt'\n",
        "\n",
        "urllib.request.urlretrieve(url, 'iris.txt')"
      ],
      "execution_count": 2,
      "outputs": [
        {
          "output_type": "execute_result",
          "data": {
            "text/plain": [
              "('iris.txt', <http.client.HTTPMessage at 0x7fe75b623ef0>)"
            ]
          },
          "metadata": {
            "tags": []
          },
          "execution_count": 2
        }
      ]
    },
    {
      "cell_type": "code",
      "metadata": {
        "id": "broHWx0yUhlN"
      },
      "source": [
        "col1 = []\n",
        "col2 = []\n",
        "col3 = []\n",
        "col4 = []\n",
        "col5 = []\n",
        "col6 = []\n",
        "for i, line in enumerate(open('iris.txt')):\n",
        "    if i == 0:\n",
        "        continue\n",
        "    c = line.split(\"\\t\")\n",
        "    col1.append(c[0])\n",
        "    col2.append(float(c[1]))\n",
        "    col3.append(float(c[2]))\n",
        "    col4.append(float(c[3]))\n",
        "    col5.append(float(c[4]))\n",
        "    col6.append(float(c[5]))"
      ],
      "execution_count": 3,
      "outputs": []
    },
    {
      "cell_type": "code",
      "metadata": {
        "id": "afj7KUIaUkO_"
      },
      "source": [
        "# 平均値を求める関数を作ろう\n",
        "def mean(list_):\n",
        "    sum = 0.\n",
        "    for x in list_:\n",
        "        sum += x\n",
        "\n",
        "    return sum / len(list_)"
      ],
      "execution_count": 4,
      "outputs": []
    },
    {
      "cell_type": "code",
      "metadata": {
        "id": "J38kHNRpbV0g"
      },
      "source": [
        "# 分散を求める関数を作ろう\n",
        "def variance(list_):\n",
        "    sum = 0.\n",
        "    for x in list_:\n",
        "        sum += (x - mean(list_))**2\n",
        "\n",
        "    return sum / len(list_)"
      ],
      "execution_count": 5,
      "outputs": []
    },
    {
      "cell_type": "code",
      "metadata": {
        "id": "88MeDcCFUxCh",
        "outputId": "9985cbbb-d649-434c-9418-d87321bd58eb",
        "colab": {
          "base_uri": "https://localhost:8080/",
          "height": 86
        }
      },
      "source": [
        "print(\"Sepal.Length:\", variance(col2))\n",
        "print(\"Sepal.Width:\", variance(col3)) \n",
        "print(\"Petal.Length:\", variance(col4))\n",
        "print(\"Petal.Width:\", variance(col5))"
      ],
      "execution_count": 6,
      "outputs": [
        {
          "output_type": "stream",
          "text": [
            "Sepal.Length: 0.6811222222222222\n",
            "Sepal.Width: 0.1887128888888887\n",
            "Petal.Length: 3.0955026666666674\n",
            "Petal.Width: 0.5771328888888888\n"
          ],
          "name": "stdout"
        }
      ]
    },
    {
      "cell_type": "code",
      "metadata": {
        "id": "YbJjtCyjUpAK",
        "outputId": "d00f46f6-f90c-4472-9212-98d6465257bf",
        "colab": {
          "base_uri": "https://localhost:8080/",
          "height": 35
        }
      },
      "source": [
        "!date"
      ],
      "execution_count": 7,
      "outputs": [
        {
          "output_type": "stream",
          "text": [
            "Mon Oct 12 01:31:15 UTC 2020\n"
          ],
          "name": "stdout"
        }
      ]
    },
    {
      "cell_type": "code",
      "metadata": {
        "id": "ENkkiyF8Ut7U"
      },
      "source": [
        ""
      ],
      "execution_count": null,
      "outputs": []
    }
  ]
}