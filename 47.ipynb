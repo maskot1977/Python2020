{
  "nbformat": 4,
  "nbformat_minor": 0,
  "metadata": {
    "colab": {
      "name": "47",
      "provenance": [],
      "collapsed_sections": [],
      "authorship_tag": "ABX9TyOX2y1y2JMzIpNUrQeDJ0ff",
      "include_colab_link": true
    },
    "kernelspec": {
      "name": "python3",
      "display_name": "Python 3"
    }
  },
  "cells": [
    {
      "cell_type": "markdown",
      "metadata": {
        "id": "view-in-github",
        "colab_type": "text"
      },
      "source": [
        "<a href=\"https://colab.research.google.com/github/maskot1977/Python2020/blob/1019/47.ipynb\" target=\"_parent\"><img src=\"https://colab.research.google.com/assets/colab-badge.svg\" alt=\"Open In Colab\"/></a>"
      ]
    },
    {
      "cell_type": "code",
      "metadata": {
        "id": "6fkjmvjD1iCY",
        "outputId": "19539067-82e8-41e6-c99a-f8d14a6622f8",
        "colab": {
          "base_uri": "https://localhost:8080/",
          "height": 34
        }
      },
      "source": [
        "!date"
      ],
      "execution_count": 1,
      "outputs": [
        {
          "output_type": "stream",
          "text": [
            "Mon Oct 19 08:02:06 UTC 2020\n"
          ],
          "name": "stdout"
        }
      ]
    },
    {
      "cell_type": "code",
      "metadata": {
        "id": "3b3zMSgv1jws",
        "outputId": "767f2cfd-12c4-41c2-9a2d-0e8049058bfb",
        "colab": {
          "base_uri": "https://localhost:8080/",
          "height": 34
        }
      },
      "source": [
        "import urllib.request\n",
        "url = 'https://raw.githubusercontent.com/maskot1977/ipython_notebook/master/toydata/islands.txt'\n",
        "urllib.request.urlretrieve(url, 'islands.txt') # データのダウンロード"
      ],
      "execution_count": 2,
      "outputs": [
        {
          "output_type": "execute_result",
          "data": {
            "text/plain": [
              "('islands.txt', <http.client.HTTPMessage at 0x7fc801a52e80>)"
            ]
          },
          "metadata": {
            "tags": []
          },
          "execution_count": 2
        }
      ]
    },
    {
      "cell_type": "code",
      "metadata": {
        "id": "tqh2bodT1w0Q"
      },
      "source": [
        "islands = []\n",
        "for line in open('islands.txt'):\n",
        "    c = line.split(\"\\t\")\n",
        "    islands.append([c[0], float(c[1])])"
      ],
      "execution_count": 3,
      "outputs": []
    },
    {
      "cell_type": "code",
      "metadata": {
        "id": "2I2bq06T12IR",
        "outputId": "6b8138a3-7b62-41af-d67d-d6e235945253",
        "colab": {
          "base_uri": "https://localhost:8080/",
          "height": 54
        }
      },
      "source": [
        "print(islands)"
      ],
      "execution_count": 4,
      "outputs": [
        {
          "output_type": "stream",
          "text": [
            "[['Africa', 11506.0], ['Antarctica', 5500.0], ['Asia', 16988.0], ['Australia', 2968.0], ['Axel Heiberg', 16.0], ['Baffin', 184.0], ['Banks', 23.0], ['Borneo', 280.0], ['Britain', 84.0], ['Celebes', 73.0], ['Celon', 25.0], ['Cuba', 43.0], ['Devon', 21.0], ['Ellesmere', 82.0], ['Europe', 3745.0], ['Greenland', 840.0], ['Hainan', 13.0], ['Hispaniola', 30.0], ['Hokkaido', 30.0], ['Honshu', 89.0], ['Iceland', 40.0], ['Ireland', 33.0], ['Java', 49.0], ['Kyushu', 14.0], ['Luzon', 42.0], ['Madagascar', 227.0], ['Melville', 16.0], ['Mindanao', 36.0], ['Moluccas', 29.0], ['New Britain', 15.0], ['New Guinea', 306.0], ['New Zealand (N)', 44.0], ['New Zealand (S)', 58.0], ['Newfoundland', 43.0], ['North America', 9390.0], ['Novaya Zemlya', 32.0], ['Prince of Wales', 13.0], ['Sakhalin', 29.0], ['South America', 6795.0], ['Southampton', 16.0], ['Spitsbergen', 15.0], ['Sumatra', 183.0], ['Taiwan', 14.0], ['Tasmania', 26.0], ['Tierra del Fuego', 19.0], ['Timor', 13.0], ['Vancouver', 12.0], ['Victoria', 82.0]]\n"
          ],
          "name": "stdout"
        }
      ]
    },
    {
      "cell_type": "code",
      "metadata": {
        "id": "iYVrS38T2IuA"
      },
      "source": [
        "def bubble_sort(data):\n",
        "    for i in range(len(data)):\n",
        "        for j in range(len(data) - 1, i, - 1):\n",
        "            if data[j][1] < data[j - 1][1]:\n",
        "                data[j][1], data[j - 1][1] = data[j - 1][1], data[j][1]\n",
        "                data[j][0], data[j - 1][0] = data[j - 1][0], data[j][0]\n",
        "    return data"
      ],
      "execution_count": 5,
      "outputs": []
    },
    {
      "cell_type": "code",
      "metadata": {
        "id": "UPREdCqa2prX",
        "outputId": "d59b6b98-37cd-4ef3-9a93-a05003d99be1",
        "colab": {
          "base_uri": "https://localhost:8080/",
          "height": 833
        }
      },
      "source": [
        "bubble_sort(islands)"
      ],
      "execution_count": 6,
      "outputs": [
        {
          "output_type": "execute_result",
          "data": {
            "text/plain": [
              "[['Vancouver', 12.0],\n",
              " ['Hainan', 13.0],\n",
              " ['Prince of Wales', 13.0],\n",
              " ['Timor', 13.0],\n",
              " ['Kyushu', 14.0],\n",
              " ['Taiwan', 14.0],\n",
              " ['New Britain', 15.0],\n",
              " ['Spitsbergen', 15.0],\n",
              " ['Axel Heiberg', 16.0],\n",
              " ['Melville', 16.0],\n",
              " ['Southampton', 16.0],\n",
              " ['Tierra del Fuego', 19.0],\n",
              " ['Devon', 21.0],\n",
              " ['Banks', 23.0],\n",
              " ['Celon', 25.0],\n",
              " ['Tasmania', 26.0],\n",
              " ['Moluccas', 29.0],\n",
              " ['Sakhalin', 29.0],\n",
              " ['Hispaniola', 30.0],\n",
              " ['Hokkaido', 30.0],\n",
              " ['Novaya Zemlya', 32.0],\n",
              " ['Ireland', 33.0],\n",
              " ['Mindanao', 36.0],\n",
              " ['Iceland', 40.0],\n",
              " ['Luzon', 42.0],\n",
              " ['Cuba', 43.0],\n",
              " ['Newfoundland', 43.0],\n",
              " ['New Zealand (N)', 44.0],\n",
              " ['Java', 49.0],\n",
              " ['New Zealand (S)', 58.0],\n",
              " ['Celebes', 73.0],\n",
              " ['Ellesmere', 82.0],\n",
              " ['Victoria', 82.0],\n",
              " ['Britain', 84.0],\n",
              " ['Honshu', 89.0],\n",
              " ['Sumatra', 183.0],\n",
              " ['Baffin', 184.0],\n",
              " ['Madagascar', 227.0],\n",
              " ['Borneo', 280.0],\n",
              " ['New Guinea', 306.0],\n",
              " ['Greenland', 840.0],\n",
              " ['Australia', 2968.0],\n",
              " ['Europe', 3745.0],\n",
              " ['Antarctica', 5500.0],\n",
              " ['South America', 6795.0],\n",
              " ['North America', 9390.0],\n",
              " ['Africa', 11506.0],\n",
              " ['Asia', 16988.0]]"
            ]
          },
          "metadata": {
            "tags": []
          },
          "execution_count": 6
        }
      ]
    },
    {
      "cell_type": "code",
      "metadata": {
        "id": "lPP555z-2vgZ",
        "outputId": "0c8340fd-eb6b-49ed-ee89-e94ad32e58e0",
        "colab": {
          "base_uri": "https://localhost:8080/",
          "height": 54
        }
      },
      "source": [
        "print(islands)"
      ],
      "execution_count": 7,
      "outputs": [
        {
          "output_type": "stream",
          "text": [
            "[['Vancouver', 12.0], ['Hainan', 13.0], ['Prince of Wales', 13.0], ['Timor', 13.0], ['Kyushu', 14.0], ['Taiwan', 14.0], ['New Britain', 15.0], ['Spitsbergen', 15.0], ['Axel Heiberg', 16.0], ['Melville', 16.0], ['Southampton', 16.0], ['Tierra del Fuego', 19.0], ['Devon', 21.0], ['Banks', 23.0], ['Celon', 25.0], ['Tasmania', 26.0], ['Moluccas', 29.0], ['Sakhalin', 29.0], ['Hispaniola', 30.0], ['Hokkaido', 30.0], ['Novaya Zemlya', 32.0], ['Ireland', 33.0], ['Mindanao', 36.0], ['Iceland', 40.0], ['Luzon', 42.0], ['Cuba', 43.0], ['Newfoundland', 43.0], ['New Zealand (N)', 44.0], ['Java', 49.0], ['New Zealand (S)', 58.0], ['Celebes', 73.0], ['Ellesmere', 82.0], ['Victoria', 82.0], ['Britain', 84.0], ['Honshu', 89.0], ['Sumatra', 183.0], ['Baffin', 184.0], ['Madagascar', 227.0], ['Borneo', 280.0], ['New Guinea', 306.0], ['Greenland', 840.0], ['Australia', 2968.0], ['Europe', 3745.0], ['Antarctica', 5500.0], ['South America', 6795.0], ['North America', 9390.0], ['Africa', 11506.0], ['Asia', 16988.0]]\n"
          ],
          "name": "stdout"
        }
      ]
    },
    {
      "cell_type": "code",
      "metadata": {
        "id": "_2GXGeBT21DS"
      },
      "source": [
        "islands = []\n",
        "for line in open('islands.txt'):\n",
        "    c = line.split(\"\\t\")\n",
        "    islands.append([c[0], float(c[1])])"
      ],
      "execution_count": 8,
      "outputs": []
    },
    {
      "cell_type": "code",
      "metadata": {
        "id": "sfXrjQxS3Hp1",
        "outputId": "a0aa1725-9dce-4abd-c992-8eba5be0859b",
        "colab": {
          "base_uri": "https://localhost:8080/",
          "height": 54
        }
      },
      "source": [
        "print(islands)"
      ],
      "execution_count": 9,
      "outputs": [
        {
          "output_type": "stream",
          "text": [
            "[['Africa', 11506.0], ['Antarctica', 5500.0], ['Asia', 16988.0], ['Australia', 2968.0], ['Axel Heiberg', 16.0], ['Baffin', 184.0], ['Banks', 23.0], ['Borneo', 280.0], ['Britain', 84.0], ['Celebes', 73.0], ['Celon', 25.0], ['Cuba', 43.0], ['Devon', 21.0], ['Ellesmere', 82.0], ['Europe', 3745.0], ['Greenland', 840.0], ['Hainan', 13.0], ['Hispaniola', 30.0], ['Hokkaido', 30.0], ['Honshu', 89.0], ['Iceland', 40.0], ['Ireland', 33.0], ['Java', 49.0], ['Kyushu', 14.0], ['Luzon', 42.0], ['Madagascar', 227.0], ['Melville', 16.0], ['Mindanao', 36.0], ['Moluccas', 29.0], ['New Britain', 15.0], ['New Guinea', 306.0], ['New Zealand (N)', 44.0], ['New Zealand (S)', 58.0], ['Newfoundland', 43.0], ['North America', 9390.0], ['Novaya Zemlya', 32.0], ['Prince of Wales', 13.0], ['Sakhalin', 29.0], ['South America', 6795.0], ['Southampton', 16.0], ['Spitsbergen', 15.0], ['Sumatra', 183.0], ['Taiwan', 14.0], ['Tasmania', 26.0], ['Tierra del Fuego', 19.0], ['Timor', 13.0], ['Vancouver', 12.0], ['Victoria', 82.0]]\n"
          ],
          "name": "stdout"
        }
      ]
    },
    {
      "cell_type": "code",
      "metadata": {
        "id": "4vpfXnSp3InO"
      },
      "source": [
        "def insertion_sort(data):\n",
        "    for i in range(len(data) - 1):\n",
        "        j = i + 1\n",
        "        while i >= 0:\n",
        "            if data[j][1] < data[i][1]:\n",
        "                data[i][1], data[j][1] = data[j][1], data[i][1]\n",
        "                data[i][0], data[j][0] = data[j][0], data[i][0]\n",
        "                i -= 1\n",
        "                j -= 1\n",
        "            else:\n",
        "                break\n",
        "    return data"
      ],
      "execution_count": 10,
      "outputs": []
    },
    {
      "cell_type": "code",
      "metadata": {
        "id": "nB3MeTIx3sDO",
        "outputId": "e559a408-cb82-4981-8bd7-24c2b18c14ce",
        "colab": {
          "base_uri": "https://localhost:8080/",
          "height": 833
        }
      },
      "source": [
        "insertion_sort(islands)"
      ],
      "execution_count": 11,
      "outputs": [
        {
          "output_type": "execute_result",
          "data": {
            "text/plain": [
              "[['Vancouver', 12.0],\n",
              " ['Hainan', 13.0],\n",
              " ['Prince of Wales', 13.0],\n",
              " ['Timor', 13.0],\n",
              " ['Kyushu', 14.0],\n",
              " ['Taiwan', 14.0],\n",
              " ['New Britain', 15.0],\n",
              " ['Spitsbergen', 15.0],\n",
              " ['Axel Heiberg', 16.0],\n",
              " ['Melville', 16.0],\n",
              " ['Southampton', 16.0],\n",
              " ['Tierra del Fuego', 19.0],\n",
              " ['Devon', 21.0],\n",
              " ['Banks', 23.0],\n",
              " ['Celon', 25.0],\n",
              " ['Tasmania', 26.0],\n",
              " ['Moluccas', 29.0],\n",
              " ['Sakhalin', 29.0],\n",
              " ['Hispaniola', 30.0],\n",
              " ['Hokkaido', 30.0],\n",
              " ['Novaya Zemlya', 32.0],\n",
              " ['Ireland', 33.0],\n",
              " ['Mindanao', 36.0],\n",
              " ['Iceland', 40.0],\n",
              " ['Luzon', 42.0],\n",
              " ['Cuba', 43.0],\n",
              " ['Newfoundland', 43.0],\n",
              " ['New Zealand (N)', 44.0],\n",
              " ['Java', 49.0],\n",
              " ['New Zealand (S)', 58.0],\n",
              " ['Celebes', 73.0],\n",
              " ['Ellesmere', 82.0],\n",
              " ['Victoria', 82.0],\n",
              " ['Britain', 84.0],\n",
              " ['Honshu', 89.0],\n",
              " ['Sumatra', 183.0],\n",
              " ['Baffin', 184.0],\n",
              " ['Madagascar', 227.0],\n",
              " ['Borneo', 280.0],\n",
              " ['New Guinea', 306.0],\n",
              " ['Greenland', 840.0],\n",
              " ['Australia', 2968.0],\n",
              " ['Europe', 3745.0],\n",
              " ['Antarctica', 5500.0],\n",
              " ['South America', 6795.0],\n",
              " ['North America', 9390.0],\n",
              " ['Africa', 11506.0],\n",
              " ['Asia', 16988.0]]"
            ]
          },
          "metadata": {
            "tags": []
          },
          "execution_count": 11
        }
      ]
    },
    {
      "cell_type": "code",
      "metadata": {
        "id": "pz24fG973vGd",
        "outputId": "48674fbc-5063-46a8-ebd4-f6d381e24705",
        "colab": {
          "base_uri": "https://localhost:8080/",
          "height": 54
        }
      },
      "source": [
        "print(islands)"
      ],
      "execution_count": 12,
      "outputs": [
        {
          "output_type": "stream",
          "text": [
            "[['Vancouver', 12.0], ['Hainan', 13.0], ['Prince of Wales', 13.0], ['Timor', 13.0], ['Kyushu', 14.0], ['Taiwan', 14.0], ['New Britain', 15.0], ['Spitsbergen', 15.0], ['Axel Heiberg', 16.0], ['Melville', 16.0], ['Southampton', 16.0], ['Tierra del Fuego', 19.0], ['Devon', 21.0], ['Banks', 23.0], ['Celon', 25.0], ['Tasmania', 26.0], ['Moluccas', 29.0], ['Sakhalin', 29.0], ['Hispaniola', 30.0], ['Hokkaido', 30.0], ['Novaya Zemlya', 32.0], ['Ireland', 33.0], ['Mindanao', 36.0], ['Iceland', 40.0], ['Luzon', 42.0], ['Cuba', 43.0], ['Newfoundland', 43.0], ['New Zealand (N)', 44.0], ['Java', 49.0], ['New Zealand (S)', 58.0], ['Celebes', 73.0], ['Ellesmere', 82.0], ['Victoria', 82.0], ['Britain', 84.0], ['Honshu', 89.0], ['Sumatra', 183.0], ['Baffin', 184.0], ['Madagascar', 227.0], ['Borneo', 280.0], ['New Guinea', 306.0], ['Greenland', 840.0], ['Australia', 2968.0], ['Europe', 3745.0], ['Antarctica', 5500.0], ['South America', 6795.0], ['North America', 9390.0], ['Africa', 11506.0], ['Asia', 16988.0]]\n"
          ],
          "name": "stdout"
        }
      ]
    },
    {
      "cell_type": "code",
      "metadata": {
        "id": "ux9-3RO83yAM"
      },
      "source": [
        "islands = []\n",
        "for line in open('islands.txt'):\n",
        "    c = line.split(\"\\t\")\n",
        "    islands.append([c[0], float(c[1])])"
      ],
      "execution_count": 13,
      "outputs": []
    },
    {
      "cell_type": "code",
      "metadata": {
        "id": "dB94Aeh830sG"
      },
      "source": [
        "def quick_sort(data):\n",
        "    left_data = []\n",
        "    right_data = []\n",
        "    if len(data) <= 1:\n",
        "        return data\n",
        "\n",
        "    pivot = data[0][1]\n",
        "    pivot_c = []\n",
        "\n",
        "    for i in range(len(data)):\n",
        "        if data[i][1] < pivot:\n",
        "            left_data.append([data[i][0], data[i][1]])\n",
        "        elif data[i][1] > pivot:\n",
        "            right_data.append([data[i][0], data[i][1]])\n",
        "        else:\n",
        "            pivot_c.append([data[i][0], data[i][1]])\n",
        "\n",
        "    left_data = quick_sort(left_data)\n",
        "    right_data = quick_sort(right_data)\n",
        "\n",
        "    return left_data + pivot_c + right_data"
      ],
      "execution_count": 14,
      "outputs": []
    },
    {
      "cell_type": "code",
      "metadata": {
        "id": "1MKfr75g4HJ2",
        "outputId": "e32d6eac-8b4a-4896-b382-ee4438052f82",
        "colab": {
          "base_uri": "https://localhost:8080/",
          "height": 833
        }
      },
      "source": [
        "quick_sort(islands)"
      ],
      "execution_count": 15,
      "outputs": [
        {
          "output_type": "execute_result",
          "data": {
            "text/plain": [
              "[['Vancouver', 12.0],\n",
              " ['Hainan', 13.0],\n",
              " ['Prince of Wales', 13.0],\n",
              " ['Timor', 13.0],\n",
              " ['Kyushu', 14.0],\n",
              " ['Taiwan', 14.0],\n",
              " ['New Britain', 15.0],\n",
              " ['Spitsbergen', 15.0],\n",
              " ['Axel Heiberg', 16.0],\n",
              " ['Melville', 16.0],\n",
              " ['Southampton', 16.0],\n",
              " ['Tierra del Fuego', 19.0],\n",
              " ['Devon', 21.0],\n",
              " ['Banks', 23.0],\n",
              " ['Celon', 25.0],\n",
              " ['Tasmania', 26.0],\n",
              " ['Moluccas', 29.0],\n",
              " ['Sakhalin', 29.0],\n",
              " ['Hispaniola', 30.0],\n",
              " ['Hokkaido', 30.0],\n",
              " ['Novaya Zemlya', 32.0],\n",
              " ['Ireland', 33.0],\n",
              " ['Mindanao', 36.0],\n",
              " ['Iceland', 40.0],\n",
              " ['Luzon', 42.0],\n",
              " ['Cuba', 43.0],\n",
              " ['Newfoundland', 43.0],\n",
              " ['New Zealand (N)', 44.0],\n",
              " ['Java', 49.0],\n",
              " ['New Zealand (S)', 58.0],\n",
              " ['Celebes', 73.0],\n",
              " ['Ellesmere', 82.0],\n",
              " ['Victoria', 82.0],\n",
              " ['Britain', 84.0],\n",
              " ['Honshu', 89.0],\n",
              " ['Sumatra', 183.0],\n",
              " ['Baffin', 184.0],\n",
              " ['Madagascar', 227.0],\n",
              " ['Borneo', 280.0],\n",
              " ['New Guinea', 306.0],\n",
              " ['Greenland', 840.0],\n",
              " ['Australia', 2968.0],\n",
              " ['Europe', 3745.0],\n",
              " ['Antarctica', 5500.0],\n",
              " ['South America', 6795.0],\n",
              " ['North America', 9390.0],\n",
              " ['Africa', 11506.0],\n",
              " ['Asia', 16988.0]]"
            ]
          },
          "metadata": {
            "tags": []
          },
          "execution_count": 15
        }
      ]
    },
    {
      "cell_type": "code",
      "metadata": {
        "id": "7vPny3is4Jo7",
        "outputId": "be4f2e72-ed93-4870-c674-1ae25c8f9278",
        "colab": {
          "base_uri": "https://localhost:8080/",
          "height": 34
        }
      },
      "source": [
        "!date"
      ],
      "execution_count": 16,
      "outputs": [
        {
          "output_type": "stream",
          "text": [
            "Mon Oct 19 08:02:07 UTC 2020\n"
          ],
          "name": "stdout"
        }
      ]
    },
    {
      "cell_type": "code",
      "metadata": {
        "id": "fjtC4KEi4RHC"
      },
      "source": [
        ""
      ],
      "execution_count": 16,
      "outputs": []
    }
  ]
}