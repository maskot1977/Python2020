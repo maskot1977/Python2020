{
  "nbformat": 4,
  "nbformat_minor": 0,
  "metadata": {
    "colab": {
      "name": "49",
      "provenance": [],
      "collapsed_sections": [],
      "authorship_tag": "ABX9TyOlhbSfL0O3hYHcUtETNlFz",
      "include_colab_link": true
    },
    "kernelspec": {
      "name": "python3",
      "display_name": "Python 3"
    }
  },
  "cells": [
    {
      "cell_type": "markdown",
      "metadata": {
        "id": "view-in-github",
        "colab_type": "text"
      },
      "source": [
        "<a href=\"https://colab.research.google.com/github/maskot1977/Python2020/blob/1019/49.ipynb\" target=\"_parent\"><img src=\"https://colab.research.google.com/assets/colab-badge.svg\" alt=\"Open In Colab\"/></a>"
      ]
    },
    {
      "cell_type": "code",
      "metadata": {
        "id": "FJgLfyZMsJag",
        "outputId": "692b8ab2-2fc6-488b-d578-76d428d2455d",
        "colab": {
          "base_uri": "https://localhost:8080/",
          "height": 35
        }
      },
      "source": [
        "!date"
      ],
      "execution_count": 1,
      "outputs": [
        {
          "output_type": "stream",
          "text": [
            "Wed Oct 21 01:21:32 UTC 2020\n"
          ],
          "name": "stdout"
        }
      ]
    },
    {
      "cell_type": "code",
      "metadata": {
        "id": "wBOTwDafsLbc"
      },
      "source": [
        "import math\n",
        "def question49(f, df, x, e = 0.00001):\n",
        "    if (abs(f(x)) < e):\n",
        "        return x\n",
        "    else:\n",
        "        x2 = x - f(x)/df(x)\n",
        "        if x != 0: # ゼロ除算を防ぐ\n",
        "            if (min(abs(x2 - x), abs((x2 - x) / x), abs(f(x2) - f(x)) ) < e):\n",
        "                return x2\n",
        "            else:\n",
        "                return question49(f, df, x2, e = e)\n",
        "        else:\n",
        "            if (min(abs(x2 - x), abs(f(x2) - f(x)) ) < e):\n",
        "                return x2\n",
        "            else:\n",
        "                return question49(f, df, x2, e = e)"
      ],
      "execution_count": 2,
      "outputs": []
    },
    {
      "cell_type": "code",
      "metadata": {
        "id": "zV_9jz_HsfFT"
      },
      "source": [
        "def f(x):\n",
        "    return math.exp(x) - 3*x\n",
        "\n",
        "def df(x):\n",
        "    return math.exp(x) - 3"
      ],
      "execution_count": 3,
      "outputs": []
    },
    {
      "cell_type": "code",
      "metadata": {
        "id": "MpcGALsWsi6T",
        "outputId": "c5671a15-f183-4853-a6bc-1e7d7dc8152f",
        "colab": {
          "base_uri": "https://localhost:8080/",
          "height": 35
        }
      },
      "source": [
        "question49(f, df, 0)"
      ],
      "execution_count": 4,
      "outputs": [
        {
          "output_type": "execute_result",
          "data": {
            "text/plain": [
              "0.6190612833553127"
            ]
          },
          "metadata": {
            "tags": []
          },
          "execution_count": 4
        }
      ]
    },
    {
      "cell_type": "code",
      "metadata": {
        "id": "0j8eNSvpvg6p",
        "outputId": "99c441fe-15a3-408e-e64d-726ea07b382c",
        "colab": {
          "base_uri": "https://localhost:8080/",
          "height": 35
        }
      },
      "source": [
        "question49(f, df, 2)"
      ],
      "execution_count": 5,
      "outputs": [
        {
          "output_type": "execute_result",
          "data": {
            "text/plain": [
              "1.5121372501262507"
            ]
          },
          "metadata": {
            "tags": []
          },
          "execution_count": 5
        }
      ]
    },
    {
      "cell_type": "code",
      "metadata": {
        "id": "-omJ4XkJtWZJ",
        "outputId": "9b81a089-00dc-4396-bc1a-cd43faabd309",
        "colab": {
          "base_uri": "https://localhost:8080/",
          "height": 265
        }
      },
      "source": [
        "%matplotlib inline\n",
        "import matplotlib.pyplot as plt\n",
        "w = 160\n",
        "X = [x * 0.01 for x in range(w)]\n",
        "Y = [f(x * 0.01) for x in range(w)]\n",
        "plt.plot(X, Y)\n",
        "plt.grid()"
      ],
      "execution_count": 6,
      "outputs": [
        {
          "output_type": "display_data",
          "data": {
            "image/png": "[encoded data removed]",
            "text/plain": [
              "<Figure size 432x288 with 1 Axes>"
            ]
          },
          "metadata": {
            "tags": [],
            "needs_background": "light"
          }
        }
      ]
    },
    {
      "cell_type": "code",
      "metadata": {
        "id": "JMccfGazsl13"
      },
      "source": [
        "def f(x):\n",
        "    return x**2 - 2 * x + 1\n",
        "\n",
        "def df(x):\n",
        "    return 2 * x - 2"
      ],
      "execution_count": 7,
      "outputs": []
    },
    {
      "cell_type": "code",
      "metadata": {
        "id": "jo3_-pvgs7KY",
        "outputId": "6fe9c669-5c29-43de-feb2-ccb437765000",
        "colab": {
          "base_uri": "https://localhost:8080/",
          "height": 35
        }
      },
      "source": [
        "question49(f, df, 0)"
      ],
      "execution_count": 8,
      "outputs": [
        {
          "output_type": "execute_result",
          "data": {
            "text/plain": [
              "0.998046875"
            ]
          },
          "metadata": {
            "tags": []
          },
          "execution_count": 8
        }
      ]
    },
    {
      "cell_type": "code",
      "metadata": {
        "id": "fCLWdsl1vq-x",
        "outputId": "7b37b6ef-54c3-47fb-eac2-91180c466a48",
        "colab": {
          "base_uri": "https://localhost:8080/",
          "height": 35
        }
      },
      "source": [
        "question49(f, df, 20)"
      ],
      "execution_count": 9,
      "outputs": [
        {
          "output_type": "execute_result",
          "data": {
            "text/plain": [
              "1.0023193359375"
            ]
          },
          "metadata": {
            "tags": []
          },
          "execution_count": 9
        }
      ]
    },
    {
      "cell_type": "code",
      "metadata": {
        "id": "MgdWedEruqri",
        "outputId": "09d42d29-9e74-42f1-b6c9-dab24652dfbc",
        "colab": {
          "base_uri": "https://localhost:8080/",
          "height": 265
        }
      },
      "source": [
        "%matplotlib inline\n",
        "import matplotlib.pyplot as plt\n",
        "w = 150\n",
        "X = [x * 0.01 for x in range(w)]\n",
        "Y = [f(x * 0.01) for x in range(w)]\n",
        "plt.plot(X, Y)\n",
        "plt.grid()"
      ],
      "execution_count": 10,
      "outputs": [
        {
          "output_type": "display_data",
          "data": {
            "image/png": "[encoded data removed]",
            "text/plain": [
              "<Figure size 432x288 with 1 Axes>"
            ]
          },
          "metadata": {
            "tags": [],
            "needs_background": "light"
          }
        }
      ]
    },
    {
      "cell_type": "code",
      "metadata": {
        "id": "qMknVP5es9WK"
      },
      "source": [
        "def f(x):\n",
        "    return math.exp(x) * math.sin(x) - 2*x\n",
        "\n",
        "def df(x):\n",
        "    return math.exp(x) * math.sin(x) + math.exp(x) * math.cos(x) - 2"
      ],
      "execution_count": 11,
      "outputs": []
    },
    {
      "cell_type": "code",
      "metadata": {
        "id": "vOIiwxiRtCnt",
        "outputId": "8423de38-d9cf-4058-bd13-a8a3d7b370f3",
        "colab": {
          "base_uri": "https://localhost:8080/",
          "height": 35
        }
      },
      "source": [
        "question49(f, df, 0)"
      ],
      "execution_count": 12,
      "outputs": [
        {
          "output_type": "execute_result",
          "data": {
            "text/plain": [
              "0"
            ]
          },
          "metadata": {
            "tags": []
          },
          "execution_count": 12
        }
      ]
    },
    {
      "cell_type": "code",
      "metadata": {
        "id": "lO9rWpQgtINf",
        "outputId": "2720f985-896d-4a09-c813-da84a3cd6dd0",
        "colab": {
          "base_uri": "https://localhost:8080/",
          "height": 35
        }
      },
      "source": [
        "question49(f, df, 3)"
      ],
      "execution_count": 13,
      "outputs": [
        {
          "output_type": "execute_result",
          "data": {
            "text/plain": [
              "2.7923116281704905"
            ]
          },
          "metadata": {
            "tags": []
          },
          "execution_count": 13
        }
      ]
    },
    {
      "cell_type": "code",
      "metadata": {
        "id": "KizFH9eNvRri",
        "outputId": "7e56df3a-9aab-4bdb-80d6-70a0bd45b755",
        "colab": {
          "base_uri": "https://localhost:8080/",
          "height": 35
        }
      },
      "source": [
        "question49(f, df, 7)"
      ],
      "execution_count": 14,
      "outputs": [
        {
          "output_type": "execute_result",
          "data": {
            "text/plain": [
              "6.306204317663543"
            ]
          },
          "metadata": {
            "tags": []
          },
          "execution_count": 14
        }
      ]
    },
    {
      "cell_type": "code",
      "metadata": {
        "id": "h1Ygps7jtM5M",
        "outputId": "632f8945-a61a-42e3-b812-9b7b81e3c57d",
        "colab": {
          "base_uri": "https://localhost:8080/",
          "height": 35
        }
      },
      "source": [
        "question49(f, df, 10)"
      ],
      "execution_count": 15,
      "outputs": [
        {
          "output_type": "execute_result",
          "data": {
            "text/plain": [
              "9.423254737516078"
            ]
          },
          "metadata": {
            "tags": []
          },
          "execution_count": 15
        }
      ]
    },
    {
      "cell_type": "code",
      "metadata": {
        "id": "owV6zx0TtRDn",
        "outputId": "6cc186bf-c943-4d1b-b106-30e8f25e539c",
        "colab": {
          "base_uri": "https://localhost:8080/",
          "height": 265
        }
      },
      "source": [
        "%matplotlib inline\n",
        "import matplotlib.pyplot as plt\n",
        "w = 950\n",
        "X = [x * 0.01 for x in range(w)]\n",
        "Y = [f(x * 0.01) for x in range(w)]\n",
        "plt.plot(X, Y)\n",
        "plt.grid()"
      ],
      "execution_count": 16,
      "outputs": [
        {
          "output_type": "display_data",
          "data": {
            "image/png": "[encoded data removed]",
            "text/plain": [
              "<Figure size 432x288 with 1 Axes>"
            ]
          },
          "metadata": {
            "tags": [],
            "needs_background": "light"
          }
        }
      ]
    },
    {
      "cell_type": "code",
      "metadata": {
        "id": "XEJJeXFZu_X9",
        "outputId": "de5e3b1d-0f36-45f3-8988-b23ce5fc39ab",
        "colab": {
          "base_uri": "https://localhost:8080/",
          "height": 35
        }
      },
      "source": [
        "!date"
      ],
      "execution_count": 17,
      "outputs": [
        {
          "output_type": "stream",
          "text": [
            "Wed Oct 21 01:21:33 UTC 2020\n"
          ],
          "name": "stdout"
        }
      ]
    },
    {
      "cell_type": "code",
      "metadata": {
        "id": "xAL61EzHvw4e"
      },
      "source": [
        ""
      ],
      "execution_count": 17,
      "outputs": []
    }
  ]
}