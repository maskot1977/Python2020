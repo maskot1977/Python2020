{
  "nbformat": 4,
  "nbformat_minor": 0,
  "metadata": {
    "colab": {
      "name": "28",
      "provenance": [],
      "collapsed_sections": [],
      "authorship_tag": "ABX9TyMyXk5h9F3udHdzFs/V30gf",
      "include_colab_link": true
    },
    "kernelspec": {
      "name": "python3",
      "display_name": "Python 3"
    }
  },
  "cells": [
    {
      "cell_type": "markdown",
      "metadata": {
        "id": "view-in-github",
        "colab_type": "text"
      },
      "source": [
        "<a href=\"https://colab.research.google.com/github/maskot1977/Python2020/blob/1012/28.ipynb\" target=\"_parent\"><img src=\"https://colab.research.google.com/assets/colab-badge.svg\" alt=\"Open In Colab\"/></a>"
      ]
    },
    {
      "cell_type": "code",
      "metadata": {
        "id": "m6jO-0WsUbq9",
        "outputId": "f748e95a-449a-41b0-95fb-3d89aedf06ab",
        "colab": {
          "base_uri": "https://localhost:8080/",
          "height": 35
        }
      },
      "source": [
        "!date"
      ],
      "execution_count": 1,
      "outputs": [
        {
          "output_type": "stream",
          "text": [
            "Mon Oct 12 02:57:28 UTC 2020\n"
          ],
          "name": "stdout"
        }
      ]
    },
    {
      "cell_type": "code",
      "metadata": {
        "id": "6rd6NRcyUdnj",
        "outputId": "ec917966-8745-41bc-f08e-137c9035d084",
        "colab": {
          "base_uri": "https://localhost:8080/",
          "height": 35
        }
      },
      "source": [
        "import urllib.request\n",
        "\n",
        "url = 'https://raw.githubusercontent.com/maskot1977/ipython_notebook/master/toydata/iris.txt'\n",
        "\n",
        "urllib.request.urlretrieve(url, 'iris.txt')"
      ],
      "execution_count": 2,
      "outputs": [
        {
          "output_type": "execute_result",
          "data": {
            "text/plain": [
              "('iris.txt', <http.client.HTTPMessage at 0x7fde80912e48>)"
            ]
          },
          "metadata": {
            "tags": []
          },
          "execution_count": 2
        }
      ]
    },
    {
      "cell_type": "code",
      "metadata": {
        "id": "broHWx0yUhlN"
      },
      "source": [
        "col1 = []\n",
        "col2 = []\n",
        "col3 = []\n",
        "col4 = []\n",
        "col5 = []\n",
        "col6 = []\n",
        "for i, line in enumerate(open('iris.txt')):\n",
        "    if i == 0:\n",
        "        continue\n",
        "    c = line.split(\"\\t\")\n",
        "    col1.append(c[0])\n",
        "    col2.append(float(c[1]))\n",
        "    col3.append(float(c[2]))\n",
        "    col4.append(float(c[3]))\n",
        "    col5.append(float(c[4]))\n",
        "    col6.append(float(c[5]))"
      ],
      "execution_count": 3,
      "outputs": []
    },
    {
      "cell_type": "code",
      "metadata": {
        "id": "afj7KUIaUkO_"
      },
      "source": [
        "# 平均値を求める関数を作ろう\n",
        "def mean(list_):\n",
        "    sum = 0.\n",
        "    for x in list_:\n",
        "        sum += x\n",
        "\n",
        "    return sum / len(list_)"
      ],
      "execution_count": 4,
      "outputs": []
    },
    {
      "cell_type": "code",
      "metadata": {
        "id": "J38kHNRpbV0g"
      },
      "source": [
        "# 分散を求める関数を作ろう\n",
        "def variance(list_):\n",
        "    sum = 0.\n",
        "    for x in list_:\n",
        "        sum += (x - mean(list_))**2\n",
        "\n",
        "    return sum / len(list_)"
      ],
      "execution_count": 5,
      "outputs": []
    },
    {
      "cell_type": "code",
      "metadata": {
        "id": "6iTPzKl6cI14"
      },
      "source": [
        "# 標準偏差を求める関数を作ろう\n",
        "import math\n",
        "def standard_deviation(list_):\n",
        "    return math.sqrt(variance(list_))"
      ],
      "execution_count": 6,
      "outputs": []
    },
    {
      "cell_type": "code",
      "metadata": {
        "id": "fV1E40VNfRIw"
      },
      "source": [
        "# 共分散 = 偏差積の平均 （偏差値、ではありません。偏差積、です）を作ろう\n",
        "def covariance(list1, list2): \n",
        "    sum = 0.\n",
        "    for x, y in zip(list1, list2):\n",
        "        sum += (x - mean(list1)) * (y - mean(list2))\n",
        "\n",
        "    return sum / len(list1)"
      ],
      "execution_count": 7,
      "outputs": []
    },
    {
      "cell_type": "code",
      "metadata": {
        "id": "IvoGNPm0hOJ9"
      },
      "source": [
        "# 相関係数 = 共分散を list1, list2 の標準偏差で割ったものを作ろう\n",
        "def correlation(list1, list2):\n",
        "    return covariance(list1, list2) / standard_deviation(list1) / standard_deviation(list2)"
      ],
      "execution_count": 8,
      "outputs": []
    },
    {
      "cell_type": "code",
      "metadata": {
        "id": "88MeDcCFUxCh"
      },
      "source": [
        "# 回帰直線の傾き＝相関係数＊（（yの標準偏差）／（xの標準偏差））を求める関数を作ろう\n",
        "def a_fit(xlist, ylist):\n",
        "    return correlation(xlist, ylist) * standard_deviation(ylist) / standard_deviation(xlist)"
      ],
      "execution_count": 9,
      "outputs": []
    },
    {
      "cell_type": "code",
      "metadata": {
        "id": "07JLj2FzmyLw"
      },
      "source": [
        "# y切片＝yの平均－（傾き＊xの平均）を求める関数を作ろう\n",
        "def b_fit(xlist, ylist):\n",
        "    return mean(ylist) - a_fit(xlist, ylist) * mean(xlist)"
      ],
      "execution_count": 10,
      "outputs": []
    },
    {
      "cell_type": "code",
      "metadata": {
        "id": "adoFFqumnDTa",
        "outputId": "b5d82212-2c6f-47c0-a075-deb60786996b",
        "colab": {
          "base_uri": "https://localhost:8080/",
          "height": 190
        }
      },
      "source": [
        "!head iris.txt"
      ],
      "execution_count": 11,
      "outputs": [
        {
          "output_type": "stream",
          "text": [
            "\tSepal.Length\tSepal.Width\tPetal.Length\tPetal.Width\tSpecies\r\n",
            "1\t5.1\t3.5\t1.4\t0.2\t0\r\n",
            "2\t4.9\t3\t1.4\t0.2\t0\r\n",
            "3\t4.7\t3.2\t1.3\t0.2\t0\r\n",
            "4\t4.6\t3.1\t1.5\t0.2\t0\r\n",
            "5\t5\t3.6\t1.4\t0.2\t0\r\n",
            "6\t5.4\t3.9\t1.7\t0.4\t0\r\n",
            "7\t4.6\t3.4\t1.4\t0.3\t0\r\n",
            "8\t5\t3.4\t1.5\t0.2\t0\r\n",
            "9\t4.4\t2.9\t1.4\t0.2\t0\r\n"
          ],
          "name": "stdout"
        }
      ]
    },
    {
      "cell_type": "code",
      "metadata": {
        "id": "dtuzMi69m9KJ",
        "outputId": "cd481933-324e-484d-c4e1-56bb716ce5a2",
        "colab": {
          "base_uri": "https://localhost:8080/",
          "height": 35
        }
      },
      "source": [
        "# 回帰直線の式を表示\n",
        "X = col3\n",
        "Y = col2\n",
        "print(\"y = f(x) = {0} x + {1}\".format(a_fit(X, Y), b_fit(X, Y)))"
      ],
      "execution_count": 12,
      "outputs": [
        {
          "output_type": "stream",
          "text": [
            "y = f(x) = -0.22336106112989992 x + 6.526222550894482\n"
          ],
          "name": "stdout"
        }
      ]
    },
    {
      "cell_type": "code",
      "metadata": {
        "id": "aJT52eCTr6tz",
        "outputId": "fd826e1d-9d39-4e6c-fdad-fb0ed0df2b6f",
        "colab": {
          "base_uri": "https://localhost:8080/",
          "height": 282
        }
      },
      "source": [
        "%matplotlib inline\n",
        "\n",
        "def f(x):\n",
        "    return a_fit(X, Y) * x + b_fit(X, Y)\n",
        "\n",
        "import matplotlib.pyplot as plt\n",
        "plt.scatter(X, Y)\n",
        "plt.plot([2, 4.5], [f(2), f(4.5)])\n",
        "plt.plot()"
      ],
      "execution_count": 13,
      "outputs": [
        {
          "output_type": "execute_result",
          "data": {
            "text/plain": [
              "[]"
            ]
          },
          "metadata": {
            "tags": []
          },
          "execution_count": 13
        },
        {
          "output_type": "display_data",
          "data": {
            "image/png": "[encoded data removed]",
            "text/plain": [
              "<Figure size 432x288 with 1 Axes>"
            ]
          },
          "metadata": {
            "tags": [],
            "needs_background": "light"
          }
        }
      ]
    },
    {
      "cell_type": "code",
      "metadata": {
        "id": "n7CrWJoCtSjB",
        "outputId": "c8b4ef25-2f35-4b91-b68c-86281a8104eb",
        "colab": {
          "base_uri": "https://localhost:8080/",
          "height": 299
        }
      },
      "source": [
        "col1 = []\n",
        "col2 = []\n",
        "col3 = []\n",
        "col4 = []\n",
        "col5 = []\n",
        "col6 = []\n",
        "for i, line in enumerate(open('iris.txt')):\n",
        "    if i == 0:\n",
        "        continue\n",
        "    c = line.split(\"\\t\")\n",
        "    if float(c[5]) == 0:\n",
        "        col1.append(c[0])\n",
        "        col2.append(float(c[1]))\n",
        "        col3.append(float(c[2]))\n",
        "        col4.append(float(c[3]))\n",
        "        col5.append(float(c[4]))\n",
        "        col6.append(float(c[5]))\n",
        "\n",
        "# 回帰直線の式を表示\n",
        "X = col3\n",
        "Y = col2\n",
        "print(\"y = f(x) = {0} x + {1}\".format(a_fit(X, Y), b_fit(X, Y)))\n",
        "\n",
        "%matplotlib inline\n",
        "\n",
        "def f(x):\n",
        "    return a_fit(X, Y) * x + b_fit(X, Y)\n",
        "\n",
        "import matplotlib.pyplot as plt\n",
        "plt.scatter(X, Y)\n",
        "plt.plot([2, 4.5], [f(2), f(4.5)])\n",
        "plt.plot()"
      ],
      "execution_count": 14,
      "outputs": [
        {
          "output_type": "stream",
          "text": [
            "y = f(x) = 0.6904897170776046 x + 2.6390012498579702\n"
          ],
          "name": "stdout"
        },
        {
          "output_type": "execute_result",
          "data": {
            "text/plain": [
              "[]"
            ]
          },
          "metadata": {
            "tags": []
          },
          "execution_count": 14
        },
        {
          "output_type": "display_data",
          "data": {
            "image/png": "[encoded data removed]",
            "text/plain": [
              "<Figure size 432x288 with 1 Axes>"
            ]
          },
          "metadata": {
            "tags": [],
            "needs_background": "light"
          }
        }
      ]
    },
    {
      "cell_type": "code",
      "metadata": {
        "id": "WsqRhyOZvoGO",
        "outputId": "b073d948-3743-402e-a0cb-d0c208aff8c9",
        "colab": {
          "base_uri": "https://localhost:8080/",
          "height": 299
        }
      },
      "source": [
        "col1 = []\n",
        "col2 = []\n",
        "col3 = []\n",
        "col4 = []\n",
        "col5 = []\n",
        "col6 = []\n",
        "for i, line in enumerate(open('iris.txt')):\n",
        "    if i == 0:\n",
        "        continue\n",
        "    c = line.split(\"\\t\")\n",
        "    if float(c[5]) == 1:\n",
        "        col1.append(c[0])\n",
        "        col2.append(float(c[1]))\n",
        "        col3.append(float(c[2]))\n",
        "        col4.append(float(c[3]))\n",
        "        col5.append(float(c[4]))\n",
        "        col6.append(float(c[5]))\n",
        "\n",
        "# 回帰直線の式を表示\n",
        "X = col3\n",
        "Y = col2\n",
        "print(\"y = f(x) = {0} x + {1}\".format(a_fit(X, Y), b_fit(X, Y)))\n",
        "\n",
        "%matplotlib inline\n",
        "\n",
        "def f(x):\n",
        "    return a_fit(X, Y) * x + b_fit(X, Y)\n",
        "\n",
        "import matplotlib.pyplot as plt\n",
        "plt.scatter(X, Y)\n",
        "plt.plot([2, 4.5], [f(2), f(4.5)])\n",
        "plt.plot()"
      ],
      "execution_count": 16,
      "outputs": [
        {
          "output_type": "stream",
          "text": [
            "y = f(x) = 0.8650777202072537 x + 3.5397347150259066\n"
          ],
          "name": "stdout"
        },
        {
          "output_type": "execute_result",
          "data": {
            "text/plain": [
              "[]"
            ]
          },
          "metadata": {
            "tags": []
          },
          "execution_count": 16
        },
        {
          "output_type": "display_data",
          "data": {
            "image/png": "[encoded data removed]",
            "text/plain": [
              "<Figure size 432x288 with 1 Axes>"
            ]
          },
          "metadata": {
            "tags": [],
            "needs_background": "light"
          }
        }
      ]
    },
    {
      "cell_type": "code",
      "metadata": {
        "id": "moAD3K1Ivqt9",
        "outputId": "2af90826-0f7f-443f-869f-01e25ca965dd",
        "colab": {
          "base_uri": "https://localhost:8080/",
          "height": 299
        }
      },
      "source": [
        "col1 = []\n",
        "col2 = []\n",
        "col3 = []\n",
        "col4 = []\n",
        "col5 = []\n",
        "col6 = []\n",
        "for i, line in enumerate(open('iris.txt')):\n",
        "    if i == 0:\n",
        "        continue\n",
        "    c = line.split(\"\\t\")\n",
        "    if float(c[5]) == 2:\n",
        "        col1.append(c[0])\n",
        "        col2.append(float(c[1]))\n",
        "        col3.append(float(c[2]))\n",
        "        col4.append(float(c[3]))\n",
        "        col5.append(float(c[4]))\n",
        "        col6.append(float(c[5]))\n",
        "\n",
        "# 回帰直線の式を表示\n",
        "X = col3\n",
        "Y = col2\n",
        "print(\"y = f(x) = {0} x + {1}\".format(a_fit(X, Y), b_fit(X, Y)))\n",
        "\n",
        "%matplotlib inline\n",
        "\n",
        "def f(x):\n",
        "    return a_fit(X, Y) * x + b_fit(X, Y)\n",
        "\n",
        "import matplotlib.pyplot as plt\n",
        "plt.scatter(X, Y)\n",
        "plt.plot([2, 4.5], [f(2), f(4.5)])\n",
        "plt.plot()"
      ],
      "execution_count": 17,
      "outputs": [
        {
          "output_type": "stream",
          "text": [
            "y = f(x) = 0.9015344766688896 x + 3.9068364663867206\n"
          ],
          "name": "stdout"
        },
        {
          "output_type": "execute_result",
          "data": {
            "text/plain": [
              "[]"
            ]
          },
          "metadata": {
            "tags": []
          },
          "execution_count": 17
        },
        {
          "output_type": "display_data",
          "data": {
            "image/png": "[encoded data removed]",
            "text/plain": [
              "<Figure size 432x288 with 1 Axes>"
            ]
          },
          "metadata": {
            "tags": [],
            "needs_background": "light"
          }
        }
      ]
    },
    {
      "cell_type": "code",
      "metadata": {
        "id": "YbJjtCyjUpAK",
        "outputId": "ecad7c8d-e3b9-422c-b5c6-01a9f6c458ef",
        "colab": {
          "base_uri": "https://localhost:8080/",
          "height": 35
        }
      },
      "source": [
        "!date"
      ],
      "execution_count": 15,
      "outputs": [
        {
          "output_type": "stream",
          "text": [
            "Mon Oct 12 02:57:29 UTC 2020\n"
          ],
          "name": "stdout"
        }
      ]
    },
    {
      "cell_type": "code",
      "metadata": {
        "id": "ENkkiyF8Ut7U"
      },
      "source": [
        ""
      ],
      "execution_count": 15,
      "outputs": []
    }
  ]
}