{
  "nbformat": 4,
  "nbformat_minor": 0,
  "metadata": {
    "colab": {
      "name": "82",
      "provenance": [],
      "collapsed_sections": [],
      "authorship_tag": "ABX9TyN2fzZq/UXqG99/ZVw/yitQ",
      "include_colab_link": true
    },
    "kernelspec": {
      "name": "python3",
      "display_name": "Python 3"
    }
  },
  "cells": [
    {
      "cell_type": "markdown",
      "metadata": {
        "id": "view-in-github",
        "colab_type": "text"
      },
      "source": [
        "<a href=\"https://colab.research.google.com/github/maskot1977/Python2020/blob/1209/82.ipynb\" target=\"_parent\"><img src=\"https://colab.research.google.com/assets/colab-badge.svg\" alt=\"Open In Colab\"/></a>"
      ]
    },
    {
      "cell_type": "code",
      "metadata": {
        "colab": {
          "base_uri": "https://localhost:8080/"
        },
        "id": "-IjwAMCsMd_4",
        "outputId": "1fa72b27-3207-46ae-f36b-ab6e77086868"
      },
      "source": [
        "!date"
      ],
      "execution_count": 1,
      "outputs": [
        {
          "output_type": "stream",
          "text": [
            "Wed Dec  9 06:30:56 UTC 2020\n"
          ],
          "name": "stdout"
        }
      ]
    },
    {
      "cell_type": "code",
      "metadata": {
        "colab": {
          "base_uri": "https://localhost:8080/"
        },
        "id": "yopyZuJqMfpM",
        "outputId": "9722fd3a-7ec7-4480-982f-d5d2f1d391d3"
      },
      "source": [
        "import scipy as sp # 科学計算ライブラリ\n",
        "from scipy import stats # 統計計算ライブラリ\n",
        "\n",
        "# 対応のないt検定\n",
        "significance = 0.05\n",
        "X = [68, 75, 80, 71, 73, 79, 69, 65]\n",
        "Y = [86, 83, 76, 81, 75, 82, 87, 75]\n",
        "\n",
        "t, p = stats.ttest_ind(X, Y)\n",
        "\n",
        "print('t 値は %(t)s' %locals())\n",
        "print('確率は %(p)s' %locals())\n",
        "\n",
        "if p < significance:\n",
        "    print('有意水準 %(significance)s で、有意な差があります' %locals())\n",
        "else:\n",
        "    print('有意水準 %(significance)s で、有意な差がありません' %locals())"
      ],
      "execution_count": 3,
      "outputs": [
        {
          "output_type": "stream",
          "text": [
            "t 値は -3.214043146821967\n",
            "確率は 0.006243695014300228\n",
            "有意水準 0.05 で、有意な差があります\n"
          ],
          "name": "stdout"
        }
      ]
    },
    {
      "cell_type": "code",
      "metadata": {
        "colab": {
          "base_uri": "https://localhost:8080/"
        },
        "id": "dOiLscCjMh4r",
        "outputId": "b94be748-b8f9-4968-a201-d4fa33efc8fe"
      },
      "source": [
        "# 対応のないt検定\n",
        "significance = 0.05\n",
        "X = [70, 75, 70, 85, 90, 70, 80, 75]\n",
        "Y = [85, 80, 95, 70, 80, 75, 80, 90]\n",
        "\n",
        "t, p = stats.ttest_ind(X, Y)\n",
        "\n",
        "print('t 値は %(t)s' %locals())\n",
        "print('確率は %(p)s' %locals())\n",
        "\n",
        "if p < significance:\n",
        "    print('有意水準 %(significance)s で、有意な差があります' %locals())\n",
        "else:\n",
        "    print('有意水準 %(significance)s で、有意な差がありません' %locals())"
      ],
      "execution_count": 4,
      "outputs": [
        {
          "output_type": "stream",
          "text": [
            "t 値は -1.2881223774390613\n",
            "確率は 0.21858702220219914\n",
            "有意水準 0.05 で、有意な差がありません\n"
          ],
          "name": "stdout"
        }
      ]
    },
    {
      "cell_type": "code",
      "metadata": {
        "colab": {
          "base_uri": "https://localhost:8080/"
        },
        "id": "aRvVFPbRM3Ks",
        "outputId": "0f5728c7-e50a-4b6d-8df1-ac3a53dd88c9"
      },
      "source": [
        "!date"
      ],
      "execution_count": 5,
      "outputs": [
        {
          "output_type": "stream",
          "text": [
            "Wed Dec  9 06:32:37 UTC 2020\n"
          ],
          "name": "stdout"
        }
      ]
    },
    {
      "cell_type": "code",
      "metadata": {
        "id": "6NhI5XW9M6Ag"
      },
      "source": [
        ""
      ],
      "execution_count": null,
      "outputs": []
    },
    {
      "cell_type": "code",
      "metadata": {
        "id": "6ZyI9NdpM7U7"
      },
      "source": [
        ""
      ],
      "execution_count": null,
      "outputs": []
    }
  ]
}