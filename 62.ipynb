{
  "nbformat": 4,
  "nbformat_minor": 0,
  "metadata": {
    "colab": {
      "name": "62",
      "provenance": [],
      "collapsed_sections": [],
      "authorship_tag": "ABX9TyP21ApuflrlErYVswcGTcSA",
      "include_colab_link": true
    },
    "kernelspec": {
      "name": "python3",
      "display_name": "Python 3"
    }
  },
  "cells": [
    {
      "cell_type": "markdown",
      "metadata": {
        "id": "view-in-github",
        "colab_type": "text"
      },
      "source": [
        "<a href=\"https://colab.research.google.com/github/maskot1977/Python2020/blob/1104/62.ipynb\" target=\"_parent\"><img src=\"https://colab.research.google.com/assets/colab-badge.svg\" alt=\"Open In Colab\"/></a>"
      ]
    },
    {
      "cell_type": "code",
      "metadata": {
        "colab": {
          "base_uri": "https://localhost:8080/"
        },
        "id": "djwdOcgLtseX",
        "outputId": "a4e65fc2-c513-4fd8-fdf5-948a20b8d212"
      },
      "source": [
        "!date"
      ],
      "execution_count": 1,
      "outputs": [
        {
          "output_type": "stream",
          "text": [
            "Thu Nov 19 04:20:35 UTC 2020\n"
          ],
          "name": "stdout"
        }
      ]
    },
    {
      "cell_type": "markdown",
      "metadata": {
        "id": "P1SPNO_Tu2v9"
      },
      "source": [
        "# 62-1"
      ]
    },
    {
      "cell_type": "code",
      "metadata": {
        "colab": {
          "base_uri": "https://localhost:8080/",
          "height": 268
        },
        "id": "oOyKZCJhu2Jt",
        "outputId": "0ff02bc4-109d-45dc-c61b-6991559a5e0e"
      },
      "source": [
        "%matplotlib inline\n",
        "import matplotlib.pyplot as plt\n",
        "import numpy as np\n",
        "\n",
        "sample_size = 10000 # 乱数発生回数\n",
        "\n",
        "# 確率pで奇数が出る（確率1-pで偶数が出る）ルーレットをn回プレイしたときに、\n",
        "# 奇数が出る回数の分布\n",
        "dist = [np.random.binomial(n=20, p=0.05) for i in range(sample_size)]\n",
        "\n",
        "# ヒストグラムを描く。\n",
        "plt.hist(dist, bins=20)\n",
        "plt.grid()\n",
        "plt.show()"
      ],
      "execution_count": 4,
      "outputs": [
        {
          "output_type": "display_data",
          "data": {
            "image/png": "[encoded data removed]",
            "text/plain": [
              "<Figure size 432x288 with 1 Axes>"
            ]
          },
          "metadata": {
            "tags": [],
            "needs_background": "light"
          }
        }
      ]
    },
    {
      "cell_type": "markdown",
      "metadata": {
        "id": "w1djyBaRvP3M"
      },
      "source": [
        "# 62-2"
      ]
    },
    {
      "cell_type": "code",
      "metadata": {
        "colab": {
          "base_uri": "https://localhost:8080/",
          "height": 265
        },
        "id": "OYgR_tMhu4d_",
        "outputId": "cfd6a9e6-1452-4772-8a45-5b47b489a908"
      },
      "source": [
        "%matplotlib inline\n",
        "import matplotlib.pyplot as plt\n",
        "import numpy as np\n",
        "\n",
        "sample_size = 10000 # 乱数発生回数\n",
        "\n",
        "# 確率pで奇数が出る（確率1-pで偶数が出る）ルーレットをn回プレイしたときに、\n",
        "# 奇数が出る回数の分布\n",
        "dist = [np.random.binomial(n=100, p=0.05) for i in range(sample_size)]\n",
        "\n",
        "# ヒストグラムを描く。\n",
        "plt.hist(dist, bins=50)\n",
        "plt.grid()\n",
        "plt.show()"
      ],
      "execution_count": 10,
      "outputs": [
        {
          "output_type": "display_data",
          "data": {
            "image/png": "[encoded data removed]",
            "text/plain": [
              "<Figure size 432x288 with 1 Axes>"
            ]
          },
          "metadata": {
            "tags": [],
            "needs_background": "light"
          }
        }
      ]
    },
    {
      "cell_type": "code",
      "metadata": {
        "colab": {
          "base_uri": "https://localhost:8080/"
        },
        "id": "aVuBdtCwvTxF",
        "outputId": "2420ccd8-2648-46d4-eebb-30196e0d69db"
      },
      "source": [
        "p = sum([1 for n in dist if n >= 10]) / sample_size\n",
        "print(\"p値:\", p)"
      ],
      "execution_count": 11,
      "outputs": [
        {
          "output_type": "stream",
          "text": [
            "p値: 0.0253\n"
          ],
          "name": "stdout"
        }
      ]
    },
    {
      "cell_type": "code",
      "metadata": {
        "colab": {
          "base_uri": "https://localhost:8080/"
        },
        "id": "Mp703kwNvZTz",
        "outputId": "f9a717ef-4611-4ad8-8a25-843c0c8d855a"
      },
      "source": [
        "!date"
      ],
      "execution_count": 12,
      "outputs": [
        {
          "output_type": "stream",
          "text": [
            "Thu Nov 19 04:23:43 UTC 2020\n"
          ],
          "name": "stdout"
        }
      ]
    },
    {
      "cell_type": "code",
      "metadata": {
        "id": "KMsO9GOnvilq"
      },
      "source": [
        ""
      ],
      "execution_count": null,
      "outputs": []
    }
  ]
}