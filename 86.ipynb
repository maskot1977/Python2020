{
  "nbformat": 4,
  "nbformat_minor": 0,
  "metadata": {
    "colab": {
      "name": "86",
      "provenance": [],
      "collapsed_sections": [],
      "authorship_tag": "ABX9TyO8izdGF77wAJl3T3yDB2fJ",
      "include_colab_link": true
    },
    "kernelspec": {
      "name": "python3",
      "display_name": "Python 3"
    }
  },
  "cells": [
    {
      "cell_type": "markdown",
      "metadata": {
        "id": "view-in-github",
        "colab_type": "text"
      },
      "source": [
        "<a href=\"https://colab.research.google.com/github/maskot1977/Python2020/blob/1209/86.ipynb\" target=\"_parent\"><img src=\"https://colab.research.google.com/assets/colab-badge.svg\" alt=\"Open In Colab\"/></a>"
      ]
    },
    {
      "cell_type": "code",
      "metadata": {
        "colab": {
          "base_uri": "https://localhost:8080/"
        },
        "id": "LyK8m743O88P",
        "outputId": "d5cdb8fb-d1e3-444d-a862-c507f40ff141"
      },
      "source": [
        "!date"
      ],
      "execution_count": 1,
      "outputs": [
        {
          "output_type": "stream",
          "text": [
            "Wed Dec  9 06:51:32 UTC 2020\n"
          ],
          "name": "stdout"
        }
      ]
    },
    {
      "cell_type": "code",
      "metadata": {
        "id": "3zWFmarNO-2s"
      },
      "source": [
        "url = 'https://raw.githubusercontent.com/maskot1977/ipython_notebook/master/toydata/location.txt'"
      ],
      "execution_count": 2,
      "outputs": []
    },
    {
      "cell_type": "code",
      "metadata": {
        "colab": {
          "base_uri": "https://localhost:8080/"
        },
        "id": "IF5-W4ORPHf8",
        "outputId": "62116b02-3321-4967-9715-16392343388b"
      },
      "source": [
        "import urllib.request\n",
        "urllib.request.urlretrieve(url, 'location.txt')"
      ],
      "execution_count": 3,
      "outputs": [
        {
          "output_type": "execute_result",
          "data": {
            "text/plain": [
              "('location.txt', <http.client.HTTPMessage at 0x7f924bf26e80>)"
            ]
          },
          "metadata": {
            "tags": []
          },
          "execution_count": 3
        }
      ]
    },
    {
      "cell_type": "code",
      "metadata": {
        "colab": {
          "base_uri": "https://localhost:8080/",
          "height": 1000
        },
        "id": "yQb9EI2TQyz7",
        "outputId": "7270dba9-7f45-40a2-f1c7-8a439f0e1ae7"
      },
      "source": [
        "import pandas as pd\n",
        "\n",
        "df = pd.read_csv('location.txt', index_col=0)\n",
        "df"
      ],
      "execution_count": 4,
      "outputs": [
        {
          "output_type": "execute_result",
          "data": {
            "text/html": [
              "<div>\n",
              "<style scoped>\n",
              "    .dataframe tbody tr th:only-of-type {\n",
              "        vertical-align: middle;\n",
              "    }\n",
              "\n",
              "    .dataframe tbody tr th {\n",
              "        vertical-align: top;\n",
              "    }\n",
              "\n",
              "    .dataframe thead th {\n",
              "        text-align: right;\n",
              "    }\n",
              "</style>\n",
              "<table border=\"1\" class=\"dataframe\">\n",
              "  <thead>\n",
              "    <tr style=\"text-align: right;\">\n",
              "      <th></th>\n",
              "      <th>Longitude</th>\n",
              "      <th>Latitude</th>\n",
              "    </tr>\n",
              "    <tr>\n",
              "      <th>Town</th>\n",
              "      <th></th>\n",
              "      <th></th>\n",
              "    </tr>\n",
              "  </thead>\n",
              "  <tbody>\n",
              "    <tr>\n",
              "      <th>Sapporo</th>\n",
              "      <td>43.06417</td>\n",
              "      <td>141.34694</td>\n",
              "    </tr>\n",
              "    <tr>\n",
              "      <th>Aomori</th>\n",
              "      <td>40.82444</td>\n",
              "      <td>140.74000</td>\n",
              "    </tr>\n",
              "    <tr>\n",
              "      <th>Morioka</th>\n",
              "      <td>39.70361</td>\n",
              "      <td>141.15250</td>\n",
              "    </tr>\n",
              "    <tr>\n",
              "      <th>Sendai</th>\n",
              "      <td>38.26889</td>\n",
              "      <td>140.87194</td>\n",
              "    </tr>\n",
              "    <tr>\n",
              "      <th>Akita</th>\n",
              "      <td>39.71861</td>\n",
              "      <td>140.10250</td>\n",
              "    </tr>\n",
              "    <tr>\n",
              "      <th>Yamagata</th>\n",
              "      <td>38.24056</td>\n",
              "      <td>140.36333</td>\n",
              "    </tr>\n",
              "    <tr>\n",
              "      <th>Fukushima</th>\n",
              "      <td>37.75000</td>\n",
              "      <td>140.46778</td>\n",
              "    </tr>\n",
              "    <tr>\n",
              "      <th>Mito</th>\n",
              "      <td>36.34139</td>\n",
              "      <td>140.44667</td>\n",
              "    </tr>\n",
              "    <tr>\n",
              "      <th>Utsunomiya</th>\n",
              "      <td>36.56583</td>\n",
              "      <td>139.88361</td>\n",
              "    </tr>\n",
              "    <tr>\n",
              "      <th>Maebashi</th>\n",
              "      <td>36.39111</td>\n",
              "      <td>139.06083</td>\n",
              "    </tr>\n",
              "    <tr>\n",
              "      <th>Saitama</th>\n",
              "      <td>35.85694</td>\n",
              "      <td>139.64889</td>\n",
              "    </tr>\n",
              "    <tr>\n",
              "      <th>Chiba</th>\n",
              "      <td>35.60472</td>\n",
              "      <td>140.12333</td>\n",
              "    </tr>\n",
              "    <tr>\n",
              "      <th>Tokyo</th>\n",
              "      <td>35.68944</td>\n",
              "      <td>139.69167</td>\n",
              "    </tr>\n",
              "    <tr>\n",
              "      <th>Yokohama</th>\n",
              "      <td>35.44778</td>\n",
              "      <td>139.64250</td>\n",
              "    </tr>\n",
              "    <tr>\n",
              "      <th>Niigata</th>\n",
              "      <td>37.90222</td>\n",
              "      <td>139.02361</td>\n",
              "    </tr>\n",
              "    <tr>\n",
              "      <th>Toyama</th>\n",
              "      <td>36.69528</td>\n",
              "      <td>137.21139</td>\n",
              "    </tr>\n",
              "    <tr>\n",
              "      <th>Kanazawa</th>\n",
              "      <td>36.59444</td>\n",
              "      <td>136.62556</td>\n",
              "    </tr>\n",
              "    <tr>\n",
              "      <th>Fukui</th>\n",
              "      <td>36.06528</td>\n",
              "      <td>136.22194</td>\n",
              "    </tr>\n",
              "    <tr>\n",
              "      <th>Kofu</th>\n",
              "      <td>35.66389</td>\n",
              "      <td>138.56833</td>\n",
              "    </tr>\n",
              "    <tr>\n",
              "      <th>Nagano</th>\n",
              "      <td>36.65139</td>\n",
              "      <td>138.18111</td>\n",
              "    </tr>\n",
              "    <tr>\n",
              "      <th>Gifu</th>\n",
              "      <td>35.39111</td>\n",
              "      <td>136.72222</td>\n",
              "    </tr>\n",
              "    <tr>\n",
              "      <th>Shizuoka</th>\n",
              "      <td>34.97694</td>\n",
              "      <td>138.38306</td>\n",
              "    </tr>\n",
              "    <tr>\n",
              "      <th>Nagoya</th>\n",
              "      <td>35.18028</td>\n",
              "      <td>136.90667</td>\n",
              "    </tr>\n",
              "    <tr>\n",
              "      <th>Tsu</th>\n",
              "      <td>34.73028</td>\n",
              "      <td>136.50861</td>\n",
              "    </tr>\n",
              "    <tr>\n",
              "      <th>Otsu</th>\n",
              "      <td>35.00444</td>\n",
              "      <td>135.86833</td>\n",
              "    </tr>\n",
              "    <tr>\n",
              "      <th>Kyoto</th>\n",
              "      <td>35.02139</td>\n",
              "      <td>135.75556</td>\n",
              "    </tr>\n",
              "    <tr>\n",
              "      <th>Osaka</th>\n",
              "      <td>34.68639</td>\n",
              "      <td>135.52000</td>\n",
              "    </tr>\n",
              "    <tr>\n",
              "      <th>Kobe</th>\n",
              "      <td>34.69139</td>\n",
              "      <td>135.18306</td>\n",
              "    </tr>\n",
              "    <tr>\n",
              "      <th>Nara</th>\n",
              "      <td>34.68528</td>\n",
              "      <td>135.83278</td>\n",
              "    </tr>\n",
              "    <tr>\n",
              "      <th>Wakayama</th>\n",
              "      <td>34.22611</td>\n",
              "      <td>135.16750</td>\n",
              "    </tr>\n",
              "    <tr>\n",
              "      <th>Tottori</th>\n",
              "      <td>35.50361</td>\n",
              "      <td>134.23833</td>\n",
              "    </tr>\n",
              "    <tr>\n",
              "      <th>Matsue</th>\n",
              "      <td>35.47222</td>\n",
              "      <td>133.05056</td>\n",
              "    </tr>\n",
              "    <tr>\n",
              "      <th>Okayama</th>\n",
              "      <td>34.66167</td>\n",
              "      <td>133.93500</td>\n",
              "    </tr>\n",
              "    <tr>\n",
              "      <th>Hiroshima</th>\n",
              "      <td>34.39639</td>\n",
              "      <td>132.45944</td>\n",
              "    </tr>\n",
              "    <tr>\n",
              "      <th>Yamaguchi</th>\n",
              "      <td>34.18583</td>\n",
              "      <td>131.47139</td>\n",
              "    </tr>\n",
              "    <tr>\n",
              "      <th>Tokushima</th>\n",
              "      <td>34.06583</td>\n",
              "      <td>134.55944</td>\n",
              "    </tr>\n",
              "    <tr>\n",
              "      <th>Takamatsu</th>\n",
              "      <td>34.34028</td>\n",
              "      <td>134.04333</td>\n",
              "    </tr>\n",
              "    <tr>\n",
              "      <th>Matsuyama</th>\n",
              "      <td>33.84167</td>\n",
              "      <td>132.76611</td>\n",
              "    </tr>\n",
              "    <tr>\n",
              "      <th>Kochi</th>\n",
              "      <td>33.55972</td>\n",
              "      <td>133.53111</td>\n",
              "    </tr>\n",
              "    <tr>\n",
              "      <th>Fukuoka</th>\n",
              "      <td>33.60639</td>\n",
              "      <td>130.41806</td>\n",
              "    </tr>\n",
              "    <tr>\n",
              "      <th>Saga</th>\n",
              "      <td>33.24944</td>\n",
              "      <td>130.29889</td>\n",
              "    </tr>\n",
              "    <tr>\n",
              "      <th>Nagasaki</th>\n",
              "      <td>32.74472</td>\n",
              "      <td>129.87361</td>\n",
              "    </tr>\n",
              "    <tr>\n",
              "      <th>Kumamoto</th>\n",
              "      <td>32.78972</td>\n",
              "      <td>130.74167</td>\n",
              "    </tr>\n",
              "    <tr>\n",
              "      <th>Oita</th>\n",
              "      <td>33.23806</td>\n",
              "      <td>131.61250</td>\n",
              "    </tr>\n",
              "    <tr>\n",
              "      <th>Miyazaki</th>\n",
              "      <td>31.91111</td>\n",
              "      <td>131.42389</td>\n",
              "    </tr>\n",
              "    <tr>\n",
              "      <th>Kagoshima</th>\n",
              "      <td>31.56028</td>\n",
              "      <td>130.55806</td>\n",
              "    </tr>\n",
              "    <tr>\n",
              "      <th>Naha</th>\n",
              "      <td>26.21250</td>\n",
              "      <td>127.68111</td>\n",
              "    </tr>\n",
              "  </tbody>\n",
              "</table>\n",
              "</div>"
            ],
            "text/plain": [
              "            Longitude   Latitude\n",
              "Town                            \n",
              "Sapporo      43.06417  141.34694\n",
              "Aomori       40.82444  140.74000\n",
              "Morioka      39.70361  141.15250\n",
              "Sendai       38.26889  140.87194\n",
              "Akita        39.71861  140.10250\n",
              "Yamagata     38.24056  140.36333\n",
              "Fukushima    37.75000  140.46778\n",
              "Mito         36.34139  140.44667\n",
              "Utsunomiya   36.56583  139.88361\n",
              "Maebashi     36.39111  139.06083\n",
              "Saitama      35.85694  139.64889\n",
              "Chiba        35.60472  140.12333\n",
              "Tokyo        35.68944  139.69167\n",
              "Yokohama     35.44778  139.64250\n",
              "Niigata      37.90222  139.02361\n",
              "Toyama       36.69528  137.21139\n",
              "Kanazawa     36.59444  136.62556\n",
              "Fukui        36.06528  136.22194\n",
              "Kofu         35.66389  138.56833\n",
              "Nagano       36.65139  138.18111\n",
              "Gifu         35.39111  136.72222\n",
              "Shizuoka     34.97694  138.38306\n",
              "Nagoya       35.18028  136.90667\n",
              "Tsu          34.73028  136.50861\n",
              "Otsu         35.00444  135.86833\n",
              "Kyoto        35.02139  135.75556\n",
              "Osaka        34.68639  135.52000\n",
              "Kobe         34.69139  135.18306\n",
              "Nara         34.68528  135.83278\n",
              "Wakayama     34.22611  135.16750\n",
              "Tottori      35.50361  134.23833\n",
              "Matsue       35.47222  133.05056\n",
              "Okayama      34.66167  133.93500\n",
              "Hiroshima    34.39639  132.45944\n",
              "Yamaguchi    34.18583  131.47139\n",
              "Tokushima    34.06583  134.55944\n",
              "Takamatsu    34.34028  134.04333\n",
              "Matsuyama    33.84167  132.76611\n",
              "Kochi        33.55972  133.53111\n",
              "Fukuoka      33.60639  130.41806\n",
              "Saga         33.24944  130.29889\n",
              "Nagasaki     32.74472  129.87361\n",
              "Kumamoto     32.78972  130.74167\n",
              "Oita         33.23806  131.61250\n",
              "Miyazaki     31.91111  131.42389\n",
              "Kagoshima    31.56028  130.55806\n",
              "Naha         26.21250  127.68111"
            ]
          },
          "metadata": {
            "tags": []
          },
          "execution_count": 4
        }
      ]
    },
    {
      "cell_type": "code",
      "metadata": {
        "id": "Fs7CYhISQEp0",
        "colab": {
          "base_uri": "https://localhost:8080/",
          "height": 513
        },
        "outputId": "597260cc-dcb3-4dd5-953a-c848ca185baf"
      },
      "source": [
        "%matplotlib inline\n",
        "import matplotlib.pyplot as plt\n",
        "from scipy.cluster.hierarchy import linkage, dendrogram\n",
        "\n",
        "# metric は色々あるので、ケースバイケースでどれかひとつ好きなものを選ぶ。\n",
        "# method も色々あるので、ケースバイケースでどれかひとつ好きなものを選ぶ。\n",
        "dend_link = linkage(df, \n",
        "                  #metric = 'braycurtis', \n",
        "                  #metric = 'canberra', \n",
        "                  #metric = 'chebyshev', \n",
        "                  #metric = 'cityblock', \n",
        "                  #metric = 'correlation', \n",
        "                  #metric = 'cosine', \n",
        "                  metric = 'euclidean', \n",
        "                  #metric = 'hamming', \n",
        "                  #metric = 'jaccard', \n",
        "                  #method= 'single')\n",
        "                  method = 'average')\n",
        "                  #method= 'complete')\n",
        "                  #method='weighted')\n",
        "plt.figure(figsize=(8, 8))\n",
        "dendrogram(dend_link, orientation='right', labels=list(df.index), color_threshold=0.01)\n",
        "plt.title(\"Dedrogram\")\n",
        "plt.xlabel(\"Threshold\")\n",
        "plt.grid()\n",
        "plt.show()"
      ],
      "execution_count": 5,
      "outputs": [
        {
          "output_type": "display_data",
          "data": {
            "image/png": "[encoded data removed]",
            "text/plain": [
              "<Figure size 576x576 with 1 Axes>"
            ]
          },
          "metadata": {
            "tags": [],
            "needs_background": "light"
          }
        }
      ]
    },
    {
      "cell_type": "code",
      "metadata": {
        "colab": {
          "base_uri": "https://localhost:8080/"
        },
        "id": "xqH3CsGmQtmB",
        "outputId": "977f82a8-a290-4b44-f3a4-cbd2801c62b4"
      },
      "source": [
        "!date"
      ],
      "execution_count": 6,
      "outputs": [
        {
          "output_type": "stream",
          "text": [
            "Wed Dec  9 06:51:33 UTC 2020\n"
          ],
          "name": "stdout"
        }
      ]
    },
    {
      "cell_type": "code",
      "metadata": {
        "id": "Tflu16XORKcr"
      },
      "source": [
        ""
      ],
      "execution_count": 6,
      "outputs": []
    }
  ]
}