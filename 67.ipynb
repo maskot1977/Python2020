{
  "nbformat": 4,
  "nbformat_minor": 0,
  "metadata": {
    "colab": {
      "name": "67",
      "provenance": [],
      "collapsed_sections": [],
      "authorship_tag": "ABX9TyPLpcU8l4sZ24ium8toiio+",
      "include_colab_link": true
    },
    "kernelspec": {
      "name": "python3",
      "display_name": "Python 3"
    }
  },
  "cells": [
    {
      "cell_type": "markdown",
      "metadata": {
        "id": "view-in-github",
        "colab_type": "text"
      },
      "source": [
        "<a href=\"https://colab.research.google.com/github/maskot1977/Python2020/blob/1104/67.ipynb\" target=\"_parent\"><img src=\"https://colab.research.google.com/assets/colab-badge.svg\" alt=\"Open In Colab\"/></a>"
      ]
    },
    {
      "cell_type": "code",
      "metadata": {
        "colab": {
          "base_uri": "https://localhost:8080/"
        },
        "id": "6CVoIiQgyM-4",
        "outputId": "65a813bf-2979-4621-b982-3a58b53cb7c1"
      },
      "source": [
        "!date"
      ],
      "execution_count": 1,
      "outputs": [
        {
          "output_type": "stream",
          "text": [
            "Thu Nov 19 04:42:33 UTC 2020\n"
          ],
          "name": "stdout"
        }
      ]
    },
    {
      "cell_type": "code",
      "metadata": {
        "id": "juWnLXNTyPN4"
      },
      "source": [
        "import urllib.request\n",
        "import pandas as pd\n",
        "\n",
        "# ニューヨークの大気状態観測値データ\n",
        "url = 'https://raw.githubusercontent.com/maskot1977/ipython_notebook/master/toydata/airquality.txt' \n",
        "urllib.request.urlretrieve(url, 'airquality.txt')\n",
        "\n",
        "df = pd.read_csv('airquality.txt', sep='\\t', index_col=0) "
      ],
      "execution_count": 2,
      "outputs": []
    },
    {
      "cell_type": "code",
      "metadata": {
        "colab": {
          "base_uri": "https://localhost:8080/",
          "height": 294
        },
        "id": "PSmcCmgJyRlH",
        "outputId": "2a00f4ee-6e82-4211-9798-9dcf9e7aff42"
      },
      "source": [
        "import matplotlib.pyplot as plt\n",
        "\n",
        "fig = plt.figure()\n",
        "ax = fig.add_subplot(111)\n",
        "ax.boxplot(df.iloc[:, :4].values.T.tolist())\n",
        "ax.set_xticklabels(df.columns[0:4], rotation=90)\n",
        "plt.grid()\n",
        "plt.show()"
      ],
      "execution_count": 5,
      "outputs": [
        {
          "output_type": "display_data",
          "data": {
            "image/png": "[encoded data removed]",
            "text/plain": [
              "<Figure size 432x288 with 1 Axes>"
            ]
          },
          "metadata": {
            "tags": [],
            "needs_background": "light"
          }
        }
      ]
    },
    {
      "cell_type": "code",
      "metadata": {
        "colab": {
          "base_uri": "https://localhost:8080/"
        },
        "id": "tnbEmIBwyfoC",
        "outputId": "958060bc-45d9-4322-a0ec-61145635004e"
      },
      "source": [
        "!date"
      ],
      "execution_count": 6,
      "outputs": [
        {
          "output_type": "stream",
          "text": [
            "Thu Nov 19 04:43:20 UTC 2020\n"
          ],
          "name": "stdout"
        }
      ]
    },
    {
      "cell_type": "code",
      "metadata": {
        "id": "Vi-xNsRYykl3"
      },
      "source": [
        ""
      ],
      "execution_count": null,
      "outputs": []
    }
  ]
}