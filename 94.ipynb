{
  "nbformat": 4,
  "nbformat_minor": 0,
  "metadata": {
    "colab": {
      "name": "94",
      "provenance": [],
      "collapsed_sections": [],
      "authorship_tag": "ABX9TyPBNk0T1dujDHOmW1tQtkLh",
      "include_colab_link": true
    },
    "kernelspec": {
      "name": "python3",
      "display_name": "Python 3"
    }
  },
  "cells": [
    {
      "cell_type": "markdown",
      "metadata": {
        "id": "view-in-github",
        "colab_type": "text"
      },
      "source": [
        "<a href=\"https://colab.research.google.com/github/maskot1977/Python2020/blob/1218/94.ipynb\" target=\"_parent\"><img src=\"https://colab.research.google.com/assets/colab-badge.svg\" alt=\"Open In Colab\"/></a>"
      ]
    },
    {
      "cell_type": "code",
      "metadata": {
        "colab": {
          "base_uri": "https://localhost:8080/"
        },
        "id": "bpML_dKtyFCu",
        "outputId": "81f88148-8cfa-4ca0-c2d3-1b3ede75d2dd"
      },
      "source": [
        "!date"
      ],
      "execution_count": 1,
      "outputs": [
        {
          "output_type": "stream",
          "text": [
            "Fri Dec 18 02:58:12 UTC 2020\n"
          ],
          "name": "stdout"
        }
      ]
    },
    {
      "cell_type": "code",
      "metadata": {
        "id": "pQ_TI3wKyHIw"
      },
      "source": [
        "import copy\n",
        "def question94(neighbor_matrix):\n",
        "    queue = []\n",
        "    routes = []\n",
        "    k = len(neighbor_matrix) - 1\n",
        "    for j in range(len(neighbor_matrix)):\n",
        "        if neighbor_matrix[0][j] == 1:\n",
        "            if j == k:\n",
        "                routes.append([0, j])\n",
        "            else:\n",
        "                queue.append([0, j])\n",
        "\n",
        "    while len(queue) > 0:\n",
        "        path = queue.pop()\n",
        "        for j in range(len(neighbor_matrix)):\n",
        "            if neighbor_matrix[path[-1]][j] == 1:\n",
        "                path_new = copy.deepcopy(path)\n",
        "                if j not in path_new:\n",
        "                    path_new.append(j)\n",
        "                    if j == k:\n",
        "                        routes.append(path_new)\n",
        "                    else:\n",
        "                        queue.append(path_new)\n",
        "        #print(path, path_new, queue)\n",
        "    return routes"
      ],
      "execution_count": 2,
      "outputs": []
    },
    {
      "cell_type": "code",
      "metadata": {
        "id": "nweM9N7_yNfS"
      },
      "source": [
        "n =  5\n",
        "G = \\\n",
        "[[0, 0, 1, 0, 0],\n",
        " [1, 0, 1, 0, 0],\n",
        " [0, 0, 0, 1, 0],\n",
        " [1, 0, 1, 0, 1],\n",
        " [0, 0, 1, 0, 0]]"
      ],
      "execution_count": 3,
      "outputs": []
    },
    {
      "cell_type": "code",
      "metadata": {
        "colab": {
          "base_uri": "https://localhost:8080/"
        },
        "id": "p3076PSvyQo_",
        "outputId": "01245564-fa7d-4594-945b-07264c2a8963"
      },
      "source": [
        "question94(G)"
      ],
      "execution_count": 4,
      "outputs": [
        {
          "output_type": "execute_result",
          "data": {
            "text/plain": [
              "[[0, 2, 3, 4]]"
            ]
          },
          "metadata": {
            "tags": []
          },
          "execution_count": 4
        }
      ]
    },
    {
      "cell_type": "code",
      "metadata": {
        "id": "Hv7OTTlFySde"
      },
      "source": [
        "n =  8\n",
        "G = \\\n",
        "[[0, 1, 0, 0, 0, 0, 0, 0],\n",
        " [0, 0, 0, 1, 1, 0, 0, 0],\n",
        " [0, 0, 0, 0, 0, 1, 0, 0],\n",
        " [0, 0, 0, 0, 0, 0, 1, 0],\n",
        " [0, 0, 0, 0, 0, 0, 0, 1],\n",
        " [0, 1, 0, 0, 1, 0, 0, 0],\n",
        " [0, 1, 0, 0, 0, 0, 0, 1],\n",
        " [0, 0, 0, 0, 0, 0, 0, 0]]"
      ],
      "execution_count": 5,
      "outputs": []
    },
    {
      "cell_type": "code",
      "metadata": {
        "colab": {
          "base_uri": "https://localhost:8080/"
        },
        "id": "ATeVF847yUZd",
        "outputId": "5c8aad58-27bd-4dff-e863-d333762819c1"
      },
      "source": [
        "question94(G)"
      ],
      "execution_count": 6,
      "outputs": [
        {
          "output_type": "execute_result",
          "data": {
            "text/plain": [
              "[[0, 1, 4, 7], [0, 1, 3, 6, 7]]"
            ]
          },
          "metadata": {
            "tags": []
          },
          "execution_count": 6
        }
      ]
    },
    {
      "cell_type": "code",
      "metadata": {
        "id": "FNTezt6TyVpf"
      },
      "source": [
        "n =  8\n",
        "G = \\\n",
        "[[0, 0, 0, 0, 0, 1, 0, 1],\n",
        " [0, 0, 0, 0, 0, 1, 1, 0],\n",
        " [0, 0, 0, 1, 0, 0, 1, 0],\n",
        " [0, 0, 0, 0, 0, 0, 0, 1],\n",
        " [1, 1, 0, 0, 0, 0, 0, 0],\n",
        " [1, 1, 1, 0, 0, 0, 0, 0],\n",
        " [0, 0, 1, 1, 0, 0, 0, 0],\n",
        " [1, 0, 0, 1, 0, 1, 0, 0]]"
      ],
      "execution_count": 7,
      "outputs": []
    },
    {
      "cell_type": "code",
      "metadata": {
        "colab": {
          "base_uri": "https://localhost:8080/"
        },
        "id": "RlEvFbPCyXk6",
        "outputId": "31edd6a9-6a5a-4f0a-f806-e9fb82dff256"
      },
      "source": [
        "question94(G)"
      ],
      "execution_count": 8,
      "outputs": [
        {
          "output_type": "execute_result",
          "data": {
            "text/plain": [
              "[[0, 7],\n",
              " [0, 5, 2, 6, 3, 7],\n",
              " [0, 5, 2, 3, 7],\n",
              " [0, 5, 1, 6, 3, 7],\n",
              " [0, 5, 1, 6, 2, 3, 7]]"
            ]
          },
          "metadata": {
            "tags": []
          },
          "execution_count": 8
        }
      ]
    },
    {
      "cell_type": "code",
      "metadata": {
        "id": "Vk7_QHePyZAK"
      },
      "source": [
        "n =  8\n",
        "G = \\\n",
        "[[0, 0, 0, 0, 1, 0, 0, 0],\n",
        " [0, 0, 0, 0, 0, 0, 1, 0],\n",
        " [1, 0, 0, 0, 0, 1, 1, 1],\n",
        " [0, 0, 0, 0, 0, 0, 0, 0],\n",
        " [0, 0, 0, 1, 0, 0, 0, 0],\n",
        " [0, 0, 0, 0, 0, 0, 1, 1],\n",
        " [1, 0, 0, 1, 0, 0, 0, 0],\n",
        " [0, 0, 1, 0, 1, 0, 1, 0]]"
      ],
      "execution_count": 9,
      "outputs": []
    },
    {
      "cell_type": "code",
      "metadata": {
        "colab": {
          "base_uri": "https://localhost:8080/"
        },
        "id": "9vNJ5tjvyawI",
        "outputId": "5e0e451b-0b32-4505-ff07-bda6c0118fb9"
      },
      "source": [
        "question94(G)"
      ],
      "execution_count": 10,
      "outputs": [
        {
          "output_type": "execute_result",
          "data": {
            "text/plain": [
              "[]"
            ]
          },
          "metadata": {
            "tags": []
          },
          "execution_count": 10
        }
      ]
    },
    {
      "cell_type": "code",
      "metadata": {
        "colab": {
          "base_uri": "https://localhost:8080/"
        },
        "id": "Y8uwbZsAyb-I",
        "outputId": "a1f9af55-ed61-4802-8f27-a8440354635e"
      },
      "source": [
        "!date"
      ],
      "execution_count": 11,
      "outputs": [
        {
          "output_type": "stream",
          "text": [
            "Fri Dec 18 02:59:33 UTC 2020\n"
          ],
          "name": "stdout"
        }
      ]
    },
    {
      "cell_type": "code",
      "metadata": {
        "id": "OUliSUCnycsV"
      },
      "source": [
        ""
      ],
      "execution_count": null,
      "outputs": []
    }
  ]
}