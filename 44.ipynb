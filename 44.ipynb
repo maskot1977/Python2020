{
  "nbformat": 4,
  "nbformat_minor": 0,
  "metadata": {
    "colab": {
      "name": "44",
      "provenance": [],
      "collapsed_sections": [],
      "authorship_tag": "ABX9TyP/Db4bzyGlR9rogVj+Fhsb",
      "include_colab_link": true
    },
    "kernelspec": {
      "name": "python3",
      "display_name": "Python 3"
    }
  },
  "cells": [
    {
      "cell_type": "markdown",
      "metadata": {
        "id": "view-in-github",
        "colab_type": "text"
      },
      "source": [
        "<a href=\"https://colab.research.google.com/github/maskot1977/Python2020/blob/1019/44.ipynb\" target=\"_parent\"><img src=\"https://colab.research.google.com/assets/colab-badge.svg\" alt=\"Open In Colab\"/></a>"
      ]
    },
    {
      "cell_type": "code",
      "metadata": {
        "id": "y6G4NzULwaNW",
        "outputId": "ec2fa6a9-88d3-436b-b227-4ec0e8bc5342",
        "colab": {
          "base_uri": "https://localhost:8080/",
          "height": 34
        }
      },
      "source": [
        "!date"
      ],
      "execution_count": 1,
      "outputs": [
        {
          "output_type": "stream",
          "text": [
            "Mon Oct 19 07:28:14 UTC 2020\n"
          ],
          "name": "stdout"
        }
      ]
    },
    {
      "cell_type": "code",
      "metadata": {
        "id": "96r6wQPLwiIq"
      },
      "source": [
        "def question44(W_capacity, W, V):\n",
        "    dp_table = [[0 for _ in range(W_capacity + 1)] for _ in range(len(W) + 1)]\n",
        "    for i in range(len(W)):\n",
        "        for j in range(W_capacity + 1):\n",
        "            if j < W[i]:\n",
        "                dp_table[i + 1][j] = dp_table[i][j]\n",
        "            else:\n",
        "                dp_table[i + 1][j] = max(dp_table[i][j], dp_table[i + 1][j - W[i]] + V[i])\n",
        "    return dp_table[len(W)][W_capacity]"
      ],
      "execution_count": 6,
      "outputs": []
    },
    {
      "cell_type": "code",
      "metadata": {
        "id": "32q__G_kwrGg"
      },
      "source": [
        "n = 3\n",
        "W_capacity = 7\n",
        "W = [3, 4, 2]\n",
        "V = [4, 5, 3]"
      ],
      "execution_count": 7,
      "outputs": []
    },
    {
      "cell_type": "code",
      "metadata": {
        "id": "ert9BPAcxOG4",
        "outputId": "1a0d6830-4329-408b-f9a3-1d7659668e83",
        "colab": {
          "base_uri": "https://localhost:8080/",
          "height": 34
        }
      },
      "source": [
        "question44(W_capacity, W, V)"
      ],
      "execution_count": 8,
      "outputs": [
        {
          "output_type": "execute_result",
          "data": {
            "text/plain": [
              "10"
            ]
          },
          "metadata": {
            "tags": []
          },
          "execution_count": 8
        }
      ]
    },
    {
      "cell_type": "code",
      "metadata": {
        "id": "yoBrm9jxxPxs"
      },
      "source": [
        "n =  10\n",
        "W_capacity =  867\n",
        "W =  [28, 92, 30, 1, 40, 33, 96, 30, 38, 86]\n",
        "V =  [6, 77, 53, 91, 47, 33, 28, 28, 78, 36]"
      ],
      "execution_count": 9,
      "outputs": []
    },
    {
      "cell_type": "code",
      "metadata": {
        "id": "IRY2oDLwxXot",
        "outputId": "fcf9ac89-b90a-4f0f-c34e-3dfa8bd52005",
        "colab": {
          "base_uri": "https://localhost:8080/",
          "height": 34
        }
      },
      "source": [
        "question44(W_capacity, W, V)"
      ],
      "execution_count": 10,
      "outputs": [
        {
          "output_type": "execute_result",
          "data": {
            "text/plain": [
              "78897"
            ]
          },
          "metadata": {
            "tags": []
          },
          "execution_count": 10
        }
      ]
    },
    {
      "cell_type": "code",
      "metadata": {
        "id": "s85EqMyJxYx3"
      },
      "source": [
        "n =  20\n",
        "W_capacity = 1272\n",
        "W =  [10, 87, 38, 74, 19, 93, 34, 24, 63, 12, 31, 99, 45, 4, 22, 81, 50, 75, 36, 20]\n",
        "V =  [1, 96, 33, 97, 58, 31, 68, 60, 23, 60, 27, 7, 24, 70, 60, 73, 11, 88, 87, 71]"
      ],
      "execution_count": 11,
      "outputs": []
    },
    {
      "cell_type": "code",
      "metadata": {
        "id": "J6G9SyJ0xhYI",
        "outputId": "f1edd38a-122a-4d65-b018-34e74e7288ef",
        "colab": {
          "base_uri": "https://localhost:8080/",
          "height": 34
        }
      },
      "source": [
        "question44(W_capacity, W, V)"
      ],
      "execution_count": 12,
      "outputs": [
        {
          "output_type": "execute_result",
          "data": {
            "text/plain": [
              "22260"
            ]
          },
          "metadata": {
            "tags": []
          },
          "execution_count": 12
        }
      ]
    },
    {
      "cell_type": "code",
      "metadata": {
        "id": "VHo1qY1bxiiV",
        "outputId": "ffab7862-2ec2-4e3c-d8a3-91662e78c85c",
        "colab": {
          "base_uri": "https://localhost:8080/",
          "height": 34
        }
      },
      "source": [
        "!date"
      ],
      "execution_count": 13,
      "outputs": [
        {
          "output_type": "stream",
          "text": [
            "Mon Oct 19 07:32:37 UTC 2020\n"
          ],
          "name": "stdout"
        }
      ]
    },
    {
      "cell_type": "code",
      "metadata": {
        "id": "Hcl5eVAQxjfk"
      },
      "source": [
        ""
      ],
      "execution_count": null,
      "outputs": []
    }
  ]
}