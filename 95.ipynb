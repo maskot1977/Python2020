{
  "nbformat": 4,
  "nbformat_minor": 0,
  "metadata": {
    "colab": {
      "name": "95",
      "provenance": [],
      "collapsed_sections": [],
      "authorship_tag": "ABX9TyMYiWDrTWLRRu8pc2+eyisg",
      "include_colab_link": true
    },
    "kernelspec": {
      "name": "python3",
      "display_name": "Python 3"
    }
  },
  "cells": [
    {
      "cell_type": "markdown",
      "metadata": {
        "id": "view-in-github",
        "colab_type": "text"
      },
      "source": [
        "<a href=\"https://colab.research.google.com/github/maskot1977/Python2020/blob/1218/95.ipynb\" target=\"_parent\"><img src=\"https://colab.research.google.com/assets/colab-badge.svg\" alt=\"Open In Colab\"/></a>"
      ]
    },
    {
      "cell_type": "code",
      "metadata": {
        "colab": {
          "base_uri": "https://localhost:8080/"
        },
        "id": "bpML_dKtyFCu",
        "outputId": "e91ba09c-e62a-4c5d-e674-76045be4d2d0"
      },
      "source": [
        "!date"
      ],
      "execution_count": 1,
      "outputs": [
        {
          "output_type": "stream",
          "text": [
            "Fri Dec 18 03:28:53 UTC 2020\n"
          ],
          "name": "stdout"
        }
      ]
    },
    {
      "cell_type": "code",
      "metadata": {
        "id": "pQ_TI3wKyHIw"
      },
      "source": [
        "import copy\n",
        "def question95(neighbor_matrix):\n",
        "    colors = {}\n",
        "    for i in range(len(neighbor_matrix)):\n",
        "        if i in colors.keys():\n",
        "            continue\n",
        "        colors[i] = 0\n",
        "        queue = []\n",
        "        for j in range(len(neighbor_matrix)):\n",
        "            if neighbor_matrix[i][j] == 1:\n",
        "                colors[j] = 1\n",
        "                queue.append([i, j])\n",
        "\n",
        "        while len(queue) > 0:\n",
        "            path = queue.pop(0)\n",
        "            #print(path)\n",
        "            for j in range(len(neighbor_matrix)):\n",
        "                if neighbor_matrix[path[-1]][j] == 1:\n",
        "                    if j in colors.keys(): #and path[-1] in colors.keys():\n",
        "                        if colors[path[-1]] == colors[j]:\n",
        "                            #print(path[-1], j)\n",
        "                            #print(colors)\n",
        "                            return False\n",
        "                    elif colors[path[-1]] == 1:\n",
        "                        colors[j] = 0\n",
        "                    else:\n",
        "                        colors[j] = 1\n",
        "                    path_new = copy.deepcopy(path)\n",
        "                    if j not in path_new:\n",
        "                        path_new.append(j)\n",
        "                        queue.append(path_new)\n",
        "            #print(path, path_new, queue)\n",
        "    #print(colors)\n",
        "    return True"
      ],
      "execution_count": 2,
      "outputs": []
    },
    {
      "cell_type": "code",
      "metadata": {
        "id": "nweM9N7_yNfS"
      },
      "source": [
        "n =  5\n",
        "G = \\\n",
        "[[0, 0, 1, 0, 1],\n",
        " [0, 0, 0, 1, 0],\n",
        " [1, 0, 0, 0, 0],\n",
        " [0, 1, 0, 0, 1],\n",
        " [1, 0, 0, 1, 0]]"
      ],
      "execution_count": 3,
      "outputs": []
    },
    {
      "cell_type": "code",
      "metadata": {
        "colab": {
          "base_uri": "https://localhost:8080/"
        },
        "id": "p3076PSvyQo_",
        "outputId": "cd2b7eb5-0a29-41bd-e3ad-88ad917a9cf8"
      },
      "source": [
        "question95(G)"
      ],
      "execution_count": 4,
      "outputs": [
        {
          "output_type": "execute_result",
          "data": {
            "text/plain": [
              "True"
            ]
          },
          "metadata": {
            "tags": []
          },
          "execution_count": 4
        }
      ]
    },
    {
      "cell_type": "code",
      "metadata": {
        "id": "Hv7OTTlFySde"
      },
      "source": [
        "n =  5\n",
        "G = \\\n",
        "[[0, 1, 0, 0, 0],\n",
        " [1, 0, 0, 1, 1],\n",
        " [0, 0, 0, 0, 0],\n",
        " [0, 1, 0, 0, 1],\n",
        " [0, 1, 0, 1, 0]]"
      ],
      "execution_count": 5,
      "outputs": []
    },
    {
      "cell_type": "code",
      "metadata": {
        "colab": {
          "base_uri": "https://localhost:8080/"
        },
        "id": "ATeVF847yUZd",
        "outputId": "b1b6d17e-7a4a-4b31-ea05-e5dc5e7ad052"
      },
      "source": [
        "question95(G)"
      ],
      "execution_count": 6,
      "outputs": [
        {
          "output_type": "execute_result",
          "data": {
            "text/plain": [
              "False"
            ]
          },
          "metadata": {
            "tags": []
          },
          "execution_count": 6
        }
      ]
    },
    {
      "cell_type": "code",
      "metadata": {
        "id": "FNTezt6TyVpf"
      },
      "source": [
        "n =  8\n",
        "G = \\\n",
        "[[0, 0, 0, 0, 0, 1, 0, 0],\n",
        " [0, 0, 0, 1, 0, 0, 0, 0],\n",
        " [0, 0, 0, 1, 0, 0, 0, 0],\n",
        " [0, 1, 1, 0, 0, 1, 0, 0],\n",
        " [0, 0, 0, 0, 0, 0, 1, 1],\n",
        " [1, 0, 0, 1, 0, 0, 1, 1],\n",
        " [0, 0, 0, 0, 1, 1, 0, 0],\n",
        " [0, 0, 0, 0, 1, 1, 0, 0]]"
      ],
      "execution_count": 7,
      "outputs": []
    },
    {
      "cell_type": "code",
      "metadata": {
        "colab": {
          "base_uri": "https://localhost:8080/"
        },
        "id": "RlEvFbPCyXk6",
        "outputId": "82ad526d-528e-411c-ca13-c4b6c868d152"
      },
      "source": [
        "question95(G)"
      ],
      "execution_count": 8,
      "outputs": [
        {
          "output_type": "execute_result",
          "data": {
            "text/plain": [
              "True"
            ]
          },
          "metadata": {
            "tags": []
          },
          "execution_count": 8
        }
      ]
    },
    {
      "cell_type": "code",
      "metadata": {
        "id": "Vk7_QHePyZAK"
      },
      "source": [
        "n =  8\n",
        "G = \\\n",
        "[[0, 1, 1, 0, 1, 0, 0, 0],\n",
        " [1, 0, 1, 0, 0, 0, 0, 1],\n",
        " [1, 1, 0, 1, 0, 0, 0, 0],\n",
        " [0, 0, 1, 0, 0, 1, 1, 0],\n",
        " [1, 0, 0, 0, 0, 0, 1, 0],\n",
        " [0, 0, 0, 1, 0, 0, 0, 1],\n",
        " [0, 0, 0, 1, 1, 0, 0, 0],\n",
        " [0, 1, 0, 0, 0, 1, 0, 0]]"
      ],
      "execution_count": 9,
      "outputs": []
    },
    {
      "cell_type": "code",
      "metadata": {
        "colab": {
          "base_uri": "https://localhost:8080/"
        },
        "id": "9vNJ5tjvyawI",
        "outputId": "cc96fc53-357d-4e58-ab59-2e321ff83ec9"
      },
      "source": [
        "question95(G)"
      ],
      "execution_count": 10,
      "outputs": [
        {
          "output_type": "execute_result",
          "data": {
            "text/plain": [
              "False"
            ]
          },
          "metadata": {
            "tags": []
          },
          "execution_count": 10
        }
      ]
    },
    {
      "cell_type": "code",
      "metadata": {
        "colab": {
          "base_uri": "https://localhost:8080/"
        },
        "id": "Y8uwbZsAyb-I",
        "outputId": "577631cc-04c0-4548-ad73-0d857d496460"
      },
      "source": [
        "!date"
      ],
      "execution_count": 11,
      "outputs": [
        {
          "output_type": "stream",
          "text": [
            "Fri Dec 18 03:30:33 UTC 2020\n"
          ],
          "name": "stdout"
        }
      ]
    },
    {
      "cell_type": "code",
      "metadata": {
        "id": "OUliSUCnycsV"
      },
      "source": [
        ""
      ],
      "execution_count": null,
      "outputs": []
    }
  ]
}