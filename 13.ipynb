{
  "nbformat": 4,
  "nbformat_minor": 0,
  "metadata": {
    "colab": {
      "name": "13",
      "provenance": [],
      "collapsed_sections": [],
      "authorship_tag": "ABX9TyOi8WYGPsZ71hvrqHThsddw",
      "include_colab_link": true
    },
    "kernelspec": {
      "name": "python3",
      "display_name": "Python 3"
    }
  },
  "cells": [
    {
      "cell_type": "markdown",
      "metadata": {
        "id": "view-in-github",
        "colab_type": "text"
      },
      "source": [
        "<a href=\"https://colab.research.google.com/github/maskot1977/Python2020/blob/main/13.ipynb\" target=\"_parent\"><img src=\"https://colab.research.google.com/assets/colab-badge.svg\" alt=\"Open In Colab\"/></a>"
      ]
    },
    {
      "cell_type": "code",
      "metadata": {
        "id": "DkKXQlljnuJV",
        "outputId": "c86e711c-dae4-4c28-a2ec-d9cde32219ea",
        "colab": {
          "base_uri": "https://localhost:8080/",
          "height": 35
        }
      },
      "source": [
        "!date"
      ],
      "execution_count": 4,
      "outputs": [
        {
          "output_type": "stream",
          "text": [
            "Mon Oct  5 07:17:56 UTC 2020\n"
          ],
          "name": "stdout"
        }
      ]
    },
    {
      "cell_type": "code",
      "metadata": {
        "id": "Idj3dBZnnd-G",
        "outputId": "2cea7c9b-e211-4eaf-cb7c-e4690884b3f4",
        "colab": {
          "base_uri": "https://localhost:8080/",
          "height": 210
        }
      },
      "source": [
        "a = 2\n",
        "for n in range(10):\n",
        "    a=a**2 - 1\n",
        "    print(\"a\"+str(n + 1), \"=\", a)"
      ],
      "execution_count": 5,
      "outputs": [
        {
          "output_type": "stream",
          "text": [
            "a1 = 3\n",
            "a2 = 8\n",
            "a3 = 63\n",
            "a4 = 3968\n",
            "a5 = 15745023\n",
            "a6 = 247905749270528\n",
            "a7 = 61457260521381894004129398783\n",
            "a8 = 3776994870793005510047522464634252677140721938309041881088\n",
            "a9 = 14265690253996672387291309349232388828298289458234016200317876247121873778287073518355813134107244701354409532063743\n",
            "a10 = 203509918422975643131625101557493482417516581321177887486174612349689723637228095885608636916042736102424433936617827686729959884103612889121780011527849662844136145473332830301242513425767433130492258922182178369327277600615170048\n"
          ],
          "name": "stdout"
        }
      ]
    },
    {
      "cell_type": "code",
      "metadata": {
        "id": "otYCW5hkn8J4",
        "outputId": "c30e0766-9729-413a-e07b-fb950cf74d67",
        "colab": {
          "base_uri": "https://localhost:8080/",
          "height": 35
        }
      },
      "source": [
        "!date"
      ],
      "execution_count": 6,
      "outputs": [
        {
          "output_type": "stream",
          "text": [
            "Mon Oct  5 07:18:07 UTC 2020\n"
          ],
          "name": "stdout"
        }
      ]
    },
    {
      "cell_type": "code",
      "metadata": {
        "id": "5z4n63YOn-s1"
      },
      "source": [
        ""
      ],
      "execution_count": null,
      "outputs": []
    }
  ]
}