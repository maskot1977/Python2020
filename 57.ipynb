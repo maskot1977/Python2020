{
  "nbformat": 4,
  "nbformat_minor": 0,
  "metadata": {
    "colab": {
      "name": "57",
      "provenance": [],
      "collapsed_sections": [],
      "authorship_tag": "ABX9TyOu4AaT5g6dRNBzUySY2Fao",
      "include_colab_link": true
    },
    "kernelspec": {
      "name": "python3",
      "display_name": "Python 3"
    }
  },
  "cells": [
    {
      "cell_type": "markdown",
      "metadata": {
        "id": "view-in-github",
        "colab_type": "text"
      },
      "source": [
        "<a href=\"https://colab.research.google.com/github/maskot1977/Python2020/blob/1028/57.ipynb\" target=\"_parent\"><img src=\"https://colab.research.google.com/assets/colab-badge.svg\" alt=\"Open In Colab\"/></a>"
      ]
    },
    {
      "cell_type": "code",
      "metadata": {
        "id": "YsYfJpeS2t7z",
        "outputId": "0156a59d-88b4-459a-bff8-a2b2d8e7dee6",
        "colab": {
          "base_uri": "https://localhost:8080/",
          "height": 35
        }
      },
      "source": [
        "!date"
      ],
      "execution_count": 1,
      "outputs": [
        {
          "output_type": "stream",
          "text": [
            "Wed Oct 28 06:17:56 UTC 2020\n"
          ],
          "name": "stdout"
        }
      ]
    },
    {
      "cell_type": "code",
      "metadata": {
        "id": "BZzOdv4f2v3P",
        "outputId": "a63bced0-3460-48cf-f16c-acc9aec9725f",
        "colab": {
          "base_uri": "https://localhost:8080/",
          "height": 87
        }
      },
      "source": [
        "import numpy as np\n",
        "\n",
        "A = np.array([\n",
        "              [3, 2, 7, 1], \n",
        "              [1, 5, 1, -1], \n",
        "              [4, 1, 3, -2], \n",
        "              [1, 6, 4, 3]\n",
        "              ])\n",
        "Y = np.array([\n",
        "              [8], \n",
        "              [5], \n",
        "              [7], \n",
        "              [13]\n",
        "              ])\n",
        "\n",
        "np.linalg.solve(A, Y)"
      ],
      "execution_count": 2,
      "outputs": [
        {
          "output_type": "execute_result",
          "data": {
            "text/plain": [
              "array([[ 3.5],\n",
              "       [ 1. ],\n",
              "       [-1. ],\n",
              "       [ 2.5]])"
            ]
          },
          "metadata": {
            "tags": []
          },
          "execution_count": 2
        }
      ]
    },
    {
      "cell_type": "code",
      "metadata": {
        "id": "hzeSasax24Qa",
        "outputId": "55c5bbd2-4246-4e5b-945a-1dd6161aed6b",
        "colab": {
          "base_uri": "https://localhost:8080/",
          "height": 35
        }
      },
      "source": [
        "!date"
      ],
      "execution_count": 3,
      "outputs": [
        {
          "output_type": "stream",
          "text": [
            "Wed Oct 28 06:18:28 UTC 2020\n"
          ],
          "name": "stdout"
        }
      ]
    },
    {
      "cell_type": "code",
      "metadata": {
        "id": "QgpwbYfw25Ix"
      },
      "source": [
        ""
      ],
      "execution_count": null,
      "outputs": []
    }
  ]
}