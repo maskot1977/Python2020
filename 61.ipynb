{
  "nbformat": 4,
  "nbformat_minor": 0,
  "metadata": {
    "colab": {
      "name": "61",
      "provenance": [],
      "collapsed_sections": [],
      "authorship_tag": "ABX9TyPmvUpuXGEFoMCIb1tyAwcp",
      "include_colab_link": true
    },
    "kernelspec": {
      "name": "python3",
      "display_name": "Python 3"
    }
  },
  "cells": [
    {
      "cell_type": "markdown",
      "metadata": {
        "id": "view-in-github",
        "colab_type": "text"
      },
      "source": [
        "<a href=\"https://colab.research.google.com/github/maskot1977/Python2020/blob/1104/61.ipynb\" target=\"_parent\"><img src=\"https://colab.research.google.com/assets/colab-badge.svg\" alt=\"Open In Colab\"/></a>"
      ]
    },
    {
      "cell_type": "code",
      "metadata": {
        "colab": {
          "base_uri": "https://localhost:8080/"
        },
        "id": "Wx8zbBenpl9s",
        "outputId": "07d2d319-bf78-4087-fac4-2c301099d1e5"
      },
      "source": [
        "!date"
      ],
      "execution_count": 1,
      "outputs": [
        {
          "output_type": "stream",
          "text": [
            "Thu Nov 19 04:12:07 UTC 2020\n"
          ],
          "name": "stdout"
        }
      ]
    },
    {
      "cell_type": "markdown",
      "metadata": {
        "id": "5siw1SboreQa"
      },
      "source": [
        "# 61-1"
      ]
    },
    {
      "cell_type": "code",
      "metadata": {
        "colab": {
          "base_uri": "https://localhost:8080/",
          "height": 265
        },
        "id": "c9LNmrLkpo86",
        "outputId": "f43f4ae1-daba-4bd5-9618-c87637da6309"
      },
      "source": [
        "%matplotlib inline\n",
        "import matplotlib.pyplot as plt\n",
        "import numpy as np\n",
        "\n",
        "sample_size = 1000\n",
        "dist = [np.random.binomial(n=10, p=0.5) for i in range(sample_size)]\n",
        "\n",
        "plt.hist(dist, bins=20)\n",
        "plt.grid()\n",
        "plt.show()"
      ],
      "execution_count": 2,
      "outputs": [
        {
          "output_type": "display_data",
          "data": {
            "image/png": "[encoded data removed]",
            "text/plain": [
              "<Figure size 432x288 with 1 Axes>"
            ]
          },
          "metadata": {
            "tags": [],
            "needs_background": "light"
          }
        }
      ]
    },
    {
      "cell_type": "code",
      "metadata": {
        "colab": {
          "base_uri": "https://localhost:8080/"
        },
        "id": "Ls-kGtFBrKZg",
        "outputId": "f9172d01-c03f-421b-c54d-a3f75f1db8bc"
      },
      "source": [
        "dist.count(5) / len(dist)"
      ],
      "execution_count": 3,
      "outputs": [
        {
          "output_type": "execute_result",
          "data": {
            "text/plain": [
              "0.221"
            ]
          },
          "metadata": {
            "tags": []
          },
          "execution_count": 3
        }
      ]
    },
    {
      "cell_type": "markdown",
      "metadata": {
        "id": "Ku6ctoPKroTu"
      },
      "source": [
        "# 61-2"
      ]
    },
    {
      "cell_type": "code",
      "metadata": {
        "colab": {
          "base_uri": "https://localhost:8080/",
          "height": 265
        },
        "id": "N4lpj5k6p07R",
        "outputId": "54a510f8-b0fb-4d5d-a9fd-57724ffe8d11"
      },
      "source": [
        "sample_size = 10000 # 乱数発生回数\n",
        "\n",
        "# 確率pで奇数が出る（確率1-pで偶数が出る）ルーレットをn回プレイしたときに、\n",
        "# 奇数が出る回数の分布\n",
        "dist = [np.random.binomial(n=100, p=0.5) for i in range(sample_size)]\n",
        "\n",
        "plt.hist(dist, bins=100)\n",
        "plt.grid()\n",
        "plt.show()"
      ],
      "execution_count": 4,
      "outputs": [
        {
          "output_type": "display_data",
          "data": {
            "image/png": "[encoded data removed]",
            "text/plain": [
              "<Figure size 432x288 with 1 Axes>"
            ]
          },
          "metadata": {
            "tags": [],
            "needs_background": "light"
          }
        }
      ]
    },
    {
      "cell_type": "code",
      "metadata": {
        "colab": {
          "base_uri": "https://localhost:8080/"
        },
        "id": "PGTXGYVHqda4",
        "outputId": "729f7cb4-964f-4392-ed1d-1656816d25f5"
      },
      "source": [
        "p = sum([1 for n in dist if n >= 60]) / sample_size\n",
        "print(\"p値:\", p)"
      ],
      "execution_count": 5,
      "outputs": [
        {
          "output_type": "stream",
          "text": [
            "p値: 0.0283\n"
          ],
          "name": "stdout"
        }
      ]
    },
    {
      "cell_type": "markdown",
      "metadata": {
        "id": "EwU9rzqJsyWS"
      },
      "source": [
        "# 61-3"
      ]
    },
    {
      "cell_type": "code",
      "metadata": {
        "colab": {
          "base_uri": "https://localhost:8080/",
          "height": 265
        },
        "id": "ykeBlEbvsQtI",
        "outputId": "b23fc825-d705-4b38-9726-dc4f91e8ca3c"
      },
      "source": [
        "sample_size = 10000 # 乱数発生回数\n",
        "\n",
        "# 確率pで奇数が出る（確率1-pで偶数が出る）ルーレットをn回プレイしたときに、\n",
        "# 奇数が出る回数の分布\n",
        "dist = [np.random.binomial(n=10, p=0.5) for i in range(sample_size)]\n",
        "\n",
        "plt.hist(dist, bins=20)\n",
        "plt.grid()\n",
        "plt.show()"
      ],
      "execution_count": 6,
      "outputs": [
        {
          "output_type": "display_data",
          "data": {
            "image/png": "[encoded data removed]",
            "text/plain": [
              "<Figure size 432x288 with 1 Axes>"
            ]
          },
          "metadata": {
            "tags": [],
            "needs_background": "light"
          }
        }
      ]
    },
    {
      "cell_type": "code",
      "metadata": {
        "colab": {
          "base_uri": "https://localhost:8080/"
        },
        "id": "TeCVEhnes1ri",
        "outputId": "8791013e-898c-481d-f2cc-39d618e9ae97"
      },
      "source": [
        "p = sum([1 for n in dist if n >= 6]) / sample_size\n",
        "print(\"p値:\", p)"
      ],
      "execution_count": 7,
      "outputs": [
        {
          "output_type": "stream",
          "text": [
            "p値: 0.3786\n"
          ],
          "name": "stdout"
        }
      ]
    },
    {
      "cell_type": "code",
      "metadata": {
        "colab": {
          "base_uri": "https://localhost:8080/"
        },
        "id": "xg_06A18s5kV",
        "outputId": "24e64a77-a381-45b6-bfe5-19fa795c142d"
      },
      "source": [
        "!date"
      ],
      "execution_count": 8,
      "outputs": [
        {
          "output_type": "stream",
          "text": [
            "Thu Nov 19 04:12:35 UTC 2020\n"
          ],
          "name": "stdout"
        }
      ]
    },
    {
      "cell_type": "code",
      "metadata": {
        "id": "psvzQ_iKtDvQ"
      },
      "source": [
        ""
      ],
      "execution_count": null,
      "outputs": []
    }
  ]
}