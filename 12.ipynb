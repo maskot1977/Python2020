{
  "nbformat": 4,
  "nbformat_minor": 0,
  "metadata": {
    "colab": {
      "name": "12",
      "provenance": [],
      "authorship_tag": "ABX9TyNS5dgEvYrjs+fJuAZfvPuy",
      "include_colab_link": true
    },
    "kernelspec": {
      "name": "python3",
      "display_name": "Python 3"
    }
  },
  "cells": [
    {
      "cell_type": "markdown",
      "metadata": {
        "id": "view-in-github",
        "colab_type": "text"
      },
      "source": [
        "<a href=\"https://colab.research.google.com/github/maskot1977/Python2020/blob/main/12.ipynb\" target=\"_parent\"><img src=\"https://colab.research.google.com/assets/colab-badge.svg\" alt=\"Open In Colab\"/></a>"
      ]
    },
    {
      "cell_type": "code",
      "metadata": {
        "id": "CCgJWj0EiUVI",
        "outputId": "c99e66ec-2357-480b-c916-97d78eef2ab8",
        "colab": {
          "base_uri": "https://localhost:8080/",
          "height": 35
        }
      },
      "source": [
        "!date"
      ],
      "execution_count": 7,
      "outputs": [
        {
          "output_type": "stream",
          "text": [
            "Mon Oct  5 06:55:56 UTC 2020\n"
          ],
          "name": "stdout"
        }
      ]
    },
    {
      "cell_type": "code",
      "metadata": {
        "id": "Fx2ghhpliDOw",
        "outputId": "a2877407-67d3-43d9-d216-9df86388d760",
        "colab": {
          "base_uri": "https://localhost:8080/",
          "height": 380
        }
      },
      "source": [
        "import math\n",
        "\n",
        "x = 0\n",
        "w = 0.02\n",
        "t = 0.4\n",
        "while x <= t + w :\n",
        "    print(\"x={:.5f} sin(x)={:.5f} error:{:.4e}\".format(x,math.sin(x),abs(x - math.sin(x))))\n",
        "    x += w"
      ],
      "execution_count": 8,
      "outputs": [
        {
          "output_type": "stream",
          "text": [
            "x=0.00000 sin(x)=0.00000 error:0.0000e+00\n",
            "x=0.02000 sin(x)=0.02000 error:1.3333e-06\n",
            "x=0.04000 sin(x)=0.03999 error:1.0666e-05\n",
            "x=0.06000 sin(x)=0.05996 error:3.5994e-05\n",
            "x=0.08000 sin(x)=0.07991 error:8.5306e-05\n",
            "x=0.10000 sin(x)=0.09983 error:1.6658e-04\n",
            "x=0.12000 sin(x)=0.11971 error:2.8779e-04\n",
            "x=0.14000 sin(x)=0.13954 error:4.5689e-04\n",
            "x=0.16000 sin(x)=0.15932 error:6.8179e-04\n",
            "x=0.18000 sin(x)=0.17903 error:9.7043e-04\n",
            "x=0.20000 sin(x)=0.19867 error:1.3307e-03\n",
            "x=0.22000 sin(x)=0.21823 error:1.7704e-03\n",
            "x=0.24000 sin(x)=0.23770 error:2.2974e-03\n",
            "x=0.26000 sin(x)=0.25708 error:2.9194e-03\n",
            "x=0.28000 sin(x)=0.27636 error:3.6444e-03\n",
            "x=0.30000 sin(x)=0.29552 error:4.4798e-03\n",
            "x=0.32000 sin(x)=0.31457 error:5.4334e-03\n",
            "x=0.34000 sin(x)=0.33349 error:6.5129e-03\n",
            "x=0.36000 sin(x)=0.35227 error:7.7258e-03\n",
            "x=0.38000 sin(x)=0.37092 error:9.0795e-03\n",
            "x=0.40000 sin(x)=0.38942 error:1.0582e-02\n"
          ],
          "name": "stdout"
        }
      ]
    },
    {
      "cell_type": "code",
      "metadata": {
        "id": "Udbp9Klei5rj",
        "outputId": "983c476e-e394-4620-ae6b-0dab528b3a40",
        "colab": {
          "base_uri": "https://localhost:8080/",
          "height": 35
        }
      },
      "source": [
        "!date"
      ],
      "execution_count": 9,
      "outputs": [
        {
          "output_type": "stream",
          "text": [
            "Mon Oct  5 06:56:09 UTC 2020\n"
          ],
          "name": "stdout"
        }
      ]
    },
    {
      "cell_type": "code",
      "metadata": {
        "id": "Jm-VIdgpi8_m"
      },
      "source": [
        ""
      ],
      "execution_count": null,
      "outputs": []
    }
  ]
}