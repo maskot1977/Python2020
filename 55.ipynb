{
  "nbformat": 4,
  "nbformat_minor": 0,
  "metadata": {
    "colab": {
      "name": "55",
      "provenance": [],
      "collapsed_sections": [],
      "authorship_tag": "ABX9TyPS1J8iFEl+iCC20Z+9uvs/",
      "include_colab_link": true
    },
    "kernelspec": {
      "name": "python3",
      "display_name": "Python 3"
    }
  },
  "cells": [
    {
      "cell_type": "markdown",
      "metadata": {
        "id": "view-in-github",
        "colab_type": "text"
      },
      "source": [
        "<a href=\"https://colab.research.google.com/github/maskot1977/Python2020/blob/1028/55.ipynb\" target=\"_parent\"><img src=\"https://colab.research.google.com/assets/colab-badge.svg\" alt=\"Open In Colab\"/></a>"
      ]
    },
    {
      "cell_type": "code",
      "metadata": {
        "id": "bLI4A6oAw1P6",
        "outputId": "9ddfd1ed-9f71-4728-a040-33c868c1f7b9",
        "colab": {
          "base_uri": "https://localhost:8080/",
          "height": 35
        }
      },
      "source": [
        "!date"
      ],
      "execution_count": null,
      "outputs": [
        {
          "output_type": "stream",
          "text": [
            "Wed Oct 28 05:52:12 UTC 2020\n"
          ],
          "name": "stdout"
        }
      ]
    },
    {
      "cell_type": "code",
      "metadata": {
        "id": "9QyQiEFvw29Y"
      },
      "source": [
        "def question55(dydx, x_0, y_0, x_end, dt):\n",
        "    x = x_0\n",
        "    y = y_0\n",
        "    t = (x_end - x_0) / dt\n",
        "\n",
        "    for i in range(int(t)):\n",
        "        k1 = dt * dydx(x, y)\n",
        "        k2 = dt * dydx(x + dt / 2, y + k1 / 2)\n",
        "        k3 = dt * dydx(x + dt / 2, y + k2 / 2)\n",
        "        k4 = dt * dydx(x + dt, y + k3)\n",
        "        k = (k1 + 2 * k2 + 2 * k3 + k4) / 6\n",
        "        y = y + k\n",
        "        x = x + dt\n",
        "\n",
        "    return y"
      ],
      "execution_count": 3,
      "outputs": []
    },
    {
      "cell_type": "code",
      "metadata": {
        "id": "blQfGmMjyazz"
      },
      "source": [
        "def dydx(x, y):\n",
        "    return 2 - y / x"
      ],
      "execution_count": 4,
      "outputs": []
    },
    {
      "cell_type": "code",
      "metadata": {
        "id": "fQesL4NZzG6o",
        "outputId": "6d560746-18ae-406f-c15b-b40204a964a5",
        "colab": {
          "base_uri": "https://localhost:8080/",
          "height": 35
        }
      },
      "source": [
        "question55(dydx, 1, 2, 2, 0.01)"
      ],
      "execution_count": 5,
      "outputs": [
        {
          "output_type": "execute_result",
          "data": {
            "text/plain": [
              "2.4999999999999996"
            ]
          },
          "metadata": {
            "tags": []
          },
          "execution_count": 5
        }
      ]
    },
    {
      "cell_type": "code",
      "metadata": {
        "id": "vFXMUnBuzQPe",
        "outputId": "79eaad11-4cfa-4068-8cd4-8a5dd3304456",
        "colab": {
          "base_uri": "https://localhost:8080/",
          "height": 35
        }
      },
      "source": [
        "question55(dydx, 1, 2, 2, 0.001)"
      ],
      "execution_count": 6,
      "outputs": [
        {
          "output_type": "execute_result",
          "data": {
            "text/plain": [
              "2.4999999999999565"
            ]
          },
          "metadata": {
            "tags": []
          },
          "execution_count": 6
        }
      ]
    },
    {
      "cell_type": "code",
      "metadata": {
        "id": "ooFKCNvozRxq",
        "outputId": "eb0f3308-174a-4a88-c297-d39e0491b75f",
        "colab": {
          "base_uri": "https://localhost:8080/",
          "height": 35
        }
      },
      "source": [
        "question55(dydx, 1, 2, 2, 0.0001)"
      ],
      "execution_count": 7,
      "outputs": [
        {
          "output_type": "execute_result",
          "data": {
            "text/plain": [
              "2.499999999999958"
            ]
          },
          "metadata": {
            "tags": []
          },
          "execution_count": 7
        }
      ]
    },
    {
      "cell_type": "code",
      "metadata": {
        "id": "iNG9Wq2IzTJF",
        "outputId": "3248e7fe-fda7-48f1-ad3e-1c8c2f3da785",
        "colab": {
          "base_uri": "https://localhost:8080/",
          "height": 35
        }
      },
      "source": [
        "question55(dydx, 1, 2, 2, 0.00001)"
      ],
      "execution_count": 8,
      "outputs": [
        {
          "output_type": "execute_result",
          "data": {
            "text/plain": [
              "2.4999925000147742"
            ]
          },
          "metadata": {
            "tags": []
          },
          "execution_count": 8
        }
      ]
    },
    {
      "cell_type": "code",
      "metadata": {
        "id": "9RcG60VwzUhM",
        "outputId": "1e8ec52c-e3d0-46ef-abfa-222e4c37cc9f",
        "colab": {
          "base_uri": "https://localhost:8080/",
          "height": 35
        }
      },
      "source": [
        "question55(dydx, 1, 2, 2, 0.000001)"
      ],
      "execution_count": 9,
      "outputs": [
        {
          "output_type": "execute_result",
          "data": {
            "text/plain": [
              "2.4999999999715503"
            ]
          },
          "metadata": {
            "tags": []
          },
          "execution_count": 9
        }
      ]
    },
    {
      "cell_type": "code",
      "metadata": {
        "id": "_hLkin4gzWZq",
        "outputId": "3782ddd0-a944-4ca6-d0f5-583f822fe575",
        "colab": {
          "base_uri": "https://localhost:8080/",
          "height": 35
        }
      },
      "source": [
        "!date"
      ],
      "execution_count": 10,
      "outputs": [
        {
          "output_type": "stream",
          "text": [
            "Wed Oct 28 06:03:06 UTC 2020\n"
          ],
          "name": "stdout"
        }
      ]
    },
    {
      "cell_type": "code",
      "metadata": {
        "id": "FGgkgkRfzX_W"
      },
      "source": [
        ""
      ],
      "execution_count": null,
      "outputs": []
    }
  ]
}