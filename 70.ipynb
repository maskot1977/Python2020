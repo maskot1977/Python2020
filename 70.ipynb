{
  "nbformat": 4,
  "nbformat_minor": 0,
  "metadata": {
    "colab": {
      "name": "70",
      "provenance": [],
      "collapsed_sections": [],
      "authorship_tag": "ABX9TyMDXc+gFXpEXojA7MhPbT2V",
      "include_colab_link": true
    },
    "kernelspec": {
      "name": "python3",
      "display_name": "Python 3"
    }
  },
  "cells": [
    {
      "cell_type": "markdown",
      "metadata": {
        "id": "view-in-github",
        "colab_type": "text"
      },
      "source": [
        "<a href=\"https://colab.research.google.com/github/maskot1977/Python2020/blob/1104/70.ipynb\" target=\"_parent\"><img src=\"https://colab.research.google.com/assets/colab-badge.svg\" alt=\"Open In Colab\"/></a>"
      ]
    },
    {
      "cell_type": "code",
      "metadata": {
        "colab": {
          "base_uri": "https://localhost:8080/"
        },
        "id": "6CVoIiQgyM-4",
        "outputId": "63cc555d-693d-4f8b-d2bb-4699f1c081c2"
      },
      "source": [
        "!date"
      ],
      "execution_count": 1,
      "outputs": [
        {
          "output_type": "stream",
          "text": [
            "Thu Nov 19 04:51:10 UTC 2020\n"
          ],
          "name": "stdout"
        }
      ]
    },
    {
      "cell_type": "code",
      "metadata": {
        "id": "juWnLXNTyPN4"
      },
      "source": [
        "import urllib.request\n",
        "import pandas as pd\n",
        "\n",
        "# ニューヨークの大気状態観測値データ\n",
        "url = 'https://raw.githubusercontent.com/maskot1977/ipython_notebook/master/toydata/airquality.txt' \n",
        "urllib.request.urlretrieve(url, 'airquality.txt')\n",
        "\n",
        "df = pd.read_csv('airquality.txt', sep='\\t', index_col=0) "
      ],
      "execution_count": 2,
      "outputs": []
    },
    {
      "cell_type": "code",
      "metadata": {
        "colab": {
          "base_uri": "https://localhost:8080/",
          "height": 168
        },
        "id": "mSnHf6bI15hI",
        "outputId": "31f959b1-ae8a-4bdf-c4fc-2c394a988a90"
      },
      "source": [
        "df.iloc[:, :4].corr()"
      ],
      "execution_count": 4,
      "outputs": [
        {
          "output_type": "execute_result",
          "data": {
            "text/html": [
              "<div>\n",
              "<style scoped>\n",
              "    .dataframe tbody tr th:only-of-type {\n",
              "        vertical-align: middle;\n",
              "    }\n",
              "\n",
              "    .dataframe tbody tr th {\n",
              "        vertical-align: top;\n",
              "    }\n",
              "\n",
              "    .dataframe thead th {\n",
              "        text-align: right;\n",
              "    }\n",
              "</style>\n",
              "<table border=\"1\" class=\"dataframe\">\n",
              "  <thead>\n",
              "    <tr style=\"text-align: right;\">\n",
              "      <th></th>\n",
              "      <th>Ozone</th>\n",
              "      <th>Solar.R</th>\n",
              "      <th>Wind</th>\n",
              "      <th>Temp</th>\n",
              "    </tr>\n",
              "  </thead>\n",
              "  <tbody>\n",
              "    <tr>\n",
              "      <th>Ozone</th>\n",
              "      <td>1.000000</td>\n",
              "      <td>0.348342</td>\n",
              "      <td>-0.612497</td>\n",
              "      <td>0.698541</td>\n",
              "    </tr>\n",
              "    <tr>\n",
              "      <th>Solar.R</th>\n",
              "      <td>0.348342</td>\n",
              "      <td>1.000000</td>\n",
              "      <td>-0.127183</td>\n",
              "      <td>0.294088</td>\n",
              "    </tr>\n",
              "    <tr>\n",
              "      <th>Wind</th>\n",
              "      <td>-0.612497</td>\n",
              "      <td>-0.127183</td>\n",
              "      <td>1.000000</td>\n",
              "      <td>-0.497190</td>\n",
              "    </tr>\n",
              "    <tr>\n",
              "      <th>Temp</th>\n",
              "      <td>0.698541</td>\n",
              "      <td>0.294088</td>\n",
              "      <td>-0.497190</td>\n",
              "      <td>1.000000</td>\n",
              "    </tr>\n",
              "  </tbody>\n",
              "</table>\n",
              "</div>"
            ],
            "text/plain": [
              "            Ozone   Solar.R      Wind      Temp\n",
              "Ozone    1.000000  0.348342 -0.612497  0.698541\n",
              "Solar.R  0.348342  1.000000 -0.127183  0.294088\n",
              "Wind    -0.612497 -0.127183  1.000000 -0.497190\n",
              "Temp     0.698541  0.294088 -0.497190  1.000000"
            ]
          },
          "metadata": {
            "tags": []
          },
          "execution_count": 4
        }
      ]
    },
    {
      "cell_type": "code",
      "metadata": {
        "colab": {
          "base_uri": "https://localhost:8080/",
          "height": 297
        },
        "id": "PSmcCmgJyRlH",
        "outputId": "8b387b9d-3729-40bc-b9eb-6415daa04252"
      },
      "source": [
        "import matplotlib.pyplot as plt\n",
        "import numpy as np\n",
        "\n",
        "corrcoef = df.iloc[:, :4].corr()\n",
        "plt.imshow(corrcoef, interpolation='nearest', cmap=plt.cm.coolwarm)\n",
        "plt.colorbar()\n",
        "tick_marks = np.arange(len(corrcoef))\n",
        "plt.xticks(tick_marks, corrcoef.index, rotation=90)\n",
        "plt.yticks(tick_marks, corrcoef.index)\n",
        "plt.tight_layout()"
      ],
      "execution_count": 6,
      "outputs": [
        {
          "output_type": "display_data",
          "data": {
            "image/png": "[encoded data removed]",
            "text/plain": [
              "<Figure size 432x288 with 2 Axes>"
            ]
          },
          "metadata": {
            "tags": [],
            "needs_background": "light"
          }
        }
      ]
    },
    {
      "cell_type": "code",
      "metadata": {
        "colab": {
          "base_uri": "https://localhost:8080/"
        },
        "id": "tnbEmIBwyfoC",
        "outputId": "4f6f871a-6528-4ac4-dc78-b7b230e0ef7d"
      },
      "source": [
        "!date"
      ],
      "execution_count": 7,
      "outputs": [
        {
          "output_type": "stream",
          "text": [
            "Thu Nov 19 04:52:04 UTC 2020\n"
          ],
          "name": "stdout"
        }
      ]
    },
    {
      "cell_type": "code",
      "metadata": {
        "id": "Vi-xNsRYykl3"
      },
      "source": [
        ""
      ],
      "execution_count": null,
      "outputs": []
    }
  ]
}