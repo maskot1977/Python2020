{
  "nbformat": 4,
  "nbformat_minor": 0,
  "metadata": {
    "colab": {
      "name": "33",
      "provenance": [],
      "collapsed_sections": [],
      "authorship_tag": "ABX9TyOkC5GwpSUF5VqGh8CFv4oz",
      "include_colab_link": true
    },
    "kernelspec": {
      "name": "python3",
      "display_name": "Python 3"
    }
  },
  "cells": [
    {
      "cell_type": "markdown",
      "metadata": {
        "id": "view-in-github",
        "colab_type": "text"
      },
      "source": [
        "<a href=\"https://colab.research.google.com/github/maskot1977/Python2020/blob/1016/33.ipynb\" target=\"_parent\"><img src=\"https://colab.research.google.com/assets/colab-badge.svg\" alt=\"Open In Colab\"/></a>"
      ]
    },
    {
      "cell_type": "code",
      "metadata": {
        "id": "10Elx-AoYVtc",
        "outputId": "4b547af8-5a55-48ac-9014-8a5af6f0a15c",
        "colab": {
          "base_uri": "https://localhost:8080/",
          "height": 34
        }
      },
      "source": [
        "!date"
      ],
      "execution_count": 1,
      "outputs": [
        {
          "output_type": "stream",
          "text": [
            "Fri Oct 16 03:08:53 UTC 2020\n"
          ],
          "name": "stdout"
        }
      ]
    },
    {
      "cell_type": "code",
      "metadata": {
        "id": "myVXz3tcYYAl"
      },
      "source": [
        "import math\n",
        "def question33(tot):\n",
        "    V = [500, 100, 50, 10, 5, 1]\n",
        "    C = [10, 10, 10, 10, 10, 10]\n",
        "\n",
        "    ans = 0\n",
        "    for v, c in zip(V, C):\n",
        "        t = min(math.floor(tot / v), c)\n",
        "        tot -= t * v\n",
        "        print(v, \"円硬貨\", t, \"枚\")\n",
        "        ans += t\n",
        "        if t < 0:\n",
        "            return False\n",
        "\n",
        "    print(\"残額 \", tot)\n",
        "\n",
        "    if tot == 0:\n",
        "        return ans\n",
        "    else:\n",
        "        return False"
      ],
      "execution_count": 2,
      "outputs": []
    },
    {
      "cell_type": "code",
      "metadata": {
        "id": "pTdMl7LsYb5D"
      },
      "source": [
        "x =  1672"
      ],
      "execution_count": 3,
      "outputs": []
    },
    {
      "cell_type": "code",
      "metadata": {
        "id": "4mJtPjdmYhLi",
        "outputId": "fd37ce1e-f144-4541-f911-e0ee3e967efa",
        "colab": {
          "base_uri": "https://localhost:8080/",
          "height": 153
        }
      },
      "source": [
        "question33(x)"
      ],
      "execution_count": 4,
      "outputs": [
        {
          "output_type": "stream",
          "text": [
            "500 円硬貨 3 枚\n",
            "100 円硬貨 1 枚\n",
            "50 円硬貨 1 枚\n",
            "10 円硬貨 2 枚\n",
            "5 円硬貨 0 枚\n",
            "1 円硬貨 2 枚\n",
            "残額  0\n"
          ],
          "name": "stdout"
        },
        {
          "output_type": "execute_result",
          "data": {
            "text/plain": [
              "9"
            ]
          },
          "metadata": {
            "tags": []
          },
          "execution_count": 4
        }
      ]
    },
    {
      "cell_type": "code",
      "metadata": {
        "id": "84nrTbYLYjRn"
      },
      "source": [
        "x =  5549"
      ],
      "execution_count": 5,
      "outputs": []
    },
    {
      "cell_type": "code",
      "metadata": {
        "id": "Mf9CLbwsYnIS",
        "outputId": "b91ce387-1142-46cb-95ee-f3a72df1b0a7",
        "colab": {
          "base_uri": "https://localhost:8080/",
          "height": 153
        }
      },
      "source": [
        "question33(x)"
      ],
      "execution_count": 6,
      "outputs": [
        {
          "output_type": "stream",
          "text": [
            "500 円硬貨 10 枚\n",
            "100 円硬貨 5 枚\n",
            "50 円硬貨 0 枚\n",
            "10 円硬貨 4 枚\n",
            "5 円硬貨 1 枚\n",
            "1 円硬貨 4 枚\n",
            "残額  0\n"
          ],
          "name": "stdout"
        },
        {
          "output_type": "execute_result",
          "data": {
            "text/plain": [
              "24"
            ]
          },
          "metadata": {
            "tags": []
          },
          "execution_count": 6
        }
      ]
    },
    {
      "cell_type": "code",
      "metadata": {
        "id": "qnlGF5NdYoTH"
      },
      "source": [
        "x =  3067"
      ],
      "execution_count": 7,
      "outputs": []
    },
    {
      "cell_type": "code",
      "metadata": {
        "id": "FMAtM5HVYrzK",
        "outputId": "d104d589-453a-4ab1-be84-cc2a22939f41",
        "colab": {
          "base_uri": "https://localhost:8080/",
          "height": 153
        }
      },
      "source": [
        "question33(x)"
      ],
      "execution_count": 8,
      "outputs": [
        {
          "output_type": "stream",
          "text": [
            "500 円硬貨 6 枚\n",
            "100 円硬貨 0 枚\n",
            "50 円硬貨 1 枚\n",
            "10 円硬貨 1 枚\n",
            "5 円硬貨 1 枚\n",
            "1 円硬貨 2 枚\n",
            "残額  0\n"
          ],
          "name": "stdout"
        },
        {
          "output_type": "execute_result",
          "data": {
            "text/plain": [
              "11"
            ]
          },
          "metadata": {
            "tags": []
          },
          "execution_count": 8
        }
      ]
    },
    {
      "cell_type": "code",
      "metadata": {
        "id": "TkiATm4NYtBW"
      },
      "source": [
        "x =  8802"
      ],
      "execution_count": 9,
      "outputs": []
    },
    {
      "cell_type": "code",
      "metadata": {
        "id": "NXrfrU5zZS_u",
        "outputId": "512c736c-fd10-4bc9-cbb8-dbb8cd28dcd3",
        "colab": {
          "base_uri": "https://localhost:8080/",
          "height": 153
        }
      },
      "source": [
        "question33(x)"
      ],
      "execution_count": 10,
      "outputs": [
        {
          "output_type": "stream",
          "text": [
            "500 円硬貨 10 枚\n",
            "100 円硬貨 10 枚\n",
            "50 円硬貨 10 枚\n",
            "10 円硬貨 10 枚\n",
            "5 円硬貨 10 枚\n",
            "1 円硬貨 10 枚\n",
            "残額  2142\n"
          ],
          "name": "stdout"
        },
        {
          "output_type": "execute_result",
          "data": {
            "text/plain": [
              "False"
            ]
          },
          "metadata": {
            "tags": []
          },
          "execution_count": 10
        }
      ]
    },
    {
      "cell_type": "code",
      "metadata": {
        "id": "NpK4GGLGZUBN"
      },
      "source": [
        "x =  -124"
      ],
      "execution_count": 11,
      "outputs": []
    },
    {
      "cell_type": "code",
      "metadata": {
        "id": "Ixr0HSkuZXS1",
        "outputId": "3d4d9346-177b-4e92-b89f-e61b99fcd608",
        "colab": {
          "base_uri": "https://localhost:8080/",
          "height": 51
        }
      },
      "source": [
        "question33(x)"
      ],
      "execution_count": 12,
      "outputs": [
        {
          "output_type": "stream",
          "text": [
            "500 円硬貨 -1 枚\n"
          ],
          "name": "stdout"
        },
        {
          "output_type": "execute_result",
          "data": {
            "text/plain": [
              "False"
            ]
          },
          "metadata": {
            "tags": []
          },
          "execution_count": 12
        }
      ]
    },
    {
      "cell_type": "code",
      "metadata": {
        "id": "oyn_6nkZZY2X",
        "outputId": "6fb4a68b-b874-4343-dac9-5e3373bed058",
        "colab": {
          "base_uri": "https://localhost:8080/",
          "height": 34
        }
      },
      "source": [
        "!date"
      ],
      "execution_count": 13,
      "outputs": [
        {
          "output_type": "stream",
          "text": [
            "Fri Oct 16 03:13:13 UTC 2020\n"
          ],
          "name": "stdout"
        }
      ]
    },
    {
      "cell_type": "code",
      "metadata": {
        "id": "m7jtTQIRZac4"
      },
      "source": [
        ""
      ],
      "execution_count": null,
      "outputs": []
    }
  ]
}