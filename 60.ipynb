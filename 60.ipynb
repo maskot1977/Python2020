{
  "nbformat": 4,
  "nbformat_minor": 0,
  "metadata": {
    "colab": {
      "name": "60",
      "provenance": [],
      "collapsed_sections": [],
      "authorship_tag": "ABX9TyPJeN4Plad4gJAyIk6D6+Hi",
      "include_colab_link": true
    },
    "kernelspec": {
      "name": "python3",
      "display_name": "Python 3"
    }
  },
  "cells": [
    {
      "cell_type": "markdown",
      "metadata": {
        "id": "view-in-github",
        "colab_type": "text"
      },
      "source": [
        "<a href=\"https://colab.research.google.com/github/maskot1977/Python2020/blob/1028/60.ipynb\" target=\"_parent\"><img src=\"https://colab.research.google.com/assets/colab-badge.svg\" alt=\"Open In Colab\"/></a>"
      ]
    },
    {
      "cell_type": "code",
      "metadata": {
        "id": "pMHkYkRBbaTp",
        "outputId": "a6a472d5-6689-4d44-f359-6ebbd1474ff0",
        "colab": {
          "base_uri": "https://localhost:8080/"
        }
      },
      "source": [
        "!date"
      ],
      "execution_count": 1,
      "outputs": [
        {
          "output_type": "stream",
          "text": [
            "Wed Nov  4 08:44:44 UTC 2020\n"
          ],
          "name": "stdout"
        }
      ]
    },
    {
      "cell_type": "code",
      "metadata": {
        "id": "o6lfo7FHbb75"
      },
      "source": [
        "# 乱数を扱うためのライブラリをインポートする。\n",
        "import random\n",
        "\n",
        "sample_size = 10 # 乱数発生回数\n",
        "\n",
        "# 一様乱数を dist に格納する （distribution : 分布）\n",
        "dist = [random.random() for i in range(sample_size)]"
      ],
      "execution_count": 2,
      "outputs": []
    },
    {
      "cell_type": "code",
      "metadata": {
        "id": "rYfT42QDbfQ0",
        "outputId": "aa5c5da2-4131-423a-a6c2-c06199b056cf",
        "colab": {
          "base_uri": "https://localhost:8080/",
          "height": 352
        }
      },
      "source": [
        "import matplotlib.pyplot as plt\n",
        "\n",
        "plt.hist(dist)"
      ],
      "execution_count": 3,
      "outputs": [
        {
          "output_type": "execute_result",
          "data": {
            "text/plain": [
              "(array([1., 1., 1., 0., 1., 1., 2., 1., 0., 2.]),\n",
              " array([0.15131567, 0.21319204, 0.27506841, 0.33694479, 0.39882116,\n",
              "        0.46069754, 0.52257391, 0.58445029, 0.64632666, 0.70820304,\n",
              "        0.77007941]),\n",
              " <a list of 10 Patch objects>)"
            ]
          },
          "metadata": {
            "tags": []
          },
          "execution_count": 3
        },
        {
          "output_type": "display_data",
          "data": {
            "image/png": "[encoded data removed]",
            "text/plain": [
              "<Figure size 432x288 with 1 Axes>"
            ]
          },
          "metadata": {
            "tags": [],
            "needs_background": "light"
          }
        }
      ]
    },
    {
      "cell_type": "code",
      "metadata": {
        "id": "yuZEvpEObjpR"
      },
      "source": [
        "# 乱数を扱うためのライブラリをインポートする。\n",
        "import random\n",
        "\n",
        "sample_size = 100000 # 乱数発生回数\n",
        "\n",
        "# 一様乱数を dist に格納する （distribution : 分布）\n",
        "dist = [random.random() for i in range(sample_size)]"
      ],
      "execution_count": 6,
      "outputs": []
    },
    {
      "cell_type": "code",
      "metadata": {
        "id": "mCvqNEOSbo4B",
        "outputId": "1d036267-050e-466b-a9ae-01d23fd0f51b",
        "colab": {
          "base_uri": "https://localhost:8080/",
          "height": 370
        }
      },
      "source": [
        "plt.hist(dist)"
      ],
      "execution_count": 7,
      "outputs": [
        {
          "output_type": "execute_result",
          "data": {
            "text/plain": [
              "(array([10037.,  9891., 10068., 10072.,  9973., 10033.,  9918., 10067.,\n",
              "         9987.,  9954.]),\n",
              " array([2.84434233e-06, 1.00000540e-01, 1.99998235e-01, 2.99995931e-01,\n",
              "        3.99993627e-01, 4.99991322e-01, 5.99989018e-01, 6.99986713e-01,\n",
              "        7.99984409e-01, 8.99982104e-01, 9.99979800e-01]),\n",
              " <a list of 10 Patch objects>)"
            ]
          },
          "metadata": {
            "tags": []
          },
          "execution_count": 7
        },
        {
          "output_type": "display_data",
          "data": {
            "image/png": "[encoded data removed]",
            "text/plain": [
              "<Figure size 432x288 with 1 Axes>"
            ]
          },
          "metadata": {
            "tags": [],
            "needs_background": "light"
          }
        }
      ]
    },
    {
      "cell_type": "code",
      "metadata": {
        "id": "Y4HlcmLVbqne",
        "outputId": "773e57a3-0368-45b8-e98b-68d9ca281c85",
        "colab": {
          "base_uri": "https://localhost:8080/",
          "height": 947
        }
      },
      "source": [
        "plt.hist(dist, bins=100)"
      ],
      "execution_count": 8,
      "outputs": [
        {
          "output_type": "execute_result",
          "data": {
            "text/plain": [
              "(array([ 994.,  997.,  967.,  969., 1016., 1079.,  953., 1043., 1000.,\n",
              "        1019.,  969.,  953.,  998.,  986.,  992.,  977.,  963., 1049.,\n",
              "        1001., 1003.,  988.,  976., 1010., 1054., 1042., 1028.,  959.,\n",
              "        1034.,  951., 1026., 1017., 1035., 1004.,  994.,  965.,  992.,\n",
              "        1013., 1039.,  986., 1027.,  974.,  956.,  986., 1024., 1057.,\n",
              "         963., 1024., 1015.,  983.,  991., 1025.,  991., 1036., 1020.,\n",
              "         986.,  940., 1014., 1022., 1005.,  994., 1017.,  987.,  954.,\n",
              "         987., 1000., 1019.,  942.,  976., 1041.,  995.,  998., 1010.,\n",
              "         996., 1045.,  973.,  970., 1010., 1000., 1090.,  975.,  997.,\n",
              "        1022., 1020., 1012.,  979.,  976.,  993.,  979.,  994., 1015.,\n",
              "        1027., 1006.,  992., 1022.,  986., 1018.,  973.,  956.,  989.,\n",
              "         985.]),\n",
              " array([2.84434233e-06, 1.00026139e-02, 2.00023835e-02, 3.00021530e-02,\n",
              "        4.00019226e-02, 5.00016921e-02, 6.00014617e-02, 7.00012312e-02,\n",
              "        8.00010008e-02, 9.00007703e-02, 1.00000540e-01, 1.10000309e-01,\n",
              "        1.20000079e-01, 1.29999849e-01, 1.39999618e-01, 1.49999388e-01,\n",
              "        1.59999157e-01, 1.69998927e-01, 1.79998696e-01, 1.89998466e-01,\n",
              "        1.99998235e-01, 2.09998005e-01, 2.19997775e-01, 2.29997544e-01,\n",
              "        2.39997314e-01, 2.49997083e-01, 2.59996853e-01, 2.69996622e-01,\n",
              "        2.79996392e-01, 2.89996161e-01, 2.99995931e-01, 3.09995701e-01,\n",
              "        3.19995470e-01, 3.29995240e-01, 3.39995009e-01, 3.49994779e-01,\n",
              "        3.59994548e-01, 3.69994318e-01, 3.79994087e-01, 3.89993857e-01,\n",
              "        3.99993627e-01, 4.09993396e-01, 4.19993166e-01, 4.29992935e-01,\n",
              "        4.39992705e-01, 4.49992474e-01, 4.59992244e-01, 4.69992013e-01,\n",
              "        4.79991783e-01, 4.89991553e-01, 4.99991322e-01, 5.09991092e-01,\n",
              "        5.19990861e-01, 5.29990631e-01, 5.39990400e-01, 5.49990170e-01,\n",
              "        5.59989939e-01, 5.69989709e-01, 5.79989479e-01, 5.89989248e-01,\n",
              "        5.99989018e-01, 6.09988787e-01, 6.19988557e-01, 6.29988326e-01,\n",
              "        6.39988096e-01, 6.49987865e-01, 6.59987635e-01, 6.69987405e-01,\n",
              "        6.79987174e-01, 6.89986944e-01, 6.99986713e-01, 7.09986483e-01,\n",
              "        7.19986252e-01, 7.29986022e-01, 7.39985791e-01, 7.49985561e-01,\n",
              "        7.59985331e-01, 7.69985100e-01, 7.79984870e-01, 7.89984639e-01,\n",
              "        7.99984409e-01, 8.09984178e-01, 8.19983948e-01, 8.29983717e-01,\n",
              "        8.39983487e-01, 8.49983257e-01, 8.59983026e-01, 8.69982796e-01,\n",
              "        8.79982565e-01, 8.89982335e-01, 8.99982104e-01, 9.09981874e-01,\n",
              "        9.19981643e-01, 9.29981413e-01, 9.39981183e-01, 9.49980952e-01,\n",
              "        9.59980722e-01, 9.69980491e-01, 9.79980261e-01, 9.89980030e-01,\n",
              "        9.99979800e-01]),\n",
              " <a list of 100 Patch objects>)"
            ]
          },
          "metadata": {
            "tags": []
          },
          "execution_count": 8
        },
        {
          "output_type": "display_data",
          "data": {
            "image/png": "[encoded data removed]",
            "text/plain": [
              "<Figure size 432x288 with 1 Axes>"
            ]
          },
          "metadata": {
            "tags": [],
            "needs_background": "light"
          }
        }
      ]
    },
    {
      "cell_type": "code",
      "metadata": {
        "id": "CsfQj8yubv6s",
        "outputId": "0ab0fa9e-f6ce-41b5-e529-cb27516198db",
        "colab": {
          "base_uri": "https://localhost:8080/",
          "height": 947
        }
      },
      "source": [
        "import numpy as np\n",
        "\n",
        "plt.hist(np.random.rand(100000), bins=100)"
      ],
      "execution_count": 14,
      "outputs": [
        {
          "output_type": "execute_result",
          "data": {
            "text/plain": [
              "(array([1060.,  984., 1031.,  971., 1009., 1019., 1030.,  965.,  962.,\n",
              "         993., 1058.,  999.,  982., 1048., 1016.,  971.,  918.,  984.,\n",
              "         989.,  970., 1031., 1030.,  981.,  958., 1011., 1073., 1002.,\n",
              "         963., 1034., 1023.,  968.,  982., 1018., 1024., 1031., 1024.,\n",
              "        1028.,  989., 1011., 1004.,  976., 1054., 1060.,  990., 1072.,\n",
              "        1069., 1010., 1032.,  968., 1022., 1044.,  961.,  957., 1017.,\n",
              "         960., 1026., 1012., 1020.,  963.,  939.,  997., 1041.,  924.,\n",
              "         947., 1048.,  990., 1034., 1063.,  997.,  966.,  993., 1027.,\n",
              "         944., 1006.,  996.,  983., 1015.,  988.,  944.,  959., 1028.,\n",
              "         984., 1048.,  979.,  943.,  939.,  999.,  964., 1030.,  970.,\n",
              "         975.,  962., 1020., 1042., 1003.,  998.,  946., 1006., 1009.,\n",
              "         997.]),\n",
              " array([4.29279864e-06, 1.00041571e-02, 2.00040214e-02, 3.00038857e-02,\n",
              "        4.00037500e-02, 5.00036143e-02, 6.00034786e-02, 7.00033429e-02,\n",
              "        8.00032072e-02, 9.00030714e-02, 1.00002936e-01, 1.10002800e-01,\n",
              "        1.20002664e-01, 1.30002529e-01, 1.40002393e-01, 1.50002257e-01,\n",
              "        1.60002122e-01, 1.70001986e-01, 1.80001850e-01, 1.90001714e-01,\n",
              "        2.00001579e-01, 2.10001443e-01, 2.20001307e-01, 2.30001172e-01,\n",
              "        2.40001036e-01, 2.50000900e-01, 2.60000764e-01, 2.70000629e-01,\n",
              "        2.80000493e-01, 2.90000357e-01, 3.00000222e-01, 3.10000086e-01,\n",
              "        3.19999950e-01, 3.29999815e-01, 3.39999679e-01, 3.49999543e-01,\n",
              "        3.59999407e-01, 3.69999272e-01, 3.79999136e-01, 3.89999000e-01,\n",
              "        3.99998865e-01, 4.09998729e-01, 4.19998593e-01, 4.29998457e-01,\n",
              "        4.39998322e-01, 4.49998186e-01, 4.59998050e-01, 4.69997915e-01,\n",
              "        4.79997779e-01, 4.89997643e-01, 4.99997508e-01, 5.09997372e-01,\n",
              "        5.19997236e-01, 5.29997100e-01, 5.39996965e-01, 5.49996829e-01,\n",
              "        5.59996693e-01, 5.69996558e-01, 5.79996422e-01, 5.89996286e-01,\n",
              "        5.99996150e-01, 6.09996015e-01, 6.19995879e-01, 6.29995743e-01,\n",
              "        6.39995608e-01, 6.49995472e-01, 6.59995336e-01, 6.69995201e-01,\n",
              "        6.79995065e-01, 6.89994929e-01, 6.99994793e-01, 7.09994658e-01,\n",
              "        7.19994522e-01, 7.29994386e-01, 7.39994251e-01, 7.49994115e-01,\n",
              "        7.59993979e-01, 7.69993843e-01, 7.79993708e-01, 7.89993572e-01,\n",
              "        7.99993436e-01, 8.09993301e-01, 8.19993165e-01, 8.29993029e-01,\n",
              "        8.39992894e-01, 8.49992758e-01, 8.59992622e-01, 8.69992486e-01,\n",
              "        8.79992351e-01, 8.89992215e-01, 8.99992079e-01, 9.09991944e-01,\n",
              "        9.19991808e-01, 9.29991672e-01, 9.39991536e-01, 9.49991401e-01,\n",
              "        9.59991265e-01, 9.69991129e-01, 9.79990994e-01, 9.89990858e-01,\n",
              "        9.99990722e-01]),\n",
              " <a list of 100 Patch objects>)"
            ]
          },
          "metadata": {
            "tags": []
          },
          "execution_count": 14
        },
        {
          "output_type": "display_data",
          "data": {
            "image/png": "[encoded data removed]",
            "text/plain": [
              "<Figure size 432x288 with 1 Axes>"
            ]
          },
          "metadata": {
            "tags": [],
            "needs_background": "light"
          }
        }
      ]
    },
    {
      "cell_type": "code",
      "metadata": {
        "id": "N84NKV77b4rZ",
        "outputId": "9a59eabe-a33c-47db-f76e-16ff0562a81a",
        "colab": {
          "base_uri": "https://localhost:8080/"
        }
      },
      "source": [
        "!date"
      ],
      "execution_count": 13,
      "outputs": [
        {
          "output_type": "stream",
          "text": [
            "Wed Nov  4 08:46:55 UTC 2020\n"
          ],
          "name": "stdout"
        }
      ]
    },
    {
      "cell_type": "code",
      "metadata": {
        "id": "wr48E7t0b_5E"
      },
      "source": [
        ""
      ],
      "execution_count": null,
      "outputs": []
    }
  ]
}