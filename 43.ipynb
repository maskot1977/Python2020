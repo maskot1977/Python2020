{
  "nbformat": 4,
  "nbformat_minor": 0,
  "metadata": {
    "colab": {
      "name": "43",
      "provenance": [],
      "collapsed_sections": [],
      "authorship_tag": "ABX9TyOIqyGaknQ9nZGYzae9GWMm",
      "include_colab_link": true
    },
    "kernelspec": {
      "name": "python3",
      "display_name": "Python 3"
    }
  },
  "cells": [
    {
      "cell_type": "markdown",
      "metadata": {
        "id": "view-in-github",
        "colab_type": "text"
      },
      "source": [
        "<a href=\"https://colab.research.google.com/github/maskot1977/Python2020/blob/1019/43.ipynb\" target=\"_parent\"><img src=\"https://colab.research.google.com/assets/colab-badge.svg\" alt=\"Open In Colab\"/></a>"
      ]
    },
    {
      "cell_type": "code",
      "metadata": {
        "id": "Y3OmmmdBsibA",
        "outputId": "27e96203-a9f6-413d-af8e-c208135c207f",
        "colab": {
          "base_uri": "https://localhost:8080/",
          "height": 34
        }
      },
      "source": [
        "!date"
      ],
      "execution_count": 1,
      "outputs": [
        {
          "output_type": "stream",
          "text": [
            "Mon Oct 19 07:10:58 UTC 2020\n"
          ],
          "name": "stdout"
        }
      ]
    },
    {
      "cell_type": "code",
      "metadata": {
        "id": "6F5VZKKLskb8"
      },
      "source": [
        "def question43(s, t):\n",
        "    dp_table = [[0 for _ in range(len(t) + 1)] for _ in range(len(s) + 1)]\n",
        "    for i in range(len(s)):\n",
        "        for j in range(len(t)):\n",
        "            if s[i] == t[j]:\n",
        "                dp_table[i + 1][j + 1] = dp_table[i][j] + 1\n",
        "            else:\n",
        "                dp_table[i + 1][j + 1] = max(dp_table[i][j + 1], dp_table[i + 1][j])\n",
        "    return dp_table[len(s)][len(t)]"
      ],
      "execution_count": 2,
      "outputs": []
    },
    {
      "cell_type": "code",
      "metadata": {
        "id": "mb1m2X9NssaJ"
      },
      "source": [
        "s = \"pencil\"\n",
        "t = \"penguin\""
      ],
      "execution_count": 3,
      "outputs": []
    },
    {
      "cell_type": "code",
      "metadata": {
        "id": "4Q_Lonnosw79",
        "outputId": "a3a4ff4f-c96c-4027-f206-c92d05bde08e",
        "colab": {
          "base_uri": "https://localhost:8080/",
          "height": 34
        }
      },
      "source": [
        "question43(s, t)"
      ],
      "execution_count": 4,
      "outputs": [
        {
          "output_type": "execute_result",
          "data": {
            "text/plain": [
              "4"
            ]
          },
          "metadata": {
            "tags": []
          },
          "execution_count": 4
        }
      ]
    },
    {
      "cell_type": "code",
      "metadata": {
        "id": "r6OlcwXNsyrD"
      },
      "source": [
        "s = \"dreamingly\"\n",
        "t = \"dreadfully\""
      ],
      "execution_count": 5,
      "outputs": []
    },
    {
      "cell_type": "code",
      "metadata": {
        "id": "Sv5RZjm9s0gf",
        "outputId": "d14b5641-7728-499d-dead-e3771295fbd0",
        "colab": {
          "base_uri": "https://localhost:8080/",
          "height": 34
        }
      },
      "source": [
        "question43(s, t)"
      ],
      "execution_count": 6,
      "outputs": [
        {
          "output_type": "execute_result",
          "data": {
            "text/plain": [
              "6"
            ]
          },
          "metadata": {
            "tags": []
          },
          "execution_count": 6
        }
      ]
    },
    {
      "cell_type": "code",
      "metadata": {
        "id": "uOMJdo36s1st"
      },
      "source": [
        "s = \"This is a pen. This is an apple.\"\n",
        "t = \"pen-pineapple-apple-pen\""
      ],
      "execution_count": 7,
      "outputs": []
    },
    {
      "cell_type": "code",
      "metadata": {
        "id": "t8QQgiUms3VA",
        "outputId": "eee63ae5-3ea6-42ee-e0f9-72b1c25f880a",
        "colab": {
          "base_uri": "https://localhost:8080/",
          "height": 34
        }
      },
      "source": [
        "question43(s, t)"
      ],
      "execution_count": 8,
      "outputs": [
        {
          "output_type": "execute_result",
          "data": {
            "text/plain": [
              "10"
            ]
          },
          "metadata": {
            "tags": []
          },
          "execution_count": 8
        }
      ]
    },
    {
      "cell_type": "code",
      "metadata": {
        "id": "Ep2eK3W-s4c5"
      },
      "source": [
        "s = \"There is more to life than increasing its speed. \"\\\n",
        "      \"(by Mahatma Gandhi)\"\n",
        "\n",
        "t = \"There is always light behind the clouds. \"\\\n",
        "      \"(by Louisa May Alcott)\""
      ],
      "execution_count": 9,
      "outputs": []
    },
    {
      "cell_type": "code",
      "metadata": {
        "id": "F0JB9QiVs6X2",
        "outputId": "75adcffe-8244-43ec-b98c-97584669f0b2",
        "colab": {
          "base_uri": "https://localhost:8080/",
          "height": 34
        }
      },
      "source": [
        "question43(s, t)"
      ],
      "execution_count": 10,
      "outputs": [
        {
          "output_type": "execute_result",
          "data": {
            "text/plain": [
              "31"
            ]
          },
          "metadata": {
            "tags": []
          },
          "execution_count": 10
        }
      ]
    },
    {
      "cell_type": "code",
      "metadata": {
        "id": "Fimx19bUs7nV"
      },
      "source": [
        "s = \"If you want to be successful, it's just this simple: \"\\\n",
        "      \"Know what you are doing, love what you are doing, \"\\\n",
        "      \"and believe in what you are doing. \"\\\n",
        "      \"(by Will Rogers)\"\n",
        "\n",
        "t = \"Success is not the key to happiness. \"\\\n",
        "      \"Happiness is the key to success. \"\\\n",
        "      \"If you love what you are doing, \"\\\n",
        "      \"you will be successful. \"\\\n",
        "      \"(by Louisa May Alcott)\""
      ],
      "execution_count": 11,
      "outputs": []
    },
    {
      "cell_type": "code",
      "metadata": {
        "id": "qUTJLo-hs9uw",
        "outputId": "94999afc-7c98-4e57-a951-309d87c444de",
        "colab": {
          "base_uri": "https://localhost:8080/",
          "height": 34
        }
      },
      "source": [
        "question43(s, t)"
      ],
      "execution_count": 12,
      "outputs": [
        {
          "output_type": "execute_result",
          "data": {
            "text/plain": [
              "71"
            ]
          },
          "metadata": {
            "tags": []
          },
          "execution_count": 12
        }
      ]
    },
    {
      "cell_type": "code",
      "metadata": {
        "id": "Oykv6sCws-7Y",
        "outputId": "3fde2718-13bc-473b-e8c1-a810fd083704",
        "colab": {
          "base_uri": "https://localhost:8080/",
          "height": 34
        }
      },
      "source": [
        "!date"
      ],
      "execution_count": 13,
      "outputs": [
        {
          "output_type": "stream",
          "text": [
            "Mon Oct 19 07:12:42 UTC 2020\n"
          ],
          "name": "stdout"
        }
      ]
    },
    {
      "cell_type": "code",
      "metadata": {
        "id": "0YvK4R_os_zZ"
      },
      "source": [
        ""
      ],
      "execution_count": null,
      "outputs": []
    }
  ]
}