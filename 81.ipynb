{
  "nbformat": 4,
  "nbformat_minor": 0,
  "metadata": {
    "colab": {
      "name": "81",
      "provenance": [],
      "collapsed_sections": [],
      "authorship_tag": "ABX9TyMlIyZ807CWWom4tXNHErE3",
      "include_colab_link": true
    },
    "kernelspec": {
      "name": "python3",
      "display_name": "Python 3"
    }
  },
  "cells": [
    {
      "cell_type": "markdown",
      "metadata": {
        "id": "view-in-github",
        "colab_type": "text"
      },
      "source": [
        "<a href=\"https://colab.research.google.com/github/maskot1977/Python2020/blob/1209/81.ipynb\" target=\"_parent\"><img src=\"https://colab.research.google.com/assets/colab-badge.svg\" alt=\"Open In Colab\"/></a>"
      ]
    },
    {
      "cell_type": "code",
      "metadata": {
        "colab": {
          "base_uri": "https://localhost:8080/"
        },
        "id": "R41_u96jLhW1",
        "outputId": "aaf899c0-4428-4ec8-ac4e-60ced4e890b8"
      },
      "source": [
        "!date"
      ],
      "execution_count": 1,
      "outputs": [
        {
          "output_type": "stream",
          "text": [
            "Wed Dec  9 06:26:57 UTC 2020\n"
          ],
          "name": "stdout"
        }
      ]
    },
    {
      "cell_type": "code",
      "metadata": {
        "colab": {
          "base_uri": "https://localhost:8080/"
        },
        "id": "Vp6_2eupLkMJ",
        "outputId": "aa5c322e-3d33-4172-f5a0-10da3c365f6b"
      },
      "source": [
        "import scipy as sp # 科学計算ライブラリ\n",
        "from scipy import stats # 統計計算ライブラリ\n",
        "\n",
        "significance = 0.05\n",
        "o = [17, 10, 6, 7, 15, 5] # 分布１（ex.実測値）\n",
        "e = [10, 10, 10, 10, 10, 10] # 分布２（ex.理論値）\n",
        "\n",
        "chi2, p = stats.chisquare(o, f_exp = e)\n",
        "\n",
        "print('chi2 値は %(chi2)s' %locals())\n",
        "print('確率は %(p)s' %locals())\n",
        "\n",
        "if p < significance:\n",
        "    print('有意水準 %(significance)s で、有意な差があります' %locals())\n",
        "else:\n",
        "    print('有意水準 %(significance)s で、有意な差がありません' %locals())"
      ],
      "execution_count": 2,
      "outputs": [
        {
          "output_type": "stream",
          "text": [
            "chi2 値は 12.4\n",
            "確率は 0.029699459203520212\n",
            "有意水準 0.05 で、有意な差があります\n"
          ],
          "name": "stdout"
        }
      ]
    },
    {
      "cell_type": "code",
      "metadata": {
        "colab": {
          "base_uri": "https://localhost:8080/"
        },
        "id": "B9nbuIldLnzm",
        "outputId": "3240ea19-98c6-4f91-9ca5-f958955be974"
      },
      "source": [
        "import scipy as sp # 科学計算ライブラリ\n",
        "from scipy import stats # 統計計算ライブラリ\n",
        "\n",
        "significance = 0.05\n",
        "o = [12, 30, 58] # 分布１（ex.実測値）\n",
        "e = [14, 90, 96] # 分布２（ex.理論値）\n",
        "\n",
        "chi2, p = stats.chisquare(o, f_exp = e)\n",
        "\n",
        "print('chi2 値は %(chi2)s' %locals())\n",
        "print('確率は %(p)s' %locals())\n",
        "\n",
        "if p < significance:\n",
        "    print('有意水準 %(significance)s で、有意な差があります' %locals())\n",
        "else:\n",
        "    print('有意水準 %(significance)s で、有意な差がありません' %locals())"
      ],
      "execution_count": 3,
      "outputs": [
        {
          "output_type": "stream",
          "text": [
            "chi2 値は 55.32738095238095\n",
            "確率は 9.678585191777134e-13\n",
            "有意水準 0.05 で、有意な差があります\n"
          ],
          "name": "stdout"
        }
      ]
    },
    {
      "cell_type": "code",
      "metadata": {
        "colab": {
          "base_uri": "https://localhost:8080/"
        },
        "id": "vcvGl01WLzOh",
        "outputId": "91e6f2cf-a528-4bfc-ccfa-550ab0a7b552"
      },
      "source": [
        "!date"
      ],
      "execution_count": 4,
      "outputs": [
        {
          "output_type": "stream",
          "text": [
            "Wed Dec  9 06:28:26 UTC 2020\n"
          ],
          "name": "stdout"
        }
      ]
    },
    {
      "cell_type": "code",
      "metadata": {
        "id": "kt-TbzT8L8ok"
      },
      "source": [
        ""
      ],
      "execution_count": null,
      "outputs": []
    }
  ]
}