{
  "nbformat": 4,
  "nbformat_minor": 0,
  "metadata": {
    "colab": {
      "name": "19",
      "provenance": [],
      "collapsed_sections": [],
      "authorship_tag": "ABX9TyMai55SB6tPE+3cnhIl/WBD",
      "include_colab_link": true
    },
    "kernelspec": {
      "name": "python3",
      "display_name": "Python 3"
    }
  },
  "cells": [
    {
      "cell_type": "markdown",
      "metadata": {
        "id": "view-in-github",
        "colab_type": "text"
      },
      "source": [
        "<a href=\"https://colab.research.google.com/github/maskot1977/Python2020/blob/main/19.ipynb\" target=\"_parent\"><img src=\"https://colab.research.google.com/assets/colab-badge.svg\" alt=\"Open In Colab\"/></a>"
      ]
    },
    {
      "cell_type": "code",
      "metadata": {
        "id": "1hcJLiwMyQnq",
        "outputId": "45c7e985-6f32-4a2d-f936-7f3e27b6d2f8",
        "colab": {
          "base_uri": "https://localhost:8080/",
          "height": 35
        }
      },
      "source": [
        "!date"
      ],
      "execution_count": 2,
      "outputs": [
        {
          "output_type": "stream",
          "text": [
            "Mon Oct  5 08:03:10 UTC 2020\n"
          ],
          "name": "stdout"
        }
      ]
    },
    {
      "cell_type": "code",
      "metadata": {
        "id": "xaAXg3wvyNQI",
        "outputId": "48117c07-b0e7-4d61-e6f3-7af0da004cce",
        "colab": {
          "base_uri": "https://localhost:8080/",
          "height": 35
        }
      },
      "source": [
        "import urllib.request\n",
        "\n",
        "url = 'https://raw.githubusercontent.com/maskot1977/ipython_notebook/master/toydata/location.txt'\n",
        "\n",
        "urllib.request.urlretrieve(url, 'location.txt')"
      ],
      "execution_count": 1,
      "outputs": [
        {
          "output_type": "execute_result",
          "data": {
            "text/plain": [
              "('location.txt', <http.client.HTTPMessage at 0x7ffaeb047e48>)"
            ]
          },
          "metadata": {
            "tags": []
          },
          "execution_count": 1
        }
      ]
    },
    {
      "cell_type": "code",
      "metadata": {
        "id": "mTCIJAwJySYr"
      },
      "source": [
        "col1 = []\n",
        "col2 = []\n",
        "col3 = []\n",
        "for i, line in enumerate(open('location.txt')):\n",
        "    if i == 0:\n",
        "        continue\n",
        "    c = line.split(\",\")\n",
        "    col1.append(c[0])\n",
        "    col2.append(float(c[1]))\n",
        "    col3.append(float(c[2]))"
      ],
      "execution_count": 8,
      "outputs": []
    },
    {
      "cell_type": "code",
      "metadata": {
        "id": "46cZ2Ml5ydtX",
        "outputId": "01fc61e8-33f3-4b8e-d30e-356a8cabff03",
        "colab": {
          "base_uri": "https://localhost:8080/",
          "height": 829
        }
      },
      "source": [
        "col1"
      ],
      "execution_count": 9,
      "outputs": [
        {
          "output_type": "execute_result",
          "data": {
            "text/plain": [
              "['Sapporo',\n",
              " 'Aomori',\n",
              " 'Morioka',\n",
              " 'Sendai',\n",
              " 'Akita',\n",
              " 'Yamagata',\n",
              " 'Fukushima',\n",
              " 'Mito',\n",
              " 'Utsunomiya',\n",
              " 'Maebashi',\n",
              " 'Saitama',\n",
              " 'Chiba',\n",
              " 'Tokyo',\n",
              " 'Yokohama',\n",
              " 'Niigata',\n",
              " 'Toyama',\n",
              " 'Kanazawa',\n",
              " 'Fukui',\n",
              " 'Kofu',\n",
              " 'Nagano',\n",
              " 'Gifu',\n",
              " 'Shizuoka',\n",
              " 'Nagoya',\n",
              " 'Tsu',\n",
              " 'Otsu',\n",
              " 'Kyoto',\n",
              " 'Osaka',\n",
              " 'Kobe',\n",
              " 'Nara',\n",
              " 'Wakayama',\n",
              " 'Tottori',\n",
              " 'Matsue',\n",
              " 'Okayama',\n",
              " 'Hiroshima',\n",
              " 'Yamaguchi',\n",
              " 'Tokushima',\n",
              " 'Takamatsu',\n",
              " 'Matsuyama',\n",
              " 'Kochi',\n",
              " 'Fukuoka',\n",
              " 'Saga',\n",
              " 'Nagasaki',\n",
              " 'Kumamoto',\n",
              " 'Oita',\n",
              " 'Miyazaki',\n",
              " 'Kagoshima',\n",
              " 'Naha']"
            ]
          },
          "metadata": {
            "tags": []
          },
          "execution_count": 9
        }
      ]
    },
    {
      "cell_type": "code",
      "metadata": {
        "id": "qJjOHJINytXi",
        "outputId": "4d58e6a1-020a-4774-a86b-efc523d3e13e",
        "colab": {
          "base_uri": "https://localhost:8080/",
          "height": 829
        }
      },
      "source": [
        "col2"
      ],
      "execution_count": 10,
      "outputs": [
        {
          "output_type": "execute_result",
          "data": {
            "text/plain": [
              "[43.06417,\n",
              " 40.82444,\n",
              " 39.70361,\n",
              " 38.26889,\n",
              " 39.71861,\n",
              " 38.24056,\n",
              " 37.75,\n",
              " 36.34139,\n",
              " 36.56583,\n",
              " 36.39111,\n",
              " 35.85694,\n",
              " 35.60472,\n",
              " 35.68944,\n",
              " 35.44778,\n",
              " 37.90222,\n",
              " 36.69528,\n",
              " 36.59444,\n",
              " 36.06528,\n",
              " 35.66389,\n",
              " 36.65139,\n",
              " 35.39111,\n",
              " 34.97694,\n",
              " 35.18028,\n",
              " 34.73028,\n",
              " 35.00444,\n",
              " 35.02139,\n",
              " 34.68639,\n",
              " 34.69139,\n",
              " 34.68528,\n",
              " 34.22611,\n",
              " 35.50361,\n",
              " 35.47222,\n",
              " 34.66167,\n",
              " 34.39639,\n",
              " 34.18583,\n",
              " 34.06583,\n",
              " 34.34028,\n",
              " 33.84167,\n",
              " 33.55972,\n",
              " 33.60639,\n",
              " 33.24944,\n",
              " 32.74472,\n",
              " 32.78972,\n",
              " 33.23806,\n",
              " 31.91111,\n",
              " 31.56028,\n",
              " 26.2125]"
            ]
          },
          "metadata": {
            "tags": []
          },
          "execution_count": 10
        }
      ]
    },
    {
      "cell_type": "code",
      "metadata": {
        "id": "b64TavWRyuvH",
        "outputId": "12b9678f-fc59-4417-f851-4263c8c41d18",
        "colab": {
          "base_uri": "https://localhost:8080/",
          "height": 829
        }
      },
      "source": [
        "col3"
      ],
      "execution_count": 11,
      "outputs": [
        {
          "output_type": "execute_result",
          "data": {
            "text/plain": [
              "[141.34694,\n",
              " 140.74,\n",
              " 141.1525,\n",
              " 140.87194,\n",
              " 140.1025,\n",
              " 140.36333,\n",
              " 140.46778,\n",
              " 140.44667,\n",
              " 139.88361,\n",
              " 139.06083,\n",
              " 139.64889,\n",
              " 140.12333,\n",
              " 139.69167,\n",
              " 139.6425,\n",
              " 139.02361,\n",
              " 137.21139,\n",
              " 136.62556,\n",
              " 136.22194,\n",
              " 138.56833,\n",
              " 138.18111,\n",
              " 136.72222,\n",
              " 138.38306,\n",
              " 136.90667,\n",
              " 136.50861,\n",
              " 135.86833,\n",
              " 135.75556,\n",
              " 135.52,\n",
              " 135.18306,\n",
              " 135.83278,\n",
              " 135.1675,\n",
              " 134.23833,\n",
              " 133.05056,\n",
              " 133.935,\n",
              " 132.45944,\n",
              " 131.47139,\n",
              " 134.55944,\n",
              " 134.04333,\n",
              " 132.76611,\n",
              " 133.53111,\n",
              " 130.41806,\n",
              " 130.29889,\n",
              " 129.87361,\n",
              " 130.74167,\n",
              " 131.6125,\n",
              " 131.42389,\n",
              " 130.55806,\n",
              " 127.68111]"
            ]
          },
          "metadata": {
            "tags": []
          },
          "execution_count": 11
        }
      ]
    },
    {
      "cell_type": "code",
      "metadata": {
        "id": "aWNjqGKQywjF",
        "outputId": "273a04f1-6d94-4e85-b114-d7ec3ea89ca0",
        "colab": {
          "base_uri": "https://localhost:8080/",
          "height": 35
        }
      },
      "source": [
        "!date"
      ],
      "execution_count": 12,
      "outputs": [
        {
          "output_type": "stream",
          "text": [
            "Mon Oct  5 08:07:10 UTC 2020\n"
          ],
          "name": "stdout"
        }
      ]
    },
    {
      "cell_type": "code",
      "metadata": {
        "id": "cIlM-VObzNWU"
      },
      "source": [
        ""
      ],
      "execution_count": null,
      "outputs": []
    }
  ]
}