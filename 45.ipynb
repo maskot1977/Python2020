{
  "nbformat": 4,
  "nbformat_minor": 0,
  "metadata": {
    "colab": {
      "name": "45",
      "provenance": [],
      "collapsed_sections": [],
      "authorship_tag": "ABX9TyOo/5mQI154d5jxXnbUgOB4",
      "include_colab_link": true
    },
    "kernelspec": {
      "name": "python3",
      "display_name": "Python 3"
    }
  },
  "cells": [
    {
      "cell_type": "markdown",
      "metadata": {
        "id": "view-in-github",
        "colab_type": "text"
      },
      "source": [
        "<a href=\"https://colab.research.google.com/github/maskot1977/Python2020/blob/1019/45.ipynb\" target=\"_parent\"><img src=\"https://colab.research.google.com/assets/colab-badge.svg\" alt=\"Open In Colab\"/></a>"
      ]
    },
    {
      "cell_type": "code",
      "metadata": {
        "id": "bcTrFyM1x9j2",
        "outputId": "ad5ad72f-9448-4293-ea64-e8f20ba90cd9",
        "colab": {
          "base_uri": "https://localhost:8080/",
          "height": 34
        }
      },
      "source": [
        "!date"
      ],
      "execution_count": 1,
      "outputs": [
        {
          "output_type": "stream",
          "text": [
            "Mon Oct 19 07:34:38 UTC 2020\n"
          ],
          "name": "stdout"
        }
      ]
    },
    {
      "cell_type": "code",
      "metadata": {
        "id": "Fls3dy7Hx_c9"
      },
      "source": [
        "def question45(a, k):\n",
        "    lb = -1 # lower bound\n",
        "    ub = len(a) # upper bound\n",
        "    while (ub - lb) > 1:\n",
        "        mid = round((lb + ub) / 2)\n",
        "        if a[mid] >= k:\n",
        "            ub = mid\n",
        "        else:\n",
        "            lb = mid\n",
        "    return ub"
      ],
      "execution_count": 2,
      "outputs": []
    },
    {
      "cell_type": "code",
      "metadata": {
        "id": "VVU6YQc5yCDj"
      },
      "source": [
        "n =  8\n",
        "a =  [3, 4, 4, 4, 7, 9, 10, 10]\n",
        "k =  8"
      ],
      "execution_count": 3,
      "outputs": []
    },
    {
      "cell_type": "code",
      "metadata": {
        "id": "1NY7VBaWyEkg",
        "outputId": "23213062-db86-44ad-ff87-c401471d926c",
        "colab": {
          "base_uri": "https://localhost:8080/",
          "height": 34
        }
      },
      "source": [
        "question45(a, k)"
      ],
      "execution_count": 4,
      "outputs": [
        {
          "output_type": "execute_result",
          "data": {
            "text/plain": [
              "5"
            ]
          },
          "metadata": {
            "tags": []
          },
          "execution_count": 4
        }
      ]
    },
    {
      "cell_type": "code",
      "metadata": {
        "id": "0oa7SVD-yGBZ"
      },
      "source": [
        "n =  8\n",
        "a =  [3, 4, 4, 4, 7, 9, 10, 10]\n",
        "k =  4"
      ],
      "execution_count": 5,
      "outputs": []
    },
    {
      "cell_type": "code",
      "metadata": {
        "id": "Np4WRpGZyOmH",
        "outputId": "5d7eed66-1df9-45ad-8258-4f92be12ad40",
        "colab": {
          "base_uri": "https://localhost:8080/",
          "height": 34
        }
      },
      "source": [
        "question45(a, k)"
      ],
      "execution_count": 6,
      "outputs": [
        {
          "output_type": "execute_result",
          "data": {
            "text/plain": [
              "1"
            ]
          },
          "metadata": {
            "tags": []
          },
          "execution_count": 6
        }
      ]
    },
    {
      "cell_type": "code",
      "metadata": {
        "id": "oHuEdus6yP3J"
      },
      "source": [
        "n =  8\n",
        "a =  [3, 4, 4, 4, 7, 9, 10, 10]\n",
        "k =  0"
      ],
      "execution_count": 7,
      "outputs": []
    },
    {
      "cell_type": "code",
      "metadata": {
        "id": "TUwYhgklyRcG",
        "outputId": "ff3509f2-3b69-4abc-847e-289fd2887faa",
        "colab": {
          "base_uri": "https://localhost:8080/",
          "height": 34
        }
      },
      "source": [
        "question45(a, k)"
      ],
      "execution_count": 8,
      "outputs": [
        {
          "output_type": "execute_result",
          "data": {
            "text/plain": [
              "0"
            ]
          },
          "metadata": {
            "tags": []
          },
          "execution_count": 8
        }
      ]
    },
    {
      "cell_type": "code",
      "metadata": {
        "id": "5_g2_smpySkK",
        "outputId": "7da77845-f109-4707-fa8e-7ca74eff8301",
        "colab": {
          "base_uri": "https://localhost:8080/",
          "height": 34
        }
      },
      "source": [
        "!date"
      ],
      "execution_count": 9,
      "outputs": [
        {
          "output_type": "stream",
          "text": [
            "Mon Oct 19 07:35:52 UTC 2020\n"
          ],
          "name": "stdout"
        }
      ]
    },
    {
      "cell_type": "code",
      "metadata": {
        "id": "Rv0LHgfXyTPA"
      },
      "source": [
        ""
      ],
      "execution_count": null,
      "outputs": []
    }
  ]
}